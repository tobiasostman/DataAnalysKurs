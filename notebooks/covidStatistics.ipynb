{
 "cells": [
  {
   "cell_type": "code",
   "execution_count": 56,
   "metadata": {
    "pycharm": {
     "name": "#%%\n"
    }
   },
   "outputs": [],
   "source": [
    "from __future__ import print_function\n",
    "\n",
    "import numpy as np\n",
    "import pandas as pd\n",
    "import plotly.express as px\n",
    "import plotly.graph_objects as go\n",
    "from ipywidgets import interact\n",
    "\n",
    "data = pd.read_csv(\"../data/covid-data.csv\")\n",
    "\n",
    "df = pd.DataFrame(data)\n",
    "\n",
    "index_countries = df[((df['iso_code'].str.contains('OWID')))]\n",
    "index_owid = df[((df['iso_code'].str.contains('OWID') == False))]\n"
   ]
  },
  {
   "cell_type": "code",
   "execution_count": 57,
   "metadata": {
    "pycharm": {
     "name": "#%%\n"
    }
   },
   "outputs": [
    {
     "data": {
      "text/plain": "                       country  confirmed    deaths  confirmed_per_pop  \\\n127813                    Peru  3551800.0  212507.0          10.647069   \n25426                 Bulgaria  1146279.0   36730.0          16.620797   \n21633   Bosnia and Herzegovina   376198.0   15740.0          11.527585   \n73192                  Hungary  1872664.0   45781.0          19.437747   \n119695         North Macedonia   307817.0    9252.0          14.779986   \n...                        ...        ...       ...                ...   \n102426        Marshall Islands        7.0       NaN           0.011741   \n105218    Micronesia (country)        1.0       NaN           0.000860   \n112450                   Nauru        NaN       NaN                NaN   \n134702            Saint Helena        4.0       NaN           0.065628   \n172941                 Vatican       29.0       NaN           3.571429   \n\n        deaths_per_pop       date  \n127813        0.637023 2022-04-11  \n25426         0.532577 2022-04-11  \n21633         0.482310 2022-04-11  \n73192         0.475194 2022-04-11  \n119695        0.444239 2022-04-11  \n...                ...        ...  \n102426             NaN 2022-04-11  \n105218             NaN 2022-04-11  \n112450             NaN 2022-04-11  \n134702             NaN 2022-04-11  \n172941             NaN 2022-04-11  \n\n[215 rows x 6 columns]",
      "text/html": "<div>\n<style scoped>\n    .dataframe tbody tr th:only-of-type {\n        vertical-align: middle;\n    }\n\n    .dataframe tbody tr th {\n        vertical-align: top;\n    }\n\n    .dataframe thead th {\n        text-align: right;\n    }\n</style>\n<table border=\"1\" class=\"dataframe\">\n  <thead>\n    <tr style=\"text-align: right;\">\n      <th></th>\n      <th>country</th>\n      <th>confirmed</th>\n      <th>deaths</th>\n      <th>confirmed_per_pop</th>\n      <th>deaths_per_pop</th>\n      <th>date</th>\n    </tr>\n  </thead>\n  <tbody>\n    <tr>\n      <th>127813</th>\n      <td>Peru</td>\n      <td>3551800.0</td>\n      <td>212507.0</td>\n      <td>10.647069</td>\n      <td>0.637023</td>\n      <td>2022-04-11</td>\n    </tr>\n    <tr>\n      <th>25426</th>\n      <td>Bulgaria</td>\n      <td>1146279.0</td>\n      <td>36730.0</td>\n      <td>16.620797</td>\n      <td>0.532577</td>\n      <td>2022-04-11</td>\n    </tr>\n    <tr>\n      <th>21633</th>\n      <td>Bosnia and Herzegovina</td>\n      <td>376198.0</td>\n      <td>15740.0</td>\n      <td>11.527585</td>\n      <td>0.482310</td>\n      <td>2022-04-11</td>\n    </tr>\n    <tr>\n      <th>73192</th>\n      <td>Hungary</td>\n      <td>1872664.0</td>\n      <td>45781.0</td>\n      <td>19.437747</td>\n      <td>0.475194</td>\n      <td>2022-04-11</td>\n    </tr>\n    <tr>\n      <th>119695</th>\n      <td>North Macedonia</td>\n      <td>307817.0</td>\n      <td>9252.0</td>\n      <td>14.779986</td>\n      <td>0.444239</td>\n      <td>2022-04-11</td>\n    </tr>\n    <tr>\n      <th>...</th>\n      <td>...</td>\n      <td>...</td>\n      <td>...</td>\n      <td>...</td>\n      <td>...</td>\n      <td>...</td>\n    </tr>\n    <tr>\n      <th>102426</th>\n      <td>Marshall Islands</td>\n      <td>7.0</td>\n      <td>NaN</td>\n      <td>0.011741</td>\n      <td>NaN</td>\n      <td>2022-04-11</td>\n    </tr>\n    <tr>\n      <th>105218</th>\n      <td>Micronesia (country)</td>\n      <td>1.0</td>\n      <td>NaN</td>\n      <td>0.000860</td>\n      <td>NaN</td>\n      <td>2022-04-11</td>\n    </tr>\n    <tr>\n      <th>112450</th>\n      <td>Nauru</td>\n      <td>NaN</td>\n      <td>NaN</td>\n      <td>NaN</td>\n      <td>NaN</td>\n      <td>2022-04-11</td>\n    </tr>\n    <tr>\n      <th>134702</th>\n      <td>Saint Helena</td>\n      <td>4.0</td>\n      <td>NaN</td>\n      <td>0.065628</td>\n      <td>NaN</td>\n      <td>2022-04-11</td>\n    </tr>\n    <tr>\n      <th>172941</th>\n      <td>Vatican</td>\n      <td>29.0</td>\n      <td>NaN</td>\n      <td>3.571429</td>\n      <td>NaN</td>\n      <td>2022-04-11</td>\n    </tr>\n  </tbody>\n</table>\n<p>215 rows × 6 columns</p>\n</div>"
     },
     "execution_count": 57,
     "metadata": {},
     "output_type": "execute_result"
    }
   ],
   "source": [
    "country_df = pd.DataFrame(df.location)\n",
    "country_df = country_df.rename(columns={'location': 'country'})\n",
    "country_df['confirmed'] = df.total_cases\n",
    "country_df['deaths'] = df.total_deaths\n",
    "country_df['confirmed_per_pop'] = (df.total_cases / df.population) * 100\n",
    "country_df['deaths_per_pop'] = (df.total_deaths / df.population) * 100\n",
    "country_df['date'] = pd.to_datetime(df.date)\n",
    "country_df.head()\n",
    "\n",
    "country_df = country_df.drop(index_countries.index)\n",
    "\n",
    "sorted_country_df = country_df.sort_values('confirmed', ascending=False).query(\"date == '2022-04-11'\")\n",
    "sorted_country_pop_df = country_df.sort_values('confirmed_per_pop', ascending=False).query(\"date == '2022-04-11'\")\n",
    "sorted_country_death_df = country_df.sort_values('deaths', ascending=False).query(\"date == '2022-04-11'\")\n",
    "sorted_country_death_pop_df = country_df.sort_values('deaths_per_pop', ascending=False).query(\"date == '2022-04-11'\")\n",
    "sorted_country_death_pop_df"
   ]
  },
  {
   "cell_type": "code",
   "execution_count": 58,
   "metadata": {
    "pycharm": {
     "name": "#%%\n"
    }
   },
   "outputs": [
    {
     "data": {
      "application/vnd.plotly.v1+json": {
       "data": [
        {
         "hovertemplate": "<b>%{hovertext}</b><br><br>country=%{x}<br>confirmed=%{marker.size}<extra></extra>",
         "hovertext": [
          "United States"
         ],
         "legendgroup": "United States",
         "marker": {
          "color": "#636efa",
          "size": [
           8.0449944E7
          ],
          "sizemode": "area",
          "sizeref": 8044.9944,
          "symbol": "circle"
         },
         "mode": "markers",
         "name": "United States",
         "orientation": "v",
         "showlegend": true,
         "x": [
          "United States"
         ],
         "xaxis": "x",
         "y": [
          8.0449944E7
         ],
         "yaxis": "y",
         "type": "scatter"
        },
        {
         "hovertemplate": "<b>%{hovertext}</b><br><br>country=%{x}<br>confirmed=%{marker.size}<extra></extra>",
         "hovertext": [
          "India"
         ],
         "legendgroup": "India",
         "marker": {
          "color": "#EF553B",
          "size": [
           4.3036928E7
          ],
          "sizemode": "area",
          "sizeref": 8044.9944,
          "symbol": "circle"
         },
         "mode": "markers",
         "name": "India",
         "orientation": "v",
         "showlegend": true,
         "x": [
          "India"
         ],
         "xaxis": "x",
         "y": [
          4.3036928E7
         ],
         "yaxis": "y",
         "type": "scatter"
        },
        {
         "hovertemplate": "<b>%{hovertext}</b><br><br>country=%{x}<br>confirmed=%{marker.size}<extra></extra>",
         "hovertext": [
          "Brazil"
         ],
         "legendgroup": "Brazil",
         "marker": {
          "color": "#00cc96",
          "size": [
           3.0161909E7
          ],
          "sizemode": "area",
          "sizeref": 8044.9944,
          "symbol": "circle"
         },
         "mode": "markers",
         "name": "Brazil",
         "orientation": "v",
         "showlegend": true,
         "x": [
          "Brazil"
         ],
         "xaxis": "x",
         "y": [
          3.0161909E7
         ],
         "yaxis": "y",
         "type": "scatter"
        },
        {
         "hovertemplate": "<b>%{hovertext}</b><br><br>country=%{x}<br>confirmed=%{marker.size}<extra></extra>",
         "hovertext": [
          "France"
         ],
         "legendgroup": "France",
         "marker": {
          "color": "#ab63fa",
          "size": [
           2.7026432E7
          ],
          "sizemode": "area",
          "sizeref": 8044.9944,
          "symbol": "circle"
         },
         "mode": "markers",
         "name": "France",
         "orientation": "v",
         "showlegend": true,
         "x": [
          "France"
         ],
         "xaxis": "x",
         "y": [
          2.7026432E7
         ],
         "yaxis": "y",
         "type": "scatter"
        },
        {
         "hovertemplate": "<b>%{hovertext}</b><br><br>country=%{x}<br>confirmed=%{marker.size}<extra></extra>",
         "hovertext": [
          "Germany"
         ],
         "legendgroup": "Germany",
         "marker": {
          "color": "#FFA15A",
          "size": [
           2.2878428E7
          ],
          "sizemode": "area",
          "sizeref": 8044.9944,
          "symbol": "circle"
         },
         "mode": "markers",
         "name": "Germany",
         "orientation": "v",
         "showlegend": true,
         "x": [
          "Germany"
         ],
         "xaxis": "x",
         "y": [
          2.2878428E7
         ],
         "yaxis": "y",
         "type": "scatter"
        },
        {
         "hovertemplate": "<b>%{hovertext}</b><br><br>country=%{x}<br>confirmed=%{marker.size}<extra></extra>",
         "hovertext": [
          "United Kingdom"
         ],
         "legendgroup": "United Kingdom",
         "marker": {
          "color": "#19d3f3",
          "size": [
           2.1711142E7
          ],
          "sizemode": "area",
          "sizeref": 8044.9944,
          "symbol": "circle"
         },
         "mode": "markers",
         "name": "United Kingdom",
         "orientation": "v",
         "showlegend": true,
         "x": [
          "United Kingdom"
         ],
         "xaxis": "x",
         "y": [
          2.1711142E7
         ],
         "yaxis": "y",
         "type": "scatter"
        },
        {
         "hovertemplate": "<b>%{hovertext}</b><br><br>country=%{x}<br>confirmed=%{marker.size}<extra></extra>",
         "hovertext": [
          "Russia"
         ],
         "legendgroup": "Russia",
         "marker": {
          "color": "#FF6692",
          "size": [
           1.7745453E7
          ],
          "sizemode": "area",
          "sizeref": 8044.9944,
          "symbol": "circle"
         },
         "mode": "markers",
         "name": "Russia",
         "orientation": "v",
         "showlegend": true,
         "x": [
          "Russia"
         ],
         "xaxis": "x",
         "y": [
          1.7745453E7
         ],
         "yaxis": "y",
         "type": "scatter"
        },
        {
         "hovertemplate": "<b>%{hovertext}</b><br><br>country=%{x}<br>confirmed=%{marker.size}<extra></extra>",
         "hovertext": [
          "South Korea"
         ],
         "legendgroup": "South Korea",
         "marker": {
          "color": "#B6E880",
          "size": [
           1.5635274E7
          ],
          "sizemode": "area",
          "sizeref": 8044.9944,
          "symbol": "circle"
         },
         "mode": "markers",
         "name": "South Korea",
         "orientation": "v",
         "showlegend": true,
         "x": [
          "South Korea"
         ],
         "xaxis": "x",
         "y": [
          1.5635274E7
         ],
         "yaxis": "y",
         "type": "scatter"
        },
        {
         "hovertemplate": "<b>%{hovertext}</b><br><br>country=%{x}<br>confirmed=%{marker.size}<extra></extra>",
         "hovertext": [
          "Italy"
         ],
         "legendgroup": "Italy",
         "marker": {
          "color": "#FF97FF",
          "size": [
           1.5320753E7
          ],
          "sizemode": "area",
          "sizeref": 8044.9944,
          "symbol": "circle"
         },
         "mode": "markers",
         "name": "Italy",
         "orientation": "v",
         "showlegend": true,
         "x": [
          "Italy"
         ],
         "xaxis": "x",
         "y": [
          1.5320753E7
         ],
         "yaxis": "y",
         "type": "scatter"
        },
        {
         "hovertemplate": "<b>%{hovertext}</b><br><br>country=%{x}<br>confirmed=%{marker.size}<extra></extra>",
         "hovertext": [
          "Turkey"
         ],
         "legendgroup": "Turkey",
         "marker": {
          "color": "#FECB52",
          "size": [
           1.4965867E7
          ],
          "sizemode": "area",
          "sizeref": 8044.9944,
          "symbol": "circle"
         },
         "mode": "markers",
         "name": "Turkey",
         "orientation": "v",
         "showlegend": true,
         "x": [
          "Turkey"
         ],
         "xaxis": "x",
         "y": [
          1.4965867E7
         ],
         "yaxis": "y",
         "type": "scatter"
        }
       ],
       "layout": {
        "template": {
         "data": {
          "histogram2dcontour": [
           {
            "type": "histogram2dcontour",
            "colorbar": {
             "outlinewidth": 0,
             "ticks": ""
            },
            "colorscale": [
             [
              0.0,
              "#0d0887"
             ],
             [
              0.1111111111111111,
              "#46039f"
             ],
             [
              0.2222222222222222,
              "#7201a8"
             ],
             [
              0.3333333333333333,
              "#9c179e"
             ],
             [
              0.4444444444444444,
              "#bd3786"
             ],
             [
              0.5555555555555556,
              "#d8576b"
             ],
             [
              0.6666666666666666,
              "#ed7953"
             ],
             [
              0.7777777777777778,
              "#fb9f3a"
             ],
             [
              0.8888888888888888,
              "#fdca26"
             ],
             [
              1.0,
              "#f0f921"
             ]
            ]
           }
          ],
          "choropleth": [
           {
            "type": "choropleth",
            "colorbar": {
             "outlinewidth": 0,
             "ticks": ""
            }
           }
          ],
          "histogram2d": [
           {
            "type": "histogram2d",
            "colorbar": {
             "outlinewidth": 0,
             "ticks": ""
            },
            "colorscale": [
             [
              0.0,
              "#0d0887"
             ],
             [
              0.1111111111111111,
              "#46039f"
             ],
             [
              0.2222222222222222,
              "#7201a8"
             ],
             [
              0.3333333333333333,
              "#9c179e"
             ],
             [
              0.4444444444444444,
              "#bd3786"
             ],
             [
              0.5555555555555556,
              "#d8576b"
             ],
             [
              0.6666666666666666,
              "#ed7953"
             ],
             [
              0.7777777777777778,
              "#fb9f3a"
             ],
             [
              0.8888888888888888,
              "#fdca26"
             ],
             [
              1.0,
              "#f0f921"
             ]
            ]
           }
          ],
          "heatmap": [
           {
            "type": "heatmap",
            "colorbar": {
             "outlinewidth": 0,
             "ticks": ""
            },
            "colorscale": [
             [
              0.0,
              "#0d0887"
             ],
             [
              0.1111111111111111,
              "#46039f"
             ],
             [
              0.2222222222222222,
              "#7201a8"
             ],
             [
              0.3333333333333333,
              "#9c179e"
             ],
             [
              0.4444444444444444,
              "#bd3786"
             ],
             [
              0.5555555555555556,
              "#d8576b"
             ],
             [
              0.6666666666666666,
              "#ed7953"
             ],
             [
              0.7777777777777778,
              "#fb9f3a"
             ],
             [
              0.8888888888888888,
              "#fdca26"
             ],
             [
              1.0,
              "#f0f921"
             ]
            ]
           }
          ],
          "heatmapgl": [
           {
            "type": "heatmapgl",
            "colorbar": {
             "outlinewidth": 0,
             "ticks": ""
            },
            "colorscale": [
             [
              0.0,
              "#0d0887"
             ],
             [
              0.1111111111111111,
              "#46039f"
             ],
             [
              0.2222222222222222,
              "#7201a8"
             ],
             [
              0.3333333333333333,
              "#9c179e"
             ],
             [
              0.4444444444444444,
              "#bd3786"
             ],
             [
              0.5555555555555556,
              "#d8576b"
             ],
             [
              0.6666666666666666,
              "#ed7953"
             ],
             [
              0.7777777777777778,
              "#fb9f3a"
             ],
             [
              0.8888888888888888,
              "#fdca26"
             ],
             [
              1.0,
              "#f0f921"
             ]
            ]
           }
          ],
          "contourcarpet": [
           {
            "type": "contourcarpet",
            "colorbar": {
             "outlinewidth": 0,
             "ticks": ""
            }
           }
          ],
          "contour": [
           {
            "type": "contour",
            "colorbar": {
             "outlinewidth": 0,
             "ticks": ""
            },
            "colorscale": [
             [
              0.0,
              "#0d0887"
             ],
             [
              0.1111111111111111,
              "#46039f"
             ],
             [
              0.2222222222222222,
              "#7201a8"
             ],
             [
              0.3333333333333333,
              "#9c179e"
             ],
             [
              0.4444444444444444,
              "#bd3786"
             ],
             [
              0.5555555555555556,
              "#d8576b"
             ],
             [
              0.6666666666666666,
              "#ed7953"
             ],
             [
              0.7777777777777778,
              "#fb9f3a"
             ],
             [
              0.8888888888888888,
              "#fdca26"
             ],
             [
              1.0,
              "#f0f921"
             ]
            ]
           }
          ],
          "surface": [
           {
            "type": "surface",
            "colorbar": {
             "outlinewidth": 0,
             "ticks": ""
            },
            "colorscale": [
             [
              0.0,
              "#0d0887"
             ],
             [
              0.1111111111111111,
              "#46039f"
             ],
             [
              0.2222222222222222,
              "#7201a8"
             ],
             [
              0.3333333333333333,
              "#9c179e"
             ],
             [
              0.4444444444444444,
              "#bd3786"
             ],
             [
              0.5555555555555556,
              "#d8576b"
             ],
             [
              0.6666666666666666,
              "#ed7953"
             ],
             [
              0.7777777777777778,
              "#fb9f3a"
             ],
             [
              0.8888888888888888,
              "#fdca26"
             ],
             [
              1.0,
              "#f0f921"
             ]
            ]
           }
          ],
          "mesh3d": [
           {
            "type": "mesh3d",
            "colorbar": {
             "outlinewidth": 0,
             "ticks": ""
            }
           }
          ],
          "scatter": [
           {
            "marker": {
             "line": {
              "color": "#283442"
             }
            },
            "type": "scatter"
           }
          ],
          "parcoords": [
           {
            "type": "parcoords",
            "line": {
             "colorbar": {
              "outlinewidth": 0,
              "ticks": ""
             }
            }
           }
          ],
          "scatterpolargl": [
           {
            "type": "scatterpolargl",
            "marker": {
             "colorbar": {
              "outlinewidth": 0,
              "ticks": ""
             }
            }
           }
          ],
          "bar": [
           {
            "error_x": {
             "color": "#f2f5fa"
            },
            "error_y": {
             "color": "#f2f5fa"
            },
            "marker": {
             "line": {
              "color": "rgb(17,17,17)",
              "width": 0.5
             },
             "pattern": {
              "fillmode": "overlay",
              "size": 10,
              "solidity": 0.2
             }
            },
            "type": "bar"
           }
          ],
          "scattergeo": [
           {
            "type": "scattergeo",
            "marker": {
             "colorbar": {
              "outlinewidth": 0,
              "ticks": ""
             }
            }
           }
          ],
          "scatterpolar": [
           {
            "type": "scatterpolar",
            "marker": {
             "colorbar": {
              "outlinewidth": 0,
              "ticks": ""
             }
            }
           }
          ],
          "histogram": [
           {
            "marker": {
             "pattern": {
              "fillmode": "overlay",
              "size": 10,
              "solidity": 0.2
             }
            },
            "type": "histogram"
           }
          ],
          "scattergl": [
           {
            "marker": {
             "line": {
              "color": "#283442"
             }
            },
            "type": "scattergl"
           }
          ],
          "scatter3d": [
           {
            "type": "scatter3d",
            "line": {
             "colorbar": {
              "outlinewidth": 0,
              "ticks": ""
             }
            },
            "marker": {
             "colorbar": {
              "outlinewidth": 0,
              "ticks": ""
             }
            }
           }
          ],
          "scattermapbox": [
           {
            "type": "scattermapbox",
            "marker": {
             "colorbar": {
              "outlinewidth": 0,
              "ticks": ""
             }
            }
           }
          ],
          "scatterternary": [
           {
            "type": "scatterternary",
            "marker": {
             "colorbar": {
              "outlinewidth": 0,
              "ticks": ""
             }
            }
           }
          ],
          "scattercarpet": [
           {
            "type": "scattercarpet",
            "marker": {
             "colorbar": {
              "outlinewidth": 0,
              "ticks": ""
             }
            }
           }
          ],
          "carpet": [
           {
            "aaxis": {
             "endlinecolor": "#A2B1C6",
             "gridcolor": "#506784",
             "linecolor": "#506784",
             "minorgridcolor": "#506784",
             "startlinecolor": "#A2B1C6"
            },
            "baxis": {
             "endlinecolor": "#A2B1C6",
             "gridcolor": "#506784",
             "linecolor": "#506784",
             "minorgridcolor": "#506784",
             "startlinecolor": "#A2B1C6"
            },
            "type": "carpet"
           }
          ],
          "table": [
           {
            "cells": {
             "fill": {
              "color": "#506784"
             },
             "line": {
              "color": "rgb(17,17,17)"
             }
            },
            "header": {
             "fill": {
              "color": "#2a3f5f"
             },
             "line": {
              "color": "rgb(17,17,17)"
             }
            },
            "type": "table"
           }
          ],
          "barpolar": [
           {
            "marker": {
             "line": {
              "color": "rgb(17,17,17)",
              "width": 0.5
             },
             "pattern": {
              "fillmode": "overlay",
              "size": 10,
              "solidity": 0.2
             }
            },
            "type": "barpolar"
           }
          ],
          "pie": [
           {
            "automargin": true,
            "type": "pie"
           }
          ]
         },
         "layout": {
          "autotypenumbers": "strict",
          "colorway": [
           "#636efa",
           "#EF553B",
           "#00cc96",
           "#ab63fa",
           "#FFA15A",
           "#19d3f3",
           "#FF6692",
           "#B6E880",
           "#FF97FF",
           "#FECB52"
          ],
          "font": {
           "color": "#f2f5fa"
          },
          "hovermode": "closest",
          "hoverlabel": {
           "align": "left"
          },
          "paper_bgcolor": "rgb(17,17,17)",
          "plot_bgcolor": "rgb(17,17,17)",
          "polar": {
           "bgcolor": "rgb(17,17,17)",
           "angularaxis": {
            "gridcolor": "#506784",
            "linecolor": "#506784",
            "ticks": ""
           },
           "radialaxis": {
            "gridcolor": "#506784",
            "linecolor": "#506784",
            "ticks": ""
           }
          },
          "ternary": {
           "bgcolor": "rgb(17,17,17)",
           "aaxis": {
            "gridcolor": "#506784",
            "linecolor": "#506784",
            "ticks": ""
           },
           "baxis": {
            "gridcolor": "#506784",
            "linecolor": "#506784",
            "ticks": ""
           },
           "caxis": {
            "gridcolor": "#506784",
            "linecolor": "#506784",
            "ticks": ""
           }
          },
          "coloraxis": {
           "colorbar": {
            "outlinewidth": 0,
            "ticks": ""
           }
          },
          "colorscale": {
           "sequential": [
            [
             0.0,
             "#0d0887"
            ],
            [
             0.1111111111111111,
             "#46039f"
            ],
            [
             0.2222222222222222,
             "#7201a8"
            ],
            [
             0.3333333333333333,
             "#9c179e"
            ],
            [
             0.4444444444444444,
             "#bd3786"
            ],
            [
             0.5555555555555556,
             "#d8576b"
            ],
            [
             0.6666666666666666,
             "#ed7953"
            ],
            [
             0.7777777777777778,
             "#fb9f3a"
            ],
            [
             0.8888888888888888,
             "#fdca26"
            ],
            [
             1.0,
             "#f0f921"
            ]
           ],
           "sequentialminus": [
            [
             0.0,
             "#0d0887"
            ],
            [
             0.1111111111111111,
             "#46039f"
            ],
            [
             0.2222222222222222,
             "#7201a8"
            ],
            [
             0.3333333333333333,
             "#9c179e"
            ],
            [
             0.4444444444444444,
             "#bd3786"
            ],
            [
             0.5555555555555556,
             "#d8576b"
            ],
            [
             0.6666666666666666,
             "#ed7953"
            ],
            [
             0.7777777777777778,
             "#fb9f3a"
            ],
            [
             0.8888888888888888,
             "#fdca26"
            ],
            [
             1.0,
             "#f0f921"
            ]
           ],
           "diverging": [
            [
             0,
             "#8e0152"
            ],
            [
             0.1,
             "#c51b7d"
            ],
            [
             0.2,
             "#de77ae"
            ],
            [
             0.3,
             "#f1b6da"
            ],
            [
             0.4,
             "#fde0ef"
            ],
            [
             0.5,
             "#f7f7f7"
            ],
            [
             0.6,
             "#e6f5d0"
            ],
            [
             0.7,
             "#b8e186"
            ],
            [
             0.8,
             "#7fbc41"
            ],
            [
             0.9,
             "#4d9221"
            ],
            [
             1,
             "#276419"
            ]
           ]
          },
          "xaxis": {
           "gridcolor": "#283442",
           "linecolor": "#506784",
           "ticks": "",
           "title": {
            "standoff": 15
           },
           "zerolinecolor": "#283442",
           "automargin": true,
           "zerolinewidth": 2
          },
          "yaxis": {
           "gridcolor": "#283442",
           "linecolor": "#506784",
           "ticks": "",
           "title": {
            "standoff": 15
           },
           "zerolinecolor": "#283442",
           "automargin": true,
           "zerolinewidth": 2
          },
          "scene": {
           "xaxis": {
            "backgroundcolor": "rgb(17,17,17)",
            "gridcolor": "#506784",
            "linecolor": "#506784",
            "showbackground": true,
            "ticks": "",
            "zerolinecolor": "#C8D4E3",
            "gridwidth": 2
           },
           "yaxis": {
            "backgroundcolor": "rgb(17,17,17)",
            "gridcolor": "#506784",
            "linecolor": "#506784",
            "showbackground": true,
            "ticks": "",
            "zerolinecolor": "#C8D4E3",
            "gridwidth": 2
           },
           "zaxis": {
            "backgroundcolor": "rgb(17,17,17)",
            "gridcolor": "#506784",
            "linecolor": "#506784",
            "showbackground": true,
            "ticks": "",
            "zerolinecolor": "#C8D4E3",
            "gridwidth": 2
           }
          },
          "shapedefaults": {
           "line": {
            "color": "#f2f5fa"
           }
          },
          "annotationdefaults": {
           "arrowcolor": "#f2f5fa",
           "arrowhead": 0,
           "arrowwidth": 1
          },
          "geo": {
           "bgcolor": "rgb(17,17,17)",
           "landcolor": "rgb(17,17,17)",
           "subunitcolor": "#506784",
           "showland": true,
           "showlakes": true,
           "lakecolor": "rgb(17,17,17)"
          },
          "title": {
           "x": 0.05
          },
          "updatemenudefaults": {
           "bgcolor": "#506784",
           "borderwidth": 0
          },
          "sliderdefaults": {
           "bgcolor": "#C8D4E3",
           "borderwidth": 1,
           "bordercolor": "rgb(17,17,17)",
           "tickwidth": 0
          },
          "mapbox": {
           "style": "dark"
          }
         }
        },
        "xaxis": {
         "anchor": "y",
         "domain": [
          0.0,
          1.0
         ],
         "title": {
          "text": "country"
         },
         "categoryorder": "array",
         "categoryarray": [
          "United States",
          "India",
          "Brazil",
          "France",
          "Germany",
          "United Kingdom",
          "Russia",
          "South Korea",
          "Italy",
          "Turkey"
         ]
        },
        "yaxis": {
         "anchor": "x",
         "domain": [
          0.0,
          1.0
         ],
         "title": {
          "text": "confirmed"
         }
        },
        "legend": {
         "title": {
          "text": "country"
         },
         "tracegroupgap": 0,
         "itemsizing": "constant"
        },
        "title": {
         "text": "Confirmed cases by country filter"
        }
       },
       "config": {
        "plotlyServerURL": "https://plot.ly"
       }
      },
      "text/html": "<div>                            <div id=\"bd18fe63-8af5-40b0-b4aa-5444f3a880b6\" class=\"plotly-graph-div\" style=\"height:525px; width:100%;\"></div>            <script type=\"text/javascript\">                require([\"plotly\"], function(Plotly) {                    window.PLOTLYENV=window.PLOTLYENV || {};                                    if (document.getElementById(\"bd18fe63-8af5-40b0-b4aa-5444f3a880b6\")) {                    Plotly.newPlot(                        \"bd18fe63-8af5-40b0-b4aa-5444f3a880b6\",                        [{\"hovertemplate\":\"<b>%{hovertext}</b><br><br>country=%{x}<br>confirmed=%{marker.size}<extra></extra>\",\"hovertext\":[\"United States\"],\"legendgroup\":\"United States\",\"marker\":{\"color\":\"#636efa\",\"size\":[80449944.0],\"sizemode\":\"area\",\"sizeref\":8044.9944,\"symbol\":\"circle\"},\"mode\":\"markers\",\"name\":\"United States\",\"orientation\":\"v\",\"showlegend\":true,\"x\":[\"United States\"],\"xaxis\":\"x\",\"y\":[80449944.0],\"yaxis\":\"y\",\"type\":\"scatter\"},{\"hovertemplate\":\"<b>%{hovertext}</b><br><br>country=%{x}<br>confirmed=%{marker.size}<extra></extra>\",\"hovertext\":[\"India\"],\"legendgroup\":\"India\",\"marker\":{\"color\":\"#EF553B\",\"size\":[43036928.0],\"sizemode\":\"area\",\"sizeref\":8044.9944,\"symbol\":\"circle\"},\"mode\":\"markers\",\"name\":\"India\",\"orientation\":\"v\",\"showlegend\":true,\"x\":[\"India\"],\"xaxis\":\"x\",\"y\":[43036928.0],\"yaxis\":\"y\",\"type\":\"scatter\"},{\"hovertemplate\":\"<b>%{hovertext}</b><br><br>country=%{x}<br>confirmed=%{marker.size}<extra></extra>\",\"hovertext\":[\"Brazil\"],\"legendgroup\":\"Brazil\",\"marker\":{\"color\":\"#00cc96\",\"size\":[30161909.0],\"sizemode\":\"area\",\"sizeref\":8044.9944,\"symbol\":\"circle\"},\"mode\":\"markers\",\"name\":\"Brazil\",\"orientation\":\"v\",\"showlegend\":true,\"x\":[\"Brazil\"],\"xaxis\":\"x\",\"y\":[30161909.0],\"yaxis\":\"y\",\"type\":\"scatter\"},{\"hovertemplate\":\"<b>%{hovertext}</b><br><br>country=%{x}<br>confirmed=%{marker.size}<extra></extra>\",\"hovertext\":[\"France\"],\"legendgroup\":\"France\",\"marker\":{\"color\":\"#ab63fa\",\"size\":[27026432.0],\"sizemode\":\"area\",\"sizeref\":8044.9944,\"symbol\":\"circle\"},\"mode\":\"markers\",\"name\":\"France\",\"orientation\":\"v\",\"showlegend\":true,\"x\":[\"France\"],\"xaxis\":\"x\",\"y\":[27026432.0],\"yaxis\":\"y\",\"type\":\"scatter\"},{\"hovertemplate\":\"<b>%{hovertext}</b><br><br>country=%{x}<br>confirmed=%{marker.size}<extra></extra>\",\"hovertext\":[\"Germany\"],\"legendgroup\":\"Germany\",\"marker\":{\"color\":\"#FFA15A\",\"size\":[22878428.0],\"sizemode\":\"area\",\"sizeref\":8044.9944,\"symbol\":\"circle\"},\"mode\":\"markers\",\"name\":\"Germany\",\"orientation\":\"v\",\"showlegend\":true,\"x\":[\"Germany\"],\"xaxis\":\"x\",\"y\":[22878428.0],\"yaxis\":\"y\",\"type\":\"scatter\"},{\"hovertemplate\":\"<b>%{hovertext}</b><br><br>country=%{x}<br>confirmed=%{marker.size}<extra></extra>\",\"hovertext\":[\"United Kingdom\"],\"legendgroup\":\"United Kingdom\",\"marker\":{\"color\":\"#19d3f3\",\"size\":[21711142.0],\"sizemode\":\"area\",\"sizeref\":8044.9944,\"symbol\":\"circle\"},\"mode\":\"markers\",\"name\":\"United Kingdom\",\"orientation\":\"v\",\"showlegend\":true,\"x\":[\"United Kingdom\"],\"xaxis\":\"x\",\"y\":[21711142.0],\"yaxis\":\"y\",\"type\":\"scatter\"},{\"hovertemplate\":\"<b>%{hovertext}</b><br><br>country=%{x}<br>confirmed=%{marker.size}<extra></extra>\",\"hovertext\":[\"Russia\"],\"legendgroup\":\"Russia\",\"marker\":{\"color\":\"#FF6692\",\"size\":[17745453.0],\"sizemode\":\"area\",\"sizeref\":8044.9944,\"symbol\":\"circle\"},\"mode\":\"markers\",\"name\":\"Russia\",\"orientation\":\"v\",\"showlegend\":true,\"x\":[\"Russia\"],\"xaxis\":\"x\",\"y\":[17745453.0],\"yaxis\":\"y\",\"type\":\"scatter\"},{\"hovertemplate\":\"<b>%{hovertext}</b><br><br>country=%{x}<br>confirmed=%{marker.size}<extra></extra>\",\"hovertext\":[\"South Korea\"],\"legendgroup\":\"South Korea\",\"marker\":{\"color\":\"#B6E880\",\"size\":[15635274.0],\"sizemode\":\"area\",\"sizeref\":8044.9944,\"symbol\":\"circle\"},\"mode\":\"markers\",\"name\":\"South Korea\",\"orientation\":\"v\",\"showlegend\":true,\"x\":[\"South Korea\"],\"xaxis\":\"x\",\"y\":[15635274.0],\"yaxis\":\"y\",\"type\":\"scatter\"},{\"hovertemplate\":\"<b>%{hovertext}</b><br><br>country=%{x}<br>confirmed=%{marker.size}<extra></extra>\",\"hovertext\":[\"Italy\"],\"legendgroup\":\"Italy\",\"marker\":{\"color\":\"#FF97FF\",\"size\":[15320753.0],\"sizemode\":\"area\",\"sizeref\":8044.9944,\"symbol\":\"circle\"},\"mode\":\"markers\",\"name\":\"Italy\",\"orientation\":\"v\",\"showlegend\":true,\"x\":[\"Italy\"],\"xaxis\":\"x\",\"y\":[15320753.0],\"yaxis\":\"y\",\"type\":\"scatter\"},{\"hovertemplate\":\"<b>%{hovertext}</b><br><br>country=%{x}<br>confirmed=%{marker.size}<extra></extra>\",\"hovertext\":[\"Turkey\"],\"legendgroup\":\"Turkey\",\"marker\":{\"color\":\"#FECB52\",\"size\":[14965867.0],\"sizemode\":\"area\",\"sizeref\":8044.9944,\"symbol\":\"circle\"},\"mode\":\"markers\",\"name\":\"Turkey\",\"orientation\":\"v\",\"showlegend\":true,\"x\":[\"Turkey\"],\"xaxis\":\"x\",\"y\":[14965867.0],\"yaxis\":\"y\",\"type\":\"scatter\"}],                        {\"template\":{\"data\":{\"histogram2dcontour\":[{\"type\":\"histogram2dcontour\",\"colorbar\":{\"outlinewidth\":0,\"ticks\":\"\"},\"colorscale\":[[0.0,\"#0d0887\"],[0.1111111111111111,\"#46039f\"],[0.2222222222222222,\"#7201a8\"],[0.3333333333333333,\"#9c179e\"],[0.4444444444444444,\"#bd3786\"],[0.5555555555555556,\"#d8576b\"],[0.6666666666666666,\"#ed7953\"],[0.7777777777777778,\"#fb9f3a\"],[0.8888888888888888,\"#fdca26\"],[1.0,\"#f0f921\"]]}],\"choropleth\":[{\"type\":\"choropleth\",\"colorbar\":{\"outlinewidth\":0,\"ticks\":\"\"}}],\"histogram2d\":[{\"type\":\"histogram2d\",\"colorbar\":{\"outlinewidth\":0,\"ticks\":\"\"},\"colorscale\":[[0.0,\"#0d0887\"],[0.1111111111111111,\"#46039f\"],[0.2222222222222222,\"#7201a8\"],[0.3333333333333333,\"#9c179e\"],[0.4444444444444444,\"#bd3786\"],[0.5555555555555556,\"#d8576b\"],[0.6666666666666666,\"#ed7953\"],[0.7777777777777778,\"#fb9f3a\"],[0.8888888888888888,\"#fdca26\"],[1.0,\"#f0f921\"]]}],\"heatmap\":[{\"type\":\"heatmap\",\"colorbar\":{\"outlinewidth\":0,\"ticks\":\"\"},\"colorscale\":[[0.0,\"#0d0887\"],[0.1111111111111111,\"#46039f\"],[0.2222222222222222,\"#7201a8\"],[0.3333333333333333,\"#9c179e\"],[0.4444444444444444,\"#bd3786\"],[0.5555555555555556,\"#d8576b\"],[0.6666666666666666,\"#ed7953\"],[0.7777777777777778,\"#fb9f3a\"],[0.8888888888888888,\"#fdca26\"],[1.0,\"#f0f921\"]]}],\"heatmapgl\":[{\"type\":\"heatmapgl\",\"colorbar\":{\"outlinewidth\":0,\"ticks\":\"\"},\"colorscale\":[[0.0,\"#0d0887\"],[0.1111111111111111,\"#46039f\"],[0.2222222222222222,\"#7201a8\"],[0.3333333333333333,\"#9c179e\"],[0.4444444444444444,\"#bd3786\"],[0.5555555555555556,\"#d8576b\"],[0.6666666666666666,\"#ed7953\"],[0.7777777777777778,\"#fb9f3a\"],[0.8888888888888888,\"#fdca26\"],[1.0,\"#f0f921\"]]}],\"contourcarpet\":[{\"type\":\"contourcarpet\",\"colorbar\":{\"outlinewidth\":0,\"ticks\":\"\"}}],\"contour\":[{\"type\":\"contour\",\"colorbar\":{\"outlinewidth\":0,\"ticks\":\"\"},\"colorscale\":[[0.0,\"#0d0887\"],[0.1111111111111111,\"#46039f\"],[0.2222222222222222,\"#7201a8\"],[0.3333333333333333,\"#9c179e\"],[0.4444444444444444,\"#bd3786\"],[0.5555555555555556,\"#d8576b\"],[0.6666666666666666,\"#ed7953\"],[0.7777777777777778,\"#fb9f3a\"],[0.8888888888888888,\"#fdca26\"],[1.0,\"#f0f921\"]]}],\"surface\":[{\"type\":\"surface\",\"colorbar\":{\"outlinewidth\":0,\"ticks\":\"\"},\"colorscale\":[[0.0,\"#0d0887\"],[0.1111111111111111,\"#46039f\"],[0.2222222222222222,\"#7201a8\"],[0.3333333333333333,\"#9c179e\"],[0.4444444444444444,\"#bd3786\"],[0.5555555555555556,\"#d8576b\"],[0.6666666666666666,\"#ed7953\"],[0.7777777777777778,\"#fb9f3a\"],[0.8888888888888888,\"#fdca26\"],[1.0,\"#f0f921\"]]}],\"mesh3d\":[{\"type\":\"mesh3d\",\"colorbar\":{\"outlinewidth\":0,\"ticks\":\"\"}}],\"scatter\":[{\"marker\":{\"line\":{\"color\":\"#283442\"}},\"type\":\"scatter\"}],\"parcoords\":[{\"type\":\"parcoords\",\"line\":{\"colorbar\":{\"outlinewidth\":0,\"ticks\":\"\"}}}],\"scatterpolargl\":[{\"type\":\"scatterpolargl\",\"marker\":{\"colorbar\":{\"outlinewidth\":0,\"ticks\":\"\"}}}],\"bar\":[{\"error_x\":{\"color\":\"#f2f5fa\"},\"error_y\":{\"color\":\"#f2f5fa\"},\"marker\":{\"line\":{\"color\":\"rgb(17,17,17)\",\"width\":0.5},\"pattern\":{\"fillmode\":\"overlay\",\"size\":10,\"solidity\":0.2}},\"type\":\"bar\"}],\"scattergeo\":[{\"type\":\"scattergeo\",\"marker\":{\"colorbar\":{\"outlinewidth\":0,\"ticks\":\"\"}}}],\"scatterpolar\":[{\"type\":\"scatterpolar\",\"marker\":{\"colorbar\":{\"outlinewidth\":0,\"ticks\":\"\"}}}],\"histogram\":[{\"marker\":{\"pattern\":{\"fillmode\":\"overlay\",\"size\":10,\"solidity\":0.2}},\"type\":\"histogram\"}],\"scattergl\":[{\"marker\":{\"line\":{\"color\":\"#283442\"}},\"type\":\"scattergl\"}],\"scatter3d\":[{\"type\":\"scatter3d\",\"line\":{\"colorbar\":{\"outlinewidth\":0,\"ticks\":\"\"}},\"marker\":{\"colorbar\":{\"outlinewidth\":0,\"ticks\":\"\"}}}],\"scattermapbox\":[{\"type\":\"scattermapbox\",\"marker\":{\"colorbar\":{\"outlinewidth\":0,\"ticks\":\"\"}}}],\"scatterternary\":[{\"type\":\"scatterternary\",\"marker\":{\"colorbar\":{\"outlinewidth\":0,\"ticks\":\"\"}}}],\"scattercarpet\":[{\"type\":\"scattercarpet\",\"marker\":{\"colorbar\":{\"outlinewidth\":0,\"ticks\":\"\"}}}],\"carpet\":[{\"aaxis\":{\"endlinecolor\":\"#A2B1C6\",\"gridcolor\":\"#506784\",\"linecolor\":\"#506784\",\"minorgridcolor\":\"#506784\",\"startlinecolor\":\"#A2B1C6\"},\"baxis\":{\"endlinecolor\":\"#A2B1C6\",\"gridcolor\":\"#506784\",\"linecolor\":\"#506784\",\"minorgridcolor\":\"#506784\",\"startlinecolor\":\"#A2B1C6\"},\"type\":\"carpet\"}],\"table\":[{\"cells\":{\"fill\":{\"color\":\"#506784\"},\"line\":{\"color\":\"rgb(17,17,17)\"}},\"header\":{\"fill\":{\"color\":\"#2a3f5f\"},\"line\":{\"color\":\"rgb(17,17,17)\"}},\"type\":\"table\"}],\"barpolar\":[{\"marker\":{\"line\":{\"color\":\"rgb(17,17,17)\",\"width\":0.5},\"pattern\":{\"fillmode\":\"overlay\",\"size\":10,\"solidity\":0.2}},\"type\":\"barpolar\"}],\"pie\":[{\"automargin\":true,\"type\":\"pie\"}]},\"layout\":{\"autotypenumbers\":\"strict\",\"colorway\":[\"#636efa\",\"#EF553B\",\"#00cc96\",\"#ab63fa\",\"#FFA15A\",\"#19d3f3\",\"#FF6692\",\"#B6E880\",\"#FF97FF\",\"#FECB52\"],\"font\":{\"color\":\"#f2f5fa\"},\"hovermode\":\"closest\",\"hoverlabel\":{\"align\":\"left\"},\"paper_bgcolor\":\"rgb(17,17,17)\",\"plot_bgcolor\":\"rgb(17,17,17)\",\"polar\":{\"bgcolor\":\"rgb(17,17,17)\",\"angularaxis\":{\"gridcolor\":\"#506784\",\"linecolor\":\"#506784\",\"ticks\":\"\"},\"radialaxis\":{\"gridcolor\":\"#506784\",\"linecolor\":\"#506784\",\"ticks\":\"\"}},\"ternary\":{\"bgcolor\":\"rgb(17,17,17)\",\"aaxis\":{\"gridcolor\":\"#506784\",\"linecolor\":\"#506784\",\"ticks\":\"\"},\"baxis\":{\"gridcolor\":\"#506784\",\"linecolor\":\"#506784\",\"ticks\":\"\"},\"caxis\":{\"gridcolor\":\"#506784\",\"linecolor\":\"#506784\",\"ticks\":\"\"}},\"coloraxis\":{\"colorbar\":{\"outlinewidth\":0,\"ticks\":\"\"}},\"colorscale\":{\"sequential\":[[0.0,\"#0d0887\"],[0.1111111111111111,\"#46039f\"],[0.2222222222222222,\"#7201a8\"],[0.3333333333333333,\"#9c179e\"],[0.4444444444444444,\"#bd3786\"],[0.5555555555555556,\"#d8576b\"],[0.6666666666666666,\"#ed7953\"],[0.7777777777777778,\"#fb9f3a\"],[0.8888888888888888,\"#fdca26\"],[1.0,\"#f0f921\"]],\"sequentialminus\":[[0.0,\"#0d0887\"],[0.1111111111111111,\"#46039f\"],[0.2222222222222222,\"#7201a8\"],[0.3333333333333333,\"#9c179e\"],[0.4444444444444444,\"#bd3786\"],[0.5555555555555556,\"#d8576b\"],[0.6666666666666666,\"#ed7953\"],[0.7777777777777778,\"#fb9f3a\"],[0.8888888888888888,\"#fdca26\"],[1.0,\"#f0f921\"]],\"diverging\":[[0,\"#8e0152\"],[0.1,\"#c51b7d\"],[0.2,\"#de77ae\"],[0.3,\"#f1b6da\"],[0.4,\"#fde0ef\"],[0.5,\"#f7f7f7\"],[0.6,\"#e6f5d0\"],[0.7,\"#b8e186\"],[0.8,\"#7fbc41\"],[0.9,\"#4d9221\"],[1,\"#276419\"]]},\"xaxis\":{\"gridcolor\":\"#283442\",\"linecolor\":\"#506784\",\"ticks\":\"\",\"title\":{\"standoff\":15},\"zerolinecolor\":\"#283442\",\"automargin\":true,\"zerolinewidth\":2},\"yaxis\":{\"gridcolor\":\"#283442\",\"linecolor\":\"#506784\",\"ticks\":\"\",\"title\":{\"standoff\":15},\"zerolinecolor\":\"#283442\",\"automargin\":true,\"zerolinewidth\":2},\"scene\":{\"xaxis\":{\"backgroundcolor\":\"rgb(17,17,17)\",\"gridcolor\":\"#506784\",\"linecolor\":\"#506784\",\"showbackground\":true,\"ticks\":\"\",\"zerolinecolor\":\"#C8D4E3\",\"gridwidth\":2},\"yaxis\":{\"backgroundcolor\":\"rgb(17,17,17)\",\"gridcolor\":\"#506784\",\"linecolor\":\"#506784\",\"showbackground\":true,\"ticks\":\"\",\"zerolinecolor\":\"#C8D4E3\",\"gridwidth\":2},\"zaxis\":{\"backgroundcolor\":\"rgb(17,17,17)\",\"gridcolor\":\"#506784\",\"linecolor\":\"#506784\",\"showbackground\":true,\"ticks\":\"\",\"zerolinecolor\":\"#C8D4E3\",\"gridwidth\":2}},\"shapedefaults\":{\"line\":{\"color\":\"#f2f5fa\"}},\"annotationdefaults\":{\"arrowcolor\":\"#f2f5fa\",\"arrowhead\":0,\"arrowwidth\":1},\"geo\":{\"bgcolor\":\"rgb(17,17,17)\",\"landcolor\":\"rgb(17,17,17)\",\"subunitcolor\":\"#506784\",\"showland\":true,\"showlakes\":true,\"lakecolor\":\"rgb(17,17,17)\"},\"title\":{\"x\":0.05},\"updatemenudefaults\":{\"bgcolor\":\"#506784\",\"borderwidth\":0},\"sliderdefaults\":{\"bgcolor\":\"#C8D4E3\",\"borderwidth\":1,\"bordercolor\":\"rgb(17,17,17)\",\"tickwidth\":0},\"mapbox\":{\"style\":\"dark\"}}},\"xaxis\":{\"anchor\":\"y\",\"domain\":[0.0,1.0],\"title\":{\"text\":\"country\"},\"categoryorder\":\"array\",\"categoryarray\":[\"United States\",\"India\",\"Brazil\",\"France\",\"Germany\",\"United Kingdom\",\"Russia\",\"South Korea\",\"Italy\",\"Turkey\"]},\"yaxis\":{\"anchor\":\"x\",\"domain\":[0.0,1.0],\"title\":{\"text\":\"confirmed\"}},\"legend\":{\"title\":{\"text\":\"country\"},\"tracegroupgap\":0,\"itemsizing\":\"constant\"},\"title\":{\"text\":\"Confirmed cases by country filter\"}},                        {\"responsive\": true}                    ).then(function(){\n                            \nvar gd = document.getElementById('bd18fe63-8af5-40b0-b4aa-5444f3a880b6');\nvar x = new MutationObserver(function (mutations, observer) {{\n        var display = window.getComputedStyle(gd).display;\n        if (!display || display === 'none') {{\n            console.log([gd, 'removed!']);\n            Plotly.purge(gd);\n            observer.disconnect();\n        }}\n}});\n\n// Listen for the removal of the full notebook cells\nvar notebookContainer = gd.closest('#notebook-container');\nif (notebookContainer) {{\n    x.observe(notebookContainer, {childList: true});\n}}\n\n// Listen for the clearing of the current output cell\nvar outputEl = gd.closest('.output');\nif (outputEl) {{\n    x.observe(outputEl, {childList: true});\n}}\n\n                        })                };                });            </script>        </div>"
     },
     "metadata": {},
     "output_type": "display_data"
    }
   ],
   "source": [
    "fig = px.scatter(sorted_country_df.head(10), x='country', y='confirmed', size='confirmed', color='country',\n",
    "                 hover_name='country',\n",
    "                 size_max=100, title=\"Confirmed cases by country filter\")\n",
    "\n",
    "fig.show()"
   ]
  },
  {
   "cell_type": "code",
   "execution_count": 59,
   "metadata": {
    "pycharm": {
     "name": "#%%\n"
    }
   },
   "outputs": [
    {
     "data": {
      "application/vnd.plotly.v1+json": {
       "data": [
        {
         "marker": {
          "size": [
           80449.944,
           43036.928,
           30161.909,
           27026.432,
           22878.428,
           21711.142,
           17745.453,
           15635.274,
           15320.753,
           14965.867
          ],
          "sizemin": 10,
          "sizemode": "diameter",
          "sizeref": 1000
         },
         "mode": "markers",
         "name": "Total confirmed cases",
         "x": [
          "United States",
          "India",
          "Brazil",
          "France",
          "Germany",
          "United Kingdom",
          "Russia",
          "South Korea",
          "Italy",
          "Turkey"
         ],
         "y": [
          8.0449944E7,
          4.3036928E7,
          3.0161909E7,
          2.7026432E7,
          2.2878428E7,
          2.1711142E7,
          1.7745453E7,
          1.5635274E7,
          1.5320753E7,
          1.4965867E7
         ],
         "type": "scatter",
         "xaxis": "x",
         "yaxis": "y"
        },
        {
         "marker": {
          "size": [
           3532,
           2655,
           2606,
           2566,
           2557,
           2485,
           2376,
           2355,
           2305,
           2286
          ],
          "sizemin": 4,
          "sizemode": "diameter",
          "sizeref": 100
         },
         "mode": "markers",
         "name": "Confirmed cases per population in %",
         "x": [
          "Faeroe Islands",
          "Denmark",
          "Andorra",
          "Cyprus",
          "Gibraltar",
          "Iceland",
          "Slovenia",
          "Netherlands",
          "San Marino",
          "Slovakia"
         ],
         "y": [
          70.65419036552301,
          53.10164515794982,
          52.13434340822711,
          51.32103057460616,
          51.159063251313405,
          49.71989631011519,
          47.53235520076509,
          47.10576905943682,
          46.112907968244635,
          45.730106968456326
         ],
         "type": "scatter",
         "xaxis": "x2",
         "yaxis": "y2"
        },
        {
         "marker": {
          "size": [
           985.826,
           661.576,
           521.71,
           364.506,
           323.727,
           212.507,
           170.264,
           160.863,
           155.674,
           143.535
          ],
          "sizemin": 4,
          "sizemode": "diameter",
          "sizeref": 20
         },
         "mode": "markers",
         "name": "Total deaths",
         "x": [
          "United States",
          "Brazil",
          "India",
          "Russia",
          "Mexico",
          "Peru",
          "United Kingdom",
          "Italy",
          "Indonesia",
          "France"
         ],
         "y": [
          985826.0,
          661576.0,
          521710.0,
          364506.0,
          323727.0,
          212507.0,
          170264.0,
          160863.0,
          155674.0,
          143535.0
         ],
         "type": "scatter",
         "xaxis": "x3",
         "yaxis": "y3"
        },
        {
         "marker": {
          "size": [
           637,
           532,
           482,
           475,
           444,
           430,
           421,
           384,
           372,
           359
          ],
          "sizemin": 4,
          "sizemode": "diameter",
          "sizeref": 15
         },
         "mode": "markers",
         "name": "Deaths per population in %",
         "x": [
          "Peru",
          "Bulgaria",
          "Bosnia and Herzegovina",
          "Hungary",
          "North Macedonia",
          "Montenegro",
          "Georgia",
          "Croatia",
          "Czechia",
          "Slovakia"
         ],
         "y": [
          0.6370225616966004,
          0.5325770246590558,
          0.48231033391257555,
          0.4751944175321113,
          0.4442393649278495,
          0.4308567297878676,
          0.4215567068775028,
          0.384500706453286,
          0.37220199294087125,
          0.3595894495960009
         ],
         "type": "scatter",
         "xaxis": "x4",
         "yaxis": "y4"
        }
       ],
       "layout": {
        "template": {
         "data": {
          "histogram2dcontour": [
           {
            "type": "histogram2dcontour",
            "colorbar": {
             "outlinewidth": 0,
             "ticks": ""
            },
            "colorscale": [
             [
              0.0,
              "#0d0887"
             ],
             [
              0.1111111111111111,
              "#46039f"
             ],
             [
              0.2222222222222222,
              "#7201a8"
             ],
             [
              0.3333333333333333,
              "#9c179e"
             ],
             [
              0.4444444444444444,
              "#bd3786"
             ],
             [
              0.5555555555555556,
              "#d8576b"
             ],
             [
              0.6666666666666666,
              "#ed7953"
             ],
             [
              0.7777777777777778,
              "#fb9f3a"
             ],
             [
              0.8888888888888888,
              "#fdca26"
             ],
             [
              1.0,
              "#f0f921"
             ]
            ]
           }
          ],
          "choropleth": [
           {
            "type": "choropleth",
            "colorbar": {
             "outlinewidth": 0,
             "ticks": ""
            }
           }
          ],
          "histogram2d": [
           {
            "type": "histogram2d",
            "colorbar": {
             "outlinewidth": 0,
             "ticks": ""
            },
            "colorscale": [
             [
              0.0,
              "#0d0887"
             ],
             [
              0.1111111111111111,
              "#46039f"
             ],
             [
              0.2222222222222222,
              "#7201a8"
             ],
             [
              0.3333333333333333,
              "#9c179e"
             ],
             [
              0.4444444444444444,
              "#bd3786"
             ],
             [
              0.5555555555555556,
              "#d8576b"
             ],
             [
              0.6666666666666666,
              "#ed7953"
             ],
             [
              0.7777777777777778,
              "#fb9f3a"
             ],
             [
              0.8888888888888888,
              "#fdca26"
             ],
             [
              1.0,
              "#f0f921"
             ]
            ]
           }
          ],
          "heatmap": [
           {
            "type": "heatmap",
            "colorbar": {
             "outlinewidth": 0,
             "ticks": ""
            },
            "colorscale": [
             [
              0.0,
              "#0d0887"
             ],
             [
              0.1111111111111111,
              "#46039f"
             ],
             [
              0.2222222222222222,
              "#7201a8"
             ],
             [
              0.3333333333333333,
              "#9c179e"
             ],
             [
              0.4444444444444444,
              "#bd3786"
             ],
             [
              0.5555555555555556,
              "#d8576b"
             ],
             [
              0.6666666666666666,
              "#ed7953"
             ],
             [
              0.7777777777777778,
              "#fb9f3a"
             ],
             [
              0.8888888888888888,
              "#fdca26"
             ],
             [
              1.0,
              "#f0f921"
             ]
            ]
           }
          ],
          "heatmapgl": [
           {
            "type": "heatmapgl",
            "colorbar": {
             "outlinewidth": 0,
             "ticks": ""
            },
            "colorscale": [
             [
              0.0,
              "#0d0887"
             ],
             [
              0.1111111111111111,
              "#46039f"
             ],
             [
              0.2222222222222222,
              "#7201a8"
             ],
             [
              0.3333333333333333,
              "#9c179e"
             ],
             [
              0.4444444444444444,
              "#bd3786"
             ],
             [
              0.5555555555555556,
              "#d8576b"
             ],
             [
              0.6666666666666666,
              "#ed7953"
             ],
             [
              0.7777777777777778,
              "#fb9f3a"
             ],
             [
              0.8888888888888888,
              "#fdca26"
             ],
             [
              1.0,
              "#f0f921"
             ]
            ]
           }
          ],
          "contourcarpet": [
           {
            "type": "contourcarpet",
            "colorbar": {
             "outlinewidth": 0,
             "ticks": ""
            }
           }
          ],
          "contour": [
           {
            "type": "contour",
            "colorbar": {
             "outlinewidth": 0,
             "ticks": ""
            },
            "colorscale": [
             [
              0.0,
              "#0d0887"
             ],
             [
              0.1111111111111111,
              "#46039f"
             ],
             [
              0.2222222222222222,
              "#7201a8"
             ],
             [
              0.3333333333333333,
              "#9c179e"
             ],
             [
              0.4444444444444444,
              "#bd3786"
             ],
             [
              0.5555555555555556,
              "#d8576b"
             ],
             [
              0.6666666666666666,
              "#ed7953"
             ],
             [
              0.7777777777777778,
              "#fb9f3a"
             ],
             [
              0.8888888888888888,
              "#fdca26"
             ],
             [
              1.0,
              "#f0f921"
             ]
            ]
           }
          ],
          "surface": [
           {
            "type": "surface",
            "colorbar": {
             "outlinewidth": 0,
             "ticks": ""
            },
            "colorscale": [
             [
              0.0,
              "#0d0887"
             ],
             [
              0.1111111111111111,
              "#46039f"
             ],
             [
              0.2222222222222222,
              "#7201a8"
             ],
             [
              0.3333333333333333,
              "#9c179e"
             ],
             [
              0.4444444444444444,
              "#bd3786"
             ],
             [
              0.5555555555555556,
              "#d8576b"
             ],
             [
              0.6666666666666666,
              "#ed7953"
             ],
             [
              0.7777777777777778,
              "#fb9f3a"
             ],
             [
              0.8888888888888888,
              "#fdca26"
             ],
             [
              1.0,
              "#f0f921"
             ]
            ]
           }
          ],
          "mesh3d": [
           {
            "type": "mesh3d",
            "colorbar": {
             "outlinewidth": 0,
             "ticks": ""
            }
           }
          ],
          "scatter": [
           {
            "marker": {
             "line": {
              "color": "#283442"
             }
            },
            "type": "scatter"
           }
          ],
          "parcoords": [
           {
            "type": "parcoords",
            "line": {
             "colorbar": {
              "outlinewidth": 0,
              "ticks": ""
             }
            }
           }
          ],
          "scatterpolargl": [
           {
            "type": "scatterpolargl",
            "marker": {
             "colorbar": {
              "outlinewidth": 0,
              "ticks": ""
             }
            }
           }
          ],
          "bar": [
           {
            "error_x": {
             "color": "#f2f5fa"
            },
            "error_y": {
             "color": "#f2f5fa"
            },
            "marker": {
             "line": {
              "color": "rgb(17,17,17)",
              "width": 0.5
             },
             "pattern": {
              "fillmode": "overlay",
              "size": 10,
              "solidity": 0.2
             }
            },
            "type": "bar"
           }
          ],
          "scattergeo": [
           {
            "type": "scattergeo",
            "marker": {
             "colorbar": {
              "outlinewidth": 0,
              "ticks": ""
             }
            }
           }
          ],
          "scatterpolar": [
           {
            "type": "scatterpolar",
            "marker": {
             "colorbar": {
              "outlinewidth": 0,
              "ticks": ""
             }
            }
           }
          ],
          "histogram": [
           {
            "marker": {
             "pattern": {
              "fillmode": "overlay",
              "size": 10,
              "solidity": 0.2
             }
            },
            "type": "histogram"
           }
          ],
          "scattergl": [
           {
            "marker": {
             "line": {
              "color": "#283442"
             }
            },
            "type": "scattergl"
           }
          ],
          "scatter3d": [
           {
            "type": "scatter3d",
            "line": {
             "colorbar": {
              "outlinewidth": 0,
              "ticks": ""
             }
            },
            "marker": {
             "colorbar": {
              "outlinewidth": 0,
              "ticks": ""
             }
            }
           }
          ],
          "scattermapbox": [
           {
            "type": "scattermapbox",
            "marker": {
             "colorbar": {
              "outlinewidth": 0,
              "ticks": ""
             }
            }
           }
          ],
          "scatterternary": [
           {
            "type": "scatterternary",
            "marker": {
             "colorbar": {
              "outlinewidth": 0,
              "ticks": ""
             }
            }
           }
          ],
          "scattercarpet": [
           {
            "type": "scattercarpet",
            "marker": {
             "colorbar": {
              "outlinewidth": 0,
              "ticks": ""
             }
            }
           }
          ],
          "carpet": [
           {
            "aaxis": {
             "endlinecolor": "#A2B1C6",
             "gridcolor": "#506784",
             "linecolor": "#506784",
             "minorgridcolor": "#506784",
             "startlinecolor": "#A2B1C6"
            },
            "baxis": {
             "endlinecolor": "#A2B1C6",
             "gridcolor": "#506784",
             "linecolor": "#506784",
             "minorgridcolor": "#506784",
             "startlinecolor": "#A2B1C6"
            },
            "type": "carpet"
           }
          ],
          "table": [
           {
            "cells": {
             "fill": {
              "color": "#506784"
             },
             "line": {
              "color": "rgb(17,17,17)"
             }
            },
            "header": {
             "fill": {
              "color": "#2a3f5f"
             },
             "line": {
              "color": "rgb(17,17,17)"
             }
            },
            "type": "table"
           }
          ],
          "barpolar": [
           {
            "marker": {
             "line": {
              "color": "rgb(17,17,17)",
              "width": 0.5
             },
             "pattern": {
              "fillmode": "overlay",
              "size": 10,
              "solidity": 0.2
             }
            },
            "type": "barpolar"
           }
          ],
          "pie": [
           {
            "automargin": true,
            "type": "pie"
           }
          ]
         },
         "layout": {
          "autotypenumbers": "strict",
          "colorway": [
           "#636efa",
           "#EF553B",
           "#00cc96",
           "#ab63fa",
           "#FFA15A",
           "#19d3f3",
           "#FF6692",
           "#B6E880",
           "#FF97FF",
           "#FECB52"
          ],
          "font": {
           "color": "#f2f5fa"
          },
          "hovermode": "closest",
          "hoverlabel": {
           "align": "left"
          },
          "paper_bgcolor": "rgb(17,17,17)",
          "plot_bgcolor": "rgb(17,17,17)",
          "polar": {
           "bgcolor": "rgb(17,17,17)",
           "angularaxis": {
            "gridcolor": "#506784",
            "linecolor": "#506784",
            "ticks": ""
           },
           "radialaxis": {
            "gridcolor": "#506784",
            "linecolor": "#506784",
            "ticks": ""
           }
          },
          "ternary": {
           "bgcolor": "rgb(17,17,17)",
           "aaxis": {
            "gridcolor": "#506784",
            "linecolor": "#506784",
            "ticks": ""
           },
           "baxis": {
            "gridcolor": "#506784",
            "linecolor": "#506784",
            "ticks": ""
           },
           "caxis": {
            "gridcolor": "#506784",
            "linecolor": "#506784",
            "ticks": ""
           }
          },
          "coloraxis": {
           "colorbar": {
            "outlinewidth": 0,
            "ticks": ""
           }
          },
          "colorscale": {
           "sequential": [
            [
             0.0,
             "#0d0887"
            ],
            [
             0.1111111111111111,
             "#46039f"
            ],
            [
             0.2222222222222222,
             "#7201a8"
            ],
            [
             0.3333333333333333,
             "#9c179e"
            ],
            [
             0.4444444444444444,
             "#bd3786"
            ],
            [
             0.5555555555555556,
             "#d8576b"
            ],
            [
             0.6666666666666666,
             "#ed7953"
            ],
            [
             0.7777777777777778,
             "#fb9f3a"
            ],
            [
             0.8888888888888888,
             "#fdca26"
            ],
            [
             1.0,
             "#f0f921"
            ]
           ],
           "sequentialminus": [
            [
             0.0,
             "#0d0887"
            ],
            [
             0.1111111111111111,
             "#46039f"
            ],
            [
             0.2222222222222222,
             "#7201a8"
            ],
            [
             0.3333333333333333,
             "#9c179e"
            ],
            [
             0.4444444444444444,
             "#bd3786"
            ],
            [
             0.5555555555555556,
             "#d8576b"
            ],
            [
             0.6666666666666666,
             "#ed7953"
            ],
            [
             0.7777777777777778,
             "#fb9f3a"
            ],
            [
             0.8888888888888888,
             "#fdca26"
            ],
            [
             1.0,
             "#f0f921"
            ]
           ],
           "diverging": [
            [
             0,
             "#8e0152"
            ],
            [
             0.1,
             "#c51b7d"
            ],
            [
             0.2,
             "#de77ae"
            ],
            [
             0.3,
             "#f1b6da"
            ],
            [
             0.4,
             "#fde0ef"
            ],
            [
             0.5,
             "#f7f7f7"
            ],
            [
             0.6,
             "#e6f5d0"
            ],
            [
             0.7,
             "#b8e186"
            ],
            [
             0.8,
             "#7fbc41"
            ],
            [
             0.9,
             "#4d9221"
            ],
            [
             1,
             "#276419"
            ]
           ]
          },
          "xaxis": {
           "gridcolor": "#283442",
           "linecolor": "#506784",
           "ticks": "",
           "title": {
            "standoff": 15
           },
           "zerolinecolor": "#283442",
           "automargin": true,
           "zerolinewidth": 2
          },
          "yaxis": {
           "gridcolor": "#283442",
           "linecolor": "#506784",
           "ticks": "",
           "title": {
            "standoff": 15
           },
           "zerolinecolor": "#283442",
           "automargin": true,
           "zerolinewidth": 2
          },
          "scene": {
           "xaxis": {
            "backgroundcolor": "rgb(17,17,17)",
            "gridcolor": "#506784",
            "linecolor": "#506784",
            "showbackground": true,
            "ticks": "",
            "zerolinecolor": "#C8D4E3",
            "gridwidth": 2
           },
           "yaxis": {
            "backgroundcolor": "rgb(17,17,17)",
            "gridcolor": "#506784",
            "linecolor": "#506784",
            "showbackground": true,
            "ticks": "",
            "zerolinecolor": "#C8D4E3",
            "gridwidth": 2
           },
           "zaxis": {
            "backgroundcolor": "rgb(17,17,17)",
            "gridcolor": "#506784",
            "linecolor": "#506784",
            "showbackground": true,
            "ticks": "",
            "zerolinecolor": "#C8D4E3",
            "gridwidth": 2
           }
          },
          "shapedefaults": {
           "line": {
            "color": "#f2f5fa"
           }
          },
          "annotationdefaults": {
           "arrowcolor": "#f2f5fa",
           "arrowhead": 0,
           "arrowwidth": 1
          },
          "geo": {
           "bgcolor": "rgb(17,17,17)",
           "landcolor": "rgb(17,17,17)",
           "subunitcolor": "#506784",
           "showland": true,
           "showlakes": true,
           "lakecolor": "rgb(17,17,17)"
          },
          "title": {
           "x": 0.05
          },
          "updatemenudefaults": {
           "bgcolor": "#506784",
           "borderwidth": 0
          },
          "sliderdefaults": {
           "bgcolor": "#C8D4E3",
           "borderwidth": 1,
           "bordercolor": "rgb(17,17,17)",
           "tickwidth": 0
          },
          "mapbox": {
           "style": "dark"
          }
         }
        },
        "xaxis": {
         "anchor": "y",
         "domain": [
          0.0,
          0.45
         ]
        },
        "yaxis": {
         "anchor": "x",
         "domain": [
          0.625,
          1.0
         ]
        },
        "xaxis2": {
         "anchor": "y2",
         "domain": [
          0.55,
          1.0
         ]
        },
        "yaxis2": {
         "anchor": "x2",
         "domain": [
          0.625,
          1.0
         ]
        },
        "xaxis3": {
         "anchor": "y3",
         "domain": [
          0.0,
          0.45
         ]
        },
        "yaxis3": {
         "anchor": "x3",
         "domain": [
          0.0,
          0.375
         ]
        },
        "xaxis4": {
         "anchor": "y4",
         "domain": [
          0.55,
          1.0
         ]
        },
        "yaxis4": {
         "anchor": "x4",
         "domain": [
          0.0,
          0.375
         ]
        },
        "annotations": [
         {
          "font": {
           "size": 16
          },
          "showarrow": false,
          "text": "Confirmed cases",
          "x": 0.225,
          "xanchor": "center",
          "xref": "paper",
          "y": 1.0,
          "yanchor": "bottom",
          "yref": "paper"
         },
         {
          "font": {
           "size": 16
          },
          "showarrow": false,
          "text": "Confirmed cases per population",
          "x": 0.775,
          "xanchor": "center",
          "xref": "paper",
          "y": 1.0,
          "yanchor": "bottom",
          "yref": "paper"
         },
         {
          "font": {
           "size": 16
          },
          "showarrow": false,
          "text": "Confirmed deaths",
          "x": 0.225,
          "xanchor": "center",
          "xref": "paper",
          "y": 0.375,
          "yanchor": "bottom",
          "yref": "paper"
         },
         {
          "font": {
           "size": 16
          },
          "showarrow": false,
          "text": "Confirmed deaths per population",
          "x": 0.775,
          "xanchor": "center",
          "xref": "paper",
          "y": 0.375,
          "yanchor": "bottom",
          "yref": "paper"
         }
        ],
        "height": 700,
        "title": {
         "text": "Top 10 countries with most"
        }
       },
       "config": {
        "plotlyServerURL": "https://plot.ly"
       }
      },
      "text/html": "<div>                            <div id=\"5a7baf1a-ff42-4f9b-a85c-63a81954663f\" class=\"plotly-graph-div\" style=\"height:700px; width:100%;\"></div>            <script type=\"text/javascript\">                require([\"plotly\"], function(Plotly) {                    window.PLOTLYENV=window.PLOTLYENV || {};                                    if (document.getElementById(\"5a7baf1a-ff42-4f9b-a85c-63a81954663f\")) {                    Plotly.newPlot(                        \"5a7baf1a-ff42-4f9b-a85c-63a81954663f\",                        [{\"marker\":{\"size\":[80449.944,43036.928,30161.909,27026.432,22878.428,21711.142,17745.453,15635.274,15320.753,14965.867],\"sizemin\":10,\"sizemode\":\"diameter\",\"sizeref\":1000},\"mode\":\"markers\",\"name\":\"Total confirmed cases\",\"x\":[\"United States\",\"India\",\"Brazil\",\"France\",\"Germany\",\"United Kingdom\",\"Russia\",\"South Korea\",\"Italy\",\"Turkey\"],\"y\":[80449944.0,43036928.0,30161909.0,27026432.0,22878428.0,21711142.0,17745453.0,15635274.0,15320753.0,14965867.0],\"type\":\"scatter\",\"xaxis\":\"x\",\"yaxis\":\"y\"},{\"marker\":{\"size\":[3532,2655,2606,2566,2557,2485,2376,2355,2305,2286],\"sizemin\":4,\"sizemode\":\"diameter\",\"sizeref\":100},\"mode\":\"markers\",\"name\":\"Confirmed cases per population in %\",\"x\":[\"Faeroe Islands\",\"Denmark\",\"Andorra\",\"Cyprus\",\"Gibraltar\",\"Iceland\",\"Slovenia\",\"Netherlands\",\"San Marino\",\"Slovakia\"],\"y\":[70.65419036552301,53.10164515794982,52.13434340822711,51.32103057460616,51.159063251313405,49.71989631011519,47.53235520076509,47.10576905943682,46.112907968244635,45.730106968456326],\"type\":\"scatter\",\"xaxis\":\"x2\",\"yaxis\":\"y2\"},{\"marker\":{\"size\":[985.826,661.576,521.71,364.506,323.727,212.507,170.264,160.863,155.674,143.535],\"sizemin\":4,\"sizemode\":\"diameter\",\"sizeref\":20},\"mode\":\"markers\",\"name\":\"Total deaths\",\"x\":[\"United States\",\"Brazil\",\"India\",\"Russia\",\"Mexico\",\"Peru\",\"United Kingdom\",\"Italy\",\"Indonesia\",\"France\"],\"y\":[985826.0,661576.0,521710.0,364506.0,323727.0,212507.0,170264.0,160863.0,155674.0,143535.0],\"type\":\"scatter\",\"xaxis\":\"x3\",\"yaxis\":\"y3\"},{\"marker\":{\"size\":[637,532,482,475,444,430,421,384,372,359],\"sizemin\":4,\"sizemode\":\"diameter\",\"sizeref\":15},\"mode\":\"markers\",\"name\":\"Deaths per population in %\",\"x\":[\"Peru\",\"Bulgaria\",\"Bosnia and Herzegovina\",\"Hungary\",\"North Macedonia\",\"Montenegro\",\"Georgia\",\"Croatia\",\"Czechia\",\"Slovakia\"],\"y\":[0.6370225616966004,0.5325770246590558,0.48231033391257555,0.4751944175321113,0.4442393649278495,0.4308567297878676,0.4215567068775028,0.384500706453286,0.37220199294087125,0.3595894495960009],\"type\":\"scatter\",\"xaxis\":\"x4\",\"yaxis\":\"y4\"}],                        {\"template\":{\"data\":{\"histogram2dcontour\":[{\"type\":\"histogram2dcontour\",\"colorbar\":{\"outlinewidth\":0,\"ticks\":\"\"},\"colorscale\":[[0.0,\"#0d0887\"],[0.1111111111111111,\"#46039f\"],[0.2222222222222222,\"#7201a8\"],[0.3333333333333333,\"#9c179e\"],[0.4444444444444444,\"#bd3786\"],[0.5555555555555556,\"#d8576b\"],[0.6666666666666666,\"#ed7953\"],[0.7777777777777778,\"#fb9f3a\"],[0.8888888888888888,\"#fdca26\"],[1.0,\"#f0f921\"]]}],\"choropleth\":[{\"type\":\"choropleth\",\"colorbar\":{\"outlinewidth\":0,\"ticks\":\"\"}}],\"histogram2d\":[{\"type\":\"histogram2d\",\"colorbar\":{\"outlinewidth\":0,\"ticks\":\"\"},\"colorscale\":[[0.0,\"#0d0887\"],[0.1111111111111111,\"#46039f\"],[0.2222222222222222,\"#7201a8\"],[0.3333333333333333,\"#9c179e\"],[0.4444444444444444,\"#bd3786\"],[0.5555555555555556,\"#d8576b\"],[0.6666666666666666,\"#ed7953\"],[0.7777777777777778,\"#fb9f3a\"],[0.8888888888888888,\"#fdca26\"],[1.0,\"#f0f921\"]]}],\"heatmap\":[{\"type\":\"heatmap\",\"colorbar\":{\"outlinewidth\":0,\"ticks\":\"\"},\"colorscale\":[[0.0,\"#0d0887\"],[0.1111111111111111,\"#46039f\"],[0.2222222222222222,\"#7201a8\"],[0.3333333333333333,\"#9c179e\"],[0.4444444444444444,\"#bd3786\"],[0.5555555555555556,\"#d8576b\"],[0.6666666666666666,\"#ed7953\"],[0.7777777777777778,\"#fb9f3a\"],[0.8888888888888888,\"#fdca26\"],[1.0,\"#f0f921\"]]}],\"heatmapgl\":[{\"type\":\"heatmapgl\",\"colorbar\":{\"outlinewidth\":0,\"ticks\":\"\"},\"colorscale\":[[0.0,\"#0d0887\"],[0.1111111111111111,\"#46039f\"],[0.2222222222222222,\"#7201a8\"],[0.3333333333333333,\"#9c179e\"],[0.4444444444444444,\"#bd3786\"],[0.5555555555555556,\"#d8576b\"],[0.6666666666666666,\"#ed7953\"],[0.7777777777777778,\"#fb9f3a\"],[0.8888888888888888,\"#fdca26\"],[1.0,\"#f0f921\"]]}],\"contourcarpet\":[{\"type\":\"contourcarpet\",\"colorbar\":{\"outlinewidth\":0,\"ticks\":\"\"}}],\"contour\":[{\"type\":\"contour\",\"colorbar\":{\"outlinewidth\":0,\"ticks\":\"\"},\"colorscale\":[[0.0,\"#0d0887\"],[0.1111111111111111,\"#46039f\"],[0.2222222222222222,\"#7201a8\"],[0.3333333333333333,\"#9c179e\"],[0.4444444444444444,\"#bd3786\"],[0.5555555555555556,\"#d8576b\"],[0.6666666666666666,\"#ed7953\"],[0.7777777777777778,\"#fb9f3a\"],[0.8888888888888888,\"#fdca26\"],[1.0,\"#f0f921\"]]}],\"surface\":[{\"type\":\"surface\",\"colorbar\":{\"outlinewidth\":0,\"ticks\":\"\"},\"colorscale\":[[0.0,\"#0d0887\"],[0.1111111111111111,\"#46039f\"],[0.2222222222222222,\"#7201a8\"],[0.3333333333333333,\"#9c179e\"],[0.4444444444444444,\"#bd3786\"],[0.5555555555555556,\"#d8576b\"],[0.6666666666666666,\"#ed7953\"],[0.7777777777777778,\"#fb9f3a\"],[0.8888888888888888,\"#fdca26\"],[1.0,\"#f0f921\"]]}],\"mesh3d\":[{\"type\":\"mesh3d\",\"colorbar\":{\"outlinewidth\":0,\"ticks\":\"\"}}],\"scatter\":[{\"marker\":{\"line\":{\"color\":\"#283442\"}},\"type\":\"scatter\"}],\"parcoords\":[{\"type\":\"parcoords\",\"line\":{\"colorbar\":{\"outlinewidth\":0,\"ticks\":\"\"}}}],\"scatterpolargl\":[{\"type\":\"scatterpolargl\",\"marker\":{\"colorbar\":{\"outlinewidth\":0,\"ticks\":\"\"}}}],\"bar\":[{\"error_x\":{\"color\":\"#f2f5fa\"},\"error_y\":{\"color\":\"#f2f5fa\"},\"marker\":{\"line\":{\"color\":\"rgb(17,17,17)\",\"width\":0.5},\"pattern\":{\"fillmode\":\"overlay\",\"size\":10,\"solidity\":0.2}},\"type\":\"bar\"}],\"scattergeo\":[{\"type\":\"scattergeo\",\"marker\":{\"colorbar\":{\"outlinewidth\":0,\"ticks\":\"\"}}}],\"scatterpolar\":[{\"type\":\"scatterpolar\",\"marker\":{\"colorbar\":{\"outlinewidth\":0,\"ticks\":\"\"}}}],\"histogram\":[{\"marker\":{\"pattern\":{\"fillmode\":\"overlay\",\"size\":10,\"solidity\":0.2}},\"type\":\"histogram\"}],\"scattergl\":[{\"marker\":{\"line\":{\"color\":\"#283442\"}},\"type\":\"scattergl\"}],\"scatter3d\":[{\"type\":\"scatter3d\",\"line\":{\"colorbar\":{\"outlinewidth\":0,\"ticks\":\"\"}},\"marker\":{\"colorbar\":{\"outlinewidth\":0,\"ticks\":\"\"}}}],\"scattermapbox\":[{\"type\":\"scattermapbox\",\"marker\":{\"colorbar\":{\"outlinewidth\":0,\"ticks\":\"\"}}}],\"scatterternary\":[{\"type\":\"scatterternary\",\"marker\":{\"colorbar\":{\"outlinewidth\":0,\"ticks\":\"\"}}}],\"scattercarpet\":[{\"type\":\"scattercarpet\",\"marker\":{\"colorbar\":{\"outlinewidth\":0,\"ticks\":\"\"}}}],\"carpet\":[{\"aaxis\":{\"endlinecolor\":\"#A2B1C6\",\"gridcolor\":\"#506784\",\"linecolor\":\"#506784\",\"minorgridcolor\":\"#506784\",\"startlinecolor\":\"#A2B1C6\"},\"baxis\":{\"endlinecolor\":\"#A2B1C6\",\"gridcolor\":\"#506784\",\"linecolor\":\"#506784\",\"minorgridcolor\":\"#506784\",\"startlinecolor\":\"#A2B1C6\"},\"type\":\"carpet\"}],\"table\":[{\"cells\":{\"fill\":{\"color\":\"#506784\"},\"line\":{\"color\":\"rgb(17,17,17)\"}},\"header\":{\"fill\":{\"color\":\"#2a3f5f\"},\"line\":{\"color\":\"rgb(17,17,17)\"}},\"type\":\"table\"}],\"barpolar\":[{\"marker\":{\"line\":{\"color\":\"rgb(17,17,17)\",\"width\":0.5},\"pattern\":{\"fillmode\":\"overlay\",\"size\":10,\"solidity\":0.2}},\"type\":\"barpolar\"}],\"pie\":[{\"automargin\":true,\"type\":\"pie\"}]},\"layout\":{\"autotypenumbers\":\"strict\",\"colorway\":[\"#636efa\",\"#EF553B\",\"#00cc96\",\"#ab63fa\",\"#FFA15A\",\"#19d3f3\",\"#FF6692\",\"#B6E880\",\"#FF97FF\",\"#FECB52\"],\"font\":{\"color\":\"#f2f5fa\"},\"hovermode\":\"closest\",\"hoverlabel\":{\"align\":\"left\"},\"paper_bgcolor\":\"rgb(17,17,17)\",\"plot_bgcolor\":\"rgb(17,17,17)\",\"polar\":{\"bgcolor\":\"rgb(17,17,17)\",\"angularaxis\":{\"gridcolor\":\"#506784\",\"linecolor\":\"#506784\",\"ticks\":\"\"},\"radialaxis\":{\"gridcolor\":\"#506784\",\"linecolor\":\"#506784\",\"ticks\":\"\"}},\"ternary\":{\"bgcolor\":\"rgb(17,17,17)\",\"aaxis\":{\"gridcolor\":\"#506784\",\"linecolor\":\"#506784\",\"ticks\":\"\"},\"baxis\":{\"gridcolor\":\"#506784\",\"linecolor\":\"#506784\",\"ticks\":\"\"},\"caxis\":{\"gridcolor\":\"#506784\",\"linecolor\":\"#506784\",\"ticks\":\"\"}},\"coloraxis\":{\"colorbar\":{\"outlinewidth\":0,\"ticks\":\"\"}},\"colorscale\":{\"sequential\":[[0.0,\"#0d0887\"],[0.1111111111111111,\"#46039f\"],[0.2222222222222222,\"#7201a8\"],[0.3333333333333333,\"#9c179e\"],[0.4444444444444444,\"#bd3786\"],[0.5555555555555556,\"#d8576b\"],[0.6666666666666666,\"#ed7953\"],[0.7777777777777778,\"#fb9f3a\"],[0.8888888888888888,\"#fdca26\"],[1.0,\"#f0f921\"]],\"sequentialminus\":[[0.0,\"#0d0887\"],[0.1111111111111111,\"#46039f\"],[0.2222222222222222,\"#7201a8\"],[0.3333333333333333,\"#9c179e\"],[0.4444444444444444,\"#bd3786\"],[0.5555555555555556,\"#d8576b\"],[0.6666666666666666,\"#ed7953\"],[0.7777777777777778,\"#fb9f3a\"],[0.8888888888888888,\"#fdca26\"],[1.0,\"#f0f921\"]],\"diverging\":[[0,\"#8e0152\"],[0.1,\"#c51b7d\"],[0.2,\"#de77ae\"],[0.3,\"#f1b6da\"],[0.4,\"#fde0ef\"],[0.5,\"#f7f7f7\"],[0.6,\"#e6f5d0\"],[0.7,\"#b8e186\"],[0.8,\"#7fbc41\"],[0.9,\"#4d9221\"],[1,\"#276419\"]]},\"xaxis\":{\"gridcolor\":\"#283442\",\"linecolor\":\"#506784\",\"ticks\":\"\",\"title\":{\"standoff\":15},\"zerolinecolor\":\"#283442\",\"automargin\":true,\"zerolinewidth\":2},\"yaxis\":{\"gridcolor\":\"#283442\",\"linecolor\":\"#506784\",\"ticks\":\"\",\"title\":{\"standoff\":15},\"zerolinecolor\":\"#283442\",\"automargin\":true,\"zerolinewidth\":2},\"scene\":{\"xaxis\":{\"backgroundcolor\":\"rgb(17,17,17)\",\"gridcolor\":\"#506784\",\"linecolor\":\"#506784\",\"showbackground\":true,\"ticks\":\"\",\"zerolinecolor\":\"#C8D4E3\",\"gridwidth\":2},\"yaxis\":{\"backgroundcolor\":\"rgb(17,17,17)\",\"gridcolor\":\"#506784\",\"linecolor\":\"#506784\",\"showbackground\":true,\"ticks\":\"\",\"zerolinecolor\":\"#C8D4E3\",\"gridwidth\":2},\"zaxis\":{\"backgroundcolor\":\"rgb(17,17,17)\",\"gridcolor\":\"#506784\",\"linecolor\":\"#506784\",\"showbackground\":true,\"ticks\":\"\",\"zerolinecolor\":\"#C8D4E3\",\"gridwidth\":2}},\"shapedefaults\":{\"line\":{\"color\":\"#f2f5fa\"}},\"annotationdefaults\":{\"arrowcolor\":\"#f2f5fa\",\"arrowhead\":0,\"arrowwidth\":1},\"geo\":{\"bgcolor\":\"rgb(17,17,17)\",\"landcolor\":\"rgb(17,17,17)\",\"subunitcolor\":\"#506784\",\"showland\":true,\"showlakes\":true,\"lakecolor\":\"rgb(17,17,17)\"},\"title\":{\"x\":0.05},\"updatemenudefaults\":{\"bgcolor\":\"#506784\",\"borderwidth\":0},\"sliderdefaults\":{\"bgcolor\":\"#C8D4E3\",\"borderwidth\":1,\"bordercolor\":\"rgb(17,17,17)\",\"tickwidth\":0},\"mapbox\":{\"style\":\"dark\"}}},\"xaxis\":{\"anchor\":\"y\",\"domain\":[0.0,0.45]},\"yaxis\":{\"anchor\":\"x\",\"domain\":[0.625,1.0]},\"xaxis2\":{\"anchor\":\"y2\",\"domain\":[0.55,1.0]},\"yaxis2\":{\"anchor\":\"x2\",\"domain\":[0.625,1.0]},\"xaxis3\":{\"anchor\":\"y3\",\"domain\":[0.0,0.45]},\"yaxis3\":{\"anchor\":\"x3\",\"domain\":[0.0,0.375]},\"xaxis4\":{\"anchor\":\"y4\",\"domain\":[0.55,1.0]},\"yaxis4\":{\"anchor\":\"x4\",\"domain\":[0.0,0.375]},\"annotations\":[{\"font\":{\"size\":16},\"showarrow\":false,\"text\":\"Confirmed cases\",\"x\":0.225,\"xanchor\":\"center\",\"xref\":\"paper\",\"y\":1.0,\"yanchor\":\"bottom\",\"yref\":\"paper\"},{\"font\":{\"size\":16},\"showarrow\":false,\"text\":\"Confirmed cases per population\",\"x\":0.775,\"xanchor\":\"center\",\"xref\":\"paper\",\"y\":1.0,\"yanchor\":\"bottom\",\"yref\":\"paper\"},{\"font\":{\"size\":16},\"showarrow\":false,\"text\":\"Confirmed deaths\",\"x\":0.225,\"xanchor\":\"center\",\"xref\":\"paper\",\"y\":0.375,\"yanchor\":\"bottom\",\"yref\":\"paper\"},{\"font\":{\"size\":16},\"showarrow\":false,\"text\":\"Confirmed deaths per population\",\"x\":0.775,\"xanchor\":\"center\",\"xref\":\"paper\",\"y\":0.375,\"yanchor\":\"bottom\",\"yref\":\"paper\"}],\"height\":700,\"title\":{\"text\":\"Top 10 countries with most\"}},                        {\"responsive\": true}                    ).then(function(){\n                            \nvar gd = document.getElementById('5a7baf1a-ff42-4f9b-a85c-63a81954663f');\nvar x = new MutationObserver(function (mutations, observer) {{\n        var display = window.getComputedStyle(gd).display;\n        if (!display || display === 'none') {{\n            console.log([gd, 'removed!']);\n            Plotly.purge(gd);\n            observer.disconnect();\n        }}\n}});\n\n// Listen for the removal of the full notebook cells\nvar notebookContainer = gd.closest('#notebook-container');\nif (notebookContainer) {{\n    x.observe(notebookContainer, {childList: true});\n}}\n\n// Listen for the clearing of the current output cell\nvar outputEl = gd.closest('.output');\nif (outputEl) {{\n    x.observe(outputEl, {childList: true});\n}}\n\n                        })                };                });            </script>        </div>"
     },
     "metadata": {},
     "output_type": "display_data"
    }
   ],
   "source": [
    "from plotly.subplots import make_subplots\n",
    "\n",
    "fig = make_subplots(cols=2, rows=2, subplot_titles=(\n",
    "    'Confirmed cases', 'Confirmed cases per population', 'Confirmed deaths', 'Confirmed deaths per population'))\n",
    "size = sorted_country_df.confirmed.head(10) / 1000\n",
    "fig.add_trace(\n",
    "    go.Scatter(x=sorted_country_df.country.head(10), y=sorted_country_df.confirmed.head(10), mode=\"markers\",\n",
    "               name=\"Total confirmed cases\",\n",
    "               marker=dict(size=size, sizemode='diameter',\n",
    "                           sizeref=1000, sizemin=10)), col=1, row=1)\n",
    "size = np.array(sorted_country_pop_df.confirmed_per_pop.head(10) * 50).astype(int)\n",
    "\n",
    "fig.add_trace(\n",
    "    go.Scatter(x=sorted_country_pop_df.country.head(10),\n",
    "               y=sorted_country_pop_df.confirmed_per_pop.head(10), mode=\"markers\",\n",
    "               name=\"Confirmed cases per population in %\",\n",
    "               marker=dict(size=size, sizemode='diameter',\n",
    "                           sizeref=100, sizemin=4)), col=2, row=1)\n",
    "size = sorted_country_death_df.deaths.head(10) / 1000\n",
    "fig.add_trace(\n",
    "    go.Scatter(x=sorted_country_death_df.country.head(10), y=sorted_country_death_df.deaths.head(10), mode=\"markers\",\n",
    "               name=\"Total deaths\",\n",
    "               marker=dict(size=size, sizemode='diameter',\n",
    "                           sizeref=20, sizemin=4)), col=1, row=2)\n",
    "size = np.array(sorted_country_death_pop_df.deaths_per_pop.head(10) * 1000).astype(int)\n",
    "fig.add_trace(\n",
    "    go.Scatter(x=sorted_country_death_pop_df.country.head(10), y=sorted_country_death_pop_df.deaths_per_pop.head(10),\n",
    "               name=\"Deaths per population in %\",\n",
    "               mode=\"markers\",\n",
    "               marker=dict(size=size, sizemode='diameter',\n",
    "                           sizeref=15, sizemin=4)), col=2, row=2)\n",
    "fig.update_layout(height=700, title=\"Top 10 countries with most\")\n",
    "\n",
    "fig.show()"
   ]
  },
  {
   "cell_type": "code",
   "execution_count": 60,
   "metadata": {
    "pycharm": {
     "name": "#%%\n"
    }
   },
   "outputs": [
    {
     "data": {
      "text/plain": "                    country    confirmed     deaths    vaccinated       date\n175861                World  499842091.0  6181737.0  4.597340e+09 2022-04-11\n70850           High income  281951527.0  2336925.0  9.011363e+08 2022-04-11\n52647                Europe  185946214.0  1791591.0  4.894708e+08 2022-04-11\n9351                   Asia  144623815.0  1416810.0  3.176472e+09 2022-04-11\n53457        European Union  131258073.0  1058786.0  3.271815e+08 2022-04-11\n170138  Upper middle income  125989372.0  2497934.0  1.928623e+09 2022-04-11\n118919        North America   95111418.0  1420595.0  3.742956e+08 2022-04-11\n95545   Lower middle income   90065341.0  1303768.0  1.690999e+09 2022-04-11\n149131        South America   56346081.0  1290692.0  3.186783e+08 2022-04-11\n1566                 Africa   11591379.0   252322.0  2.111460e+08 2022-04-11\n122207              Oceania    6222463.0     9712.0  2.727708e+07 2022-04-11\n94734            Low income    1816649.0    43043.0           NaN 2022-04-11\n86350                Kosovo     227757.0     3138.0  8.211370e+05 2022-04-11\n76335         International        721.0       15.0           NaN 2022-04-11",
      "text/html": "<div>\n<style scoped>\n    .dataframe tbody tr th:only-of-type {\n        vertical-align: middle;\n    }\n\n    .dataframe tbody tr th {\n        vertical-align: top;\n    }\n\n    .dataframe thead th {\n        text-align: right;\n    }\n</style>\n<table border=\"1\" class=\"dataframe\">\n  <thead>\n    <tr style=\"text-align: right;\">\n      <th></th>\n      <th>country</th>\n      <th>confirmed</th>\n      <th>deaths</th>\n      <th>vaccinated</th>\n      <th>date</th>\n    </tr>\n  </thead>\n  <tbody>\n    <tr>\n      <th>175861</th>\n      <td>World</td>\n      <td>499842091.0</td>\n      <td>6181737.0</td>\n      <td>4.597340e+09</td>\n      <td>2022-04-11</td>\n    </tr>\n    <tr>\n      <th>70850</th>\n      <td>High income</td>\n      <td>281951527.0</td>\n      <td>2336925.0</td>\n      <td>9.011363e+08</td>\n      <td>2022-04-11</td>\n    </tr>\n    <tr>\n      <th>52647</th>\n      <td>Europe</td>\n      <td>185946214.0</td>\n      <td>1791591.0</td>\n      <td>4.894708e+08</td>\n      <td>2022-04-11</td>\n    </tr>\n    <tr>\n      <th>9351</th>\n      <td>Asia</td>\n      <td>144623815.0</td>\n      <td>1416810.0</td>\n      <td>3.176472e+09</td>\n      <td>2022-04-11</td>\n    </tr>\n    <tr>\n      <th>53457</th>\n      <td>European Union</td>\n      <td>131258073.0</td>\n      <td>1058786.0</td>\n      <td>3.271815e+08</td>\n      <td>2022-04-11</td>\n    </tr>\n    <tr>\n      <th>170138</th>\n      <td>Upper middle income</td>\n      <td>125989372.0</td>\n      <td>2497934.0</td>\n      <td>1.928623e+09</td>\n      <td>2022-04-11</td>\n    </tr>\n    <tr>\n      <th>118919</th>\n      <td>North America</td>\n      <td>95111418.0</td>\n      <td>1420595.0</td>\n      <td>3.742956e+08</td>\n      <td>2022-04-11</td>\n    </tr>\n    <tr>\n      <th>95545</th>\n      <td>Lower middle income</td>\n      <td>90065341.0</td>\n      <td>1303768.0</td>\n      <td>1.690999e+09</td>\n      <td>2022-04-11</td>\n    </tr>\n    <tr>\n      <th>149131</th>\n      <td>South America</td>\n      <td>56346081.0</td>\n      <td>1290692.0</td>\n      <td>3.186783e+08</td>\n      <td>2022-04-11</td>\n    </tr>\n    <tr>\n      <th>1566</th>\n      <td>Africa</td>\n      <td>11591379.0</td>\n      <td>252322.0</td>\n      <td>2.111460e+08</td>\n      <td>2022-04-11</td>\n    </tr>\n    <tr>\n      <th>122207</th>\n      <td>Oceania</td>\n      <td>6222463.0</td>\n      <td>9712.0</td>\n      <td>2.727708e+07</td>\n      <td>2022-04-11</td>\n    </tr>\n    <tr>\n      <th>94734</th>\n      <td>Low income</td>\n      <td>1816649.0</td>\n      <td>43043.0</td>\n      <td>NaN</td>\n      <td>2022-04-11</td>\n    </tr>\n    <tr>\n      <th>86350</th>\n      <td>Kosovo</td>\n      <td>227757.0</td>\n      <td>3138.0</td>\n      <td>8.211370e+05</td>\n      <td>2022-04-11</td>\n    </tr>\n    <tr>\n      <th>76335</th>\n      <td>International</td>\n      <td>721.0</td>\n      <td>15.0</td>\n      <td>NaN</td>\n      <td>2022-04-11</td>\n    </tr>\n  </tbody>\n</table>\n</div>"
     },
     "execution_count": 60,
     "metadata": {},
     "output_type": "execute_result"
    }
   ],
   "source": [
    "owid_df = pd.DataFrame(df.location)\n",
    "owid_df = owid_df.rename(columns={'location': 'country'})\n",
    "owid_df['confirmed'] = df.total_cases\n",
    "owid_df['deaths'] = df.total_deaths\n",
    "owid_df['vaccinated'] = df.people_fully_vaccinated\n",
    "owid_df['date'] = pd.to_datetime(df.date)\n",
    "owid_df.head()\n",
    "\n",
    "owid_df = owid_df.drop(index_owid.index)\n",
    "\n",
    "sorted_owid_df = owid_df.sort_values('confirmed', ascending=False).query(\"date == '2022-04-11'\")\n",
    "sorted_owid_df"
   ]
  },
  {
   "cell_type": "code",
   "execution_count": 61,
   "metadata": {
    "pycharm": {
     "name": "#%%\n"
    }
   },
   "outputs": [
    {
     "data": {
      "application/vnd.plotly.v1+json": {
       "data": [
        {
         "hovertemplate": "<b>%{hovertext}</b><br><br>country=%{x}<br>confirmed=%{marker.size}<extra></extra>",
         "hovertext": [
          "World"
         ],
         "legendgroup": "World",
         "marker": {
          "color": "#636efa",
          "size": [
           4.99842091E8
          ],
          "sizemode": "area",
          "sizeref": 49984.2091,
          "symbol": "circle"
         },
         "mode": "markers",
         "name": "World",
         "orientation": "v",
         "showlegend": true,
         "x": [
          "World"
         ],
         "xaxis": "x",
         "y": [
          4.99842091E8
         ],
         "yaxis": "y",
         "type": "scatter"
        },
        {
         "hovertemplate": "<b>%{hovertext}</b><br><br>country=%{x}<br>confirmed=%{marker.size}<extra></extra>",
         "hovertext": [
          "High income"
         ],
         "legendgroup": "High income",
         "marker": {
          "color": "#EF553B",
          "size": [
           2.81951527E8
          ],
          "sizemode": "area",
          "sizeref": 49984.2091,
          "symbol": "circle"
         },
         "mode": "markers",
         "name": "High income",
         "orientation": "v",
         "showlegend": true,
         "x": [
          "High income"
         ],
         "xaxis": "x",
         "y": [
          2.81951527E8
         ],
         "yaxis": "y",
         "type": "scatter"
        },
        {
         "hovertemplate": "<b>%{hovertext}</b><br><br>country=%{x}<br>confirmed=%{marker.size}<extra></extra>",
         "hovertext": [
          "Europe"
         ],
         "legendgroup": "Europe",
         "marker": {
          "color": "#00cc96",
          "size": [
           1.85946214E8
          ],
          "sizemode": "area",
          "sizeref": 49984.2091,
          "symbol": "circle"
         },
         "mode": "markers",
         "name": "Europe",
         "orientation": "v",
         "showlegend": true,
         "x": [
          "Europe"
         ],
         "xaxis": "x",
         "y": [
          1.85946214E8
         ],
         "yaxis": "y",
         "type": "scatter"
        },
        {
         "hovertemplate": "<b>%{hovertext}</b><br><br>country=%{x}<br>confirmed=%{marker.size}<extra></extra>",
         "hovertext": [
          "Asia"
         ],
         "legendgroup": "Asia",
         "marker": {
          "color": "#ab63fa",
          "size": [
           1.44623815E8
          ],
          "sizemode": "area",
          "sizeref": 49984.2091,
          "symbol": "circle"
         },
         "mode": "markers",
         "name": "Asia",
         "orientation": "v",
         "showlegend": true,
         "x": [
          "Asia"
         ],
         "xaxis": "x",
         "y": [
          1.44623815E8
         ],
         "yaxis": "y",
         "type": "scatter"
        },
        {
         "hovertemplate": "<b>%{hovertext}</b><br><br>country=%{x}<br>confirmed=%{marker.size}<extra></extra>",
         "hovertext": [
          "European Union"
         ],
         "legendgroup": "European Union",
         "marker": {
          "color": "#FFA15A",
          "size": [
           1.31258073E8
          ],
          "sizemode": "area",
          "sizeref": 49984.2091,
          "symbol": "circle"
         },
         "mode": "markers",
         "name": "European Union",
         "orientation": "v",
         "showlegend": true,
         "x": [
          "European Union"
         ],
         "xaxis": "x",
         "y": [
          1.31258073E8
         ],
         "yaxis": "y",
         "type": "scatter"
        },
        {
         "hovertemplate": "<b>%{hovertext}</b><br><br>country=%{x}<br>confirmed=%{marker.size}<extra></extra>",
         "hovertext": [
          "Upper middle income"
         ],
         "legendgroup": "Upper middle income",
         "marker": {
          "color": "#19d3f3",
          "size": [
           1.25989372E8
          ],
          "sizemode": "area",
          "sizeref": 49984.2091,
          "symbol": "circle"
         },
         "mode": "markers",
         "name": "Upper middle income",
         "orientation": "v",
         "showlegend": true,
         "x": [
          "Upper middle income"
         ],
         "xaxis": "x",
         "y": [
          1.25989372E8
         ],
         "yaxis": "y",
         "type": "scatter"
        },
        {
         "hovertemplate": "<b>%{hovertext}</b><br><br>country=%{x}<br>confirmed=%{marker.size}<extra></extra>",
         "hovertext": [
          "North America"
         ],
         "legendgroup": "North America",
         "marker": {
          "color": "#FF6692",
          "size": [
           9.5111418E7
          ],
          "sizemode": "area",
          "sizeref": 49984.2091,
          "symbol": "circle"
         },
         "mode": "markers",
         "name": "North America",
         "orientation": "v",
         "showlegend": true,
         "x": [
          "North America"
         ],
         "xaxis": "x",
         "y": [
          9.5111418E7
         ],
         "yaxis": "y",
         "type": "scatter"
        },
        {
         "hovertemplate": "<b>%{hovertext}</b><br><br>country=%{x}<br>confirmed=%{marker.size}<extra></extra>",
         "hovertext": [
          "Lower middle income"
         ],
         "legendgroup": "Lower middle income",
         "marker": {
          "color": "#B6E880",
          "size": [
           9.0065341E7
          ],
          "sizemode": "area",
          "sizeref": 49984.2091,
          "symbol": "circle"
         },
         "mode": "markers",
         "name": "Lower middle income",
         "orientation": "v",
         "showlegend": true,
         "x": [
          "Lower middle income"
         ],
         "xaxis": "x",
         "y": [
          9.0065341E7
         ],
         "yaxis": "y",
         "type": "scatter"
        },
        {
         "hovertemplate": "<b>%{hovertext}</b><br><br>country=%{x}<br>confirmed=%{marker.size}<extra></extra>",
         "hovertext": [
          "South America"
         ],
         "legendgroup": "South America",
         "marker": {
          "color": "#FF97FF",
          "size": [
           5.6346081E7
          ],
          "sizemode": "area",
          "sizeref": 49984.2091,
          "symbol": "circle"
         },
         "mode": "markers",
         "name": "South America",
         "orientation": "v",
         "showlegend": true,
         "x": [
          "South America"
         ],
         "xaxis": "x",
         "y": [
          5.6346081E7
         ],
         "yaxis": "y",
         "type": "scatter"
        },
        {
         "hovertemplate": "<b>%{hovertext}</b><br><br>country=%{x}<br>confirmed=%{marker.size}<extra></extra>",
         "hovertext": [
          "Africa"
         ],
         "legendgroup": "Africa",
         "marker": {
          "color": "#FECB52",
          "size": [
           1.1591379E7
          ],
          "sizemode": "area",
          "sizeref": 49984.2091,
          "symbol": "circle"
         },
         "mode": "markers",
         "name": "Africa",
         "orientation": "v",
         "showlegend": true,
         "x": [
          "Africa"
         ],
         "xaxis": "x",
         "y": [
          1.1591379E7
         ],
         "yaxis": "y",
         "type": "scatter"
        },
        {
         "hovertemplate": "<b>%{hovertext}</b><br><br>country=%{x}<br>confirmed=%{marker.size}<extra></extra>",
         "hovertext": [
          "Oceania"
         ],
         "legendgroup": "Oceania",
         "marker": {
          "color": "#636efa",
          "size": [
           6222463.0
          ],
          "sizemode": "area",
          "sizeref": 49984.2091,
          "symbol": "circle"
         },
         "mode": "markers",
         "name": "Oceania",
         "orientation": "v",
         "showlegend": true,
         "x": [
          "Oceania"
         ],
         "xaxis": "x",
         "y": [
          6222463.0
         ],
         "yaxis": "y",
         "type": "scatter"
        },
        {
         "hovertemplate": "<b>%{hovertext}</b><br><br>country=%{x}<br>confirmed=%{marker.size}<extra></extra>",
         "hovertext": [
          "Low income"
         ],
         "legendgroup": "Low income",
         "marker": {
          "color": "#EF553B",
          "size": [
           1816649.0
          ],
          "sizemode": "area",
          "sizeref": 49984.2091,
          "symbol": "circle"
         },
         "mode": "markers",
         "name": "Low income",
         "orientation": "v",
         "showlegend": true,
         "x": [
          "Low income"
         ],
         "xaxis": "x",
         "y": [
          1816649.0
         ],
         "yaxis": "y",
         "type": "scatter"
        },
        {
         "hovertemplate": "<b>%{hovertext}</b><br><br>country=%{x}<br>confirmed=%{marker.size}<extra></extra>",
         "hovertext": [
          "Kosovo"
         ],
         "legendgroup": "Kosovo",
         "marker": {
          "color": "#00cc96",
          "size": [
           227757.0
          ],
          "sizemode": "area",
          "sizeref": 49984.2091,
          "symbol": "circle"
         },
         "mode": "markers",
         "name": "Kosovo",
         "orientation": "v",
         "showlegend": true,
         "x": [
          "Kosovo"
         ],
         "xaxis": "x",
         "y": [
          227757.0
         ],
         "yaxis": "y",
         "type": "scatter"
        },
        {
         "hovertemplate": "<b>%{hovertext}</b><br><br>country=%{x}<br>confirmed=%{marker.size}<extra></extra>",
         "hovertext": [
          "International"
         ],
         "legendgroup": "International",
         "marker": {
          "color": "#ab63fa",
          "size": [
           721.0
          ],
          "sizemode": "area",
          "sizeref": 49984.2091,
          "symbol": "circle"
         },
         "mode": "markers",
         "name": "International",
         "orientation": "v",
         "showlegend": true,
         "x": [
          "International"
         ],
         "xaxis": "x",
         "y": [
          721.0
         ],
         "yaxis": "y",
         "type": "scatter"
        }
       ],
       "layout": {
        "template": {
         "data": {
          "histogram2dcontour": [
           {
            "type": "histogram2dcontour",
            "colorbar": {
             "outlinewidth": 0,
             "ticks": ""
            },
            "colorscale": [
             [
              0.0,
              "#0d0887"
             ],
             [
              0.1111111111111111,
              "#46039f"
             ],
             [
              0.2222222222222222,
              "#7201a8"
             ],
             [
              0.3333333333333333,
              "#9c179e"
             ],
             [
              0.4444444444444444,
              "#bd3786"
             ],
             [
              0.5555555555555556,
              "#d8576b"
             ],
             [
              0.6666666666666666,
              "#ed7953"
             ],
             [
              0.7777777777777778,
              "#fb9f3a"
             ],
             [
              0.8888888888888888,
              "#fdca26"
             ],
             [
              1.0,
              "#f0f921"
             ]
            ]
           }
          ],
          "choropleth": [
           {
            "type": "choropleth",
            "colorbar": {
             "outlinewidth": 0,
             "ticks": ""
            }
           }
          ],
          "histogram2d": [
           {
            "type": "histogram2d",
            "colorbar": {
             "outlinewidth": 0,
             "ticks": ""
            },
            "colorscale": [
             [
              0.0,
              "#0d0887"
             ],
             [
              0.1111111111111111,
              "#46039f"
             ],
             [
              0.2222222222222222,
              "#7201a8"
             ],
             [
              0.3333333333333333,
              "#9c179e"
             ],
             [
              0.4444444444444444,
              "#bd3786"
             ],
             [
              0.5555555555555556,
              "#d8576b"
             ],
             [
              0.6666666666666666,
              "#ed7953"
             ],
             [
              0.7777777777777778,
              "#fb9f3a"
             ],
             [
              0.8888888888888888,
              "#fdca26"
             ],
             [
              1.0,
              "#f0f921"
             ]
            ]
           }
          ],
          "heatmap": [
           {
            "type": "heatmap",
            "colorbar": {
             "outlinewidth": 0,
             "ticks": ""
            },
            "colorscale": [
             [
              0.0,
              "#0d0887"
             ],
             [
              0.1111111111111111,
              "#46039f"
             ],
             [
              0.2222222222222222,
              "#7201a8"
             ],
             [
              0.3333333333333333,
              "#9c179e"
             ],
             [
              0.4444444444444444,
              "#bd3786"
             ],
             [
              0.5555555555555556,
              "#d8576b"
             ],
             [
              0.6666666666666666,
              "#ed7953"
             ],
             [
              0.7777777777777778,
              "#fb9f3a"
             ],
             [
              0.8888888888888888,
              "#fdca26"
             ],
             [
              1.0,
              "#f0f921"
             ]
            ]
           }
          ],
          "heatmapgl": [
           {
            "type": "heatmapgl",
            "colorbar": {
             "outlinewidth": 0,
             "ticks": ""
            },
            "colorscale": [
             [
              0.0,
              "#0d0887"
             ],
             [
              0.1111111111111111,
              "#46039f"
             ],
             [
              0.2222222222222222,
              "#7201a8"
             ],
             [
              0.3333333333333333,
              "#9c179e"
             ],
             [
              0.4444444444444444,
              "#bd3786"
             ],
             [
              0.5555555555555556,
              "#d8576b"
             ],
             [
              0.6666666666666666,
              "#ed7953"
             ],
             [
              0.7777777777777778,
              "#fb9f3a"
             ],
             [
              0.8888888888888888,
              "#fdca26"
             ],
             [
              1.0,
              "#f0f921"
             ]
            ]
           }
          ],
          "contourcarpet": [
           {
            "type": "contourcarpet",
            "colorbar": {
             "outlinewidth": 0,
             "ticks": ""
            }
           }
          ],
          "contour": [
           {
            "type": "contour",
            "colorbar": {
             "outlinewidth": 0,
             "ticks": ""
            },
            "colorscale": [
             [
              0.0,
              "#0d0887"
             ],
             [
              0.1111111111111111,
              "#46039f"
             ],
             [
              0.2222222222222222,
              "#7201a8"
             ],
             [
              0.3333333333333333,
              "#9c179e"
             ],
             [
              0.4444444444444444,
              "#bd3786"
             ],
             [
              0.5555555555555556,
              "#d8576b"
             ],
             [
              0.6666666666666666,
              "#ed7953"
             ],
             [
              0.7777777777777778,
              "#fb9f3a"
             ],
             [
              0.8888888888888888,
              "#fdca26"
             ],
             [
              1.0,
              "#f0f921"
             ]
            ]
           }
          ],
          "surface": [
           {
            "type": "surface",
            "colorbar": {
             "outlinewidth": 0,
             "ticks": ""
            },
            "colorscale": [
             [
              0.0,
              "#0d0887"
             ],
             [
              0.1111111111111111,
              "#46039f"
             ],
             [
              0.2222222222222222,
              "#7201a8"
             ],
             [
              0.3333333333333333,
              "#9c179e"
             ],
             [
              0.4444444444444444,
              "#bd3786"
             ],
             [
              0.5555555555555556,
              "#d8576b"
             ],
             [
              0.6666666666666666,
              "#ed7953"
             ],
             [
              0.7777777777777778,
              "#fb9f3a"
             ],
             [
              0.8888888888888888,
              "#fdca26"
             ],
             [
              1.0,
              "#f0f921"
             ]
            ]
           }
          ],
          "mesh3d": [
           {
            "type": "mesh3d",
            "colorbar": {
             "outlinewidth": 0,
             "ticks": ""
            }
           }
          ],
          "scatter": [
           {
            "marker": {
             "line": {
              "color": "#283442"
             }
            },
            "type": "scatter"
           }
          ],
          "parcoords": [
           {
            "type": "parcoords",
            "line": {
             "colorbar": {
              "outlinewidth": 0,
              "ticks": ""
             }
            }
           }
          ],
          "scatterpolargl": [
           {
            "type": "scatterpolargl",
            "marker": {
             "colorbar": {
              "outlinewidth": 0,
              "ticks": ""
             }
            }
           }
          ],
          "bar": [
           {
            "error_x": {
             "color": "#f2f5fa"
            },
            "error_y": {
             "color": "#f2f5fa"
            },
            "marker": {
             "line": {
              "color": "rgb(17,17,17)",
              "width": 0.5
             },
             "pattern": {
              "fillmode": "overlay",
              "size": 10,
              "solidity": 0.2
             }
            },
            "type": "bar"
           }
          ],
          "scattergeo": [
           {
            "type": "scattergeo",
            "marker": {
             "colorbar": {
              "outlinewidth": 0,
              "ticks": ""
             }
            }
           }
          ],
          "scatterpolar": [
           {
            "type": "scatterpolar",
            "marker": {
             "colorbar": {
              "outlinewidth": 0,
              "ticks": ""
             }
            }
           }
          ],
          "histogram": [
           {
            "marker": {
             "pattern": {
              "fillmode": "overlay",
              "size": 10,
              "solidity": 0.2
             }
            },
            "type": "histogram"
           }
          ],
          "scattergl": [
           {
            "marker": {
             "line": {
              "color": "#283442"
             }
            },
            "type": "scattergl"
           }
          ],
          "scatter3d": [
           {
            "type": "scatter3d",
            "line": {
             "colorbar": {
              "outlinewidth": 0,
              "ticks": ""
             }
            },
            "marker": {
             "colorbar": {
              "outlinewidth": 0,
              "ticks": ""
             }
            }
           }
          ],
          "scattermapbox": [
           {
            "type": "scattermapbox",
            "marker": {
             "colorbar": {
              "outlinewidth": 0,
              "ticks": ""
             }
            }
           }
          ],
          "scatterternary": [
           {
            "type": "scatterternary",
            "marker": {
             "colorbar": {
              "outlinewidth": 0,
              "ticks": ""
             }
            }
           }
          ],
          "scattercarpet": [
           {
            "type": "scattercarpet",
            "marker": {
             "colorbar": {
              "outlinewidth": 0,
              "ticks": ""
             }
            }
           }
          ],
          "carpet": [
           {
            "aaxis": {
             "endlinecolor": "#A2B1C6",
             "gridcolor": "#506784",
             "linecolor": "#506784",
             "minorgridcolor": "#506784",
             "startlinecolor": "#A2B1C6"
            },
            "baxis": {
             "endlinecolor": "#A2B1C6",
             "gridcolor": "#506784",
             "linecolor": "#506784",
             "minorgridcolor": "#506784",
             "startlinecolor": "#A2B1C6"
            },
            "type": "carpet"
           }
          ],
          "table": [
           {
            "cells": {
             "fill": {
              "color": "#506784"
             },
             "line": {
              "color": "rgb(17,17,17)"
             }
            },
            "header": {
             "fill": {
              "color": "#2a3f5f"
             },
             "line": {
              "color": "rgb(17,17,17)"
             }
            },
            "type": "table"
           }
          ],
          "barpolar": [
           {
            "marker": {
             "line": {
              "color": "rgb(17,17,17)",
              "width": 0.5
             },
             "pattern": {
              "fillmode": "overlay",
              "size": 10,
              "solidity": 0.2
             }
            },
            "type": "barpolar"
           }
          ],
          "pie": [
           {
            "automargin": true,
            "type": "pie"
           }
          ]
         },
         "layout": {
          "autotypenumbers": "strict",
          "colorway": [
           "#636efa",
           "#EF553B",
           "#00cc96",
           "#ab63fa",
           "#FFA15A",
           "#19d3f3",
           "#FF6692",
           "#B6E880",
           "#FF97FF",
           "#FECB52"
          ],
          "font": {
           "color": "#f2f5fa"
          },
          "hovermode": "closest",
          "hoverlabel": {
           "align": "left"
          },
          "paper_bgcolor": "rgb(17,17,17)",
          "plot_bgcolor": "rgb(17,17,17)",
          "polar": {
           "bgcolor": "rgb(17,17,17)",
           "angularaxis": {
            "gridcolor": "#506784",
            "linecolor": "#506784",
            "ticks": ""
           },
           "radialaxis": {
            "gridcolor": "#506784",
            "linecolor": "#506784",
            "ticks": ""
           }
          },
          "ternary": {
           "bgcolor": "rgb(17,17,17)",
           "aaxis": {
            "gridcolor": "#506784",
            "linecolor": "#506784",
            "ticks": ""
           },
           "baxis": {
            "gridcolor": "#506784",
            "linecolor": "#506784",
            "ticks": ""
           },
           "caxis": {
            "gridcolor": "#506784",
            "linecolor": "#506784",
            "ticks": ""
           }
          },
          "coloraxis": {
           "colorbar": {
            "outlinewidth": 0,
            "ticks": ""
           }
          },
          "colorscale": {
           "sequential": [
            [
             0.0,
             "#0d0887"
            ],
            [
             0.1111111111111111,
             "#46039f"
            ],
            [
             0.2222222222222222,
             "#7201a8"
            ],
            [
             0.3333333333333333,
             "#9c179e"
            ],
            [
             0.4444444444444444,
             "#bd3786"
            ],
            [
             0.5555555555555556,
             "#d8576b"
            ],
            [
             0.6666666666666666,
             "#ed7953"
            ],
            [
             0.7777777777777778,
             "#fb9f3a"
            ],
            [
             0.8888888888888888,
             "#fdca26"
            ],
            [
             1.0,
             "#f0f921"
            ]
           ],
           "sequentialminus": [
            [
             0.0,
             "#0d0887"
            ],
            [
             0.1111111111111111,
             "#46039f"
            ],
            [
             0.2222222222222222,
             "#7201a8"
            ],
            [
             0.3333333333333333,
             "#9c179e"
            ],
            [
             0.4444444444444444,
             "#bd3786"
            ],
            [
             0.5555555555555556,
             "#d8576b"
            ],
            [
             0.6666666666666666,
             "#ed7953"
            ],
            [
             0.7777777777777778,
             "#fb9f3a"
            ],
            [
             0.8888888888888888,
             "#fdca26"
            ],
            [
             1.0,
             "#f0f921"
            ]
           ],
           "diverging": [
            [
             0,
             "#8e0152"
            ],
            [
             0.1,
             "#c51b7d"
            ],
            [
             0.2,
             "#de77ae"
            ],
            [
             0.3,
             "#f1b6da"
            ],
            [
             0.4,
             "#fde0ef"
            ],
            [
             0.5,
             "#f7f7f7"
            ],
            [
             0.6,
             "#e6f5d0"
            ],
            [
             0.7,
             "#b8e186"
            ],
            [
             0.8,
             "#7fbc41"
            ],
            [
             0.9,
             "#4d9221"
            ],
            [
             1,
             "#276419"
            ]
           ]
          },
          "xaxis": {
           "gridcolor": "#283442",
           "linecolor": "#506784",
           "ticks": "",
           "title": {
            "standoff": 15
           },
           "zerolinecolor": "#283442",
           "automargin": true,
           "zerolinewidth": 2
          },
          "yaxis": {
           "gridcolor": "#283442",
           "linecolor": "#506784",
           "ticks": "",
           "title": {
            "standoff": 15
           },
           "zerolinecolor": "#283442",
           "automargin": true,
           "zerolinewidth": 2
          },
          "scene": {
           "xaxis": {
            "backgroundcolor": "rgb(17,17,17)",
            "gridcolor": "#506784",
            "linecolor": "#506784",
            "showbackground": true,
            "ticks": "",
            "zerolinecolor": "#C8D4E3",
            "gridwidth": 2
           },
           "yaxis": {
            "backgroundcolor": "rgb(17,17,17)",
            "gridcolor": "#506784",
            "linecolor": "#506784",
            "showbackground": true,
            "ticks": "",
            "zerolinecolor": "#C8D4E3",
            "gridwidth": 2
           },
           "zaxis": {
            "backgroundcolor": "rgb(17,17,17)",
            "gridcolor": "#506784",
            "linecolor": "#506784",
            "showbackground": true,
            "ticks": "",
            "zerolinecolor": "#C8D4E3",
            "gridwidth": 2
           }
          },
          "shapedefaults": {
           "line": {
            "color": "#f2f5fa"
           }
          },
          "annotationdefaults": {
           "arrowcolor": "#f2f5fa",
           "arrowhead": 0,
           "arrowwidth": 1
          },
          "geo": {
           "bgcolor": "rgb(17,17,17)",
           "landcolor": "rgb(17,17,17)",
           "subunitcolor": "#506784",
           "showland": true,
           "showlakes": true,
           "lakecolor": "rgb(17,17,17)"
          },
          "title": {
           "x": 0.05
          },
          "updatemenudefaults": {
           "bgcolor": "#506784",
           "borderwidth": 0
          },
          "sliderdefaults": {
           "bgcolor": "#C8D4E3",
           "borderwidth": 1,
           "bordercolor": "rgb(17,17,17)",
           "tickwidth": 0
          },
          "mapbox": {
           "style": "dark"
          }
         }
        },
        "xaxis": {
         "anchor": "y",
         "domain": [
          0.0,
          1.0
         ],
         "title": {
          "text": "country"
         },
         "categoryorder": "array",
         "categoryarray": [
          "World",
          "High income",
          "Europe",
          "Asia",
          "European Union",
          "Upper middle income",
          "North America",
          "Lower middle income",
          "South America",
          "Africa",
          "Oceania",
          "Low income",
          "Kosovo",
          "International"
         ]
        },
        "yaxis": {
         "anchor": "x",
         "domain": [
          0.0,
          1.0
         ],
         "title": {
          "text": "confirmed"
         }
        },
        "legend": {
         "title": {
          "text": "country"
         },
         "tracegroupgap": 0,
         "itemsizing": "constant"
        },
        "title": {
         "text": "Confirmed cases by owid filter"
        }
       },
       "config": {
        "plotlyServerURL": "https://plot.ly"
       }
      },
      "text/html": "<div>                            <div id=\"764a772c-49b5-4fd9-8fea-3abcabfd6d51\" class=\"plotly-graph-div\" style=\"height:525px; width:100%;\"></div>            <script type=\"text/javascript\">                require([\"plotly\"], function(Plotly) {                    window.PLOTLYENV=window.PLOTLYENV || {};                                    if (document.getElementById(\"764a772c-49b5-4fd9-8fea-3abcabfd6d51\")) {                    Plotly.newPlot(                        \"764a772c-49b5-4fd9-8fea-3abcabfd6d51\",                        [{\"hovertemplate\":\"<b>%{hovertext}</b><br><br>country=%{x}<br>confirmed=%{marker.size}<extra></extra>\",\"hovertext\":[\"World\"],\"legendgroup\":\"World\",\"marker\":{\"color\":\"#636efa\",\"size\":[499842091.0],\"sizemode\":\"area\",\"sizeref\":49984.2091,\"symbol\":\"circle\"},\"mode\":\"markers\",\"name\":\"World\",\"orientation\":\"v\",\"showlegend\":true,\"x\":[\"World\"],\"xaxis\":\"x\",\"y\":[499842091.0],\"yaxis\":\"y\",\"type\":\"scatter\"},{\"hovertemplate\":\"<b>%{hovertext}</b><br><br>country=%{x}<br>confirmed=%{marker.size}<extra></extra>\",\"hovertext\":[\"High income\"],\"legendgroup\":\"High income\",\"marker\":{\"color\":\"#EF553B\",\"size\":[281951527.0],\"sizemode\":\"area\",\"sizeref\":49984.2091,\"symbol\":\"circle\"},\"mode\":\"markers\",\"name\":\"High income\",\"orientation\":\"v\",\"showlegend\":true,\"x\":[\"High income\"],\"xaxis\":\"x\",\"y\":[281951527.0],\"yaxis\":\"y\",\"type\":\"scatter\"},{\"hovertemplate\":\"<b>%{hovertext}</b><br><br>country=%{x}<br>confirmed=%{marker.size}<extra></extra>\",\"hovertext\":[\"Europe\"],\"legendgroup\":\"Europe\",\"marker\":{\"color\":\"#00cc96\",\"size\":[185946214.0],\"sizemode\":\"area\",\"sizeref\":49984.2091,\"symbol\":\"circle\"},\"mode\":\"markers\",\"name\":\"Europe\",\"orientation\":\"v\",\"showlegend\":true,\"x\":[\"Europe\"],\"xaxis\":\"x\",\"y\":[185946214.0],\"yaxis\":\"y\",\"type\":\"scatter\"},{\"hovertemplate\":\"<b>%{hovertext}</b><br><br>country=%{x}<br>confirmed=%{marker.size}<extra></extra>\",\"hovertext\":[\"Asia\"],\"legendgroup\":\"Asia\",\"marker\":{\"color\":\"#ab63fa\",\"size\":[144623815.0],\"sizemode\":\"area\",\"sizeref\":49984.2091,\"symbol\":\"circle\"},\"mode\":\"markers\",\"name\":\"Asia\",\"orientation\":\"v\",\"showlegend\":true,\"x\":[\"Asia\"],\"xaxis\":\"x\",\"y\":[144623815.0],\"yaxis\":\"y\",\"type\":\"scatter\"},{\"hovertemplate\":\"<b>%{hovertext}</b><br><br>country=%{x}<br>confirmed=%{marker.size}<extra></extra>\",\"hovertext\":[\"European Union\"],\"legendgroup\":\"European Union\",\"marker\":{\"color\":\"#FFA15A\",\"size\":[131258073.0],\"sizemode\":\"area\",\"sizeref\":49984.2091,\"symbol\":\"circle\"},\"mode\":\"markers\",\"name\":\"European Union\",\"orientation\":\"v\",\"showlegend\":true,\"x\":[\"European Union\"],\"xaxis\":\"x\",\"y\":[131258073.0],\"yaxis\":\"y\",\"type\":\"scatter\"},{\"hovertemplate\":\"<b>%{hovertext}</b><br><br>country=%{x}<br>confirmed=%{marker.size}<extra></extra>\",\"hovertext\":[\"Upper middle income\"],\"legendgroup\":\"Upper middle income\",\"marker\":{\"color\":\"#19d3f3\",\"size\":[125989372.0],\"sizemode\":\"area\",\"sizeref\":49984.2091,\"symbol\":\"circle\"},\"mode\":\"markers\",\"name\":\"Upper middle income\",\"orientation\":\"v\",\"showlegend\":true,\"x\":[\"Upper middle income\"],\"xaxis\":\"x\",\"y\":[125989372.0],\"yaxis\":\"y\",\"type\":\"scatter\"},{\"hovertemplate\":\"<b>%{hovertext}</b><br><br>country=%{x}<br>confirmed=%{marker.size}<extra></extra>\",\"hovertext\":[\"North America\"],\"legendgroup\":\"North America\",\"marker\":{\"color\":\"#FF6692\",\"size\":[95111418.0],\"sizemode\":\"area\",\"sizeref\":49984.2091,\"symbol\":\"circle\"},\"mode\":\"markers\",\"name\":\"North America\",\"orientation\":\"v\",\"showlegend\":true,\"x\":[\"North America\"],\"xaxis\":\"x\",\"y\":[95111418.0],\"yaxis\":\"y\",\"type\":\"scatter\"},{\"hovertemplate\":\"<b>%{hovertext}</b><br><br>country=%{x}<br>confirmed=%{marker.size}<extra></extra>\",\"hovertext\":[\"Lower middle income\"],\"legendgroup\":\"Lower middle income\",\"marker\":{\"color\":\"#B6E880\",\"size\":[90065341.0],\"sizemode\":\"area\",\"sizeref\":49984.2091,\"symbol\":\"circle\"},\"mode\":\"markers\",\"name\":\"Lower middle income\",\"orientation\":\"v\",\"showlegend\":true,\"x\":[\"Lower middle income\"],\"xaxis\":\"x\",\"y\":[90065341.0],\"yaxis\":\"y\",\"type\":\"scatter\"},{\"hovertemplate\":\"<b>%{hovertext}</b><br><br>country=%{x}<br>confirmed=%{marker.size}<extra></extra>\",\"hovertext\":[\"South America\"],\"legendgroup\":\"South America\",\"marker\":{\"color\":\"#FF97FF\",\"size\":[56346081.0],\"sizemode\":\"area\",\"sizeref\":49984.2091,\"symbol\":\"circle\"},\"mode\":\"markers\",\"name\":\"South America\",\"orientation\":\"v\",\"showlegend\":true,\"x\":[\"South America\"],\"xaxis\":\"x\",\"y\":[56346081.0],\"yaxis\":\"y\",\"type\":\"scatter\"},{\"hovertemplate\":\"<b>%{hovertext}</b><br><br>country=%{x}<br>confirmed=%{marker.size}<extra></extra>\",\"hovertext\":[\"Africa\"],\"legendgroup\":\"Africa\",\"marker\":{\"color\":\"#FECB52\",\"size\":[11591379.0],\"sizemode\":\"area\",\"sizeref\":49984.2091,\"symbol\":\"circle\"},\"mode\":\"markers\",\"name\":\"Africa\",\"orientation\":\"v\",\"showlegend\":true,\"x\":[\"Africa\"],\"xaxis\":\"x\",\"y\":[11591379.0],\"yaxis\":\"y\",\"type\":\"scatter\"},{\"hovertemplate\":\"<b>%{hovertext}</b><br><br>country=%{x}<br>confirmed=%{marker.size}<extra></extra>\",\"hovertext\":[\"Oceania\"],\"legendgroup\":\"Oceania\",\"marker\":{\"color\":\"#636efa\",\"size\":[6222463.0],\"sizemode\":\"area\",\"sizeref\":49984.2091,\"symbol\":\"circle\"},\"mode\":\"markers\",\"name\":\"Oceania\",\"orientation\":\"v\",\"showlegend\":true,\"x\":[\"Oceania\"],\"xaxis\":\"x\",\"y\":[6222463.0],\"yaxis\":\"y\",\"type\":\"scatter\"},{\"hovertemplate\":\"<b>%{hovertext}</b><br><br>country=%{x}<br>confirmed=%{marker.size}<extra></extra>\",\"hovertext\":[\"Low income\"],\"legendgroup\":\"Low income\",\"marker\":{\"color\":\"#EF553B\",\"size\":[1816649.0],\"sizemode\":\"area\",\"sizeref\":49984.2091,\"symbol\":\"circle\"},\"mode\":\"markers\",\"name\":\"Low income\",\"orientation\":\"v\",\"showlegend\":true,\"x\":[\"Low income\"],\"xaxis\":\"x\",\"y\":[1816649.0],\"yaxis\":\"y\",\"type\":\"scatter\"},{\"hovertemplate\":\"<b>%{hovertext}</b><br><br>country=%{x}<br>confirmed=%{marker.size}<extra></extra>\",\"hovertext\":[\"Kosovo\"],\"legendgroup\":\"Kosovo\",\"marker\":{\"color\":\"#00cc96\",\"size\":[227757.0],\"sizemode\":\"area\",\"sizeref\":49984.2091,\"symbol\":\"circle\"},\"mode\":\"markers\",\"name\":\"Kosovo\",\"orientation\":\"v\",\"showlegend\":true,\"x\":[\"Kosovo\"],\"xaxis\":\"x\",\"y\":[227757.0],\"yaxis\":\"y\",\"type\":\"scatter\"},{\"hovertemplate\":\"<b>%{hovertext}</b><br><br>country=%{x}<br>confirmed=%{marker.size}<extra></extra>\",\"hovertext\":[\"International\"],\"legendgroup\":\"International\",\"marker\":{\"color\":\"#ab63fa\",\"size\":[721.0],\"sizemode\":\"area\",\"sizeref\":49984.2091,\"symbol\":\"circle\"},\"mode\":\"markers\",\"name\":\"International\",\"orientation\":\"v\",\"showlegend\":true,\"x\":[\"International\"],\"xaxis\":\"x\",\"y\":[721.0],\"yaxis\":\"y\",\"type\":\"scatter\"}],                        {\"template\":{\"data\":{\"histogram2dcontour\":[{\"type\":\"histogram2dcontour\",\"colorbar\":{\"outlinewidth\":0,\"ticks\":\"\"},\"colorscale\":[[0.0,\"#0d0887\"],[0.1111111111111111,\"#46039f\"],[0.2222222222222222,\"#7201a8\"],[0.3333333333333333,\"#9c179e\"],[0.4444444444444444,\"#bd3786\"],[0.5555555555555556,\"#d8576b\"],[0.6666666666666666,\"#ed7953\"],[0.7777777777777778,\"#fb9f3a\"],[0.8888888888888888,\"#fdca26\"],[1.0,\"#f0f921\"]]}],\"choropleth\":[{\"type\":\"choropleth\",\"colorbar\":{\"outlinewidth\":0,\"ticks\":\"\"}}],\"histogram2d\":[{\"type\":\"histogram2d\",\"colorbar\":{\"outlinewidth\":0,\"ticks\":\"\"},\"colorscale\":[[0.0,\"#0d0887\"],[0.1111111111111111,\"#46039f\"],[0.2222222222222222,\"#7201a8\"],[0.3333333333333333,\"#9c179e\"],[0.4444444444444444,\"#bd3786\"],[0.5555555555555556,\"#d8576b\"],[0.6666666666666666,\"#ed7953\"],[0.7777777777777778,\"#fb9f3a\"],[0.8888888888888888,\"#fdca26\"],[1.0,\"#f0f921\"]]}],\"heatmap\":[{\"type\":\"heatmap\",\"colorbar\":{\"outlinewidth\":0,\"ticks\":\"\"},\"colorscale\":[[0.0,\"#0d0887\"],[0.1111111111111111,\"#46039f\"],[0.2222222222222222,\"#7201a8\"],[0.3333333333333333,\"#9c179e\"],[0.4444444444444444,\"#bd3786\"],[0.5555555555555556,\"#d8576b\"],[0.6666666666666666,\"#ed7953\"],[0.7777777777777778,\"#fb9f3a\"],[0.8888888888888888,\"#fdca26\"],[1.0,\"#f0f921\"]]}],\"heatmapgl\":[{\"type\":\"heatmapgl\",\"colorbar\":{\"outlinewidth\":0,\"ticks\":\"\"},\"colorscale\":[[0.0,\"#0d0887\"],[0.1111111111111111,\"#46039f\"],[0.2222222222222222,\"#7201a8\"],[0.3333333333333333,\"#9c179e\"],[0.4444444444444444,\"#bd3786\"],[0.5555555555555556,\"#d8576b\"],[0.6666666666666666,\"#ed7953\"],[0.7777777777777778,\"#fb9f3a\"],[0.8888888888888888,\"#fdca26\"],[1.0,\"#f0f921\"]]}],\"contourcarpet\":[{\"type\":\"contourcarpet\",\"colorbar\":{\"outlinewidth\":0,\"ticks\":\"\"}}],\"contour\":[{\"type\":\"contour\",\"colorbar\":{\"outlinewidth\":0,\"ticks\":\"\"},\"colorscale\":[[0.0,\"#0d0887\"],[0.1111111111111111,\"#46039f\"],[0.2222222222222222,\"#7201a8\"],[0.3333333333333333,\"#9c179e\"],[0.4444444444444444,\"#bd3786\"],[0.5555555555555556,\"#d8576b\"],[0.6666666666666666,\"#ed7953\"],[0.7777777777777778,\"#fb9f3a\"],[0.8888888888888888,\"#fdca26\"],[1.0,\"#f0f921\"]]}],\"surface\":[{\"type\":\"surface\",\"colorbar\":{\"outlinewidth\":0,\"ticks\":\"\"},\"colorscale\":[[0.0,\"#0d0887\"],[0.1111111111111111,\"#46039f\"],[0.2222222222222222,\"#7201a8\"],[0.3333333333333333,\"#9c179e\"],[0.4444444444444444,\"#bd3786\"],[0.5555555555555556,\"#d8576b\"],[0.6666666666666666,\"#ed7953\"],[0.7777777777777778,\"#fb9f3a\"],[0.8888888888888888,\"#fdca26\"],[1.0,\"#f0f921\"]]}],\"mesh3d\":[{\"type\":\"mesh3d\",\"colorbar\":{\"outlinewidth\":0,\"ticks\":\"\"}}],\"scatter\":[{\"marker\":{\"line\":{\"color\":\"#283442\"}},\"type\":\"scatter\"}],\"parcoords\":[{\"type\":\"parcoords\",\"line\":{\"colorbar\":{\"outlinewidth\":0,\"ticks\":\"\"}}}],\"scatterpolargl\":[{\"type\":\"scatterpolargl\",\"marker\":{\"colorbar\":{\"outlinewidth\":0,\"ticks\":\"\"}}}],\"bar\":[{\"error_x\":{\"color\":\"#f2f5fa\"},\"error_y\":{\"color\":\"#f2f5fa\"},\"marker\":{\"line\":{\"color\":\"rgb(17,17,17)\",\"width\":0.5},\"pattern\":{\"fillmode\":\"overlay\",\"size\":10,\"solidity\":0.2}},\"type\":\"bar\"}],\"scattergeo\":[{\"type\":\"scattergeo\",\"marker\":{\"colorbar\":{\"outlinewidth\":0,\"ticks\":\"\"}}}],\"scatterpolar\":[{\"type\":\"scatterpolar\",\"marker\":{\"colorbar\":{\"outlinewidth\":0,\"ticks\":\"\"}}}],\"histogram\":[{\"marker\":{\"pattern\":{\"fillmode\":\"overlay\",\"size\":10,\"solidity\":0.2}},\"type\":\"histogram\"}],\"scattergl\":[{\"marker\":{\"line\":{\"color\":\"#283442\"}},\"type\":\"scattergl\"}],\"scatter3d\":[{\"type\":\"scatter3d\",\"line\":{\"colorbar\":{\"outlinewidth\":0,\"ticks\":\"\"}},\"marker\":{\"colorbar\":{\"outlinewidth\":0,\"ticks\":\"\"}}}],\"scattermapbox\":[{\"type\":\"scattermapbox\",\"marker\":{\"colorbar\":{\"outlinewidth\":0,\"ticks\":\"\"}}}],\"scatterternary\":[{\"type\":\"scatterternary\",\"marker\":{\"colorbar\":{\"outlinewidth\":0,\"ticks\":\"\"}}}],\"scattercarpet\":[{\"type\":\"scattercarpet\",\"marker\":{\"colorbar\":{\"outlinewidth\":0,\"ticks\":\"\"}}}],\"carpet\":[{\"aaxis\":{\"endlinecolor\":\"#A2B1C6\",\"gridcolor\":\"#506784\",\"linecolor\":\"#506784\",\"minorgridcolor\":\"#506784\",\"startlinecolor\":\"#A2B1C6\"},\"baxis\":{\"endlinecolor\":\"#A2B1C6\",\"gridcolor\":\"#506784\",\"linecolor\":\"#506784\",\"minorgridcolor\":\"#506784\",\"startlinecolor\":\"#A2B1C6\"},\"type\":\"carpet\"}],\"table\":[{\"cells\":{\"fill\":{\"color\":\"#506784\"},\"line\":{\"color\":\"rgb(17,17,17)\"}},\"header\":{\"fill\":{\"color\":\"#2a3f5f\"},\"line\":{\"color\":\"rgb(17,17,17)\"}},\"type\":\"table\"}],\"barpolar\":[{\"marker\":{\"line\":{\"color\":\"rgb(17,17,17)\",\"width\":0.5},\"pattern\":{\"fillmode\":\"overlay\",\"size\":10,\"solidity\":0.2}},\"type\":\"barpolar\"}],\"pie\":[{\"automargin\":true,\"type\":\"pie\"}]},\"layout\":{\"autotypenumbers\":\"strict\",\"colorway\":[\"#636efa\",\"#EF553B\",\"#00cc96\",\"#ab63fa\",\"#FFA15A\",\"#19d3f3\",\"#FF6692\",\"#B6E880\",\"#FF97FF\",\"#FECB52\"],\"font\":{\"color\":\"#f2f5fa\"},\"hovermode\":\"closest\",\"hoverlabel\":{\"align\":\"left\"},\"paper_bgcolor\":\"rgb(17,17,17)\",\"plot_bgcolor\":\"rgb(17,17,17)\",\"polar\":{\"bgcolor\":\"rgb(17,17,17)\",\"angularaxis\":{\"gridcolor\":\"#506784\",\"linecolor\":\"#506784\",\"ticks\":\"\"},\"radialaxis\":{\"gridcolor\":\"#506784\",\"linecolor\":\"#506784\",\"ticks\":\"\"}},\"ternary\":{\"bgcolor\":\"rgb(17,17,17)\",\"aaxis\":{\"gridcolor\":\"#506784\",\"linecolor\":\"#506784\",\"ticks\":\"\"},\"baxis\":{\"gridcolor\":\"#506784\",\"linecolor\":\"#506784\",\"ticks\":\"\"},\"caxis\":{\"gridcolor\":\"#506784\",\"linecolor\":\"#506784\",\"ticks\":\"\"}},\"coloraxis\":{\"colorbar\":{\"outlinewidth\":0,\"ticks\":\"\"}},\"colorscale\":{\"sequential\":[[0.0,\"#0d0887\"],[0.1111111111111111,\"#46039f\"],[0.2222222222222222,\"#7201a8\"],[0.3333333333333333,\"#9c179e\"],[0.4444444444444444,\"#bd3786\"],[0.5555555555555556,\"#d8576b\"],[0.6666666666666666,\"#ed7953\"],[0.7777777777777778,\"#fb9f3a\"],[0.8888888888888888,\"#fdca26\"],[1.0,\"#f0f921\"]],\"sequentialminus\":[[0.0,\"#0d0887\"],[0.1111111111111111,\"#46039f\"],[0.2222222222222222,\"#7201a8\"],[0.3333333333333333,\"#9c179e\"],[0.4444444444444444,\"#bd3786\"],[0.5555555555555556,\"#d8576b\"],[0.6666666666666666,\"#ed7953\"],[0.7777777777777778,\"#fb9f3a\"],[0.8888888888888888,\"#fdca26\"],[1.0,\"#f0f921\"]],\"diverging\":[[0,\"#8e0152\"],[0.1,\"#c51b7d\"],[0.2,\"#de77ae\"],[0.3,\"#f1b6da\"],[0.4,\"#fde0ef\"],[0.5,\"#f7f7f7\"],[0.6,\"#e6f5d0\"],[0.7,\"#b8e186\"],[0.8,\"#7fbc41\"],[0.9,\"#4d9221\"],[1,\"#276419\"]]},\"xaxis\":{\"gridcolor\":\"#283442\",\"linecolor\":\"#506784\",\"ticks\":\"\",\"title\":{\"standoff\":15},\"zerolinecolor\":\"#283442\",\"automargin\":true,\"zerolinewidth\":2},\"yaxis\":{\"gridcolor\":\"#283442\",\"linecolor\":\"#506784\",\"ticks\":\"\",\"title\":{\"standoff\":15},\"zerolinecolor\":\"#283442\",\"automargin\":true,\"zerolinewidth\":2},\"scene\":{\"xaxis\":{\"backgroundcolor\":\"rgb(17,17,17)\",\"gridcolor\":\"#506784\",\"linecolor\":\"#506784\",\"showbackground\":true,\"ticks\":\"\",\"zerolinecolor\":\"#C8D4E3\",\"gridwidth\":2},\"yaxis\":{\"backgroundcolor\":\"rgb(17,17,17)\",\"gridcolor\":\"#506784\",\"linecolor\":\"#506784\",\"showbackground\":true,\"ticks\":\"\",\"zerolinecolor\":\"#C8D4E3\",\"gridwidth\":2},\"zaxis\":{\"backgroundcolor\":\"rgb(17,17,17)\",\"gridcolor\":\"#506784\",\"linecolor\":\"#506784\",\"showbackground\":true,\"ticks\":\"\",\"zerolinecolor\":\"#C8D4E3\",\"gridwidth\":2}},\"shapedefaults\":{\"line\":{\"color\":\"#f2f5fa\"}},\"annotationdefaults\":{\"arrowcolor\":\"#f2f5fa\",\"arrowhead\":0,\"arrowwidth\":1},\"geo\":{\"bgcolor\":\"rgb(17,17,17)\",\"landcolor\":\"rgb(17,17,17)\",\"subunitcolor\":\"#506784\",\"showland\":true,\"showlakes\":true,\"lakecolor\":\"rgb(17,17,17)\"},\"title\":{\"x\":0.05},\"updatemenudefaults\":{\"bgcolor\":\"#506784\",\"borderwidth\":0},\"sliderdefaults\":{\"bgcolor\":\"#C8D4E3\",\"borderwidth\":1,\"bordercolor\":\"rgb(17,17,17)\",\"tickwidth\":0},\"mapbox\":{\"style\":\"dark\"}}},\"xaxis\":{\"anchor\":\"y\",\"domain\":[0.0,1.0],\"title\":{\"text\":\"country\"},\"categoryorder\":\"array\",\"categoryarray\":[\"World\",\"High income\",\"Europe\",\"Asia\",\"European Union\",\"Upper middle income\",\"North America\",\"Lower middle income\",\"South America\",\"Africa\",\"Oceania\",\"Low income\",\"Kosovo\",\"International\"]},\"yaxis\":{\"anchor\":\"x\",\"domain\":[0.0,1.0],\"title\":{\"text\":\"confirmed\"}},\"legend\":{\"title\":{\"text\":\"country\"},\"tracegroupgap\":0,\"itemsizing\":\"constant\"},\"title\":{\"text\":\"Confirmed cases by owid filter\"}},                        {\"responsive\": true}                    ).then(function(){\n                            \nvar gd = document.getElementById('764a772c-49b5-4fd9-8fea-3abcabfd6d51');\nvar x = new MutationObserver(function (mutations, observer) {{\n        var display = window.getComputedStyle(gd).display;\n        if (!display || display === 'none') {{\n            console.log([gd, 'removed!']);\n            Plotly.purge(gd);\n            observer.disconnect();\n        }}\n}});\n\n// Listen for the removal of the full notebook cells\nvar notebookContainer = gd.closest('#notebook-container');\nif (notebookContainer) {{\n    x.observe(notebookContainer, {childList: true});\n}}\n\n// Listen for the clearing of the current output cell\nvar outputEl = gd.closest('.output');\nif (outputEl) {{\n    x.observe(outputEl, {childList: true});\n}}\n\n                        })                };                });            </script>        </div>"
     },
     "metadata": {},
     "output_type": "display_data"
    }
   ],
   "source": [
    "fig = px.scatter(sorted_owid_df, x='country', y='confirmed', size='confirmed', color='country', hover_name='country',\n",
    "                 size_max=100, title=\"Confirmed cases by owid filter\")\n",
    "\n",
    "fig.show()"
   ]
  },
  {
   "cell_type": "code",
   "execution_count": 62,
   "metadata": {
    "pycharm": {
     "name": "#%%\n"
    }
   },
   "outputs": [
    {
     "data": {
      "text/plain": "                    country  confirmed    deaths  vaccinated       date\n53457        European Union  29.351752  0.236764   73.163871 2022-04-11\n52647                Europe  24.827157  0.239210   65.353139 2022-04-11\n70850           High income  23.207220  0.192351   74.171859 2022-04-11\n118919        North America  15.942743  0.238123   62.740090 2022-04-11\n122207              Oceania  14.397199  0.022471   63.112242 2022-04-11\n149131        South America  12.975191  0.297216   73.384189 2022-04-11\n86350                Kosovo  12.780152  0.176083   46.076544 2022-04-11\n175861                World   6.347229  0.078499   58.379179 2022-04-11\n170138  Upper middle income   5.012163  0.099374   76.725310 2022-04-11\n9351                   Asia   3.091280  0.030284   67.895903 2022-04-11\n95545   Lower middle income   2.704135  0.039145   50.770800 2022-04-11\n1566                 Africa   0.843938  0.018371   15.372998 2022-04-11\n94734            Low income   0.273119  0.006471         NaN 2022-04-11\n76335         International        NaN       NaN         NaN 2022-04-11",
      "text/html": "<div>\n<style scoped>\n    .dataframe tbody tr th:only-of-type {\n        vertical-align: middle;\n    }\n\n    .dataframe tbody tr th {\n        vertical-align: top;\n    }\n\n    .dataframe thead th {\n        text-align: right;\n    }\n</style>\n<table border=\"1\" class=\"dataframe\">\n  <thead>\n    <tr style=\"text-align: right;\">\n      <th></th>\n      <th>country</th>\n      <th>confirmed</th>\n      <th>deaths</th>\n      <th>vaccinated</th>\n      <th>date</th>\n    </tr>\n  </thead>\n  <tbody>\n    <tr>\n      <th>53457</th>\n      <td>European Union</td>\n      <td>29.351752</td>\n      <td>0.236764</td>\n      <td>73.163871</td>\n      <td>2022-04-11</td>\n    </tr>\n    <tr>\n      <th>52647</th>\n      <td>Europe</td>\n      <td>24.827157</td>\n      <td>0.239210</td>\n      <td>65.353139</td>\n      <td>2022-04-11</td>\n    </tr>\n    <tr>\n      <th>70850</th>\n      <td>High income</td>\n      <td>23.207220</td>\n      <td>0.192351</td>\n      <td>74.171859</td>\n      <td>2022-04-11</td>\n    </tr>\n    <tr>\n      <th>118919</th>\n      <td>North America</td>\n      <td>15.942743</td>\n      <td>0.238123</td>\n      <td>62.740090</td>\n      <td>2022-04-11</td>\n    </tr>\n    <tr>\n      <th>122207</th>\n      <td>Oceania</td>\n      <td>14.397199</td>\n      <td>0.022471</td>\n      <td>63.112242</td>\n      <td>2022-04-11</td>\n    </tr>\n    <tr>\n      <th>149131</th>\n      <td>South America</td>\n      <td>12.975191</td>\n      <td>0.297216</td>\n      <td>73.384189</td>\n      <td>2022-04-11</td>\n    </tr>\n    <tr>\n      <th>86350</th>\n      <td>Kosovo</td>\n      <td>12.780152</td>\n      <td>0.176083</td>\n      <td>46.076544</td>\n      <td>2022-04-11</td>\n    </tr>\n    <tr>\n      <th>175861</th>\n      <td>World</td>\n      <td>6.347229</td>\n      <td>0.078499</td>\n      <td>58.379179</td>\n      <td>2022-04-11</td>\n    </tr>\n    <tr>\n      <th>170138</th>\n      <td>Upper middle income</td>\n      <td>5.012163</td>\n      <td>0.099374</td>\n      <td>76.725310</td>\n      <td>2022-04-11</td>\n    </tr>\n    <tr>\n      <th>9351</th>\n      <td>Asia</td>\n      <td>3.091280</td>\n      <td>0.030284</td>\n      <td>67.895903</td>\n      <td>2022-04-11</td>\n    </tr>\n    <tr>\n      <th>95545</th>\n      <td>Lower middle income</td>\n      <td>2.704135</td>\n      <td>0.039145</td>\n      <td>50.770800</td>\n      <td>2022-04-11</td>\n    </tr>\n    <tr>\n      <th>1566</th>\n      <td>Africa</td>\n      <td>0.843938</td>\n      <td>0.018371</td>\n      <td>15.372998</td>\n      <td>2022-04-11</td>\n    </tr>\n    <tr>\n      <th>94734</th>\n      <td>Low income</td>\n      <td>0.273119</td>\n      <td>0.006471</td>\n      <td>NaN</td>\n      <td>2022-04-11</td>\n    </tr>\n    <tr>\n      <th>76335</th>\n      <td>International</td>\n      <td>NaN</td>\n      <td>NaN</td>\n      <td>NaN</td>\n      <td>2022-04-11</td>\n    </tr>\n  </tbody>\n</table>\n</div>"
     },
     "execution_count": 62,
     "metadata": {},
     "output_type": "execute_result"
    }
   ],
   "source": [
    "owid_df = pd.DataFrame(df.location)\n",
    "owid_df = owid_df.rename(columns={'location': 'country'})\n",
    "owid_df['confirmed'] = (df.total_cases / df.population) * 100\n",
    "owid_df['deaths'] = (df.total_deaths / df.population) * 100\n",
    "owid_df['vaccinated'] = (df.people_fully_vaccinated / df.population) * 100\n",
    "owid_df['date'] = pd.to_datetime(df.date)\n",
    "owid_df.head()\n",
    "\n",
    "owid_df = owid_df.drop(index_owid.index)\n",
    "\n",
    "sorted_owid_df = owid_df.sort_values('confirmed', ascending=False).query(\"date == '2022-04-11'\")\n",
    "sorted_owid_df"
   ]
  },
  {
   "cell_type": "code",
   "execution_count": 63,
   "metadata": {
    "pycharm": {
     "name": "#%%\n"
    }
   },
   "outputs": [
    {
     "data": {
      "application/vnd.plotly.v1+json": {
       "data": [
        {
         "domain": {
          "x": [
           0,
           0.1
          ],
          "y": [
           0.5,
           1
          ]
         },
         "labels": [
          "Deaths",
          "Confirmed",
          "vaccinated"
         ],
         "name": "European Union",
         "title": {
          "text": "European Union"
         },
         "values": [
          0.23676428391727036,
          29.351751593056385,
          73.16387110384633
         ],
         "type": "pie"
        },
        {
         "domain": {
          "x": [
           0.2,
           0.3
          ],
          "y": [
           0.5,
           1
          ]
         },
         "labels": [
          "Deaths",
          "Confirmed",
          "vaccinated"
         ],
         "name": "Europe",
         "title": {
          "text": "Europe"
         },
         "values": [
          0.2392095524966686,
          24.82715677818753,
          65.35313868776342
         ],
         "type": "pie"
        },
        {
         "domain": {
          "x": [
           0.4,
           0.5
          ],
          "y": [
           0.5,
           1
          ]
         },
         "labels": [
          "Deaths",
          "Confirmed",
          "vaccinated"
         ],
         "name": "High income",
         "title": {
          "text": "High income"
         },
         "values": [
          0.1923505516855894,
          23.207219644209527,
          74.17185915276796
         ],
         "type": "pie"
        },
        {
         "domain": {
          "x": [
           0.6,
           0.7
          ],
          "y": [
           0.5,
           1
          ]
         },
         "labels": [
          "Deaths",
          "Confirmed",
          "vaccinated"
         ],
         "name": "North America",
         "title": {
          "text": "North America"
         },
         "values": [
          0.23812262309945786,
          15.942742541589258,
          62.74009018817978
         ],
         "type": "pie"
        },
        {
         "domain": {
          "x": [
           0.8,
           0.9
          ],
          "y": [
           0.5,
           1
          ]
         },
         "labels": [
          "Deaths",
          "Confirmed",
          "vaccinated"
         ],
         "name": "Oceania",
         "title": {
          "text": "Oceania"
         },
         "values": [
          0.022471102121024933,
          14.397199497250737,
          63.11224209077131
         ],
         "type": "pie"
        },
        {
         "domain": {
          "x": [
           0,
           0.1
          ],
          "y": [
           0,
           0.5
          ]
         },
         "labels": [
          "Deaths",
          "Confirmed",
          "vaccinated"
         ],
         "name": "South America",
         "title": {
          "text": "South America"
         },
         "values": [
          0.29721632036421525,
          12.975190720763763,
          73.38418907190646
         ],
         "type": "pie"
        },
        {
         "domain": {
          "x": [
           0.2,
           0.3
          ],
          "y": [
           0,
           0.5
          ]
         },
         "labels": [
          "Deaths",
          "Confirmed",
          "vaccinated"
         ],
         "name": "Kosovo",
         "title": {
          "text": "Kosovo"
         },
         "values": [
          0.17608291271887616,
          12.780151673713537,
          46.07654388184825
         ],
         "type": "pie"
        },
        {
         "domain": {
          "x": [
           0.4,
           0.5
          ],
          "y": [
           0,
           0.5
          ]
         },
         "labels": [
          "Deaths",
          "Confirmed",
          "vaccinated"
         ],
         "name": "World",
         "title": {
          "text": "World"
         },
         "values": [
          0.07849858922497177,
          6.347228777083198,
          58.37917888945531
         ],
         "type": "pie"
        },
        {
         "domain": {
          "x": [
           0.6,
           0.7
          ],
          "y": [
           0,
           0.5
          ]
         },
         "labels": [
          "Deaths",
          "Confirmed",
          "vaccinated"
         ],
         "name": "Upper middle income",
         "title": {
          "text": "Upper middle income"
         },
         "values": [
          0.0993738727624927,
          5.012162780343419,
          76.72530974089113
         ],
         "type": "pie"
        },
        {
         "domain": {
          "x": [
           0.8,
           0.9
          ],
          "y": [
           0,
           0.5
          ]
         },
         "labels": [
          "Deaths",
          "Confirmed",
          "vaccinated"
         ],
         "name": "Asia",
         "title": {
          "text": "Asia"
         },
         "values": [
          0.030283780239432168,
          3.091279586428875,
          67.89590290003777
         ],
         "type": "pie"
        }
       ],
       "layout": {
        "template": {
         "data": {
          "histogram2dcontour": [
           {
            "type": "histogram2dcontour",
            "colorbar": {
             "outlinewidth": 0,
             "ticks": ""
            },
            "colorscale": [
             [
              0.0,
              "#0d0887"
             ],
             [
              0.1111111111111111,
              "#46039f"
             ],
             [
              0.2222222222222222,
              "#7201a8"
             ],
             [
              0.3333333333333333,
              "#9c179e"
             ],
             [
              0.4444444444444444,
              "#bd3786"
             ],
             [
              0.5555555555555556,
              "#d8576b"
             ],
             [
              0.6666666666666666,
              "#ed7953"
             ],
             [
              0.7777777777777778,
              "#fb9f3a"
             ],
             [
              0.8888888888888888,
              "#fdca26"
             ],
             [
              1.0,
              "#f0f921"
             ]
            ]
           }
          ],
          "choropleth": [
           {
            "type": "choropleth",
            "colorbar": {
             "outlinewidth": 0,
             "ticks": ""
            }
           }
          ],
          "histogram2d": [
           {
            "type": "histogram2d",
            "colorbar": {
             "outlinewidth": 0,
             "ticks": ""
            },
            "colorscale": [
             [
              0.0,
              "#0d0887"
             ],
             [
              0.1111111111111111,
              "#46039f"
             ],
             [
              0.2222222222222222,
              "#7201a8"
             ],
             [
              0.3333333333333333,
              "#9c179e"
             ],
             [
              0.4444444444444444,
              "#bd3786"
             ],
             [
              0.5555555555555556,
              "#d8576b"
             ],
             [
              0.6666666666666666,
              "#ed7953"
             ],
             [
              0.7777777777777778,
              "#fb9f3a"
             ],
             [
              0.8888888888888888,
              "#fdca26"
             ],
             [
              1.0,
              "#f0f921"
             ]
            ]
           }
          ],
          "heatmap": [
           {
            "type": "heatmap",
            "colorbar": {
             "outlinewidth": 0,
             "ticks": ""
            },
            "colorscale": [
             [
              0.0,
              "#0d0887"
             ],
             [
              0.1111111111111111,
              "#46039f"
             ],
             [
              0.2222222222222222,
              "#7201a8"
             ],
             [
              0.3333333333333333,
              "#9c179e"
             ],
             [
              0.4444444444444444,
              "#bd3786"
             ],
             [
              0.5555555555555556,
              "#d8576b"
             ],
             [
              0.6666666666666666,
              "#ed7953"
             ],
             [
              0.7777777777777778,
              "#fb9f3a"
             ],
             [
              0.8888888888888888,
              "#fdca26"
             ],
             [
              1.0,
              "#f0f921"
             ]
            ]
           }
          ],
          "heatmapgl": [
           {
            "type": "heatmapgl",
            "colorbar": {
             "outlinewidth": 0,
             "ticks": ""
            },
            "colorscale": [
             [
              0.0,
              "#0d0887"
             ],
             [
              0.1111111111111111,
              "#46039f"
             ],
             [
              0.2222222222222222,
              "#7201a8"
             ],
             [
              0.3333333333333333,
              "#9c179e"
             ],
             [
              0.4444444444444444,
              "#bd3786"
             ],
             [
              0.5555555555555556,
              "#d8576b"
             ],
             [
              0.6666666666666666,
              "#ed7953"
             ],
             [
              0.7777777777777778,
              "#fb9f3a"
             ],
             [
              0.8888888888888888,
              "#fdca26"
             ],
             [
              1.0,
              "#f0f921"
             ]
            ]
           }
          ],
          "contourcarpet": [
           {
            "type": "contourcarpet",
            "colorbar": {
             "outlinewidth": 0,
             "ticks": ""
            }
           }
          ],
          "contour": [
           {
            "type": "contour",
            "colorbar": {
             "outlinewidth": 0,
             "ticks": ""
            },
            "colorscale": [
             [
              0.0,
              "#0d0887"
             ],
             [
              0.1111111111111111,
              "#46039f"
             ],
             [
              0.2222222222222222,
              "#7201a8"
             ],
             [
              0.3333333333333333,
              "#9c179e"
             ],
             [
              0.4444444444444444,
              "#bd3786"
             ],
             [
              0.5555555555555556,
              "#d8576b"
             ],
             [
              0.6666666666666666,
              "#ed7953"
             ],
             [
              0.7777777777777778,
              "#fb9f3a"
             ],
             [
              0.8888888888888888,
              "#fdca26"
             ],
             [
              1.0,
              "#f0f921"
             ]
            ]
           }
          ],
          "surface": [
           {
            "type": "surface",
            "colorbar": {
             "outlinewidth": 0,
             "ticks": ""
            },
            "colorscale": [
             [
              0.0,
              "#0d0887"
             ],
             [
              0.1111111111111111,
              "#46039f"
             ],
             [
              0.2222222222222222,
              "#7201a8"
             ],
             [
              0.3333333333333333,
              "#9c179e"
             ],
             [
              0.4444444444444444,
              "#bd3786"
             ],
             [
              0.5555555555555556,
              "#d8576b"
             ],
             [
              0.6666666666666666,
              "#ed7953"
             ],
             [
              0.7777777777777778,
              "#fb9f3a"
             ],
             [
              0.8888888888888888,
              "#fdca26"
             ],
             [
              1.0,
              "#f0f921"
             ]
            ]
           }
          ],
          "mesh3d": [
           {
            "type": "mesh3d",
            "colorbar": {
             "outlinewidth": 0,
             "ticks": ""
            }
           }
          ],
          "scatter": [
           {
            "marker": {
             "line": {
              "color": "#283442"
             }
            },
            "type": "scatter"
           }
          ],
          "parcoords": [
           {
            "type": "parcoords",
            "line": {
             "colorbar": {
              "outlinewidth": 0,
              "ticks": ""
             }
            }
           }
          ],
          "scatterpolargl": [
           {
            "type": "scatterpolargl",
            "marker": {
             "colorbar": {
              "outlinewidth": 0,
              "ticks": ""
             }
            }
           }
          ],
          "bar": [
           {
            "error_x": {
             "color": "#f2f5fa"
            },
            "error_y": {
             "color": "#f2f5fa"
            },
            "marker": {
             "line": {
              "color": "rgb(17,17,17)",
              "width": 0.5
             },
             "pattern": {
              "fillmode": "overlay",
              "size": 10,
              "solidity": 0.2
             }
            },
            "type": "bar"
           }
          ],
          "scattergeo": [
           {
            "type": "scattergeo",
            "marker": {
             "colorbar": {
              "outlinewidth": 0,
              "ticks": ""
             }
            }
           }
          ],
          "scatterpolar": [
           {
            "type": "scatterpolar",
            "marker": {
             "colorbar": {
              "outlinewidth": 0,
              "ticks": ""
             }
            }
           }
          ],
          "histogram": [
           {
            "marker": {
             "pattern": {
              "fillmode": "overlay",
              "size": 10,
              "solidity": 0.2
             }
            },
            "type": "histogram"
           }
          ],
          "scattergl": [
           {
            "marker": {
             "line": {
              "color": "#283442"
             }
            },
            "type": "scattergl"
           }
          ],
          "scatter3d": [
           {
            "type": "scatter3d",
            "line": {
             "colorbar": {
              "outlinewidth": 0,
              "ticks": ""
             }
            },
            "marker": {
             "colorbar": {
              "outlinewidth": 0,
              "ticks": ""
             }
            }
           }
          ],
          "scattermapbox": [
           {
            "type": "scattermapbox",
            "marker": {
             "colorbar": {
              "outlinewidth": 0,
              "ticks": ""
             }
            }
           }
          ],
          "scatterternary": [
           {
            "type": "scatterternary",
            "marker": {
             "colorbar": {
              "outlinewidth": 0,
              "ticks": ""
             }
            }
           }
          ],
          "scattercarpet": [
           {
            "type": "scattercarpet",
            "marker": {
             "colorbar": {
              "outlinewidth": 0,
              "ticks": ""
             }
            }
           }
          ],
          "carpet": [
           {
            "aaxis": {
             "endlinecolor": "#A2B1C6",
             "gridcolor": "#506784",
             "linecolor": "#506784",
             "minorgridcolor": "#506784",
             "startlinecolor": "#A2B1C6"
            },
            "baxis": {
             "endlinecolor": "#A2B1C6",
             "gridcolor": "#506784",
             "linecolor": "#506784",
             "minorgridcolor": "#506784",
             "startlinecolor": "#A2B1C6"
            },
            "type": "carpet"
           }
          ],
          "table": [
           {
            "cells": {
             "fill": {
              "color": "#506784"
             },
             "line": {
              "color": "rgb(17,17,17)"
             }
            },
            "header": {
             "fill": {
              "color": "#2a3f5f"
             },
             "line": {
              "color": "rgb(17,17,17)"
             }
            },
            "type": "table"
           }
          ],
          "barpolar": [
           {
            "marker": {
             "line": {
              "color": "rgb(17,17,17)",
              "width": 0.5
             },
             "pattern": {
              "fillmode": "overlay",
              "size": 10,
              "solidity": 0.2
             }
            },
            "type": "barpolar"
           }
          ],
          "pie": [
           {
            "automargin": true,
            "type": "pie"
           }
          ]
         },
         "layout": {
          "autotypenumbers": "strict",
          "colorway": [
           "#636efa",
           "#EF553B",
           "#00cc96",
           "#ab63fa",
           "#FFA15A",
           "#19d3f3",
           "#FF6692",
           "#B6E880",
           "#FF97FF",
           "#FECB52"
          ],
          "font": {
           "color": "#f2f5fa"
          },
          "hovermode": "closest",
          "hoverlabel": {
           "align": "left"
          },
          "paper_bgcolor": "rgb(17,17,17)",
          "plot_bgcolor": "rgb(17,17,17)",
          "polar": {
           "bgcolor": "rgb(17,17,17)",
           "angularaxis": {
            "gridcolor": "#506784",
            "linecolor": "#506784",
            "ticks": ""
           },
           "radialaxis": {
            "gridcolor": "#506784",
            "linecolor": "#506784",
            "ticks": ""
           }
          },
          "ternary": {
           "bgcolor": "rgb(17,17,17)",
           "aaxis": {
            "gridcolor": "#506784",
            "linecolor": "#506784",
            "ticks": ""
           },
           "baxis": {
            "gridcolor": "#506784",
            "linecolor": "#506784",
            "ticks": ""
           },
           "caxis": {
            "gridcolor": "#506784",
            "linecolor": "#506784",
            "ticks": ""
           }
          },
          "coloraxis": {
           "colorbar": {
            "outlinewidth": 0,
            "ticks": ""
           }
          },
          "colorscale": {
           "sequential": [
            [
             0.0,
             "#0d0887"
            ],
            [
             0.1111111111111111,
             "#46039f"
            ],
            [
             0.2222222222222222,
             "#7201a8"
            ],
            [
             0.3333333333333333,
             "#9c179e"
            ],
            [
             0.4444444444444444,
             "#bd3786"
            ],
            [
             0.5555555555555556,
             "#d8576b"
            ],
            [
             0.6666666666666666,
             "#ed7953"
            ],
            [
             0.7777777777777778,
             "#fb9f3a"
            ],
            [
             0.8888888888888888,
             "#fdca26"
            ],
            [
             1.0,
             "#f0f921"
            ]
           ],
           "sequentialminus": [
            [
             0.0,
             "#0d0887"
            ],
            [
             0.1111111111111111,
             "#46039f"
            ],
            [
             0.2222222222222222,
             "#7201a8"
            ],
            [
             0.3333333333333333,
             "#9c179e"
            ],
            [
             0.4444444444444444,
             "#bd3786"
            ],
            [
             0.5555555555555556,
             "#d8576b"
            ],
            [
             0.6666666666666666,
             "#ed7953"
            ],
            [
             0.7777777777777778,
             "#fb9f3a"
            ],
            [
             0.8888888888888888,
             "#fdca26"
            ],
            [
             1.0,
             "#f0f921"
            ]
           ],
           "diverging": [
            [
             0,
             "#8e0152"
            ],
            [
             0.1,
             "#c51b7d"
            ],
            [
             0.2,
             "#de77ae"
            ],
            [
             0.3,
             "#f1b6da"
            ],
            [
             0.4,
             "#fde0ef"
            ],
            [
             0.5,
             "#f7f7f7"
            ],
            [
             0.6,
             "#e6f5d0"
            ],
            [
             0.7,
             "#b8e186"
            ],
            [
             0.8,
             "#7fbc41"
            ],
            [
             0.9,
             "#4d9221"
            ],
            [
             1,
             "#276419"
            ]
           ]
          },
          "xaxis": {
           "gridcolor": "#283442",
           "linecolor": "#506784",
           "ticks": "",
           "title": {
            "standoff": 15
           },
           "zerolinecolor": "#283442",
           "automargin": true,
           "zerolinewidth": 2
          },
          "yaxis": {
           "gridcolor": "#283442",
           "linecolor": "#506784",
           "ticks": "",
           "title": {
            "standoff": 15
           },
           "zerolinecolor": "#283442",
           "automargin": true,
           "zerolinewidth": 2
          },
          "scene": {
           "xaxis": {
            "backgroundcolor": "rgb(17,17,17)",
            "gridcolor": "#506784",
            "linecolor": "#506784",
            "showbackground": true,
            "ticks": "",
            "zerolinecolor": "#C8D4E3",
            "gridwidth": 2
           },
           "yaxis": {
            "backgroundcolor": "rgb(17,17,17)",
            "gridcolor": "#506784",
            "linecolor": "#506784",
            "showbackground": true,
            "ticks": "",
            "zerolinecolor": "#C8D4E3",
            "gridwidth": 2
           },
           "zaxis": {
            "backgroundcolor": "rgb(17,17,17)",
            "gridcolor": "#506784",
            "linecolor": "#506784",
            "showbackground": true,
            "ticks": "",
            "zerolinecolor": "#C8D4E3",
            "gridwidth": 2
           }
          },
          "shapedefaults": {
           "line": {
            "color": "#f2f5fa"
           }
          },
          "annotationdefaults": {
           "arrowcolor": "#f2f5fa",
           "arrowhead": 0,
           "arrowwidth": 1
          },
          "geo": {
           "bgcolor": "rgb(17,17,17)",
           "landcolor": "rgb(17,17,17)",
           "subunitcolor": "#506784",
           "showland": true,
           "showlakes": true,
           "lakecolor": "rgb(17,17,17)"
          },
          "title": {
           "x": 0.05
          },
          "updatemenudefaults": {
           "bgcolor": "#506784",
           "borderwidth": 0
          },
          "sliderdefaults": {
           "bgcolor": "#C8D4E3",
           "borderwidth": 1,
           "bordercolor": "rgb(17,17,17)",
           "tickwidth": 0
          },
          "mapbox": {
           "style": "dark"
          }
         }
        },
        "xaxis": {
         "anchor": "y",
         "domain": [
          0.0,
          1.0
         ]
        },
        "yaxis": {
         "anchor": "x",
         "domain": [
          0.0,
          1.0
         ]
        },
        "title": {
         "text": "Confirmed cases and deaths"
        }
       },
       "config": {
        "plotlyServerURL": "https://plot.ly"
       }
      },
      "text/html": "<div>                            <div id=\"2178fa49-71b1-4c72-9369-33d22421cd9a\" class=\"plotly-graph-div\" style=\"height:525px; width:100%;\"></div>            <script type=\"text/javascript\">                require([\"plotly\"], function(Plotly) {                    window.PLOTLYENV=window.PLOTLYENV || {};                                    if (document.getElementById(\"2178fa49-71b1-4c72-9369-33d22421cd9a\")) {                    Plotly.newPlot(                        \"2178fa49-71b1-4c72-9369-33d22421cd9a\",                        [{\"domain\":{\"x\":[0,0.1],\"y\":[0.5,1]},\"labels\":[\"Deaths\",\"Confirmed\",\"vaccinated\"],\"name\":\"European Union\",\"title\":{\"text\":\"European Union\"},\"values\":[0.23676428391727036,29.351751593056385,73.16387110384633],\"type\":\"pie\"},{\"domain\":{\"x\":[0.2,0.3],\"y\":[0.5,1]},\"labels\":[\"Deaths\",\"Confirmed\",\"vaccinated\"],\"name\":\"Europe\",\"title\":{\"text\":\"Europe\"},\"values\":[0.2392095524966686,24.82715677818753,65.35313868776342],\"type\":\"pie\"},{\"domain\":{\"x\":[0.4,0.5],\"y\":[0.5,1]},\"labels\":[\"Deaths\",\"Confirmed\",\"vaccinated\"],\"name\":\"High income\",\"title\":{\"text\":\"High income\"},\"values\":[0.1923505516855894,23.207219644209527,74.17185915276796],\"type\":\"pie\"},{\"domain\":{\"x\":[0.6,0.7],\"y\":[0.5,1]},\"labels\":[\"Deaths\",\"Confirmed\",\"vaccinated\"],\"name\":\"North America\",\"title\":{\"text\":\"North America\"},\"values\":[0.23812262309945786,15.942742541589258,62.74009018817978],\"type\":\"pie\"},{\"domain\":{\"x\":[0.8,0.9],\"y\":[0.5,1]},\"labels\":[\"Deaths\",\"Confirmed\",\"vaccinated\"],\"name\":\"Oceania\",\"title\":{\"text\":\"Oceania\"},\"values\":[0.022471102121024933,14.397199497250737,63.11224209077131],\"type\":\"pie\"},{\"domain\":{\"x\":[0,0.1],\"y\":[0,0.5]},\"labels\":[\"Deaths\",\"Confirmed\",\"vaccinated\"],\"name\":\"South America\",\"title\":{\"text\":\"South America\"},\"values\":[0.29721632036421525,12.975190720763763,73.38418907190646],\"type\":\"pie\"},{\"domain\":{\"x\":[0.2,0.3],\"y\":[0,0.5]},\"labels\":[\"Deaths\",\"Confirmed\",\"vaccinated\"],\"name\":\"Kosovo\",\"title\":{\"text\":\"Kosovo\"},\"values\":[0.17608291271887616,12.780151673713537,46.07654388184825],\"type\":\"pie\"},{\"domain\":{\"x\":[0.4,0.5],\"y\":[0,0.5]},\"labels\":[\"Deaths\",\"Confirmed\",\"vaccinated\"],\"name\":\"World\",\"title\":{\"text\":\"World\"},\"values\":[0.07849858922497177,6.347228777083198,58.37917888945531],\"type\":\"pie\"},{\"domain\":{\"x\":[0.6,0.7],\"y\":[0,0.5]},\"labels\":[\"Deaths\",\"Confirmed\",\"vaccinated\"],\"name\":\"Upper middle income\",\"title\":{\"text\":\"Upper middle income\"},\"values\":[0.0993738727624927,5.012162780343419,76.72530974089113],\"type\":\"pie\"},{\"domain\":{\"x\":[0.8,0.9],\"y\":[0,0.5]},\"labels\":[\"Deaths\",\"Confirmed\",\"vaccinated\"],\"name\":\"Asia\",\"title\":{\"text\":\"Asia\"},\"values\":[0.030283780239432168,3.091279586428875,67.89590290003777],\"type\":\"pie\"}],                        {\"template\":{\"data\":{\"histogram2dcontour\":[{\"type\":\"histogram2dcontour\",\"colorbar\":{\"outlinewidth\":0,\"ticks\":\"\"},\"colorscale\":[[0.0,\"#0d0887\"],[0.1111111111111111,\"#46039f\"],[0.2222222222222222,\"#7201a8\"],[0.3333333333333333,\"#9c179e\"],[0.4444444444444444,\"#bd3786\"],[0.5555555555555556,\"#d8576b\"],[0.6666666666666666,\"#ed7953\"],[0.7777777777777778,\"#fb9f3a\"],[0.8888888888888888,\"#fdca26\"],[1.0,\"#f0f921\"]]}],\"choropleth\":[{\"type\":\"choropleth\",\"colorbar\":{\"outlinewidth\":0,\"ticks\":\"\"}}],\"histogram2d\":[{\"type\":\"histogram2d\",\"colorbar\":{\"outlinewidth\":0,\"ticks\":\"\"},\"colorscale\":[[0.0,\"#0d0887\"],[0.1111111111111111,\"#46039f\"],[0.2222222222222222,\"#7201a8\"],[0.3333333333333333,\"#9c179e\"],[0.4444444444444444,\"#bd3786\"],[0.5555555555555556,\"#d8576b\"],[0.6666666666666666,\"#ed7953\"],[0.7777777777777778,\"#fb9f3a\"],[0.8888888888888888,\"#fdca26\"],[1.0,\"#f0f921\"]]}],\"heatmap\":[{\"type\":\"heatmap\",\"colorbar\":{\"outlinewidth\":0,\"ticks\":\"\"},\"colorscale\":[[0.0,\"#0d0887\"],[0.1111111111111111,\"#46039f\"],[0.2222222222222222,\"#7201a8\"],[0.3333333333333333,\"#9c179e\"],[0.4444444444444444,\"#bd3786\"],[0.5555555555555556,\"#d8576b\"],[0.6666666666666666,\"#ed7953\"],[0.7777777777777778,\"#fb9f3a\"],[0.8888888888888888,\"#fdca26\"],[1.0,\"#f0f921\"]]}],\"heatmapgl\":[{\"type\":\"heatmapgl\",\"colorbar\":{\"outlinewidth\":0,\"ticks\":\"\"},\"colorscale\":[[0.0,\"#0d0887\"],[0.1111111111111111,\"#46039f\"],[0.2222222222222222,\"#7201a8\"],[0.3333333333333333,\"#9c179e\"],[0.4444444444444444,\"#bd3786\"],[0.5555555555555556,\"#d8576b\"],[0.6666666666666666,\"#ed7953\"],[0.7777777777777778,\"#fb9f3a\"],[0.8888888888888888,\"#fdca26\"],[1.0,\"#f0f921\"]]}],\"contourcarpet\":[{\"type\":\"contourcarpet\",\"colorbar\":{\"outlinewidth\":0,\"ticks\":\"\"}}],\"contour\":[{\"type\":\"contour\",\"colorbar\":{\"outlinewidth\":0,\"ticks\":\"\"},\"colorscale\":[[0.0,\"#0d0887\"],[0.1111111111111111,\"#46039f\"],[0.2222222222222222,\"#7201a8\"],[0.3333333333333333,\"#9c179e\"],[0.4444444444444444,\"#bd3786\"],[0.5555555555555556,\"#d8576b\"],[0.6666666666666666,\"#ed7953\"],[0.7777777777777778,\"#fb9f3a\"],[0.8888888888888888,\"#fdca26\"],[1.0,\"#f0f921\"]]}],\"surface\":[{\"type\":\"surface\",\"colorbar\":{\"outlinewidth\":0,\"ticks\":\"\"},\"colorscale\":[[0.0,\"#0d0887\"],[0.1111111111111111,\"#46039f\"],[0.2222222222222222,\"#7201a8\"],[0.3333333333333333,\"#9c179e\"],[0.4444444444444444,\"#bd3786\"],[0.5555555555555556,\"#d8576b\"],[0.6666666666666666,\"#ed7953\"],[0.7777777777777778,\"#fb9f3a\"],[0.8888888888888888,\"#fdca26\"],[1.0,\"#f0f921\"]]}],\"mesh3d\":[{\"type\":\"mesh3d\",\"colorbar\":{\"outlinewidth\":0,\"ticks\":\"\"}}],\"scatter\":[{\"marker\":{\"line\":{\"color\":\"#283442\"}},\"type\":\"scatter\"}],\"parcoords\":[{\"type\":\"parcoords\",\"line\":{\"colorbar\":{\"outlinewidth\":0,\"ticks\":\"\"}}}],\"scatterpolargl\":[{\"type\":\"scatterpolargl\",\"marker\":{\"colorbar\":{\"outlinewidth\":0,\"ticks\":\"\"}}}],\"bar\":[{\"error_x\":{\"color\":\"#f2f5fa\"},\"error_y\":{\"color\":\"#f2f5fa\"},\"marker\":{\"line\":{\"color\":\"rgb(17,17,17)\",\"width\":0.5},\"pattern\":{\"fillmode\":\"overlay\",\"size\":10,\"solidity\":0.2}},\"type\":\"bar\"}],\"scattergeo\":[{\"type\":\"scattergeo\",\"marker\":{\"colorbar\":{\"outlinewidth\":0,\"ticks\":\"\"}}}],\"scatterpolar\":[{\"type\":\"scatterpolar\",\"marker\":{\"colorbar\":{\"outlinewidth\":0,\"ticks\":\"\"}}}],\"histogram\":[{\"marker\":{\"pattern\":{\"fillmode\":\"overlay\",\"size\":10,\"solidity\":0.2}},\"type\":\"histogram\"}],\"scattergl\":[{\"marker\":{\"line\":{\"color\":\"#283442\"}},\"type\":\"scattergl\"}],\"scatter3d\":[{\"type\":\"scatter3d\",\"line\":{\"colorbar\":{\"outlinewidth\":0,\"ticks\":\"\"}},\"marker\":{\"colorbar\":{\"outlinewidth\":0,\"ticks\":\"\"}}}],\"scattermapbox\":[{\"type\":\"scattermapbox\",\"marker\":{\"colorbar\":{\"outlinewidth\":0,\"ticks\":\"\"}}}],\"scatterternary\":[{\"type\":\"scatterternary\",\"marker\":{\"colorbar\":{\"outlinewidth\":0,\"ticks\":\"\"}}}],\"scattercarpet\":[{\"type\":\"scattercarpet\",\"marker\":{\"colorbar\":{\"outlinewidth\":0,\"ticks\":\"\"}}}],\"carpet\":[{\"aaxis\":{\"endlinecolor\":\"#A2B1C6\",\"gridcolor\":\"#506784\",\"linecolor\":\"#506784\",\"minorgridcolor\":\"#506784\",\"startlinecolor\":\"#A2B1C6\"},\"baxis\":{\"endlinecolor\":\"#A2B1C6\",\"gridcolor\":\"#506784\",\"linecolor\":\"#506784\",\"minorgridcolor\":\"#506784\",\"startlinecolor\":\"#A2B1C6\"},\"type\":\"carpet\"}],\"table\":[{\"cells\":{\"fill\":{\"color\":\"#506784\"},\"line\":{\"color\":\"rgb(17,17,17)\"}},\"header\":{\"fill\":{\"color\":\"#2a3f5f\"},\"line\":{\"color\":\"rgb(17,17,17)\"}},\"type\":\"table\"}],\"barpolar\":[{\"marker\":{\"line\":{\"color\":\"rgb(17,17,17)\",\"width\":0.5},\"pattern\":{\"fillmode\":\"overlay\",\"size\":10,\"solidity\":0.2}},\"type\":\"barpolar\"}],\"pie\":[{\"automargin\":true,\"type\":\"pie\"}]},\"layout\":{\"autotypenumbers\":\"strict\",\"colorway\":[\"#636efa\",\"#EF553B\",\"#00cc96\",\"#ab63fa\",\"#FFA15A\",\"#19d3f3\",\"#FF6692\",\"#B6E880\",\"#FF97FF\",\"#FECB52\"],\"font\":{\"color\":\"#f2f5fa\"},\"hovermode\":\"closest\",\"hoverlabel\":{\"align\":\"left\"},\"paper_bgcolor\":\"rgb(17,17,17)\",\"plot_bgcolor\":\"rgb(17,17,17)\",\"polar\":{\"bgcolor\":\"rgb(17,17,17)\",\"angularaxis\":{\"gridcolor\":\"#506784\",\"linecolor\":\"#506784\",\"ticks\":\"\"},\"radialaxis\":{\"gridcolor\":\"#506784\",\"linecolor\":\"#506784\",\"ticks\":\"\"}},\"ternary\":{\"bgcolor\":\"rgb(17,17,17)\",\"aaxis\":{\"gridcolor\":\"#506784\",\"linecolor\":\"#506784\",\"ticks\":\"\"},\"baxis\":{\"gridcolor\":\"#506784\",\"linecolor\":\"#506784\",\"ticks\":\"\"},\"caxis\":{\"gridcolor\":\"#506784\",\"linecolor\":\"#506784\",\"ticks\":\"\"}},\"coloraxis\":{\"colorbar\":{\"outlinewidth\":0,\"ticks\":\"\"}},\"colorscale\":{\"sequential\":[[0.0,\"#0d0887\"],[0.1111111111111111,\"#46039f\"],[0.2222222222222222,\"#7201a8\"],[0.3333333333333333,\"#9c179e\"],[0.4444444444444444,\"#bd3786\"],[0.5555555555555556,\"#d8576b\"],[0.6666666666666666,\"#ed7953\"],[0.7777777777777778,\"#fb9f3a\"],[0.8888888888888888,\"#fdca26\"],[1.0,\"#f0f921\"]],\"sequentialminus\":[[0.0,\"#0d0887\"],[0.1111111111111111,\"#46039f\"],[0.2222222222222222,\"#7201a8\"],[0.3333333333333333,\"#9c179e\"],[0.4444444444444444,\"#bd3786\"],[0.5555555555555556,\"#d8576b\"],[0.6666666666666666,\"#ed7953\"],[0.7777777777777778,\"#fb9f3a\"],[0.8888888888888888,\"#fdca26\"],[1.0,\"#f0f921\"]],\"diverging\":[[0,\"#8e0152\"],[0.1,\"#c51b7d\"],[0.2,\"#de77ae\"],[0.3,\"#f1b6da\"],[0.4,\"#fde0ef\"],[0.5,\"#f7f7f7\"],[0.6,\"#e6f5d0\"],[0.7,\"#b8e186\"],[0.8,\"#7fbc41\"],[0.9,\"#4d9221\"],[1,\"#276419\"]]},\"xaxis\":{\"gridcolor\":\"#283442\",\"linecolor\":\"#506784\",\"ticks\":\"\",\"title\":{\"standoff\":15},\"zerolinecolor\":\"#283442\",\"automargin\":true,\"zerolinewidth\":2},\"yaxis\":{\"gridcolor\":\"#283442\",\"linecolor\":\"#506784\",\"ticks\":\"\",\"title\":{\"standoff\":15},\"zerolinecolor\":\"#283442\",\"automargin\":true,\"zerolinewidth\":2},\"scene\":{\"xaxis\":{\"backgroundcolor\":\"rgb(17,17,17)\",\"gridcolor\":\"#506784\",\"linecolor\":\"#506784\",\"showbackground\":true,\"ticks\":\"\",\"zerolinecolor\":\"#C8D4E3\",\"gridwidth\":2},\"yaxis\":{\"backgroundcolor\":\"rgb(17,17,17)\",\"gridcolor\":\"#506784\",\"linecolor\":\"#506784\",\"showbackground\":true,\"ticks\":\"\",\"zerolinecolor\":\"#C8D4E3\",\"gridwidth\":2},\"zaxis\":{\"backgroundcolor\":\"rgb(17,17,17)\",\"gridcolor\":\"#506784\",\"linecolor\":\"#506784\",\"showbackground\":true,\"ticks\":\"\",\"zerolinecolor\":\"#C8D4E3\",\"gridwidth\":2}},\"shapedefaults\":{\"line\":{\"color\":\"#f2f5fa\"}},\"annotationdefaults\":{\"arrowcolor\":\"#f2f5fa\",\"arrowhead\":0,\"arrowwidth\":1},\"geo\":{\"bgcolor\":\"rgb(17,17,17)\",\"landcolor\":\"rgb(17,17,17)\",\"subunitcolor\":\"#506784\",\"showland\":true,\"showlakes\":true,\"lakecolor\":\"rgb(17,17,17)\"},\"title\":{\"x\":0.05},\"updatemenudefaults\":{\"bgcolor\":\"#506784\",\"borderwidth\":0},\"sliderdefaults\":{\"bgcolor\":\"#C8D4E3\",\"borderwidth\":1,\"bordercolor\":\"rgb(17,17,17)\",\"tickwidth\":0},\"mapbox\":{\"style\":\"dark\"}}},\"xaxis\":{\"anchor\":\"y\",\"domain\":[0.0,1.0]},\"yaxis\":{\"anchor\":\"x\",\"domain\":[0.0,1.0]},\"title\":{\"text\":\"Confirmed cases and deaths\"}},                        {\"responsive\": true}                    ).then(function(){\n                            \nvar gd = document.getElementById('2178fa49-71b1-4c72-9369-33d22421cd9a');\nvar x = new MutationObserver(function (mutations, observer) {{\n        var display = window.getComputedStyle(gd).display;\n        if (!display || display === 'none') {{\n            console.log([gd, 'removed!']);\n            Plotly.purge(gd);\n            observer.disconnect();\n        }}\n}});\n\n// Listen for the removal of the full notebook cells\nvar notebookContainer = gd.closest('#notebook-container');\nif (notebookContainer) {{\n    x.observe(notebookContainer, {childList: true});\n}}\n\n// Listen for the clearing of the current output cell\nvar outputEl = gd.closest('.output');\nif (outputEl) {{\n    x.observe(outputEl, {childList: true});\n}}\n\n                        })                };                });            </script>        </div>"
     },
     "metadata": {},
     "output_type": "display_data"
    }
   ],
   "source": [
    "from plotly.offline import iplot\n",
    "import plotly.graph_objs as go\n",
    "\n",
    "\n",
    "def create_pie_charts():\n",
    "    fig = make_subplots()\n",
    "    labels = ['Deaths', 'Confirmed', 'vaccinated']\n",
    "    domainsX = [[0, 0.1], [0.2, 0.3], [0.4, 0.5], [0.6, 0.7], [0.8, 0.9], [0, 0.1], [0.2, 0.3], [0.4, 0.5], [0.6, 0.7],\n",
    "                [0.8, 0.9]]\n",
    "    domainsY = [[0.5, 1], [0.5, 1], [0.5, 1], [0.5, 1], [0.5, 1], [0, 0.5], [0, 0.5], [0, 0.5], [0, 0.5], [0, 0.5]]\n",
    "    for i in range(10):\n",
    "        data = [sorted_owid_df.deaths.iloc[i], sorted_owid_df.confirmed.iloc[i], sorted_owid_df.vaccinated.iloc[i]]\n",
    "        fig.add_trace(go.Pie(labels=labels, values=data, name=sorted_owid_df.country.iloc[i],\n",
    "                             title=sorted_owid_df.country.iloc[i],\n",
    "                             domain=dict(x=domainsX[i], y=domainsY[i])))\n",
    "\n",
    "    fig.update_layout(title=\"Confirmed cases and deaths\")\n",
    "    fig.show()\n",
    "\n",
    "\n",
    "create_pie_charts()"
   ]
  },
  {
   "cell_type": "code",
   "execution_count": 69,
   "metadata": {
    "pycharm": {
     "name": "#%%\n"
    }
   },
   "outputs": [
    {
     "data": {
      "text/plain": "       country  confirmed  deaths        date\n0  Afghanistan        5.0     NaN  2020-02-24\n1  Afghanistan        5.0     NaN  2020-02-25\n2  Afghanistan        5.0     NaN  2020-02-26\n3  Afghanistan        5.0     NaN  2020-02-27\n4  Afghanistan        5.0     NaN  2020-02-28",
      "text/html": "<div>\n<style scoped>\n    .dataframe tbody tr th:only-of-type {\n        vertical-align: middle;\n    }\n\n    .dataframe tbody tr th {\n        vertical-align: top;\n    }\n\n    .dataframe thead th {\n        text-align: right;\n    }\n</style>\n<table border=\"1\" class=\"dataframe\">\n  <thead>\n    <tr style=\"text-align: right;\">\n      <th></th>\n      <th>country</th>\n      <th>confirmed</th>\n      <th>deaths</th>\n      <th>date</th>\n    </tr>\n  </thead>\n  <tbody>\n    <tr>\n      <th>0</th>\n      <td>Afghanistan</td>\n      <td>5.0</td>\n      <td>NaN</td>\n      <td>2020-02-24</td>\n    </tr>\n    <tr>\n      <th>1</th>\n      <td>Afghanistan</td>\n      <td>5.0</td>\n      <td>NaN</td>\n      <td>2020-02-25</td>\n    </tr>\n    <tr>\n      <th>2</th>\n      <td>Afghanistan</td>\n      <td>5.0</td>\n      <td>NaN</td>\n      <td>2020-02-26</td>\n    </tr>\n    <tr>\n      <th>3</th>\n      <td>Afghanistan</td>\n      <td>5.0</td>\n      <td>NaN</td>\n      <td>2020-02-27</td>\n    </tr>\n    <tr>\n      <th>4</th>\n      <td>Afghanistan</td>\n      <td>5.0</td>\n      <td>NaN</td>\n      <td>2020-02-28</td>\n    </tr>\n  </tbody>\n</table>\n</div>"
     },
     "execution_count": 69,
     "metadata": {},
     "output_type": "execute_result"
    }
   ],
   "source": [
    "confirmed_df = pd.DataFrame()\n",
    "\n",
    "confirmed_df['country'] = df.location\n",
    "confirmed_df['confirmed'] = df.total_cases\n",
    "confirmed_df['deaths'] = df.total_deaths\n",
    "confirmed_df['date'] = df.date\n",
    "confirmed_df.drop(index_countries.index)\n",
    "\n",
    "confirmed_df.head()"
   ]
  },
  {
   "cell_type": "code",
   "execution_count": 70,
   "metadata": {
    "pycharm": {
     "name": "#%%\n"
    }
   },
   "outputs": [
    {
     "data": {
      "application/vnd.plotly.v1+json": {
       "data": [
        {
         "connectgaps": true,
         "marker": {
          "color": "green"
         },
         "mode": "lines",
         "name": "Confirmed cases",
         "x": [
          "2020-02-01",
          "2020-02-02",
          "2020-02-03",
          "2020-02-04",
          "2020-02-05",
          "2020-02-06",
          "2020-02-07",
          "2020-02-08",
          "2020-02-09",
          "2020-02-10",
          "2020-02-11",
          "2020-02-12",
          "2020-02-13",
          "2020-02-14",
          "2020-02-15",
          "2020-02-16",
          "2020-02-17",
          "2020-02-18",
          "2020-02-19",
          "2020-02-20",
          "2020-02-21",
          "2020-02-22",
          "2020-02-23",
          "2020-02-24",
          "2020-02-25",
          "2020-02-26",
          "2020-02-27",
          "2020-02-28",
          "2020-02-29",
          "2020-03-01",
          "2020-03-02",
          "2020-03-03",
          "2020-03-04",
          "2020-03-05",
          "2020-03-06",
          "2020-03-07",
          "2020-03-08",
          "2020-03-09",
          "2020-03-10",
          "2020-03-11",
          "2020-03-12",
          "2020-03-13",
          "2020-03-14",
          "2020-03-15",
          "2020-03-16",
          "2020-03-17",
          "2020-03-18",
          "2020-03-19",
          "2020-03-20",
          "2020-03-21",
          "2020-03-22",
          "2020-03-23",
          "2020-03-24",
          "2020-03-25",
          "2020-03-26",
          "2020-03-27",
          "2020-03-28",
          "2020-03-29",
          "2020-03-30",
          "2020-03-31",
          "2020-04-01",
          "2020-04-02",
          "2020-04-03",
          "2020-04-04",
          "2020-04-05",
          "2020-04-06",
          "2020-04-07",
          "2020-04-08",
          "2020-04-09",
          "2020-04-10",
          "2020-04-11",
          "2020-04-12",
          "2020-04-13",
          "2020-04-14",
          "2020-04-15",
          "2020-04-16",
          "2020-04-17",
          "2020-04-18",
          "2020-04-19",
          "2020-04-20",
          "2020-04-21",
          "2020-04-22",
          "2020-04-23",
          "2020-04-24",
          "2020-04-25",
          "2020-04-26",
          "2020-04-27",
          "2020-04-28",
          "2020-04-29",
          "2020-04-30",
          "2020-05-01",
          "2020-05-02",
          "2020-05-03",
          "2020-05-04",
          "2020-05-05",
          "2020-05-06",
          "2020-05-07",
          "2020-05-08",
          "2020-05-09",
          "2020-05-10",
          "2020-05-11",
          "2020-05-12",
          "2020-05-13",
          "2020-05-14",
          "2020-05-15",
          "2020-05-16",
          "2020-05-17",
          "2020-05-18",
          "2020-05-19",
          "2020-05-20",
          "2020-05-21",
          "2020-05-22",
          "2020-05-23",
          "2020-05-24",
          "2020-05-25",
          "2020-05-26",
          "2020-05-27",
          "2020-05-28",
          "2020-05-29",
          "2020-05-30",
          "2020-05-31",
          "2020-06-01",
          "2020-06-02",
          "2020-06-03",
          "2020-06-04",
          "2020-06-05",
          "2020-06-06",
          "2020-06-07",
          "2020-06-08",
          "2020-06-09",
          "2020-06-10",
          "2020-06-11",
          "2020-06-12",
          "2020-06-13",
          "2020-06-14",
          "2020-06-15",
          "2020-06-16",
          "2020-06-17",
          "2020-06-18",
          "2020-06-19",
          "2020-06-20",
          "2020-06-21",
          "2020-06-22",
          "2020-06-23",
          "2020-06-24",
          "2020-06-25",
          "2020-06-26",
          "2020-06-27",
          "2020-06-28",
          "2020-06-29",
          "2020-06-30",
          "2020-07-01",
          "2020-07-02",
          "2020-07-03",
          "2020-07-04",
          "2020-07-05",
          "2020-07-06",
          "2020-07-07",
          "2020-07-08",
          "2020-07-09",
          "2020-07-10",
          "2020-07-11",
          "2020-07-12",
          "2020-07-13",
          "2020-07-14",
          "2020-07-15",
          "2020-07-16",
          "2020-07-17",
          "2020-07-18",
          "2020-07-19",
          "2020-07-20",
          "2020-07-21",
          "2020-07-22",
          "2020-07-23",
          "2020-07-24",
          "2020-07-25",
          "2020-07-26",
          "2020-07-27",
          "2020-07-28",
          "2020-07-29",
          "2020-07-30",
          "2020-07-31",
          "2020-08-01",
          "2020-08-02",
          "2020-08-03",
          "2020-08-04",
          "2020-08-05",
          "2020-08-06",
          "2020-08-07",
          "2020-08-08",
          "2020-08-09",
          "2020-08-10",
          "2020-08-11",
          "2020-08-12",
          "2020-08-13",
          "2020-08-14",
          "2020-08-15",
          "2020-08-16",
          "2020-08-17",
          "2020-08-18",
          "2020-08-19",
          "2020-08-20",
          "2020-08-21",
          "2020-08-22",
          "2020-08-23",
          "2020-08-24",
          "2020-08-25",
          "2020-08-26",
          "2020-08-27",
          "2020-08-28",
          "2020-08-29",
          "2020-08-30",
          "2020-08-31",
          "2020-09-01",
          "2020-09-02",
          "2020-09-03",
          "2020-09-04",
          "2020-09-05",
          "2020-09-06",
          "2020-09-07",
          "2020-09-08",
          "2020-09-09",
          "2020-09-10",
          "2020-09-11",
          "2020-09-12",
          "2020-09-13",
          "2020-09-14",
          "2020-09-15",
          "2020-09-16",
          "2020-09-17",
          "2020-09-18",
          "2020-09-19",
          "2020-09-20",
          "2020-09-21",
          "2020-09-22",
          "2020-09-23",
          "2020-09-24",
          "2020-09-25",
          "2020-09-26",
          "2020-09-27",
          "2020-09-28",
          "2020-09-29",
          "2020-09-30",
          "2020-10-01",
          "2020-10-02",
          "2020-10-03",
          "2020-10-04",
          "2020-10-05",
          "2020-10-06",
          "2020-10-07",
          "2020-10-08",
          "2020-10-09",
          "2020-10-10",
          "2020-10-11",
          "2020-10-12",
          "2020-10-13",
          "2020-10-14",
          "2020-10-15",
          "2020-10-16",
          "2020-10-17",
          "2020-10-18",
          "2020-10-19",
          "2020-10-20",
          "2020-10-21",
          "2020-10-22",
          "2020-10-23",
          "2020-10-24",
          "2020-10-25",
          "2020-10-26",
          "2020-10-27",
          "2020-10-28",
          "2020-10-29",
          "2020-10-30",
          "2020-10-31",
          "2020-11-01",
          "2020-11-02",
          "2020-11-03",
          "2020-11-04",
          "2020-11-05",
          "2020-11-06",
          "2020-11-07",
          "2020-11-08",
          "2020-11-09",
          "2020-11-10",
          "2020-11-11",
          "2020-11-12",
          "2020-11-13",
          "2020-11-14",
          "2020-11-15",
          "2020-11-16",
          "2020-11-17",
          "2020-11-18",
          "2020-11-19",
          "2020-11-20",
          "2020-11-21",
          "2020-11-22",
          "2020-11-23",
          "2020-11-24",
          "2020-11-25",
          "2020-11-26",
          "2020-11-27",
          "2020-11-28",
          "2020-11-29",
          "2020-11-30",
          "2020-12-01",
          "2020-12-02",
          "2020-12-03",
          "2020-12-04",
          "2020-12-05",
          "2020-12-06",
          "2020-12-07",
          "2020-12-08",
          "2020-12-09",
          "2020-12-10",
          "2020-12-11",
          "2020-12-12",
          "2020-12-13",
          "2020-12-14",
          "2020-12-15",
          "2020-12-16",
          "2020-12-17",
          "2020-12-18",
          "2020-12-19",
          "2020-12-20",
          "2020-12-21",
          "2020-12-22",
          "2020-12-23",
          "2020-12-24",
          "2020-12-25",
          "2020-12-26",
          "2020-12-27",
          "2020-12-28",
          "2020-12-29",
          "2020-12-30",
          "2020-12-31",
          "2021-01-01",
          "2021-01-02",
          "2021-01-03",
          "2021-01-04",
          "2021-01-05",
          "2021-01-06",
          "2021-01-07",
          "2021-01-08",
          "2021-01-09",
          "2021-01-10",
          "2021-01-11",
          "2021-01-12",
          "2021-01-13",
          "2021-01-14",
          "2021-01-15",
          "2021-01-16",
          "2021-01-17",
          "2021-01-18",
          "2021-01-19",
          "2021-01-20",
          "2021-01-21",
          "2021-01-22",
          "2021-01-23",
          "2021-01-24",
          "2021-01-25",
          "2021-01-26",
          "2021-01-27",
          "2021-01-28",
          "2021-01-29",
          "2021-01-30",
          "2021-01-31",
          "2021-02-01",
          "2021-02-02",
          "2021-02-03",
          "2021-02-04",
          "2021-02-05",
          "2021-02-06",
          "2021-02-07",
          "2021-02-08",
          "2021-02-09",
          "2021-02-10",
          "2021-02-11",
          "2021-02-12",
          "2021-02-13",
          "2021-02-14",
          "2021-02-15",
          "2021-02-16",
          "2021-02-17",
          "2021-02-18",
          "2021-02-19",
          "2021-02-20",
          "2021-02-21",
          "2021-02-22",
          "2021-02-23",
          "2021-02-24",
          "2021-02-25",
          "2021-02-26",
          "2021-02-27",
          "2021-02-28",
          "2021-03-01",
          "2021-03-02",
          "2021-03-03",
          "2021-03-04",
          "2021-03-05",
          "2021-03-06",
          "2021-03-07",
          "2021-03-08",
          "2021-03-09",
          "2021-03-10",
          "2021-03-11",
          "2021-03-12",
          "2021-03-13",
          "2021-03-14",
          "2021-03-15",
          "2021-03-16",
          "2021-03-17",
          "2021-03-18",
          "2021-03-19",
          "2021-03-20",
          "2021-03-21",
          "2021-03-22",
          "2021-03-23",
          "2021-03-24",
          "2021-03-25",
          "2021-03-26",
          "2021-03-27",
          "2021-03-28",
          "2021-03-29",
          "2021-03-30",
          "2021-03-31",
          "2021-04-01",
          "2021-04-02",
          "2021-04-03",
          "2021-04-04",
          "2021-04-05",
          "2021-04-06",
          "2021-04-07",
          "2021-04-08",
          "2021-04-09",
          "2021-04-10",
          "2021-04-11",
          "2021-04-12",
          "2021-04-13",
          "2021-04-14",
          "2021-04-15",
          "2021-04-16",
          "2021-04-17",
          "2021-04-18",
          "2021-04-19",
          "2021-04-20",
          "2021-04-21",
          "2021-04-22",
          "2021-04-23",
          "2021-04-24",
          "2021-04-25",
          "2021-04-26",
          "2021-04-27",
          "2021-04-28",
          "2021-04-29",
          "2021-04-30",
          "2021-05-01",
          "2021-05-02",
          "2021-05-03",
          "2021-05-04",
          "2021-05-05",
          "2021-05-06",
          "2021-05-07",
          "2021-05-08",
          "2021-05-09",
          "2021-05-10",
          "2021-05-11",
          "2021-05-12",
          "2021-05-13",
          "2021-05-14",
          "2021-05-15",
          "2021-05-16",
          "2021-05-17",
          "2021-05-18",
          "2021-05-19",
          "2021-05-20",
          "2021-05-21",
          "2021-05-22",
          "2021-05-23",
          "2021-05-24",
          "2021-05-25",
          "2021-05-26",
          "2021-05-27",
          "2021-05-28",
          "2021-05-29",
          "2021-05-30",
          "2021-05-31",
          "2021-06-01",
          "2021-06-02",
          "2021-06-03",
          "2021-06-04",
          "2021-06-05",
          "2021-06-06",
          "2021-06-07",
          "2021-06-08",
          "2021-06-09",
          "2021-06-10",
          "2021-06-11",
          "2021-06-12",
          "2021-06-13",
          "2021-06-14",
          "2021-06-15",
          "2021-06-16",
          "2021-06-17",
          "2021-06-18",
          "2021-06-19",
          "2021-06-20",
          "2021-06-21",
          "2021-06-22",
          "2021-06-23",
          "2021-06-24",
          "2021-06-25",
          "2021-06-26",
          "2021-06-27",
          "2021-06-28",
          "2021-06-29",
          "2021-06-30",
          "2021-07-01",
          "2021-07-02",
          "2021-07-03",
          "2021-07-04",
          "2021-07-05",
          "2021-07-06",
          "2021-07-07",
          "2021-07-08",
          "2021-07-09",
          "2021-07-10",
          "2021-07-11",
          "2021-07-12",
          "2021-07-13",
          "2021-07-14",
          "2021-07-15",
          "2021-07-16",
          "2021-07-17",
          "2021-07-18",
          "2021-07-19",
          "2021-07-20",
          "2021-07-21",
          "2021-07-22",
          "2021-07-23",
          "2021-07-24",
          "2021-07-25",
          "2021-07-26",
          "2021-07-27",
          "2021-07-28",
          "2021-07-29",
          "2021-07-30",
          "2021-07-31",
          "2021-08-01",
          "2021-08-02",
          "2021-08-03",
          "2021-08-04",
          "2021-08-05",
          "2021-08-06",
          "2021-08-07",
          "2021-08-08",
          "2021-08-09",
          "2021-08-10",
          "2021-08-11",
          "2021-08-12",
          "2021-08-13",
          "2021-08-14",
          "2021-08-15",
          "2021-08-16",
          "2021-08-17",
          "2021-08-18",
          "2021-08-19",
          "2021-08-20",
          "2021-08-21",
          "2021-08-22",
          "2021-08-23",
          "2021-08-24",
          "2021-08-25",
          "2021-08-26",
          "2021-08-27",
          "2021-08-28",
          "2021-08-29",
          "2021-08-30",
          "2021-08-31",
          "2021-09-01",
          "2021-09-02",
          "2021-09-03",
          "2021-09-04",
          "2021-09-05",
          "2021-09-06",
          "2021-09-07",
          "2021-09-08",
          "2021-09-09",
          "2021-09-10",
          "2021-09-11",
          "2021-09-12",
          "2021-09-13",
          "2021-09-14",
          "2021-09-15",
          "2021-09-16",
          "2021-09-17",
          "2021-09-18",
          "2021-09-19",
          "2021-09-20",
          "2021-09-21",
          "2021-09-22",
          "2021-09-23",
          "2021-09-24",
          "2021-09-25",
          "2021-09-26",
          "2021-09-27",
          "2021-09-28",
          "2021-09-29",
          "2021-09-30",
          "2021-10-01",
          "2021-10-02",
          "2021-10-03",
          "2021-10-04",
          "2021-10-05",
          "2021-10-06",
          "2021-10-07",
          "2021-10-08",
          "2021-10-09",
          "2021-10-10",
          "2021-10-11",
          "2021-10-12",
          "2021-10-13",
          "2021-10-14",
          "2021-10-15",
          "2021-10-16",
          "2021-10-17",
          "2021-10-18",
          "2021-10-19",
          "2021-10-20",
          "2021-10-21",
          "2021-10-22",
          "2021-10-23",
          "2021-10-24",
          "2021-10-25",
          "2021-10-26",
          "2021-10-27",
          "2021-10-28",
          "2021-10-29",
          "2021-10-30",
          "2021-10-31",
          "2021-11-01",
          "2021-11-02",
          "2021-11-03",
          "2021-11-04",
          "2021-11-05",
          "2021-11-06",
          "2021-11-07",
          "2021-11-08",
          "2021-11-09",
          "2021-11-10",
          "2021-11-11",
          "2021-11-12",
          "2021-11-13",
          "2021-11-14",
          "2021-11-15",
          "2021-11-16",
          "2021-11-17",
          "2021-11-18",
          "2021-11-19",
          "2021-11-20",
          "2021-11-21",
          "2021-11-22",
          "2021-11-23",
          "2021-11-24",
          "2021-11-25",
          "2021-11-26",
          "2021-11-27",
          "2021-11-28",
          "2021-11-29",
          "2021-11-30",
          "2021-12-01",
          "2021-12-02",
          "2021-12-03",
          "2021-12-04",
          "2021-12-05",
          "2021-12-06",
          "2021-12-07",
          "2021-12-08",
          "2021-12-09",
          "2021-12-10",
          "2021-12-11",
          "2021-12-12",
          "2021-12-13",
          "2021-12-14",
          "2021-12-15",
          "2021-12-16",
          "2021-12-17",
          "2021-12-18",
          "2021-12-19",
          "2021-12-20",
          "2021-12-21",
          "2021-12-22",
          "2021-12-23",
          "2021-12-24",
          "2021-12-25",
          "2021-12-26",
          "2021-12-27",
          "2021-12-28",
          "2021-12-29",
          "2021-12-30",
          "2021-12-31",
          "2022-01-01",
          "2022-01-02",
          "2022-01-03",
          "2022-01-04",
          "2022-01-05",
          "2022-01-06",
          "2022-01-07",
          "2022-01-08",
          "2022-01-09",
          "2022-01-10",
          "2022-01-11",
          "2022-01-12",
          "2022-01-13",
          "2022-01-14",
          "2022-01-15",
          "2022-01-16",
          "2022-01-17",
          "2022-01-18",
          "2022-01-19",
          "2022-01-20",
          "2022-01-21",
          "2022-01-22",
          "2022-01-23",
          "2022-01-24",
          "2022-01-25",
          "2022-01-26",
          "2022-01-27",
          "2022-01-28",
          "2022-01-29",
          "2022-01-30",
          "2022-01-31",
          "2022-02-01",
          "2022-02-02",
          "2022-02-03",
          "2022-02-04",
          "2022-02-05",
          "2022-02-06",
          "2022-02-07",
          "2022-02-08",
          "2022-02-09",
          "2022-02-10",
          "2022-02-11",
          "2022-02-12",
          "2022-02-13",
          "2022-02-14",
          "2022-02-15",
          "2022-02-16",
          "2022-02-17",
          "2022-02-18",
          "2022-02-19",
          "2022-02-20",
          "2022-02-21",
          "2022-02-22",
          "2022-02-23",
          "2022-02-24",
          "2022-02-25",
          "2022-02-26",
          "2022-02-27",
          "2022-02-28",
          "2022-03-01",
          "2022-03-02",
          "2022-03-03",
          "2022-03-04",
          "2022-03-05",
          "2022-03-06",
          "2022-03-07",
          "2022-03-08",
          "2022-03-09",
          "2022-03-10",
          "2022-03-11",
          "2022-03-12",
          "2022-03-13",
          "2022-03-14",
          "2022-03-15",
          "2022-03-16",
          "2022-03-17",
          "2022-03-18",
          "2022-03-19",
          "2022-03-20",
          "2022-03-21",
          "2022-03-22",
          "2022-03-23",
          "2022-03-24",
          "2022-03-25",
          "2022-03-26",
          "2022-03-27",
          "2022-03-28",
          "2022-03-29",
          "2022-03-30",
          "2022-03-31",
          "2022-04-01",
          "2022-04-02",
          "2022-04-03",
          "2022-04-04",
          "2022-04-05",
          "2022-04-06",
          "2022-04-07",
          "2022-04-08",
          "2022-04-09",
          "2022-04-10",
          "2022-04-11"
         ],
         "y": [
          1.0,
          1.0,
          1.0,
          1.0,
          1.0,
          1.0,
          1.0,
          1.0,
          1.0,
          1.0,
          1.0,
          1.0,
          1.0,
          1.0,
          1.0,
          1.0,
          1.0,
          1.0,
          1.0,
          1.0,
          1.0,
          1.0,
          1.0,
          1.0,
          1.0,
          2.0,
          3.0,
          11.0,
          14.0,
          14.0,
          19.0,
          32.0,
          62.0,
          87.0,
          146.0,
          179.0,
          225.0,
          326.0,
          424.0,
          620.0,
          771.0,
          923.0,
          994.0,
          1063.0,
          1146.0,
          1265.0,
          1410.0,
          1553.0,
          1733.0,
          1868.0,
          1986.0,
          2168.0,
          2398.0,
          2712.0,
          2998.0,
          3363.0,
          3663.0,
          3943.0,
          4359.0,
          4834.0,
          5320.0,
          5874.0,
          6475.0,
          6832.0,
          7172.0,
          7561.0,
          8299.0,
          8954.0,
          9599.0,
          10053.0,
          10448.0,
          10912.0,
          11349.0,
          11828.0,
          12432.0,
          13055.0,
          13743.0,
          14275.0,
          14663.0,
          15124.0,
          15831.0,
          16553.0,
          17311.0,
          18090.0,
          18563.0,
          18863.0,
          19426.0,
          20168.0,
          20966.0,
          21601.0,
          22133.0,
          22432.0,
          22693.0,
          23169.0,
          23826.0,
          24572.0,
          25359.0,
          26059.0,
          26568.0,
          26846.0,
          27301.0,
          28055.0,
          28755.0,
          29415.0,
          30103.0,
          30461.0,
          30720.0,
          31151.0,
          31818.0,
          32626.0,
          33236.0,
          33768.0,
          34171.0,
          34381.0,
          34871.0,
          35617.0,
          36417.0,
          37191.0,
          37964.0,
          38396.0,
          38661.0,
          39309.0,
          40210.0,
          41256.0,
          42295.0,
          43441.0,
          44224.0,
          44686.0,
          45363.0,
          46299.0,
          47736.0,
          49030.0,
          50367.0,
          51409.0,
          51827.0,
          52511.0,
          53729.0,
          55186.0,
          56682.0,
          57895.0,
          58597.0,
          58918.0,
          59718.0,
          61030.0,
          62728.0,
          64009.0,
          65212.0,
          65972.0,
          66392.0,
          67119.0,
          67924.0,
          68608.0,
          69297.0,
          69996.0,
          70366.0,
          70681.0,
          70932.0,
          71210.0,
          71747.0,
          72082.0,
          72459.0,
          72773.0,
          72879.0,
          73049.0,
          73364.0,
          73663.0,
          73936.0,
          74235.0,
          74435.0,
          74545.0,
          74676.0,
          74902.0,
          75199.0,
          75419.0,
          75681.0,
          75819.0,
          75861.0,
          75932.0,
          76215.0,
          76516.0,
          76818.0,
          77076.0,
          77379.0,
          77417.0,
          77582.0,
          77916.0,
          78341.0,
          78719.0,
          79099.0,
          79359.0,
          79432.0,
          79628.0,
          80045.0,
          80489.0,
          80851.0,
          81195.0,
          81421.0,
          81484.0,
          81658.0,
          81972.0,
          82323.0,
          82656.0,
          82954.0,
          83114.0,
          83171.0,
          83353.0,
          83578.0,
          83824.0,
          83958.0,
          83958.0,
          83958.0,
          83958.0,
          84379.0,
          84521.0,
          84532.0,
          84729.0,
          84985.0,
          84985.0,
          84985.0,
          85558.0,
          85707.0,
          85880.0,
          86194.0,
          86505.0,
          86505.0,
          86505.0,
          86505.0,
          87345.0,
          87575.0,
          87885.0,
          88237.0,
          88237.0,
          88237.0,
          88237.0,
          89436.0,
          89756.0,
          90289.0,
          90923.0,
          90923.0,
          90923.0,
          90923.0,
          92466.0,
          92863.0,
          93615.0,
          94283.0,
          94283.0,
          94283.0,
          94283.0,
          96145.0,
          96677.0,
          97532.0,
          98451.0,
          98451.0,
          98451.0,
          98451.0,
          100654.0,
          101332.0,
          102407.0,
          103200.0,
          103200.0,
          103200.0,
          103200.0,
          106380.0,
          107355.0,
          108969.0,
          110594.0,
          110594.0,
          110594.0,
          110594.0,
          115785.0,
          117913.0,
          121167.0,
          124355.0,
          124355.0,
          124355.0,
          124355.0,
          134532.0,
          137730.0,
          141764.0,
          146461.0,
          146461.0,
          146461.0,
          146461.0,
          162240.0,
          166707.0,
          171365.0,
          177355.0,
          177355.0,
          177355.0,
          177355.0,
          192439.0,
          196446.0,
          201055.0,
          208295.0,
          208295.0,
          208295.0,
          208295.0,
          225560.0,
          230514.0,
          236355.0,
          243129.0,
          243129.0,
          243129.0,
          243129.0,
          260758.0,
          266158.0,
          272643.0,
          278912.0,
          278912.0,
          278912.0,
          278912.0,
          297732.0,
          304793.0,
          312728.0,
          320098.0,
          320098.0,
          320098.0,
          320098.0,
          341029.0,
          348585.0,
          357466.0,
          367120.0,
          367120.0,
          367120.0,
          367120.0,
          389439.0,
          396048.0,
          396048.0,
          396048.0,
          396048.0,
          396048.0,
          396048.0,
          428533.0,
          437379.0,
          437379.0,
          437379.0,
          437379.0,
          437379.0,
          437379.0,
          469748.0,
          469748.0,
          482284.0,
          489471.0,
          489471.0,
          489471.0,
          489471.0,
          506866.0,
          512203.0,
          518783.0,
          523486.0,
          523486.0,
          523486.0,
          523486.0,
          533265.0,
          537967.0,
          542952.0,
          547166.0,
          547166.0,
          547166.0,
          547166.0,
          556289.0,
          560472.0,
          564557.0,
          566957.0,
          566957.0,
          566957.0,
          566957.0,
          576606.0,
          580916.0,
          584674.0,
          588062.0,
          588062.0,
          588062.0,
          588062.0,
          596174.0,
          600244.0,
          604577.0,
          608411.0,
          608411.0,
          608411.0,
          608411.0,
          617869.0,
          622102.0,
          627022.0,
          631166.0,
          631166.0,
          631166.0,
          631166.0,
          642099.0,
          647470.0,
          652465.0,
          657309.0,
          657309.0,
          657309.0,
          657309.0,
          669113.0,
          675292.0,
          680130.0,
          684961.0,
          684961.0,
          684961.0,
          684961.0,
          695975.0,
          701892.0,
          707192.0,
          712527.0,
          712527.0,
          712527.0,
          712527.0,
          725289.0,
          732070.0,
          738537.0,
          744272.0,
          744272.0,
          744272.0,
          744272.0,
          758335.0,
          765984.0,
          773690.0,
          780018.0,
          780018.0,
          780018.0,
          780018.0,
          796445.0,
          804886.0,
          813191.0,
          813191.0,
          813191.0,
          813191.0,
          813191.0,
          834993.0,
          841807.0,
          849629.0,
          857401.0,
          857401.0,
          857401.0,
          857401.0,
          876506.0,
          885385.0,
          892480.0,
          900138.0,
          900138.0,
          900138.0,
          900138.0,
          916830.0,
          924340.0,
          932076.0,
          938343.0,
          938343.0,
          938343.0,
          938343.0,
          953254.0,
          960520.0,
          967678.0,
          973604.0,
          973604.0,
          973604.0,
          973604.0,
          988554.0,
          995595.0,
          1002121.0,
          1007792.0,
          1007792.0,
          1007792.0,
          1007792.0,
          1021604.0,
          1027934.0,
          1027934.0,
          1037126.0,
          1037126.0,
          1037126.0,
          1037126.0,
          1047143.0,
          1051762.0,
          1055173.0,
          1058341.0,
          1058341.0,
          1058341.0,
          1058341.0,
          1064375.0,
          1067107.0,
          1068473.0,
          1068473.0,
          1068473.0,
          1068473.0,
          1068473.0,
          1068473.0,
          1068473.0,
          1076993.0,
          1078062.0,
          1078062.0,
          1078062.0,
          1078062.0,
          1080733.0,
          1081898.0,
          1082729.0,
          1083456.0,
          1083456.0,
          1083456.0,
          1083456.0,
          1084636.0,
          1084636.0,
          1084636.0,
          1084636.0,
          1084636.0,
          1084636.0,
          1084636.0,
          1088014.0,
          1088518.0,
          1088896.0,
          1088896.0,
          1088896.0,
          1088896.0,
          1088896.0,
          1089743.0,
          1089990.0,
          1090553.0,
          1090880.0,
          1090880.0,
          1090880.0,
          1090880.0,
          1091730.0,
          1092083.0,
          1092308.0,
          1092540.0,
          1092540.0,
          1092540.0,
          1092540.0,
          1093209.0,
          1093576.0,
          1093923.0,
          1094287.0,
          1094287.0,
          1094287.0,
          1094287.0,
          1095279.0,
          1095758.0,
          1096341.0,
          1096799.0,
          1096799.0,
          1096799.0,
          1096799.0,
          1098154.0,
          1098795.0,
          1099414.0,
          1100040.0,
          1100040.0,
          1100040.0,
          1100040.0,
          1101900.0,
          1102829.0,
          1103693.0,
          1104538.0,
          1104538.0,
          1104538.0,
          1104538.0,
          1106821.0,
          1108057.0,
          1109112.0,
          1110147.0,
          1110147.0,
          1110147.0,
          1110147.0,
          1112958.0,
          1114278.0,
          1115566.0,
          1116584.0,
          1116584.0,
          1116584.0,
          1116584.0,
          1119358.0,
          1120628.0,
          1122139.0,
          1123413.0,
          1123413.0,
          1123413.0,
          1123413.0,
          1126813.0,
          1127917.0,
          1129131.0,
          1130525.0,
          1130525.0,
          1130525.0,
          1130525.0,
          1133449.0,
          1135160.0,
          1136535.0,
          1138017.0,
          1138017.0,
          1138017.0,
          1138017.0,
          1141673.0,
          1142770.0,
          1143973.0,
          1144982.0,
          1144982.0,
          1144982.0,
          1144982.0,
          1146968.0,
          1147879.0,
          1148641.0,
          1149407.0,
          1149407.0,
          1149407.0,
          1149407.0,
          1151173.0,
          1152027.0,
          1152886.0,
          1153655.0,
          1153655.0,
          1153655.0,
          1153655.0,
          1155534.0,
          1156248.0,
          1157083.0,
          1157822.0,
          1157822.0,
          1157822.0,
          1157822.0,
          1159560.0,
          1160465.0,
          1161264.0,
          1161933.0,
          1161933.0,
          1161933.0,
          1161933.0,
          1163595.0,
          1164402.0,
          1165194.0,
          1165996.0,
          1165996.0,
          1165996.0,
          1165996.0,
          1168271.0,
          1169530.0,
          1170422.0,
          1171512.0,
          1171512.0,
          1171512.0,
          1171512.0,
          1174273.0,
          1175425.0,
          1176269.0,
          1177094.0,
          1177094.0,
          1177094.0,
          1177094.0,
          1179192.0,
          1180518.0,
          1181532.0,
          1182471.0,
          1182471.0,
          1182471.0,
          1182471.0,
          1185093.0,
          1186387.0,
          1187607.0,
          1188735.0,
          1188735.0,
          1188735.0,
          1188735.0,
          1192560.0,
          1194636.0,
          1196688.0,
          1198848.0,
          1198848.0,
          1198848.0,
          1198848.0,
          1204859.0,
          1207498.0,
          1209935.0,
          1212145.0,
          1212145.0,
          1212145.0,
          1212145.0,
          1219557.0,
          1222892.0,
          1226055.0,
          1229217.0,
          1229217.0,
          1229217.0,
          1229217.0,
          1238689.0,
          1242733.0,
          1246755.0,
          1250885.0,
          1250885.0,
          1250885.0,
          1250885.0,
          1263566.0,
          1268254.0,
          1273313.0,
          1273313.0,
          1273313.0,
          1273313.0,
          1273313.0,
          1294560.0,
          1303663.0,
          1314784.0,
          1314784.0,
          1314784.0,
          1314784.0,
          1314784.0,
          1357753.0,
          1375267.0,
          1375267.0,
          1416650.0,
          1416650.0,
          1416650.0,
          1416650.0,
          1487291.0,
          1509230.0,
          1534797.0,
          1560363.0,
          1560363.0,
          1560363.0,
          1560363.0,
          1657611.0,
          1700336.0,
          1741710.0,
          1784005.0,
          1784005.0,
          1784005.0,
          1784005.0,
          1922990.0,
          1973485.0,
          2015276.0,
          2070456.0,
          2070456.0,
          2070456.0,
          2070456.0,
          2183910.0,
          2223115.0,
          2259656.0,
          2287785.0,
          2287785.0,
          2287785.0,
          2287785.0,
          2354455.0,
          2372637.0,
          2389605.0,
          2397330.0,
          2397330.0,
          2397330.0,
          2397330.0,
          2409081.0,
          2414463.0,
          2418560.0,
          2422856.0,
          2422856.0,
          2422856.0,
          2422856.0,
          2431365.0,
          2434783.0,
          2437850.0,
          2441142.0,
          2441142.0,
          2441142.0,
          2441142.0,
          2448182.0,
          2451464.0,
          2453936.0,
          2455966.0,
          2455966.0,
          2455966.0,
          2455966.0,
          2460783.0,
          2462952.0,
          2465099.0,
          2466577.0,
          2466577.0,
          2466577.0,
          2466577.0,
          2470254.0,
          2472068.0,
          2473707.0,
          2475687.0,
          2475687.0,
          2475687.0,
          2475687.0,
          2475687.0,
          2475687.0,
          2481736.0,
          2481736.0,
          2481736.0,
          2481736.0,
          2481736.0,
          2481736.0,
          2481736.0,
          2487852.0,
          2487852.0,
          2487852.0,
          2487852.0,
          2487852.0,
          2487852.0,
          2487852.0,
          2491980.0,
          2491980.0,
          2491980.0,
          2491980.0,
          2491980.0
         ],
         "type": "scatter",
         "uid": "74e879ce-4243-4708-9d69-a4730d06b909"
        },
        {
         "connectgaps": true,
         "marker": {
          "color": "red"
         },
         "mode": "lines",
         "name": "Confirmed deaths",
         "x": [
          "2020-02-01",
          "2020-02-02",
          "2020-02-03",
          "2020-02-04",
          "2020-02-05",
          "2020-02-06",
          "2020-02-07",
          "2020-02-08",
          "2020-02-09",
          "2020-02-10",
          "2020-02-11",
          "2020-02-12",
          "2020-02-13",
          "2020-02-14",
          "2020-02-15",
          "2020-02-16",
          "2020-02-17",
          "2020-02-18",
          "2020-02-19",
          "2020-02-20",
          "2020-02-21",
          "2020-02-22",
          "2020-02-23",
          "2020-02-24",
          "2020-02-25",
          "2020-02-26",
          "2020-02-27",
          "2020-02-28",
          "2020-02-29",
          "2020-03-01",
          "2020-03-02",
          "2020-03-03",
          "2020-03-04",
          "2020-03-05",
          "2020-03-06",
          "2020-03-07",
          "2020-03-08",
          "2020-03-09",
          "2020-03-10",
          "2020-03-11",
          "2020-03-12",
          "2020-03-13",
          "2020-03-14",
          "2020-03-15",
          "2020-03-16",
          "2020-03-17",
          "2020-03-18",
          "2020-03-19",
          "2020-03-20",
          "2020-03-21",
          "2020-03-22",
          "2020-03-23",
          "2020-03-24",
          "2020-03-25",
          "2020-03-26",
          "2020-03-27",
          "2020-03-28",
          "2020-03-29",
          "2020-03-30",
          "2020-03-31",
          "2020-04-01",
          "2020-04-02",
          "2020-04-03",
          "2020-04-04",
          "2020-04-05",
          "2020-04-06",
          "2020-04-07",
          "2020-04-08",
          "2020-04-09",
          "2020-04-10",
          "2020-04-11",
          "2020-04-12",
          "2020-04-13",
          "2020-04-14",
          "2020-04-15",
          "2020-04-16",
          "2020-04-17",
          "2020-04-18",
          "2020-04-19",
          "2020-04-20",
          "2020-04-21",
          "2020-04-22",
          "2020-04-23",
          "2020-04-24",
          "2020-04-25",
          "2020-04-26",
          "2020-04-27",
          "2020-04-28",
          "2020-04-29",
          "2020-04-30",
          "2020-05-01",
          "2020-05-02",
          "2020-05-03",
          "2020-05-04",
          "2020-05-05",
          "2020-05-06",
          "2020-05-07",
          "2020-05-08",
          "2020-05-09",
          "2020-05-10",
          "2020-05-11",
          "2020-05-12",
          "2020-05-13",
          "2020-05-14",
          "2020-05-15",
          "2020-05-16",
          "2020-05-17",
          "2020-05-18",
          "2020-05-19",
          "2020-05-20",
          "2020-05-21",
          "2020-05-22",
          "2020-05-23",
          "2020-05-24",
          "2020-05-25",
          "2020-05-26",
          "2020-05-27",
          "2020-05-28",
          "2020-05-29",
          "2020-05-30",
          "2020-05-31",
          "2020-06-01",
          "2020-06-02",
          "2020-06-03",
          "2020-06-04",
          "2020-06-05",
          "2020-06-06",
          "2020-06-07",
          "2020-06-08",
          "2020-06-09",
          "2020-06-10",
          "2020-06-11",
          "2020-06-12",
          "2020-06-13",
          "2020-06-14",
          "2020-06-15",
          "2020-06-16",
          "2020-06-17",
          "2020-06-18",
          "2020-06-19",
          "2020-06-20",
          "2020-06-21",
          "2020-06-22",
          "2020-06-23",
          "2020-06-24",
          "2020-06-25",
          "2020-06-26",
          "2020-06-27",
          "2020-06-28",
          "2020-06-29",
          "2020-06-30",
          "2020-07-01",
          "2020-07-02",
          "2020-07-03",
          "2020-07-04",
          "2020-07-05",
          "2020-07-06",
          "2020-07-07",
          "2020-07-08",
          "2020-07-09",
          "2020-07-10",
          "2020-07-11",
          "2020-07-12",
          "2020-07-13",
          "2020-07-14",
          "2020-07-15",
          "2020-07-16",
          "2020-07-17",
          "2020-07-18",
          "2020-07-19",
          "2020-07-20",
          "2020-07-21",
          "2020-07-22",
          "2020-07-23",
          "2020-07-24",
          "2020-07-25",
          "2020-07-26",
          "2020-07-27",
          "2020-07-28",
          "2020-07-29",
          "2020-07-30",
          "2020-07-31",
          "2020-08-01",
          "2020-08-02",
          "2020-08-03",
          "2020-08-04",
          "2020-08-05",
          "2020-08-06",
          "2020-08-07",
          "2020-08-08",
          "2020-08-09",
          "2020-08-10",
          "2020-08-11",
          "2020-08-12",
          "2020-08-13",
          "2020-08-14",
          "2020-08-15",
          "2020-08-16",
          "2020-08-17",
          "2020-08-18",
          "2020-08-19",
          "2020-08-20",
          "2020-08-21",
          "2020-08-22",
          "2020-08-23",
          "2020-08-24",
          "2020-08-25",
          "2020-08-26",
          "2020-08-27",
          "2020-08-28",
          "2020-08-29",
          "2020-08-30",
          "2020-08-31",
          "2020-09-01",
          "2020-09-02",
          "2020-09-03",
          "2020-09-04",
          "2020-09-05",
          "2020-09-06",
          "2020-09-07",
          "2020-09-08",
          "2020-09-09",
          "2020-09-10",
          "2020-09-11",
          "2020-09-12",
          "2020-09-13",
          "2020-09-14",
          "2020-09-15",
          "2020-09-16",
          "2020-09-17",
          "2020-09-18",
          "2020-09-19",
          "2020-09-20",
          "2020-09-21",
          "2020-09-22",
          "2020-09-23",
          "2020-09-24",
          "2020-09-25",
          "2020-09-26",
          "2020-09-27",
          "2020-09-28",
          "2020-09-29",
          "2020-09-30",
          "2020-10-01",
          "2020-10-02",
          "2020-10-03",
          "2020-10-04",
          "2020-10-05",
          "2020-10-06",
          "2020-10-07",
          "2020-10-08",
          "2020-10-09",
          "2020-10-10",
          "2020-10-11",
          "2020-10-12",
          "2020-10-13",
          "2020-10-14",
          "2020-10-15",
          "2020-10-16",
          "2020-10-17",
          "2020-10-18",
          "2020-10-19",
          "2020-10-20",
          "2020-10-21",
          "2020-10-22",
          "2020-10-23",
          "2020-10-24",
          "2020-10-25",
          "2020-10-26",
          "2020-10-27",
          "2020-10-28",
          "2020-10-29",
          "2020-10-30",
          "2020-10-31",
          "2020-11-01",
          "2020-11-02",
          "2020-11-03",
          "2020-11-04",
          "2020-11-05",
          "2020-11-06",
          "2020-11-07",
          "2020-11-08",
          "2020-11-09",
          "2020-11-10",
          "2020-11-11",
          "2020-11-12",
          "2020-11-13",
          "2020-11-14",
          "2020-11-15",
          "2020-11-16",
          "2020-11-17",
          "2020-11-18",
          "2020-11-19",
          "2020-11-20",
          "2020-11-21",
          "2020-11-22",
          "2020-11-23",
          "2020-11-24",
          "2020-11-25",
          "2020-11-26",
          "2020-11-27",
          "2020-11-28",
          "2020-11-29",
          "2020-11-30",
          "2020-12-01",
          "2020-12-02",
          "2020-12-03",
          "2020-12-04",
          "2020-12-05",
          "2020-12-06",
          "2020-12-07",
          "2020-12-08",
          "2020-12-09",
          "2020-12-10",
          "2020-12-11",
          "2020-12-12",
          "2020-12-13",
          "2020-12-14",
          "2020-12-15",
          "2020-12-16",
          "2020-12-17",
          "2020-12-18",
          "2020-12-19",
          "2020-12-20",
          "2020-12-21",
          "2020-12-22",
          "2020-12-23",
          "2020-12-24",
          "2020-12-25",
          "2020-12-26",
          "2020-12-27",
          "2020-12-28",
          "2020-12-29",
          "2020-12-30",
          "2020-12-31",
          "2021-01-01",
          "2021-01-02",
          "2021-01-03",
          "2021-01-04",
          "2021-01-05",
          "2021-01-06",
          "2021-01-07",
          "2021-01-08",
          "2021-01-09",
          "2021-01-10",
          "2021-01-11",
          "2021-01-12",
          "2021-01-13",
          "2021-01-14",
          "2021-01-15",
          "2021-01-16",
          "2021-01-17",
          "2021-01-18",
          "2021-01-19",
          "2021-01-20",
          "2021-01-21",
          "2021-01-22",
          "2021-01-23",
          "2021-01-24",
          "2021-01-25",
          "2021-01-26",
          "2021-01-27",
          "2021-01-28",
          "2021-01-29",
          "2021-01-30",
          "2021-01-31",
          "2021-02-01",
          "2021-02-02",
          "2021-02-03",
          "2021-02-04",
          "2021-02-05",
          "2021-02-06",
          "2021-02-07",
          "2021-02-08",
          "2021-02-09",
          "2021-02-10",
          "2021-02-11",
          "2021-02-12",
          "2021-02-13",
          "2021-02-14",
          "2021-02-15",
          "2021-02-16",
          "2021-02-17",
          "2021-02-18",
          "2021-02-19",
          "2021-02-20",
          "2021-02-21",
          "2021-02-22",
          "2021-02-23",
          "2021-02-24",
          "2021-02-25",
          "2021-02-26",
          "2021-02-27",
          "2021-02-28",
          "2021-03-01",
          "2021-03-02",
          "2021-03-03",
          "2021-03-04",
          "2021-03-05",
          "2021-03-06",
          "2021-03-07",
          "2021-03-08",
          "2021-03-09",
          "2021-03-10",
          "2021-03-11",
          "2021-03-12",
          "2021-03-13",
          "2021-03-14",
          "2021-03-15",
          "2021-03-16",
          "2021-03-17",
          "2021-03-18",
          "2021-03-19",
          "2021-03-20",
          "2021-03-21",
          "2021-03-22",
          "2021-03-23",
          "2021-03-24",
          "2021-03-25",
          "2021-03-26",
          "2021-03-27",
          "2021-03-28",
          "2021-03-29",
          "2021-03-30",
          "2021-03-31",
          "2021-04-01",
          "2021-04-02",
          "2021-04-03",
          "2021-04-04",
          "2021-04-05",
          "2021-04-06",
          "2021-04-07",
          "2021-04-08",
          "2021-04-09",
          "2021-04-10",
          "2021-04-11",
          "2021-04-12",
          "2021-04-13",
          "2021-04-14",
          "2021-04-15",
          "2021-04-16",
          "2021-04-17",
          "2021-04-18",
          "2021-04-19",
          "2021-04-20",
          "2021-04-21",
          "2021-04-22",
          "2021-04-23",
          "2021-04-24",
          "2021-04-25",
          "2021-04-26",
          "2021-04-27",
          "2021-04-28",
          "2021-04-29",
          "2021-04-30",
          "2021-05-01",
          "2021-05-02",
          "2021-05-03",
          "2021-05-04",
          "2021-05-05",
          "2021-05-06",
          "2021-05-07",
          "2021-05-08",
          "2021-05-09",
          "2021-05-10",
          "2021-05-11",
          "2021-05-12",
          "2021-05-13",
          "2021-05-14",
          "2021-05-15",
          "2021-05-16",
          "2021-05-17",
          "2021-05-18",
          "2021-05-19",
          "2021-05-20",
          "2021-05-21",
          "2021-05-22",
          "2021-05-23",
          "2021-05-24",
          "2021-05-25",
          "2021-05-26",
          "2021-05-27",
          "2021-05-28",
          "2021-05-29",
          "2021-05-30",
          "2021-05-31",
          "2021-06-01",
          "2021-06-02",
          "2021-06-03",
          "2021-06-04",
          "2021-06-05",
          "2021-06-06",
          "2021-06-07",
          "2021-06-08",
          "2021-06-09",
          "2021-06-10",
          "2021-06-11",
          "2021-06-12",
          "2021-06-13",
          "2021-06-14",
          "2021-06-15",
          "2021-06-16",
          "2021-06-17",
          "2021-06-18",
          "2021-06-19",
          "2021-06-20",
          "2021-06-21",
          "2021-06-22",
          "2021-06-23",
          "2021-06-24",
          "2021-06-25",
          "2021-06-26",
          "2021-06-27",
          "2021-06-28",
          "2021-06-29",
          "2021-06-30",
          "2021-07-01",
          "2021-07-02",
          "2021-07-03",
          "2021-07-04",
          "2021-07-05",
          "2021-07-06",
          "2021-07-07",
          "2021-07-08",
          "2021-07-09",
          "2021-07-10",
          "2021-07-11",
          "2021-07-12",
          "2021-07-13",
          "2021-07-14",
          "2021-07-15",
          "2021-07-16",
          "2021-07-17",
          "2021-07-18",
          "2021-07-19",
          "2021-07-20",
          "2021-07-21",
          "2021-07-22",
          "2021-07-23",
          "2021-07-24",
          "2021-07-25",
          "2021-07-26",
          "2021-07-27",
          "2021-07-28",
          "2021-07-29",
          "2021-07-30",
          "2021-07-31",
          "2021-08-01",
          "2021-08-02",
          "2021-08-03",
          "2021-08-04",
          "2021-08-05",
          "2021-08-06",
          "2021-08-07",
          "2021-08-08",
          "2021-08-09",
          "2021-08-10",
          "2021-08-11",
          "2021-08-12",
          "2021-08-13",
          "2021-08-14",
          "2021-08-15",
          "2021-08-16",
          "2021-08-17",
          "2021-08-18",
          "2021-08-19",
          "2021-08-20",
          "2021-08-21",
          "2021-08-22",
          "2021-08-23",
          "2021-08-24",
          "2021-08-25",
          "2021-08-26",
          "2021-08-27",
          "2021-08-28",
          "2021-08-29",
          "2021-08-30",
          "2021-08-31",
          "2021-09-01",
          "2021-09-02",
          "2021-09-03",
          "2021-09-04",
          "2021-09-05",
          "2021-09-06",
          "2021-09-07",
          "2021-09-08",
          "2021-09-09",
          "2021-09-10",
          "2021-09-11",
          "2021-09-12",
          "2021-09-13",
          "2021-09-14",
          "2021-09-15",
          "2021-09-16",
          "2021-09-17",
          "2021-09-18",
          "2021-09-19",
          "2021-09-20",
          "2021-09-21",
          "2021-09-22",
          "2021-09-23",
          "2021-09-24",
          "2021-09-25",
          "2021-09-26",
          "2021-09-27",
          "2021-09-28",
          "2021-09-29",
          "2021-09-30",
          "2021-10-01",
          "2021-10-02",
          "2021-10-03",
          "2021-10-04",
          "2021-10-05",
          "2021-10-06",
          "2021-10-07",
          "2021-10-08",
          "2021-10-09",
          "2021-10-10",
          "2021-10-11",
          "2021-10-12",
          "2021-10-13",
          "2021-10-14",
          "2021-10-15",
          "2021-10-16",
          "2021-10-17",
          "2021-10-18",
          "2021-10-19",
          "2021-10-20",
          "2021-10-21",
          "2021-10-22",
          "2021-10-23",
          "2021-10-24",
          "2021-10-25",
          "2021-10-26",
          "2021-10-27",
          "2021-10-28",
          "2021-10-29",
          "2021-10-30",
          "2021-10-31",
          "2021-11-01",
          "2021-11-02",
          "2021-11-03",
          "2021-11-04",
          "2021-11-05",
          "2021-11-06",
          "2021-11-07",
          "2021-11-08",
          "2021-11-09",
          "2021-11-10",
          "2021-11-11",
          "2021-11-12",
          "2021-11-13",
          "2021-11-14",
          "2021-11-15",
          "2021-11-16",
          "2021-11-17",
          "2021-11-18",
          "2021-11-19",
          "2021-11-20",
          "2021-11-21",
          "2021-11-22",
          "2021-11-23",
          "2021-11-24",
          "2021-11-25",
          "2021-11-26",
          "2021-11-27",
          "2021-11-28",
          "2021-11-29",
          "2021-11-30",
          "2021-12-01",
          "2021-12-02",
          "2021-12-03",
          "2021-12-04",
          "2021-12-05",
          "2021-12-06",
          "2021-12-07",
          "2021-12-08",
          "2021-12-09",
          "2021-12-10",
          "2021-12-11",
          "2021-12-12",
          "2021-12-13",
          "2021-12-14",
          "2021-12-15",
          "2021-12-16",
          "2021-12-17",
          "2021-12-18",
          "2021-12-19",
          "2021-12-20",
          "2021-12-21",
          "2021-12-22",
          "2021-12-23",
          "2021-12-24",
          "2021-12-25",
          "2021-12-26",
          "2021-12-27",
          "2021-12-28",
          "2021-12-29",
          "2021-12-30",
          "2021-12-31",
          "2022-01-01",
          "2022-01-02",
          "2022-01-03",
          "2022-01-04",
          "2022-01-05",
          "2022-01-06",
          "2022-01-07",
          "2022-01-08",
          "2022-01-09",
          "2022-01-10",
          "2022-01-11",
          "2022-01-12",
          "2022-01-13",
          "2022-01-14",
          "2022-01-15",
          "2022-01-16",
          "2022-01-17",
          "2022-01-18",
          "2022-01-19",
          "2022-01-20",
          "2022-01-21",
          "2022-01-22",
          "2022-01-23",
          "2022-01-24",
          "2022-01-25",
          "2022-01-26",
          "2022-01-27",
          "2022-01-28",
          "2022-01-29",
          "2022-01-30",
          "2022-01-31",
          "2022-02-01",
          "2022-02-02",
          "2022-02-03",
          "2022-02-04",
          "2022-02-05",
          "2022-02-06",
          "2022-02-07",
          "2022-02-08",
          "2022-02-09",
          "2022-02-10",
          "2022-02-11",
          "2022-02-12",
          "2022-02-13",
          "2022-02-14",
          "2022-02-15",
          "2022-02-16",
          "2022-02-17",
          "2022-02-18",
          "2022-02-19",
          "2022-02-20",
          "2022-02-21",
          "2022-02-22",
          "2022-02-23",
          "2022-02-24",
          "2022-02-25",
          "2022-02-26",
          "2022-02-27",
          "2022-02-28",
          "2022-03-01",
          "2022-03-02",
          "2022-03-03",
          "2022-03-04",
          "2022-03-05",
          "2022-03-06",
          "2022-03-07",
          "2022-03-08",
          "2022-03-09",
          "2022-03-10",
          "2022-03-11",
          "2022-03-12",
          "2022-03-13",
          "2022-03-14",
          "2022-03-15",
          "2022-03-16",
          "2022-03-17",
          "2022-03-18",
          "2022-03-19",
          "2022-03-20",
          "2022-03-21",
          "2022-03-22",
          "2022-03-23",
          "2022-03-24",
          "2022-03-25",
          "2022-03-26",
          "2022-03-27",
          "2022-03-28",
          "2022-03-29",
          "2022-03-30",
          "2022-03-31",
          "2022-04-01",
          "2022-04-02",
          "2022-04-03",
          "2022-04-04",
          "2022-04-05",
          "2022-04-06",
          "2022-04-07",
          "2022-04-08",
          "2022-04-09",
          "2022-04-10",
          "2022-04-11"
         ],
         "y": [
          null,
          null,
          null,
          null,
          null,
          null,
          null,
          null,
          null,
          null,
          null,
          null,
          null,
          null,
          null,
          null,
          null,
          null,
          null,
          null,
          null,
          null,
          null,
          null,
          null,
          null,
          null,
          null,
          null,
          null,
          null,
          null,
          null,
          null,
          null,
          null,
          null,
          null,
          1.0,
          1.0,
          2.0,
          3.0,
          5.0,
          7.0,
          8.0,
          14.0,
          21.0,
          30.0,
          38.0,
          49.0,
          60.0,
          81.0,
          103.0,
          134.0,
          166.0,
          201.0,
          239.0,
          284.0,
          332.0,
          385.0,
          455.0,
          535.0,
          605.0,
          373.0,
          401.0,
          477.0,
          591.0,
          687.0,
          793.0,
          870.0,
          887.0,
          899.0,
          919.0,
          1033.0,
          1203.0,
          1333.0,
          1400.0,
          1511.0,
          1540.0,
          1580.0,
          1765.0,
          1937.0,
          2021.0,
          2152.0,
          2192.0,
          2194.0,
          2274.0,
          2355.0,
          2462.0,
          2586.0,
          2653.0,
          2669.0,
          2679.0,
          2769.0,
          2854.0,
          2941.0,
          3040.0,
          3175.0,
          3220.0,
          3225.0,
          3256.0,
          3313.0,
          3460.0,
          3529.0,
          3646.0,
          3674.0,
          3679.0,
          3698.0,
          3743.0,
          3831.0,
          3871.0,
          3925.0,
          3992.0,
          3998.0,
          4029.0,
          4125.0,
          4220.0,
          4266.0,
          4350.0,
          4395.0,
          4395.0,
          4403.0,
          4468.0,
          4542.0,
          4562.0,
          4639.0,
          4656.0,
          4659.0,
          4694.0,
          4717.0,
          4795.0,
          4814.0,
          4854.0,
          4874.0,
          4874.0,
          4891.0,
          4939.0,
          5041.0,
          5053.0,
          5053.0,
          5053.0,
          5053.0,
          5053.0,
          5161.0,
          5209.0,
          5230.0,
          5280.0,
          5280.0,
          5280.0,
          5280.0,
          5333.0,
          5370.0,
          5411.0,
          5420.0,
          5420.0,
          5420.0,
          5420.0,
          5447.0,
          5482.0,
          5500.0,
          5526.0,
          5526.0,
          5526.0,
          5526.0,
          5545.0,
          5572.0,
          5593.0,
          5619.0,
          5619.0,
          5619.0,
          5619.0,
          5646.0,
          5667.0,
          5676.0,
          5697.0,
          5697.0,
          5697.0,
          5697.0,
          5702.0,
          5730.0,
          5739.0,
          5743.0,
          5743.0,
          5743.0,
          5743.0,
          5747.0,
          5760.0,
          5766.0,
          5763.0,
          5763.0,
          5763.0,
          5763.0,
          5770.0,
          5774.0,
          5776.0,
          5783.0,
          5783.0,
          5783.0,
          5783.0,
          5790.0,
          5802.0,
          5805.0,
          5810.0,
          5810.0,
          5810.0,
          5810.0,
          5814.0,
          5817.0,
          5820.0,
          5821.0,
          5821.0,
          5821.0,
          5821.0,
          5813.0,
          5820.0,
          5832.0,
          5835.0,
          5835.0,
          5835.0,
          5835.0,
          5838.0,
          5842.0,
          5843.0,
          5846.0,
          5846.0,
          5846.0,
          5846.0,
          5846.0,
          5860.0,
          5864.0,
          5865.0,
          5865.0,
          5865.0,
          5865.0,
          5865.0,
          5876.0,
          5878.0,
          5880.0,
          5880.0,
          5880.0,
          5880.0,
          5880.0,
          5893.0,
          5893.0,
          5895.0,
          5895.0,
          5895.0,
          5895.0,
          5895.0,
          5892.0,
          5892.0,
          5894.0,
          5894.0,
          5894.0,
          5894.0,
          5894.0,
          5907.0,
          5910.0,
          5918.0,
          5918.0,
          5918.0,
          5918.0,
          5918.0,
          5929.0,
          5930.0,
          5933.0,
          5933.0,
          5933.0,
          5933.0,
          5933.0,
          5927.0,
          5934.0,
          5938.0,
          5938.0,
          5938.0,
          5938.0,
          5938.0,
          5997.0,
          6002.0,
          6022.0,
          6022.0,
          6022.0,
          6022.0,
          6022.0,
          6082.0,
          6122.0,
          6164.0,
          6164.0,
          6164.0,
          6164.0,
          6164.0,
          6321.0,
          6340.0,
          6406.0,
          6406.0,
          6406.0,
          6406.0,
          6406.0,
          6555.0,
          6622.0,
          6681.0,
          6681.0,
          6681.0,
          6681.0,
          6681.0,
          6972.0,
          7007.0,
          7067.0,
          7067.0,
          7067.0,
          7067.0,
          7067.0,
          7296.0,
          7354.0,
          7514.0,
          7514.0,
          7514.0,
          7514.0,
          7514.0,
          7802.0,
          7893.0,
          7993.0,
          7993.0,
          7993.0,
          7993.0,
          7993.0,
          8279.0,
          8279.0,
          8279.0,
          8279.0,
          8279.0,
          8279.0,
          8279.0,
          8727.0,
          8727.0,
          8727.0,
          8727.0,
          8727.0,
          8727.0,
          8965.0,
          8965.0,
          9262.0,
          9433.0,
          9433.0,
          9433.0,
          9433.0,
          9433.0,
          9834.0,
          10185.0,
          10323.0,
          10323.0,
          10323.0,
          10323.0,
          10323.0,
          10797.0,
          10921.0,
          11005.0,
          11005.0,
          11005.0,
          11005.0,
          11247.0,
          11425.0,
          11520.0,
          11591.0,
          11591.0,
          11591.0,
          11591.0,
          11815.0,
          11939.0,
          12028.0,
          12115.0,
          12115.0,
          12115.0,
          12115.0,
          12188.0,
          12326.0,
          12370.0,
          12428.0,
          12428.0,
          12428.0,
          12428.0,
          12487.0,
          12569.0,
          12598.0,
          12649.0,
          12649.0,
          12649.0,
          12649.0,
          12713.0,
          12793.0,
          12798.0,
          12826.0,
          12826.0,
          12826.0,
          12826.0,
          12882.0,
          12964.0,
          12977.0,
          13003.0,
          13003.0,
          13003.0,
          13003.0,
          13042.0,
          13088.0,
          13111.0,
          13146.0,
          13146.0,
          13146.0,
          13146.0,
          13172.0,
          13228.0,
          13236.0,
          13262.0,
          13262.0,
          13262.0,
          13262.0,
          13315.0,
          13357.0,
          13373.0,
          13402.0,
          13402.0,
          13402.0,
          13402.0,
          13430.0,
          13465.0,
          13498.0,
          13498.0,
          13498.0,
          13498.0,
          13498.0,
          13533.0,
          13578.0,
          13595.0,
          13621.0,
          13621.0,
          13621.0,
          13621.0,
          13660.0,
          13720.0,
          13761.0,
          13788.0,
          13788.0,
          13788.0,
          13788.0,
          13825.0,
          13863.0,
          13882.0,
          13923.0,
          13923.0,
          13923.0,
          13923.0,
          13968.0,
          14000.0,
          14002.0,
          14048.0,
          14048.0,
          14048.0,
          14048.0,
          14091.0,
          14151.0,
          14158.0,
          14173.0,
          14173.0,
          14173.0,
          14173.0,
          14217.0,
          14267.0,
          14267.0,
          14275.0,
          14275.0,
          14275.0,
          14275.0,
          14301.0,
          14349.0,
          14351.0,
          14366.0,
          14366.0,
          14366.0,
          14366.0,
          14396.0,
          14436.0,
          14451.0,
          14451.0,
          14451.0,
          14451.0,
          14451.0,
          14451.0,
          14451.0,
          14512.0,
          14523.0,
          14523.0,
          14523.0,
          14523.0,
          14546.0,
          14562.0,
          14565.0,
          14574.0,
          14574.0,
          14574.0,
          14574.0,
          14574.0,
          14574.0,
          14574.0,
          14574.0,
          14574.0,
          14574.0,
          14574.0,
          14608.0,
          14616.0,
          14619.0,
          14619.0,
          14619.0,
          14619.0,
          14619.0,
          14626.0,
          14629.0,
          14630.0,
          14631.0,
          14631.0,
          14631.0,
          14631.0,
          14633.0,
          14639.0,
          14642.0,
          14643.0,
          14643.0,
          14643.0,
          14643.0,
          14645.0,
          14642.0,
          14643.0,
          14646.0,
          14646.0,
          14646.0,
          14646.0,
          14650.0,
          14651.0,
          14651.0,
          14651.0,
          14651.0,
          14651.0,
          14651.0,
          14655.0,
          14655.0,
          14656.0,
          14655.0,
          14655.0,
          14655.0,
          14655.0,
          14657.0,
          14657.0,
          14657.0,
          14657.0,
          14657.0,
          14657.0,
          14657.0,
          14658.0,
          14658.0,
          14658.0,
          14658.0,
          14658.0,
          14658.0,
          14658.0,
          14659.0,
          14662.0,
          14664.0,
          14668.0,
          14668.0,
          14668.0,
          14668.0,
          14670.0,
          14674.0,
          14682.0,
          14685.0,
          14685.0,
          14685.0,
          14685.0,
          14692.0,
          14692.0,
          14692.0,
          14692.0,
          14692.0,
          14692.0,
          14692.0,
          14699.0,
          14700.0,
          14702.0,
          14703.0,
          14703.0,
          14703.0,
          14703.0,
          14729.0,
          14740.0,
          14753.0,
          14775.0,
          14775.0,
          14775.0,
          14775.0,
          14790.0,
          14809.0,
          14813.0,
          14821.0,
          14821.0,
          14821.0,
          14821.0,
          14850.0,
          14856.0,
          14864.0,
          14868.0,
          14868.0,
          14868.0,
          14868.0,
          14876.0,
          14889.0,
          14904.0,
          14905.0,
          14905.0,
          14905.0,
          14905.0,
          14920.0,
          14922.0,
          14926.0,
          14956.0,
          14956.0,
          14956.0,
          14956.0,
          14963.0,
          14985.0,
          14986.0,
          14993.0,
          14993.0,
          14993.0,
          14993.0,
          15002.0,
          15016.0,
          15018.0,
          15025.0,
          15025.0,
          15025.0,
          15025.0,
          15040.0,
          15043.0,
          15050.0,
          15057.0,
          15057.0,
          15057.0,
          15057.0,
          15065.0,
          15076.0,
          15078.0,
          15082.0,
          15082.0,
          15082.0,
          15082.0,
          15094.0,
          15107.0,
          15109.0,
          15110.0,
          15110.0,
          15110.0,
          15110.0,
          15126.0,
          15142.0,
          15142.0,
          15145.0,
          15145.0,
          15145.0,
          15145.0,
          15151.0,
          15161.0,
          15164.0,
          15170.0,
          15170.0,
          15170.0,
          15170.0,
          15177.0,
          15184.0,
          15185.0,
          15191.0,
          15191.0,
          15191.0,
          15191.0,
          15204.0,
          15221.0,
          15226.0,
          15231.0,
          15231.0,
          15231.0,
          15231.0,
          15242.0,
          15259.0,
          15265.0,
          15265.0,
          15265.0,
          15265.0,
          15265.0,
          15286.0,
          15297.0,
          15310.0,
          15310.0,
          15310.0,
          15310.0,
          15310.0,
          15330.0,
          15369.0,
          15369.0,
          15377.0,
          15377.0,
          15377.0,
          15377.0,
          15431.0,
          15462.0,
          15482.0,
          15513.0,
          15513.0,
          15513.0,
          15513.0,
          15558.0,
          15625.0,
          15631.0,
          15674.0,
          15674.0,
          15674.0,
          15674.0,
          15693.0,
          15768.0,
          15778.0,
          15855.0,
          15855.0,
          15855.0,
          15855.0,
          15961.0,
          16028.0,
          16100.0,
          16180.0,
          16180.0,
          16180.0,
          16180.0,
          16244.0,
          16358.0,
          16395.0,
          16501.0,
          16501.0,
          16501.0,
          16501.0,
          16579.0,
          16716.0,
          16768.0,
          16852.0,
          16852.0,
          16852.0,
          16852.0,
          16933.0,
          17064.0,
          17083.0,
          17142.0,
          17142.0,
          17142.0,
          17142.0,
          17242.0,
          17355.0,
          17425.0,
          17512.0,
          17512.0,
          17512.0,
          17512.0,
          17549.0,
          17693.0,
          17749.0,
          17798.0,
          17798.0,
          17798.0,
          17798.0,
          17874.0,
          17937.0,
          17994.0,
          18053.0,
          18053.0,
          18053.0,
          18053.0,
          18053.0,
          18053.0,
          18189.0,
          18189.0,
          18189.0,
          18189.0,
          18189.0,
          18189.0,
          18189.0,
          18365.0,
          18365.0,
          18365.0,
          18365.0,
          18365.0,
          18365.0,
          18365.0,
          18506.0,
          18506.0,
          18506.0,
          18506.0,
          18506.0
         ],
         "type": "scatter",
         "uid": "a9679af2-29d5-4b61-a341-aefb08129760"
        }
       ],
       "layout": {
        "template": {
         "data": {
          "barpolar": [
           {
            "marker": {
             "line": {
              "color": "rgb(17,17,17)",
              "width": 0.5
             },
             "pattern": {
              "fillmode": "overlay",
              "size": 10,
              "solidity": 0.2
             }
            },
            "type": "barpolar"
           }
          ],
          "bar": [
           {
            "error_x": {
             "color": "#f2f5fa"
            },
            "error_y": {
             "color": "#f2f5fa"
            },
            "marker": {
             "line": {
              "color": "rgb(17,17,17)",
              "width": 0.5
             },
             "pattern": {
              "fillmode": "overlay",
              "size": 10,
              "solidity": 0.2
             }
            },
            "type": "bar"
           }
          ],
          "carpet": [
           {
            "aaxis": {
             "endlinecolor": "#A2B1C6",
             "gridcolor": "#506784",
             "linecolor": "#506784",
             "minorgridcolor": "#506784",
             "startlinecolor": "#A2B1C6"
            },
            "baxis": {
             "endlinecolor": "#A2B1C6",
             "gridcolor": "#506784",
             "linecolor": "#506784",
             "minorgridcolor": "#506784",
             "startlinecolor": "#A2B1C6"
            },
            "type": "carpet"
           }
          ],
          "choropleth": [
           {
            "colorbar": {
             "outlinewidth": 0,
             "ticks": ""
            },
            "type": "choropleth"
           }
          ],
          "contourcarpet": [
           {
            "colorbar": {
             "outlinewidth": 0,
             "ticks": ""
            },
            "type": "contourcarpet"
           }
          ],
          "contour": [
           {
            "colorbar": {
             "outlinewidth": 0,
             "ticks": ""
            },
            "colorscale": [
             [
              0.0,
              "#0d0887"
             ],
             [
              0.1111111111111111,
              "#46039f"
             ],
             [
              0.2222222222222222,
              "#7201a8"
             ],
             [
              0.3333333333333333,
              "#9c179e"
             ],
             [
              0.4444444444444444,
              "#bd3786"
             ],
             [
              0.5555555555555556,
              "#d8576b"
             ],
             [
              0.6666666666666666,
              "#ed7953"
             ],
             [
              0.7777777777777778,
              "#fb9f3a"
             ],
             [
              0.8888888888888888,
              "#fdca26"
             ],
             [
              1.0,
              "#f0f921"
             ]
            ],
            "type": "contour"
           }
          ],
          "heatmapgl": [
           {
            "colorbar": {
             "outlinewidth": 0,
             "ticks": ""
            },
            "colorscale": [
             [
              0.0,
              "#0d0887"
             ],
             [
              0.1111111111111111,
              "#46039f"
             ],
             [
              0.2222222222222222,
              "#7201a8"
             ],
             [
              0.3333333333333333,
              "#9c179e"
             ],
             [
              0.4444444444444444,
              "#bd3786"
             ],
             [
              0.5555555555555556,
              "#d8576b"
             ],
             [
              0.6666666666666666,
              "#ed7953"
             ],
             [
              0.7777777777777778,
              "#fb9f3a"
             ],
             [
              0.8888888888888888,
              "#fdca26"
             ],
             [
              1.0,
              "#f0f921"
             ]
            ],
            "type": "heatmapgl"
           }
          ],
          "heatmap": [
           {
            "colorbar": {
             "outlinewidth": 0,
             "ticks": ""
            },
            "colorscale": [
             [
              0.0,
              "#0d0887"
             ],
             [
              0.1111111111111111,
              "#46039f"
             ],
             [
              0.2222222222222222,
              "#7201a8"
             ],
             [
              0.3333333333333333,
              "#9c179e"
             ],
             [
              0.4444444444444444,
              "#bd3786"
             ],
             [
              0.5555555555555556,
              "#d8576b"
             ],
             [
              0.6666666666666666,
              "#ed7953"
             ],
             [
              0.7777777777777778,
              "#fb9f3a"
             ],
             [
              0.8888888888888888,
              "#fdca26"
             ],
             [
              1.0,
              "#f0f921"
             ]
            ],
            "type": "heatmap"
           }
          ],
          "histogram2dcontour": [
           {
            "colorbar": {
             "outlinewidth": 0,
             "ticks": ""
            },
            "colorscale": [
             [
              0.0,
              "#0d0887"
             ],
             [
              0.1111111111111111,
              "#46039f"
             ],
             [
              0.2222222222222222,
              "#7201a8"
             ],
             [
              0.3333333333333333,
              "#9c179e"
             ],
             [
              0.4444444444444444,
              "#bd3786"
             ],
             [
              0.5555555555555556,
              "#d8576b"
             ],
             [
              0.6666666666666666,
              "#ed7953"
             ],
             [
              0.7777777777777778,
              "#fb9f3a"
             ],
             [
              0.8888888888888888,
              "#fdca26"
             ],
             [
              1.0,
              "#f0f921"
             ]
            ],
            "type": "histogram2dcontour"
           }
          ],
          "histogram2d": [
           {
            "colorbar": {
             "outlinewidth": 0,
             "ticks": ""
            },
            "colorscale": [
             [
              0.0,
              "#0d0887"
             ],
             [
              0.1111111111111111,
              "#46039f"
             ],
             [
              0.2222222222222222,
              "#7201a8"
             ],
             [
              0.3333333333333333,
              "#9c179e"
             ],
             [
              0.4444444444444444,
              "#bd3786"
             ],
             [
              0.5555555555555556,
              "#d8576b"
             ],
             [
              0.6666666666666666,
              "#ed7953"
             ],
             [
              0.7777777777777778,
              "#fb9f3a"
             ],
             [
              0.8888888888888888,
              "#fdca26"
             ],
             [
              1.0,
              "#f0f921"
             ]
            ],
            "type": "histogram2d"
           }
          ],
          "histogram": [
           {
            "marker": {
             "pattern": {
              "fillmode": "overlay",
              "size": 10,
              "solidity": 0.2
             }
            },
            "type": "histogram"
           }
          ],
          "mesh3d": [
           {
            "colorbar": {
             "outlinewidth": 0,
             "ticks": ""
            },
            "type": "mesh3d"
           }
          ],
          "parcoords": [
           {
            "line": {
             "colorbar": {
              "outlinewidth": 0,
              "ticks": ""
             }
            },
            "type": "parcoords"
           }
          ],
          "pie": [
           {
            "automargin": true,
            "type": "pie"
           }
          ],
          "scatter3d": [
           {
            "line": {
             "colorbar": {
              "outlinewidth": 0,
              "ticks": ""
             }
            },
            "marker": {
             "colorbar": {
              "outlinewidth": 0,
              "ticks": ""
             }
            },
            "type": "scatter3d"
           }
          ],
          "scattercarpet": [
           {
            "marker": {
             "colorbar": {
              "outlinewidth": 0,
              "ticks": ""
             }
            },
            "type": "scattercarpet"
           }
          ],
          "scattergeo": [
           {
            "marker": {
             "colorbar": {
              "outlinewidth": 0,
              "ticks": ""
             }
            },
            "type": "scattergeo"
           }
          ],
          "scattergl": [
           {
            "marker": {
             "line": {
              "color": "#283442"
             }
            },
            "type": "scattergl"
           }
          ],
          "scattermapbox": [
           {
            "marker": {
             "colorbar": {
              "outlinewidth": 0,
              "ticks": ""
             }
            },
            "type": "scattermapbox"
           }
          ],
          "scatterpolargl": [
           {
            "marker": {
             "colorbar": {
              "outlinewidth": 0,
              "ticks": ""
             }
            },
            "type": "scatterpolargl"
           }
          ],
          "scatterpolar": [
           {
            "marker": {
             "colorbar": {
              "outlinewidth": 0,
              "ticks": ""
             }
            },
            "type": "scatterpolar"
           }
          ],
          "scatter": [
           {
            "marker": {
             "line": {
              "color": "#283442"
             }
            },
            "type": "scatter"
           }
          ],
          "scatterternary": [
           {
            "marker": {
             "colorbar": {
              "outlinewidth": 0,
              "ticks": ""
             }
            },
            "type": "scatterternary"
           }
          ],
          "surface": [
           {
            "colorbar": {
             "outlinewidth": 0,
             "ticks": ""
            },
            "colorscale": [
             [
              0.0,
              "#0d0887"
             ],
             [
              0.1111111111111111,
              "#46039f"
             ],
             [
              0.2222222222222222,
              "#7201a8"
             ],
             [
              0.3333333333333333,
              "#9c179e"
             ],
             [
              0.4444444444444444,
              "#bd3786"
             ],
             [
              0.5555555555555556,
              "#d8576b"
             ],
             [
              0.6666666666666666,
              "#ed7953"
             ],
             [
              0.7777777777777778,
              "#fb9f3a"
             ],
             [
              0.8888888888888888,
              "#fdca26"
             ],
             [
              1.0,
              "#f0f921"
             ]
            ],
            "type": "surface"
           }
          ],
          "table": [
           {
            "cells": {
             "fill": {
              "color": "#506784"
             },
             "line": {
              "color": "rgb(17,17,17)"
             }
            },
            "header": {
             "fill": {
              "color": "#2a3f5f"
             },
             "line": {
              "color": "rgb(17,17,17)"
             }
            },
            "type": "table"
           }
          ]
         },
         "layout": {
          "annotationdefaults": {
           "arrowcolor": "#f2f5fa",
           "arrowhead": 0,
           "arrowwidth": 1
          },
          "autotypenumbers": "strict",
          "coloraxis": {
           "colorbar": {
            "outlinewidth": 0,
            "ticks": ""
           }
          },
          "colorscale": {
           "diverging": [
            [
             0,
             "#8e0152"
            ],
            [
             0.1,
             "#c51b7d"
            ],
            [
             0.2,
             "#de77ae"
            ],
            [
             0.3,
             "#f1b6da"
            ],
            [
             0.4,
             "#fde0ef"
            ],
            [
             0.5,
             "#f7f7f7"
            ],
            [
             0.6,
             "#e6f5d0"
            ],
            [
             0.7,
             "#b8e186"
            ],
            [
             0.8,
             "#7fbc41"
            ],
            [
             0.9,
             "#4d9221"
            ],
            [
             1,
             "#276419"
            ]
           ],
           "sequential": [
            [
             0.0,
             "#0d0887"
            ],
            [
             0.1111111111111111,
             "#46039f"
            ],
            [
             0.2222222222222222,
             "#7201a8"
            ],
            [
             0.3333333333333333,
             "#9c179e"
            ],
            [
             0.4444444444444444,
             "#bd3786"
            ],
            [
             0.5555555555555556,
             "#d8576b"
            ],
            [
             0.6666666666666666,
             "#ed7953"
            ],
            [
             0.7777777777777778,
             "#fb9f3a"
            ],
            [
             0.8888888888888888,
             "#fdca26"
            ],
            [
             1.0,
             "#f0f921"
            ]
           ],
           "sequentialminus": [
            [
             0.0,
             "#0d0887"
            ],
            [
             0.1111111111111111,
             "#46039f"
            ],
            [
             0.2222222222222222,
             "#7201a8"
            ],
            [
             0.3333333333333333,
             "#9c179e"
            ],
            [
             0.4444444444444444,
             "#bd3786"
            ],
            [
             0.5555555555555556,
             "#d8576b"
            ],
            [
             0.6666666666666666,
             "#ed7953"
            ],
            [
             0.7777777777777778,
             "#fb9f3a"
            ],
            [
             0.8888888888888888,
             "#fdca26"
            ],
            [
             1.0,
             "#f0f921"
            ]
           ]
          },
          "colorway": [
           "#636efa",
           "#EF553B",
           "#00cc96",
           "#ab63fa",
           "#FFA15A",
           "#19d3f3",
           "#FF6692",
           "#B6E880",
           "#FF97FF",
           "#FECB52"
          ],
          "font": {
           "color": "#f2f5fa"
          },
          "geo": {
           "bgcolor": "rgb(17,17,17)",
           "lakecolor": "rgb(17,17,17)",
           "landcolor": "rgb(17,17,17)",
           "showlakes": true,
           "showland": true,
           "subunitcolor": "#506784"
          },
          "hoverlabel": {
           "align": "left"
          },
          "hovermode": "closest",
          "mapbox": {
           "style": "dark"
          },
          "paper_bgcolor": "rgb(17,17,17)",
          "plot_bgcolor": "rgb(17,17,17)",
          "polar": {
           "angularaxis": {
            "gridcolor": "#506784",
            "linecolor": "#506784",
            "ticks": ""
           },
           "bgcolor": "rgb(17,17,17)",
           "radialaxis": {
            "gridcolor": "#506784",
            "linecolor": "#506784",
            "ticks": ""
           }
          },
          "scene": {
           "xaxis": {
            "backgroundcolor": "rgb(17,17,17)",
            "gridcolor": "#506784",
            "gridwidth": 2,
            "linecolor": "#506784",
            "showbackground": true,
            "ticks": "",
            "zerolinecolor": "#C8D4E3"
           },
           "yaxis": {
            "backgroundcolor": "rgb(17,17,17)",
            "gridcolor": "#506784",
            "gridwidth": 2,
            "linecolor": "#506784",
            "showbackground": true,
            "ticks": "",
            "zerolinecolor": "#C8D4E3"
           },
           "zaxis": {
            "backgroundcolor": "rgb(17,17,17)",
            "gridcolor": "#506784",
            "gridwidth": 2,
            "linecolor": "#506784",
            "showbackground": true,
            "ticks": "",
            "zerolinecolor": "#C8D4E3"
           }
          },
          "shapedefaults": {
           "line": {
            "color": "#f2f5fa"
           }
          },
          "sliderdefaults": {
           "bgcolor": "#C8D4E3",
           "bordercolor": "rgb(17,17,17)",
           "borderwidth": 1,
           "tickwidth": 0
          },
          "ternary": {
           "aaxis": {
            "gridcolor": "#506784",
            "linecolor": "#506784",
            "ticks": ""
           },
           "baxis": {
            "gridcolor": "#506784",
            "linecolor": "#506784",
            "ticks": ""
           },
           "bgcolor": "rgb(17,17,17)",
           "caxis": {
            "gridcolor": "#506784",
            "linecolor": "#506784",
            "ticks": ""
           }
          },
          "title": {
           "x": 0.05
          },
          "updatemenudefaults": {
           "bgcolor": "#506784",
           "borderwidth": 0
          },
          "xaxis": {
           "automargin": true,
           "gridcolor": "#283442",
           "linecolor": "#506784",
           "ticks": "",
           "title": {
            "standoff": 15
           },
           "zerolinecolor": "#283442",
           "zerolinewidth": 2
          },
          "yaxis": {
           "automargin": true,
           "gridcolor": "#283442",
           "linecolor": "#506784",
           "ticks": "",
           "title": {
            "standoff": 15
           },
           "zerolinecolor": "#283442",
           "zerolinewidth": 2
          }
         }
        },
        "title": {
         "text": "Confirmed cases and deaths for Sweden"
        }
       },
       "config": {
        "plotlyServerURL": "https://plot.ly"
       }
      },
      "text/html": "<div>                            <div id=\"4f4c613e-8290-4bd4-b0d1-02c2bb316dd6\" class=\"plotly-graph-div\" style=\"height:525px; width:100%;\"></div>            <script type=\"text/javascript\">                require([\"plotly\"], function(Plotly) {                    window.PLOTLYENV=window.PLOTLYENV || {};                                    if (document.getElementById(\"4f4c613e-8290-4bd4-b0d1-02c2bb316dd6\")) {                    Plotly.newPlot(                        \"4f4c613e-8290-4bd4-b0d1-02c2bb316dd6\",                        [{\"connectgaps\":true,\"marker\":{\"color\":\"green\"},\"mode\":\"lines\",\"name\":\"Confirmed cases\",\"x\":[\"2020-02-01\",\"2020-02-02\",\"2020-02-03\",\"2020-02-04\",\"2020-02-05\",\"2020-02-06\",\"2020-02-07\",\"2020-02-08\",\"2020-02-09\",\"2020-02-10\",\"2020-02-11\",\"2020-02-12\",\"2020-02-13\",\"2020-02-14\",\"2020-02-15\",\"2020-02-16\",\"2020-02-17\",\"2020-02-18\",\"2020-02-19\",\"2020-02-20\",\"2020-02-21\",\"2020-02-22\",\"2020-02-23\",\"2020-02-24\",\"2020-02-25\",\"2020-02-26\",\"2020-02-27\",\"2020-02-28\",\"2020-02-29\",\"2020-03-01\",\"2020-03-02\",\"2020-03-03\",\"2020-03-04\",\"2020-03-05\",\"2020-03-06\",\"2020-03-07\",\"2020-03-08\",\"2020-03-09\",\"2020-03-10\",\"2020-03-11\",\"2020-03-12\",\"2020-03-13\",\"2020-03-14\",\"2020-03-15\",\"2020-03-16\",\"2020-03-17\",\"2020-03-18\",\"2020-03-19\",\"2020-03-20\",\"2020-03-21\",\"2020-03-22\",\"2020-03-23\",\"2020-03-24\",\"2020-03-25\",\"2020-03-26\",\"2020-03-27\",\"2020-03-28\",\"2020-03-29\",\"2020-03-30\",\"2020-03-31\",\"2020-04-01\",\"2020-04-02\",\"2020-04-03\",\"2020-04-04\",\"2020-04-05\",\"2020-04-06\",\"2020-04-07\",\"2020-04-08\",\"2020-04-09\",\"2020-04-10\",\"2020-04-11\",\"2020-04-12\",\"2020-04-13\",\"2020-04-14\",\"2020-04-15\",\"2020-04-16\",\"2020-04-17\",\"2020-04-18\",\"2020-04-19\",\"2020-04-20\",\"2020-04-21\",\"2020-04-22\",\"2020-04-23\",\"2020-04-24\",\"2020-04-25\",\"2020-04-26\",\"2020-04-27\",\"2020-04-28\",\"2020-04-29\",\"2020-04-30\",\"2020-05-01\",\"2020-05-02\",\"2020-05-03\",\"2020-05-04\",\"2020-05-05\",\"2020-05-06\",\"2020-05-07\",\"2020-05-08\",\"2020-05-09\",\"2020-05-10\",\"2020-05-11\",\"2020-05-12\",\"2020-05-13\",\"2020-05-14\",\"2020-05-15\",\"2020-05-16\",\"2020-05-17\",\"2020-05-18\",\"2020-05-19\",\"2020-05-20\",\"2020-05-21\",\"2020-05-22\",\"2020-05-23\",\"2020-05-24\",\"2020-05-25\",\"2020-05-26\",\"2020-05-27\",\"2020-05-28\",\"2020-05-29\",\"2020-05-30\",\"2020-05-31\",\"2020-06-01\",\"2020-06-02\",\"2020-06-03\",\"2020-06-04\",\"2020-06-05\",\"2020-06-06\",\"2020-06-07\",\"2020-06-08\",\"2020-06-09\",\"2020-06-10\",\"2020-06-11\",\"2020-06-12\",\"2020-06-13\",\"2020-06-14\",\"2020-06-15\",\"2020-06-16\",\"2020-06-17\",\"2020-06-18\",\"2020-06-19\",\"2020-06-20\",\"2020-06-21\",\"2020-06-22\",\"2020-06-23\",\"2020-06-24\",\"2020-06-25\",\"2020-06-26\",\"2020-06-27\",\"2020-06-28\",\"2020-06-29\",\"2020-06-30\",\"2020-07-01\",\"2020-07-02\",\"2020-07-03\",\"2020-07-04\",\"2020-07-05\",\"2020-07-06\",\"2020-07-07\",\"2020-07-08\",\"2020-07-09\",\"2020-07-10\",\"2020-07-11\",\"2020-07-12\",\"2020-07-13\",\"2020-07-14\",\"2020-07-15\",\"2020-07-16\",\"2020-07-17\",\"2020-07-18\",\"2020-07-19\",\"2020-07-20\",\"2020-07-21\",\"2020-07-22\",\"2020-07-23\",\"2020-07-24\",\"2020-07-25\",\"2020-07-26\",\"2020-07-27\",\"2020-07-28\",\"2020-07-29\",\"2020-07-30\",\"2020-07-31\",\"2020-08-01\",\"2020-08-02\",\"2020-08-03\",\"2020-08-04\",\"2020-08-05\",\"2020-08-06\",\"2020-08-07\",\"2020-08-08\",\"2020-08-09\",\"2020-08-10\",\"2020-08-11\",\"2020-08-12\",\"2020-08-13\",\"2020-08-14\",\"2020-08-15\",\"2020-08-16\",\"2020-08-17\",\"2020-08-18\",\"2020-08-19\",\"2020-08-20\",\"2020-08-21\",\"2020-08-22\",\"2020-08-23\",\"2020-08-24\",\"2020-08-25\",\"2020-08-26\",\"2020-08-27\",\"2020-08-28\",\"2020-08-29\",\"2020-08-30\",\"2020-08-31\",\"2020-09-01\",\"2020-09-02\",\"2020-09-03\",\"2020-09-04\",\"2020-09-05\",\"2020-09-06\",\"2020-09-07\",\"2020-09-08\",\"2020-09-09\",\"2020-09-10\",\"2020-09-11\",\"2020-09-12\",\"2020-09-13\",\"2020-09-14\",\"2020-09-15\",\"2020-09-16\",\"2020-09-17\",\"2020-09-18\",\"2020-09-19\",\"2020-09-20\",\"2020-09-21\",\"2020-09-22\",\"2020-09-23\",\"2020-09-24\",\"2020-09-25\",\"2020-09-26\",\"2020-09-27\",\"2020-09-28\",\"2020-09-29\",\"2020-09-30\",\"2020-10-01\",\"2020-10-02\",\"2020-10-03\",\"2020-10-04\",\"2020-10-05\",\"2020-10-06\",\"2020-10-07\",\"2020-10-08\",\"2020-10-09\",\"2020-10-10\",\"2020-10-11\",\"2020-10-12\",\"2020-10-13\",\"2020-10-14\",\"2020-10-15\",\"2020-10-16\",\"2020-10-17\",\"2020-10-18\",\"2020-10-19\",\"2020-10-20\",\"2020-10-21\",\"2020-10-22\",\"2020-10-23\",\"2020-10-24\",\"2020-10-25\",\"2020-10-26\",\"2020-10-27\",\"2020-10-28\",\"2020-10-29\",\"2020-10-30\",\"2020-10-31\",\"2020-11-01\",\"2020-11-02\",\"2020-11-03\",\"2020-11-04\",\"2020-11-05\",\"2020-11-06\",\"2020-11-07\",\"2020-11-08\",\"2020-11-09\",\"2020-11-10\",\"2020-11-11\",\"2020-11-12\",\"2020-11-13\",\"2020-11-14\",\"2020-11-15\",\"2020-11-16\",\"2020-11-17\",\"2020-11-18\",\"2020-11-19\",\"2020-11-20\",\"2020-11-21\",\"2020-11-22\",\"2020-11-23\",\"2020-11-24\",\"2020-11-25\",\"2020-11-26\",\"2020-11-27\",\"2020-11-28\",\"2020-11-29\",\"2020-11-30\",\"2020-12-01\",\"2020-12-02\",\"2020-12-03\",\"2020-12-04\",\"2020-12-05\",\"2020-12-06\",\"2020-12-07\",\"2020-12-08\",\"2020-12-09\",\"2020-12-10\",\"2020-12-11\",\"2020-12-12\",\"2020-12-13\",\"2020-12-14\",\"2020-12-15\",\"2020-12-16\",\"2020-12-17\",\"2020-12-18\",\"2020-12-19\",\"2020-12-20\",\"2020-12-21\",\"2020-12-22\",\"2020-12-23\",\"2020-12-24\",\"2020-12-25\",\"2020-12-26\",\"2020-12-27\",\"2020-12-28\",\"2020-12-29\",\"2020-12-30\",\"2020-12-31\",\"2021-01-01\",\"2021-01-02\",\"2021-01-03\",\"2021-01-04\",\"2021-01-05\",\"2021-01-06\",\"2021-01-07\",\"2021-01-08\",\"2021-01-09\",\"2021-01-10\",\"2021-01-11\",\"2021-01-12\",\"2021-01-13\",\"2021-01-14\",\"2021-01-15\",\"2021-01-16\",\"2021-01-17\",\"2021-01-18\",\"2021-01-19\",\"2021-01-20\",\"2021-01-21\",\"2021-01-22\",\"2021-01-23\",\"2021-01-24\",\"2021-01-25\",\"2021-01-26\",\"2021-01-27\",\"2021-01-28\",\"2021-01-29\",\"2021-01-30\",\"2021-01-31\",\"2021-02-01\",\"2021-02-02\",\"2021-02-03\",\"2021-02-04\",\"2021-02-05\",\"2021-02-06\",\"2021-02-07\",\"2021-02-08\",\"2021-02-09\",\"2021-02-10\",\"2021-02-11\",\"2021-02-12\",\"2021-02-13\",\"2021-02-14\",\"2021-02-15\",\"2021-02-16\",\"2021-02-17\",\"2021-02-18\",\"2021-02-19\",\"2021-02-20\",\"2021-02-21\",\"2021-02-22\",\"2021-02-23\",\"2021-02-24\",\"2021-02-25\",\"2021-02-26\",\"2021-02-27\",\"2021-02-28\",\"2021-03-01\",\"2021-03-02\",\"2021-03-03\",\"2021-03-04\",\"2021-03-05\",\"2021-03-06\",\"2021-03-07\",\"2021-03-08\",\"2021-03-09\",\"2021-03-10\",\"2021-03-11\",\"2021-03-12\",\"2021-03-13\",\"2021-03-14\",\"2021-03-15\",\"2021-03-16\",\"2021-03-17\",\"2021-03-18\",\"2021-03-19\",\"2021-03-20\",\"2021-03-21\",\"2021-03-22\",\"2021-03-23\",\"2021-03-24\",\"2021-03-25\",\"2021-03-26\",\"2021-03-27\",\"2021-03-28\",\"2021-03-29\",\"2021-03-30\",\"2021-03-31\",\"2021-04-01\",\"2021-04-02\",\"2021-04-03\",\"2021-04-04\",\"2021-04-05\",\"2021-04-06\",\"2021-04-07\",\"2021-04-08\",\"2021-04-09\",\"2021-04-10\",\"2021-04-11\",\"2021-04-12\",\"2021-04-13\",\"2021-04-14\",\"2021-04-15\",\"2021-04-16\",\"2021-04-17\",\"2021-04-18\",\"2021-04-19\",\"2021-04-20\",\"2021-04-21\",\"2021-04-22\",\"2021-04-23\",\"2021-04-24\",\"2021-04-25\",\"2021-04-26\",\"2021-04-27\",\"2021-04-28\",\"2021-04-29\",\"2021-04-30\",\"2021-05-01\",\"2021-05-02\",\"2021-05-03\",\"2021-05-04\",\"2021-05-05\",\"2021-05-06\",\"2021-05-07\",\"2021-05-08\",\"2021-05-09\",\"2021-05-10\",\"2021-05-11\",\"2021-05-12\",\"2021-05-13\",\"2021-05-14\",\"2021-05-15\",\"2021-05-16\",\"2021-05-17\",\"2021-05-18\",\"2021-05-19\",\"2021-05-20\",\"2021-05-21\",\"2021-05-22\",\"2021-05-23\",\"2021-05-24\",\"2021-05-25\",\"2021-05-26\",\"2021-05-27\",\"2021-05-28\",\"2021-05-29\",\"2021-05-30\",\"2021-05-31\",\"2021-06-01\",\"2021-06-02\",\"2021-06-03\",\"2021-06-04\",\"2021-06-05\",\"2021-06-06\",\"2021-06-07\",\"2021-06-08\",\"2021-06-09\",\"2021-06-10\",\"2021-06-11\",\"2021-06-12\",\"2021-06-13\",\"2021-06-14\",\"2021-06-15\",\"2021-06-16\",\"2021-06-17\",\"2021-06-18\",\"2021-06-19\",\"2021-06-20\",\"2021-06-21\",\"2021-06-22\",\"2021-06-23\",\"2021-06-24\",\"2021-06-25\",\"2021-06-26\",\"2021-06-27\",\"2021-06-28\",\"2021-06-29\",\"2021-06-30\",\"2021-07-01\",\"2021-07-02\",\"2021-07-03\",\"2021-07-04\",\"2021-07-05\",\"2021-07-06\",\"2021-07-07\",\"2021-07-08\",\"2021-07-09\",\"2021-07-10\",\"2021-07-11\",\"2021-07-12\",\"2021-07-13\",\"2021-07-14\",\"2021-07-15\",\"2021-07-16\",\"2021-07-17\",\"2021-07-18\",\"2021-07-19\",\"2021-07-20\",\"2021-07-21\",\"2021-07-22\",\"2021-07-23\",\"2021-07-24\",\"2021-07-25\",\"2021-07-26\",\"2021-07-27\",\"2021-07-28\",\"2021-07-29\",\"2021-07-30\",\"2021-07-31\",\"2021-08-01\",\"2021-08-02\",\"2021-08-03\",\"2021-08-04\",\"2021-08-05\",\"2021-08-06\",\"2021-08-07\",\"2021-08-08\",\"2021-08-09\",\"2021-08-10\",\"2021-08-11\",\"2021-08-12\",\"2021-08-13\",\"2021-08-14\",\"2021-08-15\",\"2021-08-16\",\"2021-08-17\",\"2021-08-18\",\"2021-08-19\",\"2021-08-20\",\"2021-08-21\",\"2021-08-22\",\"2021-08-23\",\"2021-08-24\",\"2021-08-25\",\"2021-08-26\",\"2021-08-27\",\"2021-08-28\",\"2021-08-29\",\"2021-08-30\",\"2021-08-31\",\"2021-09-01\",\"2021-09-02\",\"2021-09-03\",\"2021-09-04\",\"2021-09-05\",\"2021-09-06\",\"2021-09-07\",\"2021-09-08\",\"2021-09-09\",\"2021-09-10\",\"2021-09-11\",\"2021-09-12\",\"2021-09-13\",\"2021-09-14\",\"2021-09-15\",\"2021-09-16\",\"2021-09-17\",\"2021-09-18\",\"2021-09-19\",\"2021-09-20\",\"2021-09-21\",\"2021-09-22\",\"2021-09-23\",\"2021-09-24\",\"2021-09-25\",\"2021-09-26\",\"2021-09-27\",\"2021-09-28\",\"2021-09-29\",\"2021-09-30\",\"2021-10-01\",\"2021-10-02\",\"2021-10-03\",\"2021-10-04\",\"2021-10-05\",\"2021-10-06\",\"2021-10-07\",\"2021-10-08\",\"2021-10-09\",\"2021-10-10\",\"2021-10-11\",\"2021-10-12\",\"2021-10-13\",\"2021-10-14\",\"2021-10-15\",\"2021-10-16\",\"2021-10-17\",\"2021-10-18\",\"2021-10-19\",\"2021-10-20\",\"2021-10-21\",\"2021-10-22\",\"2021-10-23\",\"2021-10-24\",\"2021-10-25\",\"2021-10-26\",\"2021-10-27\",\"2021-10-28\",\"2021-10-29\",\"2021-10-30\",\"2021-10-31\",\"2021-11-01\",\"2021-11-02\",\"2021-11-03\",\"2021-11-04\",\"2021-11-05\",\"2021-11-06\",\"2021-11-07\",\"2021-11-08\",\"2021-11-09\",\"2021-11-10\",\"2021-11-11\",\"2021-11-12\",\"2021-11-13\",\"2021-11-14\",\"2021-11-15\",\"2021-11-16\",\"2021-11-17\",\"2021-11-18\",\"2021-11-19\",\"2021-11-20\",\"2021-11-21\",\"2021-11-22\",\"2021-11-23\",\"2021-11-24\",\"2021-11-25\",\"2021-11-26\",\"2021-11-27\",\"2021-11-28\",\"2021-11-29\",\"2021-11-30\",\"2021-12-01\",\"2021-12-02\",\"2021-12-03\",\"2021-12-04\",\"2021-12-05\",\"2021-12-06\",\"2021-12-07\",\"2021-12-08\",\"2021-12-09\",\"2021-12-10\",\"2021-12-11\",\"2021-12-12\",\"2021-12-13\",\"2021-12-14\",\"2021-12-15\",\"2021-12-16\",\"2021-12-17\",\"2021-12-18\",\"2021-12-19\",\"2021-12-20\",\"2021-12-21\",\"2021-12-22\",\"2021-12-23\",\"2021-12-24\",\"2021-12-25\",\"2021-12-26\",\"2021-12-27\",\"2021-12-28\",\"2021-12-29\",\"2021-12-30\",\"2021-12-31\",\"2022-01-01\",\"2022-01-02\",\"2022-01-03\",\"2022-01-04\",\"2022-01-05\",\"2022-01-06\",\"2022-01-07\",\"2022-01-08\",\"2022-01-09\",\"2022-01-10\",\"2022-01-11\",\"2022-01-12\",\"2022-01-13\",\"2022-01-14\",\"2022-01-15\",\"2022-01-16\",\"2022-01-17\",\"2022-01-18\",\"2022-01-19\",\"2022-01-20\",\"2022-01-21\",\"2022-01-22\",\"2022-01-23\",\"2022-01-24\",\"2022-01-25\",\"2022-01-26\",\"2022-01-27\",\"2022-01-28\",\"2022-01-29\",\"2022-01-30\",\"2022-01-31\",\"2022-02-01\",\"2022-02-02\",\"2022-02-03\",\"2022-02-04\",\"2022-02-05\",\"2022-02-06\",\"2022-02-07\",\"2022-02-08\",\"2022-02-09\",\"2022-02-10\",\"2022-02-11\",\"2022-02-12\",\"2022-02-13\",\"2022-02-14\",\"2022-02-15\",\"2022-02-16\",\"2022-02-17\",\"2022-02-18\",\"2022-02-19\",\"2022-02-20\",\"2022-02-21\",\"2022-02-22\",\"2022-02-23\",\"2022-02-24\",\"2022-02-25\",\"2022-02-26\",\"2022-02-27\",\"2022-02-28\",\"2022-03-01\",\"2022-03-02\",\"2022-03-03\",\"2022-03-04\",\"2022-03-05\",\"2022-03-06\",\"2022-03-07\",\"2022-03-08\",\"2022-03-09\",\"2022-03-10\",\"2022-03-11\",\"2022-03-12\",\"2022-03-13\",\"2022-03-14\",\"2022-03-15\",\"2022-03-16\",\"2022-03-17\",\"2022-03-18\",\"2022-03-19\",\"2022-03-20\",\"2022-03-21\",\"2022-03-22\",\"2022-03-23\",\"2022-03-24\",\"2022-03-25\",\"2022-03-26\",\"2022-03-27\",\"2022-03-28\",\"2022-03-29\",\"2022-03-30\",\"2022-03-31\",\"2022-04-01\",\"2022-04-02\",\"2022-04-03\",\"2022-04-04\",\"2022-04-05\",\"2022-04-06\",\"2022-04-07\",\"2022-04-08\",\"2022-04-09\",\"2022-04-10\",\"2022-04-11\"],\"y\":[1.0,1.0,1.0,1.0,1.0,1.0,1.0,1.0,1.0,1.0,1.0,1.0,1.0,1.0,1.0,1.0,1.0,1.0,1.0,1.0,1.0,1.0,1.0,1.0,1.0,2.0,3.0,11.0,14.0,14.0,19.0,32.0,62.0,87.0,146.0,179.0,225.0,326.0,424.0,620.0,771.0,923.0,994.0,1063.0,1146.0,1265.0,1410.0,1553.0,1733.0,1868.0,1986.0,2168.0,2398.0,2712.0,2998.0,3363.0,3663.0,3943.0,4359.0,4834.0,5320.0,5874.0,6475.0,6832.0,7172.0,7561.0,8299.0,8954.0,9599.0,10053.0,10448.0,10912.0,11349.0,11828.0,12432.0,13055.0,13743.0,14275.0,14663.0,15124.0,15831.0,16553.0,17311.0,18090.0,18563.0,18863.0,19426.0,20168.0,20966.0,21601.0,22133.0,22432.0,22693.0,23169.0,23826.0,24572.0,25359.0,26059.0,26568.0,26846.0,27301.0,28055.0,28755.0,29415.0,30103.0,30461.0,30720.0,31151.0,31818.0,32626.0,33236.0,33768.0,34171.0,34381.0,34871.0,35617.0,36417.0,37191.0,37964.0,38396.0,38661.0,39309.0,40210.0,41256.0,42295.0,43441.0,44224.0,44686.0,45363.0,46299.0,47736.0,49030.0,50367.0,51409.0,51827.0,52511.0,53729.0,55186.0,56682.0,57895.0,58597.0,58918.0,59718.0,61030.0,62728.0,64009.0,65212.0,65972.0,66392.0,67119.0,67924.0,68608.0,69297.0,69996.0,70366.0,70681.0,70932.0,71210.0,71747.0,72082.0,72459.0,72773.0,72879.0,73049.0,73364.0,73663.0,73936.0,74235.0,74435.0,74545.0,74676.0,74902.0,75199.0,75419.0,75681.0,75819.0,75861.0,75932.0,76215.0,76516.0,76818.0,77076.0,77379.0,77417.0,77582.0,77916.0,78341.0,78719.0,79099.0,79359.0,79432.0,79628.0,80045.0,80489.0,80851.0,81195.0,81421.0,81484.0,81658.0,81972.0,82323.0,82656.0,82954.0,83114.0,83171.0,83353.0,83578.0,83824.0,83958.0,83958.0,83958.0,83958.0,84379.0,84521.0,84532.0,84729.0,84985.0,84985.0,84985.0,85558.0,85707.0,85880.0,86194.0,86505.0,86505.0,86505.0,86505.0,87345.0,87575.0,87885.0,88237.0,88237.0,88237.0,88237.0,89436.0,89756.0,90289.0,90923.0,90923.0,90923.0,90923.0,92466.0,92863.0,93615.0,94283.0,94283.0,94283.0,94283.0,96145.0,96677.0,97532.0,98451.0,98451.0,98451.0,98451.0,100654.0,101332.0,102407.0,103200.0,103200.0,103200.0,103200.0,106380.0,107355.0,108969.0,110594.0,110594.0,110594.0,110594.0,115785.0,117913.0,121167.0,124355.0,124355.0,124355.0,124355.0,134532.0,137730.0,141764.0,146461.0,146461.0,146461.0,146461.0,162240.0,166707.0,171365.0,177355.0,177355.0,177355.0,177355.0,192439.0,196446.0,201055.0,208295.0,208295.0,208295.0,208295.0,225560.0,230514.0,236355.0,243129.0,243129.0,243129.0,243129.0,260758.0,266158.0,272643.0,278912.0,278912.0,278912.0,278912.0,297732.0,304793.0,312728.0,320098.0,320098.0,320098.0,320098.0,341029.0,348585.0,357466.0,367120.0,367120.0,367120.0,367120.0,389439.0,396048.0,396048.0,396048.0,396048.0,396048.0,396048.0,428533.0,437379.0,437379.0,437379.0,437379.0,437379.0,437379.0,469748.0,469748.0,482284.0,489471.0,489471.0,489471.0,489471.0,506866.0,512203.0,518783.0,523486.0,523486.0,523486.0,523486.0,533265.0,537967.0,542952.0,547166.0,547166.0,547166.0,547166.0,556289.0,560472.0,564557.0,566957.0,566957.0,566957.0,566957.0,576606.0,580916.0,584674.0,588062.0,588062.0,588062.0,588062.0,596174.0,600244.0,604577.0,608411.0,608411.0,608411.0,608411.0,617869.0,622102.0,627022.0,631166.0,631166.0,631166.0,631166.0,642099.0,647470.0,652465.0,657309.0,657309.0,657309.0,657309.0,669113.0,675292.0,680130.0,684961.0,684961.0,684961.0,684961.0,695975.0,701892.0,707192.0,712527.0,712527.0,712527.0,712527.0,725289.0,732070.0,738537.0,744272.0,744272.0,744272.0,744272.0,758335.0,765984.0,773690.0,780018.0,780018.0,780018.0,780018.0,796445.0,804886.0,813191.0,813191.0,813191.0,813191.0,813191.0,834993.0,841807.0,849629.0,857401.0,857401.0,857401.0,857401.0,876506.0,885385.0,892480.0,900138.0,900138.0,900138.0,900138.0,916830.0,924340.0,932076.0,938343.0,938343.0,938343.0,938343.0,953254.0,960520.0,967678.0,973604.0,973604.0,973604.0,973604.0,988554.0,995595.0,1002121.0,1007792.0,1007792.0,1007792.0,1007792.0,1021604.0,1027934.0,1027934.0,1037126.0,1037126.0,1037126.0,1037126.0,1047143.0,1051762.0,1055173.0,1058341.0,1058341.0,1058341.0,1058341.0,1064375.0,1067107.0,1068473.0,1068473.0,1068473.0,1068473.0,1068473.0,1068473.0,1068473.0,1076993.0,1078062.0,1078062.0,1078062.0,1078062.0,1080733.0,1081898.0,1082729.0,1083456.0,1083456.0,1083456.0,1083456.0,1084636.0,1084636.0,1084636.0,1084636.0,1084636.0,1084636.0,1084636.0,1088014.0,1088518.0,1088896.0,1088896.0,1088896.0,1088896.0,1088896.0,1089743.0,1089990.0,1090553.0,1090880.0,1090880.0,1090880.0,1090880.0,1091730.0,1092083.0,1092308.0,1092540.0,1092540.0,1092540.0,1092540.0,1093209.0,1093576.0,1093923.0,1094287.0,1094287.0,1094287.0,1094287.0,1095279.0,1095758.0,1096341.0,1096799.0,1096799.0,1096799.0,1096799.0,1098154.0,1098795.0,1099414.0,1100040.0,1100040.0,1100040.0,1100040.0,1101900.0,1102829.0,1103693.0,1104538.0,1104538.0,1104538.0,1104538.0,1106821.0,1108057.0,1109112.0,1110147.0,1110147.0,1110147.0,1110147.0,1112958.0,1114278.0,1115566.0,1116584.0,1116584.0,1116584.0,1116584.0,1119358.0,1120628.0,1122139.0,1123413.0,1123413.0,1123413.0,1123413.0,1126813.0,1127917.0,1129131.0,1130525.0,1130525.0,1130525.0,1130525.0,1133449.0,1135160.0,1136535.0,1138017.0,1138017.0,1138017.0,1138017.0,1141673.0,1142770.0,1143973.0,1144982.0,1144982.0,1144982.0,1144982.0,1146968.0,1147879.0,1148641.0,1149407.0,1149407.0,1149407.0,1149407.0,1151173.0,1152027.0,1152886.0,1153655.0,1153655.0,1153655.0,1153655.0,1155534.0,1156248.0,1157083.0,1157822.0,1157822.0,1157822.0,1157822.0,1159560.0,1160465.0,1161264.0,1161933.0,1161933.0,1161933.0,1161933.0,1163595.0,1164402.0,1165194.0,1165996.0,1165996.0,1165996.0,1165996.0,1168271.0,1169530.0,1170422.0,1171512.0,1171512.0,1171512.0,1171512.0,1174273.0,1175425.0,1176269.0,1177094.0,1177094.0,1177094.0,1177094.0,1179192.0,1180518.0,1181532.0,1182471.0,1182471.0,1182471.0,1182471.0,1185093.0,1186387.0,1187607.0,1188735.0,1188735.0,1188735.0,1188735.0,1192560.0,1194636.0,1196688.0,1198848.0,1198848.0,1198848.0,1198848.0,1204859.0,1207498.0,1209935.0,1212145.0,1212145.0,1212145.0,1212145.0,1219557.0,1222892.0,1226055.0,1229217.0,1229217.0,1229217.0,1229217.0,1238689.0,1242733.0,1246755.0,1250885.0,1250885.0,1250885.0,1250885.0,1263566.0,1268254.0,1273313.0,1273313.0,1273313.0,1273313.0,1273313.0,1294560.0,1303663.0,1314784.0,1314784.0,1314784.0,1314784.0,1314784.0,1357753.0,1375267.0,1375267.0,1416650.0,1416650.0,1416650.0,1416650.0,1487291.0,1509230.0,1534797.0,1560363.0,1560363.0,1560363.0,1560363.0,1657611.0,1700336.0,1741710.0,1784005.0,1784005.0,1784005.0,1784005.0,1922990.0,1973485.0,2015276.0,2070456.0,2070456.0,2070456.0,2070456.0,2183910.0,2223115.0,2259656.0,2287785.0,2287785.0,2287785.0,2287785.0,2354455.0,2372637.0,2389605.0,2397330.0,2397330.0,2397330.0,2397330.0,2409081.0,2414463.0,2418560.0,2422856.0,2422856.0,2422856.0,2422856.0,2431365.0,2434783.0,2437850.0,2441142.0,2441142.0,2441142.0,2441142.0,2448182.0,2451464.0,2453936.0,2455966.0,2455966.0,2455966.0,2455966.0,2460783.0,2462952.0,2465099.0,2466577.0,2466577.0,2466577.0,2466577.0,2470254.0,2472068.0,2473707.0,2475687.0,2475687.0,2475687.0,2475687.0,2475687.0,2475687.0,2481736.0,2481736.0,2481736.0,2481736.0,2481736.0,2481736.0,2481736.0,2487852.0,2487852.0,2487852.0,2487852.0,2487852.0,2487852.0,2487852.0,2491980.0,2491980.0,2491980.0,2491980.0,2491980.0],\"type\":\"scatter\",\"uid\":\"74e879ce-4243-4708-9d69-a4730d06b909\"},{\"connectgaps\":true,\"marker\":{\"color\":\"red\"},\"mode\":\"lines\",\"name\":\"Confirmed deaths\",\"x\":[\"2020-02-01\",\"2020-02-02\",\"2020-02-03\",\"2020-02-04\",\"2020-02-05\",\"2020-02-06\",\"2020-02-07\",\"2020-02-08\",\"2020-02-09\",\"2020-02-10\",\"2020-02-11\",\"2020-02-12\",\"2020-02-13\",\"2020-02-14\",\"2020-02-15\",\"2020-02-16\",\"2020-02-17\",\"2020-02-18\",\"2020-02-19\",\"2020-02-20\",\"2020-02-21\",\"2020-02-22\",\"2020-02-23\",\"2020-02-24\",\"2020-02-25\",\"2020-02-26\",\"2020-02-27\",\"2020-02-28\",\"2020-02-29\",\"2020-03-01\",\"2020-03-02\",\"2020-03-03\",\"2020-03-04\",\"2020-03-05\",\"2020-03-06\",\"2020-03-07\",\"2020-03-08\",\"2020-03-09\",\"2020-03-10\",\"2020-03-11\",\"2020-03-12\",\"2020-03-13\",\"2020-03-14\",\"2020-03-15\",\"2020-03-16\",\"2020-03-17\",\"2020-03-18\",\"2020-03-19\",\"2020-03-20\",\"2020-03-21\",\"2020-03-22\",\"2020-03-23\",\"2020-03-24\",\"2020-03-25\",\"2020-03-26\",\"2020-03-27\",\"2020-03-28\",\"2020-03-29\",\"2020-03-30\",\"2020-03-31\",\"2020-04-01\",\"2020-04-02\",\"2020-04-03\",\"2020-04-04\",\"2020-04-05\",\"2020-04-06\",\"2020-04-07\",\"2020-04-08\",\"2020-04-09\",\"2020-04-10\",\"2020-04-11\",\"2020-04-12\",\"2020-04-13\",\"2020-04-14\",\"2020-04-15\",\"2020-04-16\",\"2020-04-17\",\"2020-04-18\",\"2020-04-19\",\"2020-04-20\",\"2020-04-21\",\"2020-04-22\",\"2020-04-23\",\"2020-04-24\",\"2020-04-25\",\"2020-04-26\",\"2020-04-27\",\"2020-04-28\",\"2020-04-29\",\"2020-04-30\",\"2020-05-01\",\"2020-05-02\",\"2020-05-03\",\"2020-05-04\",\"2020-05-05\",\"2020-05-06\",\"2020-05-07\",\"2020-05-08\",\"2020-05-09\",\"2020-05-10\",\"2020-05-11\",\"2020-05-12\",\"2020-05-13\",\"2020-05-14\",\"2020-05-15\",\"2020-05-16\",\"2020-05-17\",\"2020-05-18\",\"2020-05-19\",\"2020-05-20\",\"2020-05-21\",\"2020-05-22\",\"2020-05-23\",\"2020-05-24\",\"2020-05-25\",\"2020-05-26\",\"2020-05-27\",\"2020-05-28\",\"2020-05-29\",\"2020-05-30\",\"2020-05-31\",\"2020-06-01\",\"2020-06-02\",\"2020-06-03\",\"2020-06-04\",\"2020-06-05\",\"2020-06-06\",\"2020-06-07\",\"2020-06-08\",\"2020-06-09\",\"2020-06-10\",\"2020-06-11\",\"2020-06-12\",\"2020-06-13\",\"2020-06-14\",\"2020-06-15\",\"2020-06-16\",\"2020-06-17\",\"2020-06-18\",\"2020-06-19\",\"2020-06-20\",\"2020-06-21\",\"2020-06-22\",\"2020-06-23\",\"2020-06-24\",\"2020-06-25\",\"2020-06-26\",\"2020-06-27\",\"2020-06-28\",\"2020-06-29\",\"2020-06-30\",\"2020-07-01\",\"2020-07-02\",\"2020-07-03\",\"2020-07-04\",\"2020-07-05\",\"2020-07-06\",\"2020-07-07\",\"2020-07-08\",\"2020-07-09\",\"2020-07-10\",\"2020-07-11\",\"2020-07-12\",\"2020-07-13\",\"2020-07-14\",\"2020-07-15\",\"2020-07-16\",\"2020-07-17\",\"2020-07-18\",\"2020-07-19\",\"2020-07-20\",\"2020-07-21\",\"2020-07-22\",\"2020-07-23\",\"2020-07-24\",\"2020-07-25\",\"2020-07-26\",\"2020-07-27\",\"2020-07-28\",\"2020-07-29\",\"2020-07-30\",\"2020-07-31\",\"2020-08-01\",\"2020-08-02\",\"2020-08-03\",\"2020-08-04\",\"2020-08-05\",\"2020-08-06\",\"2020-08-07\",\"2020-08-08\",\"2020-08-09\",\"2020-08-10\",\"2020-08-11\",\"2020-08-12\",\"2020-08-13\",\"2020-08-14\",\"2020-08-15\",\"2020-08-16\",\"2020-08-17\",\"2020-08-18\",\"2020-08-19\",\"2020-08-20\",\"2020-08-21\",\"2020-08-22\",\"2020-08-23\",\"2020-08-24\",\"2020-08-25\",\"2020-08-26\",\"2020-08-27\",\"2020-08-28\",\"2020-08-29\",\"2020-08-30\",\"2020-08-31\",\"2020-09-01\",\"2020-09-02\",\"2020-09-03\",\"2020-09-04\",\"2020-09-05\",\"2020-09-06\",\"2020-09-07\",\"2020-09-08\",\"2020-09-09\",\"2020-09-10\",\"2020-09-11\",\"2020-09-12\",\"2020-09-13\",\"2020-09-14\",\"2020-09-15\",\"2020-09-16\",\"2020-09-17\",\"2020-09-18\",\"2020-09-19\",\"2020-09-20\",\"2020-09-21\",\"2020-09-22\",\"2020-09-23\",\"2020-09-24\",\"2020-09-25\",\"2020-09-26\",\"2020-09-27\",\"2020-09-28\",\"2020-09-29\",\"2020-09-30\",\"2020-10-01\",\"2020-10-02\",\"2020-10-03\",\"2020-10-04\",\"2020-10-05\",\"2020-10-06\",\"2020-10-07\",\"2020-10-08\",\"2020-10-09\",\"2020-10-10\",\"2020-10-11\",\"2020-10-12\",\"2020-10-13\",\"2020-10-14\",\"2020-10-15\",\"2020-10-16\",\"2020-10-17\",\"2020-10-18\",\"2020-10-19\",\"2020-10-20\",\"2020-10-21\",\"2020-10-22\",\"2020-10-23\",\"2020-10-24\",\"2020-10-25\",\"2020-10-26\",\"2020-10-27\",\"2020-10-28\",\"2020-10-29\",\"2020-10-30\",\"2020-10-31\",\"2020-11-01\",\"2020-11-02\",\"2020-11-03\",\"2020-11-04\",\"2020-11-05\",\"2020-11-06\",\"2020-11-07\",\"2020-11-08\",\"2020-11-09\",\"2020-11-10\",\"2020-11-11\",\"2020-11-12\",\"2020-11-13\",\"2020-11-14\",\"2020-11-15\",\"2020-11-16\",\"2020-11-17\",\"2020-11-18\",\"2020-11-19\",\"2020-11-20\",\"2020-11-21\",\"2020-11-22\",\"2020-11-23\",\"2020-11-24\",\"2020-11-25\",\"2020-11-26\",\"2020-11-27\",\"2020-11-28\",\"2020-11-29\",\"2020-11-30\",\"2020-12-01\",\"2020-12-02\",\"2020-12-03\",\"2020-12-04\",\"2020-12-05\",\"2020-12-06\",\"2020-12-07\",\"2020-12-08\",\"2020-12-09\",\"2020-12-10\",\"2020-12-11\",\"2020-12-12\",\"2020-12-13\",\"2020-12-14\",\"2020-12-15\",\"2020-12-16\",\"2020-12-17\",\"2020-12-18\",\"2020-12-19\",\"2020-12-20\",\"2020-12-21\",\"2020-12-22\",\"2020-12-23\",\"2020-12-24\",\"2020-12-25\",\"2020-12-26\",\"2020-12-27\",\"2020-12-28\",\"2020-12-29\",\"2020-12-30\",\"2020-12-31\",\"2021-01-01\",\"2021-01-02\",\"2021-01-03\",\"2021-01-04\",\"2021-01-05\",\"2021-01-06\",\"2021-01-07\",\"2021-01-08\",\"2021-01-09\",\"2021-01-10\",\"2021-01-11\",\"2021-01-12\",\"2021-01-13\",\"2021-01-14\",\"2021-01-15\",\"2021-01-16\",\"2021-01-17\",\"2021-01-18\",\"2021-01-19\",\"2021-01-20\",\"2021-01-21\",\"2021-01-22\",\"2021-01-23\",\"2021-01-24\",\"2021-01-25\",\"2021-01-26\",\"2021-01-27\",\"2021-01-28\",\"2021-01-29\",\"2021-01-30\",\"2021-01-31\",\"2021-02-01\",\"2021-02-02\",\"2021-02-03\",\"2021-02-04\",\"2021-02-05\",\"2021-02-06\",\"2021-02-07\",\"2021-02-08\",\"2021-02-09\",\"2021-02-10\",\"2021-02-11\",\"2021-02-12\",\"2021-02-13\",\"2021-02-14\",\"2021-02-15\",\"2021-02-16\",\"2021-02-17\",\"2021-02-18\",\"2021-02-19\",\"2021-02-20\",\"2021-02-21\",\"2021-02-22\",\"2021-02-23\",\"2021-02-24\",\"2021-02-25\",\"2021-02-26\",\"2021-02-27\",\"2021-02-28\",\"2021-03-01\",\"2021-03-02\",\"2021-03-03\",\"2021-03-04\",\"2021-03-05\",\"2021-03-06\",\"2021-03-07\",\"2021-03-08\",\"2021-03-09\",\"2021-03-10\",\"2021-03-11\",\"2021-03-12\",\"2021-03-13\",\"2021-03-14\",\"2021-03-15\",\"2021-03-16\",\"2021-03-17\",\"2021-03-18\",\"2021-03-19\",\"2021-03-20\",\"2021-03-21\",\"2021-03-22\",\"2021-03-23\",\"2021-03-24\",\"2021-03-25\",\"2021-03-26\",\"2021-03-27\",\"2021-03-28\",\"2021-03-29\",\"2021-03-30\",\"2021-03-31\",\"2021-04-01\",\"2021-04-02\",\"2021-04-03\",\"2021-04-04\",\"2021-04-05\",\"2021-04-06\",\"2021-04-07\",\"2021-04-08\",\"2021-04-09\",\"2021-04-10\",\"2021-04-11\",\"2021-04-12\",\"2021-04-13\",\"2021-04-14\",\"2021-04-15\",\"2021-04-16\",\"2021-04-17\",\"2021-04-18\",\"2021-04-19\",\"2021-04-20\",\"2021-04-21\",\"2021-04-22\",\"2021-04-23\",\"2021-04-24\",\"2021-04-25\",\"2021-04-26\",\"2021-04-27\",\"2021-04-28\",\"2021-04-29\",\"2021-04-30\",\"2021-05-01\",\"2021-05-02\",\"2021-05-03\",\"2021-05-04\",\"2021-05-05\",\"2021-05-06\",\"2021-05-07\",\"2021-05-08\",\"2021-05-09\",\"2021-05-10\",\"2021-05-11\",\"2021-05-12\",\"2021-05-13\",\"2021-05-14\",\"2021-05-15\",\"2021-05-16\",\"2021-05-17\",\"2021-05-18\",\"2021-05-19\",\"2021-05-20\",\"2021-05-21\",\"2021-05-22\",\"2021-05-23\",\"2021-05-24\",\"2021-05-25\",\"2021-05-26\",\"2021-05-27\",\"2021-05-28\",\"2021-05-29\",\"2021-05-30\",\"2021-05-31\",\"2021-06-01\",\"2021-06-02\",\"2021-06-03\",\"2021-06-04\",\"2021-06-05\",\"2021-06-06\",\"2021-06-07\",\"2021-06-08\",\"2021-06-09\",\"2021-06-10\",\"2021-06-11\",\"2021-06-12\",\"2021-06-13\",\"2021-06-14\",\"2021-06-15\",\"2021-06-16\",\"2021-06-17\",\"2021-06-18\",\"2021-06-19\",\"2021-06-20\",\"2021-06-21\",\"2021-06-22\",\"2021-06-23\",\"2021-06-24\",\"2021-06-25\",\"2021-06-26\",\"2021-06-27\",\"2021-06-28\",\"2021-06-29\",\"2021-06-30\",\"2021-07-01\",\"2021-07-02\",\"2021-07-03\",\"2021-07-04\",\"2021-07-05\",\"2021-07-06\",\"2021-07-07\",\"2021-07-08\",\"2021-07-09\",\"2021-07-10\",\"2021-07-11\",\"2021-07-12\",\"2021-07-13\",\"2021-07-14\",\"2021-07-15\",\"2021-07-16\",\"2021-07-17\",\"2021-07-18\",\"2021-07-19\",\"2021-07-20\",\"2021-07-21\",\"2021-07-22\",\"2021-07-23\",\"2021-07-24\",\"2021-07-25\",\"2021-07-26\",\"2021-07-27\",\"2021-07-28\",\"2021-07-29\",\"2021-07-30\",\"2021-07-31\",\"2021-08-01\",\"2021-08-02\",\"2021-08-03\",\"2021-08-04\",\"2021-08-05\",\"2021-08-06\",\"2021-08-07\",\"2021-08-08\",\"2021-08-09\",\"2021-08-10\",\"2021-08-11\",\"2021-08-12\",\"2021-08-13\",\"2021-08-14\",\"2021-08-15\",\"2021-08-16\",\"2021-08-17\",\"2021-08-18\",\"2021-08-19\",\"2021-08-20\",\"2021-08-21\",\"2021-08-22\",\"2021-08-23\",\"2021-08-24\",\"2021-08-25\",\"2021-08-26\",\"2021-08-27\",\"2021-08-28\",\"2021-08-29\",\"2021-08-30\",\"2021-08-31\",\"2021-09-01\",\"2021-09-02\",\"2021-09-03\",\"2021-09-04\",\"2021-09-05\",\"2021-09-06\",\"2021-09-07\",\"2021-09-08\",\"2021-09-09\",\"2021-09-10\",\"2021-09-11\",\"2021-09-12\",\"2021-09-13\",\"2021-09-14\",\"2021-09-15\",\"2021-09-16\",\"2021-09-17\",\"2021-09-18\",\"2021-09-19\",\"2021-09-20\",\"2021-09-21\",\"2021-09-22\",\"2021-09-23\",\"2021-09-24\",\"2021-09-25\",\"2021-09-26\",\"2021-09-27\",\"2021-09-28\",\"2021-09-29\",\"2021-09-30\",\"2021-10-01\",\"2021-10-02\",\"2021-10-03\",\"2021-10-04\",\"2021-10-05\",\"2021-10-06\",\"2021-10-07\",\"2021-10-08\",\"2021-10-09\",\"2021-10-10\",\"2021-10-11\",\"2021-10-12\",\"2021-10-13\",\"2021-10-14\",\"2021-10-15\",\"2021-10-16\",\"2021-10-17\",\"2021-10-18\",\"2021-10-19\",\"2021-10-20\",\"2021-10-21\",\"2021-10-22\",\"2021-10-23\",\"2021-10-24\",\"2021-10-25\",\"2021-10-26\",\"2021-10-27\",\"2021-10-28\",\"2021-10-29\",\"2021-10-30\",\"2021-10-31\",\"2021-11-01\",\"2021-11-02\",\"2021-11-03\",\"2021-11-04\",\"2021-11-05\",\"2021-11-06\",\"2021-11-07\",\"2021-11-08\",\"2021-11-09\",\"2021-11-10\",\"2021-11-11\",\"2021-11-12\",\"2021-11-13\",\"2021-11-14\",\"2021-11-15\",\"2021-11-16\",\"2021-11-17\",\"2021-11-18\",\"2021-11-19\",\"2021-11-20\",\"2021-11-21\",\"2021-11-22\",\"2021-11-23\",\"2021-11-24\",\"2021-11-25\",\"2021-11-26\",\"2021-11-27\",\"2021-11-28\",\"2021-11-29\",\"2021-11-30\",\"2021-12-01\",\"2021-12-02\",\"2021-12-03\",\"2021-12-04\",\"2021-12-05\",\"2021-12-06\",\"2021-12-07\",\"2021-12-08\",\"2021-12-09\",\"2021-12-10\",\"2021-12-11\",\"2021-12-12\",\"2021-12-13\",\"2021-12-14\",\"2021-12-15\",\"2021-12-16\",\"2021-12-17\",\"2021-12-18\",\"2021-12-19\",\"2021-12-20\",\"2021-12-21\",\"2021-12-22\",\"2021-12-23\",\"2021-12-24\",\"2021-12-25\",\"2021-12-26\",\"2021-12-27\",\"2021-12-28\",\"2021-12-29\",\"2021-12-30\",\"2021-12-31\",\"2022-01-01\",\"2022-01-02\",\"2022-01-03\",\"2022-01-04\",\"2022-01-05\",\"2022-01-06\",\"2022-01-07\",\"2022-01-08\",\"2022-01-09\",\"2022-01-10\",\"2022-01-11\",\"2022-01-12\",\"2022-01-13\",\"2022-01-14\",\"2022-01-15\",\"2022-01-16\",\"2022-01-17\",\"2022-01-18\",\"2022-01-19\",\"2022-01-20\",\"2022-01-21\",\"2022-01-22\",\"2022-01-23\",\"2022-01-24\",\"2022-01-25\",\"2022-01-26\",\"2022-01-27\",\"2022-01-28\",\"2022-01-29\",\"2022-01-30\",\"2022-01-31\",\"2022-02-01\",\"2022-02-02\",\"2022-02-03\",\"2022-02-04\",\"2022-02-05\",\"2022-02-06\",\"2022-02-07\",\"2022-02-08\",\"2022-02-09\",\"2022-02-10\",\"2022-02-11\",\"2022-02-12\",\"2022-02-13\",\"2022-02-14\",\"2022-02-15\",\"2022-02-16\",\"2022-02-17\",\"2022-02-18\",\"2022-02-19\",\"2022-02-20\",\"2022-02-21\",\"2022-02-22\",\"2022-02-23\",\"2022-02-24\",\"2022-02-25\",\"2022-02-26\",\"2022-02-27\",\"2022-02-28\",\"2022-03-01\",\"2022-03-02\",\"2022-03-03\",\"2022-03-04\",\"2022-03-05\",\"2022-03-06\",\"2022-03-07\",\"2022-03-08\",\"2022-03-09\",\"2022-03-10\",\"2022-03-11\",\"2022-03-12\",\"2022-03-13\",\"2022-03-14\",\"2022-03-15\",\"2022-03-16\",\"2022-03-17\",\"2022-03-18\",\"2022-03-19\",\"2022-03-20\",\"2022-03-21\",\"2022-03-22\",\"2022-03-23\",\"2022-03-24\",\"2022-03-25\",\"2022-03-26\",\"2022-03-27\",\"2022-03-28\",\"2022-03-29\",\"2022-03-30\",\"2022-03-31\",\"2022-04-01\",\"2022-04-02\",\"2022-04-03\",\"2022-04-04\",\"2022-04-05\",\"2022-04-06\",\"2022-04-07\",\"2022-04-08\",\"2022-04-09\",\"2022-04-10\",\"2022-04-11\"],\"y\":[null,null,null,null,null,null,null,null,null,null,null,null,null,null,null,null,null,null,null,null,null,null,null,null,null,null,null,null,null,null,null,null,null,null,null,null,null,null,1.0,1.0,2.0,3.0,5.0,7.0,8.0,14.0,21.0,30.0,38.0,49.0,60.0,81.0,103.0,134.0,166.0,201.0,239.0,284.0,332.0,385.0,455.0,535.0,605.0,373.0,401.0,477.0,591.0,687.0,793.0,870.0,887.0,899.0,919.0,1033.0,1203.0,1333.0,1400.0,1511.0,1540.0,1580.0,1765.0,1937.0,2021.0,2152.0,2192.0,2194.0,2274.0,2355.0,2462.0,2586.0,2653.0,2669.0,2679.0,2769.0,2854.0,2941.0,3040.0,3175.0,3220.0,3225.0,3256.0,3313.0,3460.0,3529.0,3646.0,3674.0,3679.0,3698.0,3743.0,3831.0,3871.0,3925.0,3992.0,3998.0,4029.0,4125.0,4220.0,4266.0,4350.0,4395.0,4395.0,4403.0,4468.0,4542.0,4562.0,4639.0,4656.0,4659.0,4694.0,4717.0,4795.0,4814.0,4854.0,4874.0,4874.0,4891.0,4939.0,5041.0,5053.0,5053.0,5053.0,5053.0,5053.0,5161.0,5209.0,5230.0,5280.0,5280.0,5280.0,5280.0,5333.0,5370.0,5411.0,5420.0,5420.0,5420.0,5420.0,5447.0,5482.0,5500.0,5526.0,5526.0,5526.0,5526.0,5545.0,5572.0,5593.0,5619.0,5619.0,5619.0,5619.0,5646.0,5667.0,5676.0,5697.0,5697.0,5697.0,5697.0,5702.0,5730.0,5739.0,5743.0,5743.0,5743.0,5743.0,5747.0,5760.0,5766.0,5763.0,5763.0,5763.0,5763.0,5770.0,5774.0,5776.0,5783.0,5783.0,5783.0,5783.0,5790.0,5802.0,5805.0,5810.0,5810.0,5810.0,5810.0,5814.0,5817.0,5820.0,5821.0,5821.0,5821.0,5821.0,5813.0,5820.0,5832.0,5835.0,5835.0,5835.0,5835.0,5838.0,5842.0,5843.0,5846.0,5846.0,5846.0,5846.0,5846.0,5860.0,5864.0,5865.0,5865.0,5865.0,5865.0,5865.0,5876.0,5878.0,5880.0,5880.0,5880.0,5880.0,5880.0,5893.0,5893.0,5895.0,5895.0,5895.0,5895.0,5895.0,5892.0,5892.0,5894.0,5894.0,5894.0,5894.0,5894.0,5907.0,5910.0,5918.0,5918.0,5918.0,5918.0,5918.0,5929.0,5930.0,5933.0,5933.0,5933.0,5933.0,5933.0,5927.0,5934.0,5938.0,5938.0,5938.0,5938.0,5938.0,5997.0,6002.0,6022.0,6022.0,6022.0,6022.0,6022.0,6082.0,6122.0,6164.0,6164.0,6164.0,6164.0,6164.0,6321.0,6340.0,6406.0,6406.0,6406.0,6406.0,6406.0,6555.0,6622.0,6681.0,6681.0,6681.0,6681.0,6681.0,6972.0,7007.0,7067.0,7067.0,7067.0,7067.0,7067.0,7296.0,7354.0,7514.0,7514.0,7514.0,7514.0,7514.0,7802.0,7893.0,7993.0,7993.0,7993.0,7993.0,7993.0,8279.0,8279.0,8279.0,8279.0,8279.0,8279.0,8279.0,8727.0,8727.0,8727.0,8727.0,8727.0,8727.0,8965.0,8965.0,9262.0,9433.0,9433.0,9433.0,9433.0,9433.0,9834.0,10185.0,10323.0,10323.0,10323.0,10323.0,10323.0,10797.0,10921.0,11005.0,11005.0,11005.0,11005.0,11247.0,11425.0,11520.0,11591.0,11591.0,11591.0,11591.0,11815.0,11939.0,12028.0,12115.0,12115.0,12115.0,12115.0,12188.0,12326.0,12370.0,12428.0,12428.0,12428.0,12428.0,12487.0,12569.0,12598.0,12649.0,12649.0,12649.0,12649.0,12713.0,12793.0,12798.0,12826.0,12826.0,12826.0,12826.0,12882.0,12964.0,12977.0,13003.0,13003.0,13003.0,13003.0,13042.0,13088.0,13111.0,13146.0,13146.0,13146.0,13146.0,13172.0,13228.0,13236.0,13262.0,13262.0,13262.0,13262.0,13315.0,13357.0,13373.0,13402.0,13402.0,13402.0,13402.0,13430.0,13465.0,13498.0,13498.0,13498.0,13498.0,13498.0,13533.0,13578.0,13595.0,13621.0,13621.0,13621.0,13621.0,13660.0,13720.0,13761.0,13788.0,13788.0,13788.0,13788.0,13825.0,13863.0,13882.0,13923.0,13923.0,13923.0,13923.0,13968.0,14000.0,14002.0,14048.0,14048.0,14048.0,14048.0,14091.0,14151.0,14158.0,14173.0,14173.0,14173.0,14173.0,14217.0,14267.0,14267.0,14275.0,14275.0,14275.0,14275.0,14301.0,14349.0,14351.0,14366.0,14366.0,14366.0,14366.0,14396.0,14436.0,14451.0,14451.0,14451.0,14451.0,14451.0,14451.0,14451.0,14512.0,14523.0,14523.0,14523.0,14523.0,14546.0,14562.0,14565.0,14574.0,14574.0,14574.0,14574.0,14574.0,14574.0,14574.0,14574.0,14574.0,14574.0,14574.0,14608.0,14616.0,14619.0,14619.0,14619.0,14619.0,14619.0,14626.0,14629.0,14630.0,14631.0,14631.0,14631.0,14631.0,14633.0,14639.0,14642.0,14643.0,14643.0,14643.0,14643.0,14645.0,14642.0,14643.0,14646.0,14646.0,14646.0,14646.0,14650.0,14651.0,14651.0,14651.0,14651.0,14651.0,14651.0,14655.0,14655.0,14656.0,14655.0,14655.0,14655.0,14655.0,14657.0,14657.0,14657.0,14657.0,14657.0,14657.0,14657.0,14658.0,14658.0,14658.0,14658.0,14658.0,14658.0,14658.0,14659.0,14662.0,14664.0,14668.0,14668.0,14668.0,14668.0,14670.0,14674.0,14682.0,14685.0,14685.0,14685.0,14685.0,14692.0,14692.0,14692.0,14692.0,14692.0,14692.0,14692.0,14699.0,14700.0,14702.0,14703.0,14703.0,14703.0,14703.0,14729.0,14740.0,14753.0,14775.0,14775.0,14775.0,14775.0,14790.0,14809.0,14813.0,14821.0,14821.0,14821.0,14821.0,14850.0,14856.0,14864.0,14868.0,14868.0,14868.0,14868.0,14876.0,14889.0,14904.0,14905.0,14905.0,14905.0,14905.0,14920.0,14922.0,14926.0,14956.0,14956.0,14956.0,14956.0,14963.0,14985.0,14986.0,14993.0,14993.0,14993.0,14993.0,15002.0,15016.0,15018.0,15025.0,15025.0,15025.0,15025.0,15040.0,15043.0,15050.0,15057.0,15057.0,15057.0,15057.0,15065.0,15076.0,15078.0,15082.0,15082.0,15082.0,15082.0,15094.0,15107.0,15109.0,15110.0,15110.0,15110.0,15110.0,15126.0,15142.0,15142.0,15145.0,15145.0,15145.0,15145.0,15151.0,15161.0,15164.0,15170.0,15170.0,15170.0,15170.0,15177.0,15184.0,15185.0,15191.0,15191.0,15191.0,15191.0,15204.0,15221.0,15226.0,15231.0,15231.0,15231.0,15231.0,15242.0,15259.0,15265.0,15265.0,15265.0,15265.0,15265.0,15286.0,15297.0,15310.0,15310.0,15310.0,15310.0,15310.0,15330.0,15369.0,15369.0,15377.0,15377.0,15377.0,15377.0,15431.0,15462.0,15482.0,15513.0,15513.0,15513.0,15513.0,15558.0,15625.0,15631.0,15674.0,15674.0,15674.0,15674.0,15693.0,15768.0,15778.0,15855.0,15855.0,15855.0,15855.0,15961.0,16028.0,16100.0,16180.0,16180.0,16180.0,16180.0,16244.0,16358.0,16395.0,16501.0,16501.0,16501.0,16501.0,16579.0,16716.0,16768.0,16852.0,16852.0,16852.0,16852.0,16933.0,17064.0,17083.0,17142.0,17142.0,17142.0,17142.0,17242.0,17355.0,17425.0,17512.0,17512.0,17512.0,17512.0,17549.0,17693.0,17749.0,17798.0,17798.0,17798.0,17798.0,17874.0,17937.0,17994.0,18053.0,18053.0,18053.0,18053.0,18053.0,18053.0,18189.0,18189.0,18189.0,18189.0,18189.0,18189.0,18189.0,18365.0,18365.0,18365.0,18365.0,18365.0,18365.0,18365.0,18506.0,18506.0,18506.0,18506.0,18506.0],\"type\":\"scatter\",\"uid\":\"a9679af2-29d5-4b61-a341-aefb08129760\"}],                        {\"template\":{\"data\":{\"barpolar\":[{\"marker\":{\"line\":{\"color\":\"rgb(17,17,17)\",\"width\":0.5},\"pattern\":{\"fillmode\":\"overlay\",\"size\":10,\"solidity\":0.2}},\"type\":\"barpolar\"}],\"bar\":[{\"error_x\":{\"color\":\"#f2f5fa\"},\"error_y\":{\"color\":\"#f2f5fa\"},\"marker\":{\"line\":{\"color\":\"rgb(17,17,17)\",\"width\":0.5},\"pattern\":{\"fillmode\":\"overlay\",\"size\":10,\"solidity\":0.2}},\"type\":\"bar\"}],\"carpet\":[{\"aaxis\":{\"endlinecolor\":\"#A2B1C6\",\"gridcolor\":\"#506784\",\"linecolor\":\"#506784\",\"minorgridcolor\":\"#506784\",\"startlinecolor\":\"#A2B1C6\"},\"baxis\":{\"endlinecolor\":\"#A2B1C6\",\"gridcolor\":\"#506784\",\"linecolor\":\"#506784\",\"minorgridcolor\":\"#506784\",\"startlinecolor\":\"#A2B1C6\"},\"type\":\"carpet\"}],\"choropleth\":[{\"colorbar\":{\"outlinewidth\":0,\"ticks\":\"\"},\"type\":\"choropleth\"}],\"contourcarpet\":[{\"colorbar\":{\"outlinewidth\":0,\"ticks\":\"\"},\"type\":\"contourcarpet\"}],\"contour\":[{\"colorbar\":{\"outlinewidth\":0,\"ticks\":\"\"},\"colorscale\":[[0.0,\"#0d0887\"],[0.1111111111111111,\"#46039f\"],[0.2222222222222222,\"#7201a8\"],[0.3333333333333333,\"#9c179e\"],[0.4444444444444444,\"#bd3786\"],[0.5555555555555556,\"#d8576b\"],[0.6666666666666666,\"#ed7953\"],[0.7777777777777778,\"#fb9f3a\"],[0.8888888888888888,\"#fdca26\"],[1.0,\"#f0f921\"]],\"type\":\"contour\"}],\"heatmapgl\":[{\"colorbar\":{\"outlinewidth\":0,\"ticks\":\"\"},\"colorscale\":[[0.0,\"#0d0887\"],[0.1111111111111111,\"#46039f\"],[0.2222222222222222,\"#7201a8\"],[0.3333333333333333,\"#9c179e\"],[0.4444444444444444,\"#bd3786\"],[0.5555555555555556,\"#d8576b\"],[0.6666666666666666,\"#ed7953\"],[0.7777777777777778,\"#fb9f3a\"],[0.8888888888888888,\"#fdca26\"],[1.0,\"#f0f921\"]],\"type\":\"heatmapgl\"}],\"heatmap\":[{\"colorbar\":{\"outlinewidth\":0,\"ticks\":\"\"},\"colorscale\":[[0.0,\"#0d0887\"],[0.1111111111111111,\"#46039f\"],[0.2222222222222222,\"#7201a8\"],[0.3333333333333333,\"#9c179e\"],[0.4444444444444444,\"#bd3786\"],[0.5555555555555556,\"#d8576b\"],[0.6666666666666666,\"#ed7953\"],[0.7777777777777778,\"#fb9f3a\"],[0.8888888888888888,\"#fdca26\"],[1.0,\"#f0f921\"]],\"type\":\"heatmap\"}],\"histogram2dcontour\":[{\"colorbar\":{\"outlinewidth\":0,\"ticks\":\"\"},\"colorscale\":[[0.0,\"#0d0887\"],[0.1111111111111111,\"#46039f\"],[0.2222222222222222,\"#7201a8\"],[0.3333333333333333,\"#9c179e\"],[0.4444444444444444,\"#bd3786\"],[0.5555555555555556,\"#d8576b\"],[0.6666666666666666,\"#ed7953\"],[0.7777777777777778,\"#fb9f3a\"],[0.8888888888888888,\"#fdca26\"],[1.0,\"#f0f921\"]],\"type\":\"histogram2dcontour\"}],\"histogram2d\":[{\"colorbar\":{\"outlinewidth\":0,\"ticks\":\"\"},\"colorscale\":[[0.0,\"#0d0887\"],[0.1111111111111111,\"#46039f\"],[0.2222222222222222,\"#7201a8\"],[0.3333333333333333,\"#9c179e\"],[0.4444444444444444,\"#bd3786\"],[0.5555555555555556,\"#d8576b\"],[0.6666666666666666,\"#ed7953\"],[0.7777777777777778,\"#fb9f3a\"],[0.8888888888888888,\"#fdca26\"],[1.0,\"#f0f921\"]],\"type\":\"histogram2d\"}],\"histogram\":[{\"marker\":{\"pattern\":{\"fillmode\":\"overlay\",\"size\":10,\"solidity\":0.2}},\"type\":\"histogram\"}],\"mesh3d\":[{\"colorbar\":{\"outlinewidth\":0,\"ticks\":\"\"},\"type\":\"mesh3d\"}],\"parcoords\":[{\"line\":{\"colorbar\":{\"outlinewidth\":0,\"ticks\":\"\"}},\"type\":\"parcoords\"}],\"pie\":[{\"automargin\":true,\"type\":\"pie\"}],\"scatter3d\":[{\"line\":{\"colorbar\":{\"outlinewidth\":0,\"ticks\":\"\"}},\"marker\":{\"colorbar\":{\"outlinewidth\":0,\"ticks\":\"\"}},\"type\":\"scatter3d\"}],\"scattercarpet\":[{\"marker\":{\"colorbar\":{\"outlinewidth\":0,\"ticks\":\"\"}},\"type\":\"scattercarpet\"}],\"scattergeo\":[{\"marker\":{\"colorbar\":{\"outlinewidth\":0,\"ticks\":\"\"}},\"type\":\"scattergeo\"}],\"scattergl\":[{\"marker\":{\"line\":{\"color\":\"#283442\"}},\"type\":\"scattergl\"}],\"scattermapbox\":[{\"marker\":{\"colorbar\":{\"outlinewidth\":0,\"ticks\":\"\"}},\"type\":\"scattermapbox\"}],\"scatterpolargl\":[{\"marker\":{\"colorbar\":{\"outlinewidth\":0,\"ticks\":\"\"}},\"type\":\"scatterpolargl\"}],\"scatterpolar\":[{\"marker\":{\"colorbar\":{\"outlinewidth\":0,\"ticks\":\"\"}},\"type\":\"scatterpolar\"}],\"scatter\":[{\"marker\":{\"line\":{\"color\":\"#283442\"}},\"type\":\"scatter\"}],\"scatterternary\":[{\"marker\":{\"colorbar\":{\"outlinewidth\":0,\"ticks\":\"\"}},\"type\":\"scatterternary\"}],\"surface\":[{\"colorbar\":{\"outlinewidth\":0,\"ticks\":\"\"},\"colorscale\":[[0.0,\"#0d0887\"],[0.1111111111111111,\"#46039f\"],[0.2222222222222222,\"#7201a8\"],[0.3333333333333333,\"#9c179e\"],[0.4444444444444444,\"#bd3786\"],[0.5555555555555556,\"#d8576b\"],[0.6666666666666666,\"#ed7953\"],[0.7777777777777778,\"#fb9f3a\"],[0.8888888888888888,\"#fdca26\"],[1.0,\"#f0f921\"]],\"type\":\"surface\"}],\"table\":[{\"cells\":{\"fill\":{\"color\":\"#506784\"},\"line\":{\"color\":\"rgb(17,17,17)\"}},\"header\":{\"fill\":{\"color\":\"#2a3f5f\"},\"line\":{\"color\":\"rgb(17,17,17)\"}},\"type\":\"table\"}]},\"layout\":{\"annotationdefaults\":{\"arrowcolor\":\"#f2f5fa\",\"arrowhead\":0,\"arrowwidth\":1},\"autotypenumbers\":\"strict\",\"coloraxis\":{\"colorbar\":{\"outlinewidth\":0,\"ticks\":\"\"}},\"colorscale\":{\"diverging\":[[0,\"#8e0152\"],[0.1,\"#c51b7d\"],[0.2,\"#de77ae\"],[0.3,\"#f1b6da\"],[0.4,\"#fde0ef\"],[0.5,\"#f7f7f7\"],[0.6,\"#e6f5d0\"],[0.7,\"#b8e186\"],[0.8,\"#7fbc41\"],[0.9,\"#4d9221\"],[1,\"#276419\"]],\"sequential\":[[0.0,\"#0d0887\"],[0.1111111111111111,\"#46039f\"],[0.2222222222222222,\"#7201a8\"],[0.3333333333333333,\"#9c179e\"],[0.4444444444444444,\"#bd3786\"],[0.5555555555555556,\"#d8576b\"],[0.6666666666666666,\"#ed7953\"],[0.7777777777777778,\"#fb9f3a\"],[0.8888888888888888,\"#fdca26\"],[1.0,\"#f0f921\"]],\"sequentialminus\":[[0.0,\"#0d0887\"],[0.1111111111111111,\"#46039f\"],[0.2222222222222222,\"#7201a8\"],[0.3333333333333333,\"#9c179e\"],[0.4444444444444444,\"#bd3786\"],[0.5555555555555556,\"#d8576b\"],[0.6666666666666666,\"#ed7953\"],[0.7777777777777778,\"#fb9f3a\"],[0.8888888888888888,\"#fdca26\"],[1.0,\"#f0f921\"]]},\"colorway\":[\"#636efa\",\"#EF553B\",\"#00cc96\",\"#ab63fa\",\"#FFA15A\",\"#19d3f3\",\"#FF6692\",\"#B6E880\",\"#FF97FF\",\"#FECB52\"],\"font\":{\"color\":\"#f2f5fa\"},\"geo\":{\"bgcolor\":\"rgb(17,17,17)\",\"lakecolor\":\"rgb(17,17,17)\",\"landcolor\":\"rgb(17,17,17)\",\"showlakes\":true,\"showland\":true,\"subunitcolor\":\"#506784\"},\"hoverlabel\":{\"align\":\"left\"},\"hovermode\":\"closest\",\"mapbox\":{\"style\":\"dark\"},\"paper_bgcolor\":\"rgb(17,17,17)\",\"plot_bgcolor\":\"rgb(17,17,17)\",\"polar\":{\"angularaxis\":{\"gridcolor\":\"#506784\",\"linecolor\":\"#506784\",\"ticks\":\"\"},\"bgcolor\":\"rgb(17,17,17)\",\"radialaxis\":{\"gridcolor\":\"#506784\",\"linecolor\":\"#506784\",\"ticks\":\"\"}},\"scene\":{\"xaxis\":{\"backgroundcolor\":\"rgb(17,17,17)\",\"gridcolor\":\"#506784\",\"gridwidth\":2,\"linecolor\":\"#506784\",\"showbackground\":true,\"ticks\":\"\",\"zerolinecolor\":\"#C8D4E3\"},\"yaxis\":{\"backgroundcolor\":\"rgb(17,17,17)\",\"gridcolor\":\"#506784\",\"gridwidth\":2,\"linecolor\":\"#506784\",\"showbackground\":true,\"ticks\":\"\",\"zerolinecolor\":\"#C8D4E3\"},\"zaxis\":{\"backgroundcolor\":\"rgb(17,17,17)\",\"gridcolor\":\"#506784\",\"gridwidth\":2,\"linecolor\":\"#506784\",\"showbackground\":true,\"ticks\":\"\",\"zerolinecolor\":\"#C8D4E3\"}},\"shapedefaults\":{\"line\":{\"color\":\"#f2f5fa\"}},\"sliderdefaults\":{\"bgcolor\":\"#C8D4E3\",\"bordercolor\":\"rgb(17,17,17)\",\"borderwidth\":1,\"tickwidth\":0},\"ternary\":{\"aaxis\":{\"gridcolor\":\"#506784\",\"linecolor\":\"#506784\",\"ticks\":\"\"},\"baxis\":{\"gridcolor\":\"#506784\",\"linecolor\":\"#506784\",\"ticks\":\"\"},\"bgcolor\":\"rgb(17,17,17)\",\"caxis\":{\"gridcolor\":\"#506784\",\"linecolor\":\"#506784\",\"ticks\":\"\"}},\"title\":{\"x\":0.05},\"updatemenudefaults\":{\"bgcolor\":\"#506784\",\"borderwidth\":0},\"xaxis\":{\"automargin\":true,\"gridcolor\":\"#283442\",\"linecolor\":\"#506784\",\"ticks\":\"\",\"title\":{\"standoff\":15},\"zerolinecolor\":\"#283442\",\"zerolinewidth\":2},\"yaxis\":{\"automargin\":true,\"gridcolor\":\"#283442\",\"linecolor\":\"#506784\",\"ticks\":\"\",\"title\":{\"standoff\":15},\"zerolinecolor\":\"#283442\",\"zerolinewidth\":2}}},\"title\":{\"text\":\"Confirmed cases and deaths for Sweden\"}},                        {\"responsive\": true}                    ).then(function(){\n                            \nvar gd = document.getElementById('4f4c613e-8290-4bd4-b0d1-02c2bb316dd6');\nvar x = new MutationObserver(function (mutations, observer) {{\n        var display = window.getComputedStyle(gd).display;\n        if (!display || display === 'none') {{\n            console.log([gd, 'removed!']);\n            Plotly.purge(gd);\n            observer.disconnect();\n        }}\n}});\n\n// Listen for the removal of the full notebook cells\nvar notebookContainer = gd.closest('#notebook-container');\nif (notebookContainer) {{\n    x.observe(notebookContainer, {childList: true});\n}}\n\n// Listen for the clearing of the current output cell\nvar outputEl = gd.closest('.output');\nif (outputEl) {{\n    x.observe(outputEl, {childList: true});\n}}\n\n                        })                };                });            </script>        </div>"
     },
     "metadata": {},
     "output_type": "display_data"
    }
   ],
   "source": [
    "from plotly.offline import iplot\n",
    "\n",
    "from ipywidgets import interact, interactive, fixed, interact_manual\n",
    "import ipywidgets as widgets\n",
    "\n",
    "def plot_cases_for_country(country):\n",
    "    fig = go.FigureWidget()\n",
    "    dfi = confirmed_df.query(f\"country == '{country}'\")\n",
    "    fig.add_trace(\n",
    "        go.Scatter(x=dfi.date, y=dfi.confirmed, name=\"Confirmed cases\", mode='lines', connectgaps=True,\n",
    "                   marker=dict(color=\"green\")))\n",
    "    fig.add_trace(\n",
    "        go.Scatter(x=dfi.date, y=dfi.deaths, name=\"Confirmed deaths\", mode='lines', connectgaps=True,\n",
    "                   marker=dict(color=\"red\")))\n",
    "\n",
    "    fig.update_layout(title=f\"Confirmed cases and deaths for {country}\")\n",
    "\n",
    "    fig.show()\n",
    "\n",
    "plot_cases_for_country(\"Sweden\")\n",
    "#interact(plot_cases_for_country, country=\"Sweden\")\n"
   ]
  },
  {
   "cell_type": "code",
   "execution_count": 72,
   "metadata": {
    "pycharm": {
     "name": "#%%\n"
    }
   },
   "outputs": [
    {
     "data": {
      "application/vnd.plotly.v1+json": {
       "data": [
        {
         "connectgaps": true,
         "marker": {
          "color": "blue"
         },
         "mode": "lines",
         "name": "Confirmed cases for Sweden",
         "x": [
          "2020-02-01",
          "2020-02-02",
          "2020-02-03",
          "2020-02-04",
          "2020-02-05",
          "2020-02-06",
          "2020-02-07",
          "2020-02-08",
          "2020-02-09",
          "2020-02-10",
          "2020-02-11",
          "2020-02-12",
          "2020-02-13",
          "2020-02-14",
          "2020-02-15",
          "2020-02-16",
          "2020-02-17",
          "2020-02-18",
          "2020-02-19",
          "2020-02-20",
          "2020-02-21",
          "2020-02-22",
          "2020-02-23",
          "2020-02-24",
          "2020-02-25",
          "2020-02-26",
          "2020-02-27",
          "2020-02-28",
          "2020-02-29",
          "2020-03-01",
          "2020-03-02",
          "2020-03-03",
          "2020-03-04",
          "2020-03-05",
          "2020-03-06",
          "2020-03-07",
          "2020-03-08",
          "2020-03-09",
          "2020-03-10",
          "2020-03-11",
          "2020-03-12",
          "2020-03-13",
          "2020-03-14",
          "2020-03-15",
          "2020-03-16",
          "2020-03-17",
          "2020-03-18",
          "2020-03-19",
          "2020-03-20",
          "2020-03-21",
          "2020-03-22",
          "2020-03-23",
          "2020-03-24",
          "2020-03-25",
          "2020-03-26",
          "2020-03-27",
          "2020-03-28",
          "2020-03-29",
          "2020-03-30",
          "2020-03-31",
          "2020-04-01",
          "2020-04-02",
          "2020-04-03",
          "2020-04-04",
          "2020-04-05",
          "2020-04-06",
          "2020-04-07",
          "2020-04-08",
          "2020-04-09",
          "2020-04-10",
          "2020-04-11",
          "2020-04-12",
          "2020-04-13",
          "2020-04-14",
          "2020-04-15",
          "2020-04-16",
          "2020-04-17",
          "2020-04-18",
          "2020-04-19",
          "2020-04-20",
          "2020-04-21",
          "2020-04-22",
          "2020-04-23",
          "2020-04-24",
          "2020-04-25",
          "2020-04-26",
          "2020-04-27",
          "2020-04-28",
          "2020-04-29",
          "2020-04-30",
          "2020-05-01",
          "2020-05-02",
          "2020-05-03",
          "2020-05-04",
          "2020-05-05",
          "2020-05-06",
          "2020-05-07",
          "2020-05-08",
          "2020-05-09",
          "2020-05-10",
          "2020-05-11",
          "2020-05-12",
          "2020-05-13",
          "2020-05-14",
          "2020-05-15",
          "2020-05-16",
          "2020-05-17",
          "2020-05-18",
          "2020-05-19",
          "2020-05-20",
          "2020-05-21",
          "2020-05-22",
          "2020-05-23",
          "2020-05-24",
          "2020-05-25",
          "2020-05-26",
          "2020-05-27",
          "2020-05-28",
          "2020-05-29",
          "2020-05-30",
          "2020-05-31",
          "2020-06-01",
          "2020-06-02",
          "2020-06-03",
          "2020-06-04",
          "2020-06-05",
          "2020-06-06",
          "2020-06-07",
          "2020-06-08",
          "2020-06-09",
          "2020-06-10",
          "2020-06-11",
          "2020-06-12",
          "2020-06-13",
          "2020-06-14",
          "2020-06-15",
          "2020-06-16",
          "2020-06-17",
          "2020-06-18",
          "2020-06-19",
          "2020-06-20",
          "2020-06-21",
          "2020-06-22",
          "2020-06-23",
          "2020-06-24",
          "2020-06-25",
          "2020-06-26",
          "2020-06-27",
          "2020-06-28",
          "2020-06-29",
          "2020-06-30",
          "2020-07-01",
          "2020-07-02",
          "2020-07-03",
          "2020-07-04",
          "2020-07-05",
          "2020-07-06",
          "2020-07-07",
          "2020-07-08",
          "2020-07-09",
          "2020-07-10",
          "2020-07-11",
          "2020-07-12",
          "2020-07-13",
          "2020-07-14",
          "2020-07-15",
          "2020-07-16",
          "2020-07-17",
          "2020-07-18",
          "2020-07-19",
          "2020-07-20",
          "2020-07-21",
          "2020-07-22",
          "2020-07-23",
          "2020-07-24",
          "2020-07-25",
          "2020-07-26",
          "2020-07-27",
          "2020-07-28",
          "2020-07-29",
          "2020-07-30",
          "2020-07-31",
          "2020-08-01",
          "2020-08-02",
          "2020-08-03",
          "2020-08-04",
          "2020-08-05",
          "2020-08-06",
          "2020-08-07",
          "2020-08-08",
          "2020-08-09",
          "2020-08-10",
          "2020-08-11",
          "2020-08-12",
          "2020-08-13",
          "2020-08-14",
          "2020-08-15",
          "2020-08-16",
          "2020-08-17",
          "2020-08-18",
          "2020-08-19",
          "2020-08-20",
          "2020-08-21",
          "2020-08-22",
          "2020-08-23",
          "2020-08-24",
          "2020-08-25",
          "2020-08-26",
          "2020-08-27",
          "2020-08-28",
          "2020-08-29",
          "2020-08-30",
          "2020-08-31",
          "2020-09-01",
          "2020-09-02",
          "2020-09-03",
          "2020-09-04",
          "2020-09-05",
          "2020-09-06",
          "2020-09-07",
          "2020-09-08",
          "2020-09-09",
          "2020-09-10",
          "2020-09-11",
          "2020-09-12",
          "2020-09-13",
          "2020-09-14",
          "2020-09-15",
          "2020-09-16",
          "2020-09-17",
          "2020-09-18",
          "2020-09-19",
          "2020-09-20",
          "2020-09-21",
          "2020-09-22",
          "2020-09-23",
          "2020-09-24",
          "2020-09-25",
          "2020-09-26",
          "2020-09-27",
          "2020-09-28",
          "2020-09-29",
          "2020-09-30",
          "2020-10-01",
          "2020-10-02",
          "2020-10-03",
          "2020-10-04",
          "2020-10-05",
          "2020-10-06",
          "2020-10-07",
          "2020-10-08",
          "2020-10-09",
          "2020-10-10",
          "2020-10-11",
          "2020-10-12",
          "2020-10-13",
          "2020-10-14",
          "2020-10-15",
          "2020-10-16",
          "2020-10-17",
          "2020-10-18",
          "2020-10-19",
          "2020-10-20",
          "2020-10-21",
          "2020-10-22",
          "2020-10-23",
          "2020-10-24",
          "2020-10-25",
          "2020-10-26",
          "2020-10-27",
          "2020-10-28",
          "2020-10-29",
          "2020-10-30",
          "2020-10-31",
          "2020-11-01",
          "2020-11-02",
          "2020-11-03",
          "2020-11-04",
          "2020-11-05",
          "2020-11-06",
          "2020-11-07",
          "2020-11-08",
          "2020-11-09",
          "2020-11-10",
          "2020-11-11",
          "2020-11-12",
          "2020-11-13",
          "2020-11-14",
          "2020-11-15",
          "2020-11-16",
          "2020-11-17",
          "2020-11-18",
          "2020-11-19",
          "2020-11-20",
          "2020-11-21",
          "2020-11-22",
          "2020-11-23",
          "2020-11-24",
          "2020-11-25",
          "2020-11-26",
          "2020-11-27",
          "2020-11-28",
          "2020-11-29",
          "2020-11-30",
          "2020-12-01",
          "2020-12-02",
          "2020-12-03",
          "2020-12-04",
          "2020-12-05",
          "2020-12-06",
          "2020-12-07",
          "2020-12-08",
          "2020-12-09",
          "2020-12-10",
          "2020-12-11",
          "2020-12-12",
          "2020-12-13",
          "2020-12-14",
          "2020-12-15",
          "2020-12-16",
          "2020-12-17",
          "2020-12-18",
          "2020-12-19",
          "2020-12-20",
          "2020-12-21",
          "2020-12-22",
          "2020-12-23",
          "2020-12-24",
          "2020-12-25",
          "2020-12-26",
          "2020-12-27",
          "2020-12-28",
          "2020-12-29",
          "2020-12-30",
          "2020-12-31",
          "2021-01-01",
          "2021-01-02",
          "2021-01-03",
          "2021-01-04",
          "2021-01-05",
          "2021-01-06",
          "2021-01-07",
          "2021-01-08",
          "2021-01-09",
          "2021-01-10",
          "2021-01-11",
          "2021-01-12",
          "2021-01-13",
          "2021-01-14",
          "2021-01-15",
          "2021-01-16",
          "2021-01-17",
          "2021-01-18",
          "2021-01-19",
          "2021-01-20",
          "2021-01-21",
          "2021-01-22",
          "2021-01-23",
          "2021-01-24",
          "2021-01-25",
          "2021-01-26",
          "2021-01-27",
          "2021-01-28",
          "2021-01-29",
          "2021-01-30",
          "2021-01-31",
          "2021-02-01",
          "2021-02-02",
          "2021-02-03",
          "2021-02-04",
          "2021-02-05",
          "2021-02-06",
          "2021-02-07",
          "2021-02-08",
          "2021-02-09",
          "2021-02-10",
          "2021-02-11",
          "2021-02-12",
          "2021-02-13",
          "2021-02-14",
          "2021-02-15",
          "2021-02-16",
          "2021-02-17",
          "2021-02-18",
          "2021-02-19",
          "2021-02-20",
          "2021-02-21",
          "2021-02-22",
          "2021-02-23",
          "2021-02-24",
          "2021-02-25",
          "2021-02-26",
          "2021-02-27",
          "2021-02-28",
          "2021-03-01",
          "2021-03-02",
          "2021-03-03",
          "2021-03-04",
          "2021-03-05",
          "2021-03-06",
          "2021-03-07",
          "2021-03-08",
          "2021-03-09",
          "2021-03-10",
          "2021-03-11",
          "2021-03-12",
          "2021-03-13",
          "2021-03-14",
          "2021-03-15",
          "2021-03-16",
          "2021-03-17",
          "2021-03-18",
          "2021-03-19",
          "2021-03-20",
          "2021-03-21",
          "2021-03-22",
          "2021-03-23",
          "2021-03-24",
          "2021-03-25",
          "2021-03-26",
          "2021-03-27",
          "2021-03-28",
          "2021-03-29",
          "2021-03-30",
          "2021-03-31",
          "2021-04-01",
          "2021-04-02",
          "2021-04-03",
          "2021-04-04",
          "2021-04-05",
          "2021-04-06",
          "2021-04-07",
          "2021-04-08",
          "2021-04-09",
          "2021-04-10",
          "2021-04-11",
          "2021-04-12",
          "2021-04-13",
          "2021-04-14",
          "2021-04-15",
          "2021-04-16",
          "2021-04-17",
          "2021-04-18",
          "2021-04-19",
          "2021-04-20",
          "2021-04-21",
          "2021-04-22",
          "2021-04-23",
          "2021-04-24",
          "2021-04-25",
          "2021-04-26",
          "2021-04-27",
          "2021-04-28",
          "2021-04-29",
          "2021-04-30",
          "2021-05-01",
          "2021-05-02",
          "2021-05-03",
          "2021-05-04",
          "2021-05-05",
          "2021-05-06",
          "2021-05-07",
          "2021-05-08",
          "2021-05-09",
          "2021-05-10",
          "2021-05-11",
          "2021-05-12",
          "2021-05-13",
          "2021-05-14",
          "2021-05-15",
          "2021-05-16",
          "2021-05-17",
          "2021-05-18",
          "2021-05-19",
          "2021-05-20",
          "2021-05-21",
          "2021-05-22",
          "2021-05-23",
          "2021-05-24",
          "2021-05-25",
          "2021-05-26",
          "2021-05-27",
          "2021-05-28",
          "2021-05-29",
          "2021-05-30",
          "2021-05-31",
          "2021-06-01",
          "2021-06-02",
          "2021-06-03",
          "2021-06-04",
          "2021-06-05",
          "2021-06-06",
          "2021-06-07",
          "2021-06-08",
          "2021-06-09",
          "2021-06-10",
          "2021-06-11",
          "2021-06-12",
          "2021-06-13",
          "2021-06-14",
          "2021-06-15",
          "2021-06-16",
          "2021-06-17",
          "2021-06-18",
          "2021-06-19",
          "2021-06-20",
          "2021-06-21",
          "2021-06-22",
          "2021-06-23",
          "2021-06-24",
          "2021-06-25",
          "2021-06-26",
          "2021-06-27",
          "2021-06-28",
          "2021-06-29",
          "2021-06-30",
          "2021-07-01",
          "2021-07-02",
          "2021-07-03",
          "2021-07-04",
          "2021-07-05",
          "2021-07-06",
          "2021-07-07",
          "2021-07-08",
          "2021-07-09",
          "2021-07-10",
          "2021-07-11",
          "2021-07-12",
          "2021-07-13",
          "2021-07-14",
          "2021-07-15",
          "2021-07-16",
          "2021-07-17",
          "2021-07-18",
          "2021-07-19",
          "2021-07-20",
          "2021-07-21",
          "2021-07-22",
          "2021-07-23",
          "2021-07-24",
          "2021-07-25",
          "2021-07-26",
          "2021-07-27",
          "2021-07-28",
          "2021-07-29",
          "2021-07-30",
          "2021-07-31",
          "2021-08-01",
          "2021-08-02",
          "2021-08-03",
          "2021-08-04",
          "2021-08-05",
          "2021-08-06",
          "2021-08-07",
          "2021-08-08",
          "2021-08-09",
          "2021-08-10",
          "2021-08-11",
          "2021-08-12",
          "2021-08-13",
          "2021-08-14",
          "2021-08-15",
          "2021-08-16",
          "2021-08-17",
          "2021-08-18",
          "2021-08-19",
          "2021-08-20",
          "2021-08-21",
          "2021-08-22",
          "2021-08-23",
          "2021-08-24",
          "2021-08-25",
          "2021-08-26",
          "2021-08-27",
          "2021-08-28",
          "2021-08-29",
          "2021-08-30",
          "2021-08-31",
          "2021-09-01",
          "2021-09-02",
          "2021-09-03",
          "2021-09-04",
          "2021-09-05",
          "2021-09-06",
          "2021-09-07",
          "2021-09-08",
          "2021-09-09",
          "2021-09-10",
          "2021-09-11",
          "2021-09-12",
          "2021-09-13",
          "2021-09-14",
          "2021-09-15",
          "2021-09-16",
          "2021-09-17",
          "2021-09-18",
          "2021-09-19",
          "2021-09-20",
          "2021-09-21",
          "2021-09-22",
          "2021-09-23",
          "2021-09-24",
          "2021-09-25",
          "2021-09-26",
          "2021-09-27",
          "2021-09-28",
          "2021-09-29",
          "2021-09-30",
          "2021-10-01",
          "2021-10-02",
          "2021-10-03",
          "2021-10-04",
          "2021-10-05",
          "2021-10-06",
          "2021-10-07",
          "2021-10-08",
          "2021-10-09",
          "2021-10-10",
          "2021-10-11",
          "2021-10-12",
          "2021-10-13",
          "2021-10-14",
          "2021-10-15",
          "2021-10-16",
          "2021-10-17",
          "2021-10-18",
          "2021-10-19",
          "2021-10-20",
          "2021-10-21",
          "2021-10-22",
          "2021-10-23",
          "2021-10-24",
          "2021-10-25",
          "2021-10-26",
          "2021-10-27",
          "2021-10-28",
          "2021-10-29",
          "2021-10-30",
          "2021-10-31",
          "2021-11-01",
          "2021-11-02",
          "2021-11-03",
          "2021-11-04",
          "2021-11-05",
          "2021-11-06",
          "2021-11-07",
          "2021-11-08",
          "2021-11-09",
          "2021-11-10",
          "2021-11-11",
          "2021-11-12",
          "2021-11-13",
          "2021-11-14",
          "2021-11-15",
          "2021-11-16",
          "2021-11-17",
          "2021-11-18",
          "2021-11-19",
          "2021-11-20",
          "2021-11-21",
          "2021-11-22",
          "2021-11-23",
          "2021-11-24",
          "2021-11-25",
          "2021-11-26",
          "2021-11-27",
          "2021-11-28",
          "2021-11-29",
          "2021-11-30",
          "2021-12-01",
          "2021-12-02",
          "2021-12-03",
          "2021-12-04",
          "2021-12-05",
          "2021-12-06",
          "2021-12-07",
          "2021-12-08",
          "2021-12-09",
          "2021-12-10",
          "2021-12-11",
          "2021-12-12",
          "2021-12-13",
          "2021-12-14",
          "2021-12-15",
          "2021-12-16",
          "2021-12-17",
          "2021-12-18",
          "2021-12-19",
          "2021-12-20",
          "2021-12-21",
          "2021-12-22",
          "2021-12-23",
          "2021-12-24",
          "2021-12-25",
          "2021-12-26",
          "2021-12-27",
          "2021-12-28",
          "2021-12-29",
          "2021-12-30",
          "2021-12-31",
          "2022-01-01",
          "2022-01-02",
          "2022-01-03",
          "2022-01-04",
          "2022-01-05",
          "2022-01-06",
          "2022-01-07",
          "2022-01-08",
          "2022-01-09",
          "2022-01-10",
          "2022-01-11",
          "2022-01-12",
          "2022-01-13",
          "2022-01-14",
          "2022-01-15",
          "2022-01-16",
          "2022-01-17",
          "2022-01-18",
          "2022-01-19",
          "2022-01-20",
          "2022-01-21",
          "2022-01-22",
          "2022-01-23",
          "2022-01-24",
          "2022-01-25",
          "2022-01-26",
          "2022-01-27",
          "2022-01-28",
          "2022-01-29",
          "2022-01-30",
          "2022-01-31",
          "2022-02-01",
          "2022-02-02",
          "2022-02-03",
          "2022-02-04",
          "2022-02-05",
          "2022-02-06",
          "2022-02-07",
          "2022-02-08",
          "2022-02-09",
          "2022-02-10",
          "2022-02-11",
          "2022-02-12",
          "2022-02-13",
          "2022-02-14",
          "2022-02-15",
          "2022-02-16",
          "2022-02-17",
          "2022-02-18",
          "2022-02-19",
          "2022-02-20",
          "2022-02-21",
          "2022-02-22",
          "2022-02-23",
          "2022-02-24",
          "2022-02-25",
          "2022-02-26",
          "2022-02-27",
          "2022-02-28",
          "2022-03-01",
          "2022-03-02",
          "2022-03-03",
          "2022-03-04",
          "2022-03-05",
          "2022-03-06",
          "2022-03-07",
          "2022-03-08",
          "2022-03-09",
          "2022-03-10",
          "2022-03-11",
          "2022-03-12",
          "2022-03-13",
          "2022-03-14",
          "2022-03-15",
          "2022-03-16",
          "2022-03-17",
          "2022-03-18",
          "2022-03-19",
          "2022-03-20",
          "2022-03-21",
          "2022-03-22",
          "2022-03-23",
          "2022-03-24",
          "2022-03-25",
          "2022-03-26",
          "2022-03-27",
          "2022-03-28",
          "2022-03-29",
          "2022-03-30",
          "2022-03-31",
          "2022-04-01",
          "2022-04-02",
          "2022-04-03",
          "2022-04-04",
          "2022-04-05",
          "2022-04-06",
          "2022-04-07",
          "2022-04-08",
          "2022-04-09",
          "2022-04-10",
          "2022-04-11"
         ],
         "y": [
          1.0,
          1.0,
          1.0,
          1.0,
          1.0,
          1.0,
          1.0,
          1.0,
          1.0,
          1.0,
          1.0,
          1.0,
          1.0,
          1.0,
          1.0,
          1.0,
          1.0,
          1.0,
          1.0,
          1.0,
          1.0,
          1.0,
          1.0,
          1.0,
          1.0,
          2.0,
          3.0,
          11.0,
          14.0,
          14.0,
          19.0,
          32.0,
          62.0,
          87.0,
          146.0,
          179.0,
          225.0,
          326.0,
          424.0,
          620.0,
          771.0,
          923.0,
          994.0,
          1063.0,
          1146.0,
          1265.0,
          1410.0,
          1553.0,
          1733.0,
          1868.0,
          1986.0,
          2168.0,
          2398.0,
          2712.0,
          2998.0,
          3363.0,
          3663.0,
          3943.0,
          4359.0,
          4834.0,
          5320.0,
          5874.0,
          6475.0,
          6832.0,
          7172.0,
          7561.0,
          8299.0,
          8954.0,
          9599.0,
          10053.0,
          10448.0,
          10912.0,
          11349.0,
          11828.0,
          12432.0,
          13055.0,
          13743.0,
          14275.0,
          14663.0,
          15124.0,
          15831.0,
          16553.0,
          17311.0,
          18090.0,
          18563.0,
          18863.0,
          19426.0,
          20168.0,
          20966.0,
          21601.0,
          22133.0,
          22432.0,
          22693.0,
          23169.0,
          23826.0,
          24572.0,
          25359.0,
          26059.0,
          26568.0,
          26846.0,
          27301.0,
          28055.0,
          28755.0,
          29415.0,
          30103.0,
          30461.0,
          30720.0,
          31151.0,
          31818.0,
          32626.0,
          33236.0,
          33768.0,
          34171.0,
          34381.0,
          34871.0,
          35617.0,
          36417.0,
          37191.0,
          37964.0,
          38396.0,
          38661.0,
          39309.0,
          40210.0,
          41256.0,
          42295.0,
          43441.0,
          44224.0,
          44686.0,
          45363.0,
          46299.0,
          47736.0,
          49030.0,
          50367.0,
          51409.0,
          51827.0,
          52511.0,
          53729.0,
          55186.0,
          56682.0,
          57895.0,
          58597.0,
          58918.0,
          59718.0,
          61030.0,
          62728.0,
          64009.0,
          65212.0,
          65972.0,
          66392.0,
          67119.0,
          67924.0,
          68608.0,
          69297.0,
          69996.0,
          70366.0,
          70681.0,
          70932.0,
          71210.0,
          71747.0,
          72082.0,
          72459.0,
          72773.0,
          72879.0,
          73049.0,
          73364.0,
          73663.0,
          73936.0,
          74235.0,
          74435.0,
          74545.0,
          74676.0,
          74902.0,
          75199.0,
          75419.0,
          75681.0,
          75819.0,
          75861.0,
          75932.0,
          76215.0,
          76516.0,
          76818.0,
          77076.0,
          77379.0,
          77417.0,
          77582.0,
          77916.0,
          78341.0,
          78719.0,
          79099.0,
          79359.0,
          79432.0,
          79628.0,
          80045.0,
          80489.0,
          80851.0,
          81195.0,
          81421.0,
          81484.0,
          81658.0,
          81972.0,
          82323.0,
          82656.0,
          82954.0,
          83114.0,
          83171.0,
          83353.0,
          83578.0,
          83824.0,
          83958.0,
          83958.0,
          83958.0,
          83958.0,
          84379.0,
          84521.0,
          84532.0,
          84729.0,
          84985.0,
          84985.0,
          84985.0,
          85558.0,
          85707.0,
          85880.0,
          86194.0,
          86505.0,
          86505.0,
          86505.0,
          86505.0,
          87345.0,
          87575.0,
          87885.0,
          88237.0,
          88237.0,
          88237.0,
          88237.0,
          89436.0,
          89756.0,
          90289.0,
          90923.0,
          90923.0,
          90923.0,
          90923.0,
          92466.0,
          92863.0,
          93615.0,
          94283.0,
          94283.0,
          94283.0,
          94283.0,
          96145.0,
          96677.0,
          97532.0,
          98451.0,
          98451.0,
          98451.0,
          98451.0,
          100654.0,
          101332.0,
          102407.0,
          103200.0,
          103200.0,
          103200.0,
          103200.0,
          106380.0,
          107355.0,
          108969.0,
          110594.0,
          110594.0,
          110594.0,
          110594.0,
          115785.0,
          117913.0,
          121167.0,
          124355.0,
          124355.0,
          124355.0,
          124355.0,
          134532.0,
          137730.0,
          141764.0,
          146461.0,
          146461.0,
          146461.0,
          146461.0,
          162240.0,
          166707.0,
          171365.0,
          177355.0,
          177355.0,
          177355.0,
          177355.0,
          192439.0,
          196446.0,
          201055.0,
          208295.0,
          208295.0,
          208295.0,
          208295.0,
          225560.0,
          230514.0,
          236355.0,
          243129.0,
          243129.0,
          243129.0,
          243129.0,
          260758.0,
          266158.0,
          272643.0,
          278912.0,
          278912.0,
          278912.0,
          278912.0,
          297732.0,
          304793.0,
          312728.0,
          320098.0,
          320098.0,
          320098.0,
          320098.0,
          341029.0,
          348585.0,
          357466.0,
          367120.0,
          367120.0,
          367120.0,
          367120.0,
          389439.0,
          396048.0,
          396048.0,
          396048.0,
          396048.0,
          396048.0,
          396048.0,
          428533.0,
          437379.0,
          437379.0,
          437379.0,
          437379.0,
          437379.0,
          437379.0,
          469748.0,
          469748.0,
          482284.0,
          489471.0,
          489471.0,
          489471.0,
          489471.0,
          506866.0,
          512203.0,
          518783.0,
          523486.0,
          523486.0,
          523486.0,
          523486.0,
          533265.0,
          537967.0,
          542952.0,
          547166.0,
          547166.0,
          547166.0,
          547166.0,
          556289.0,
          560472.0,
          564557.0,
          566957.0,
          566957.0,
          566957.0,
          566957.0,
          576606.0,
          580916.0,
          584674.0,
          588062.0,
          588062.0,
          588062.0,
          588062.0,
          596174.0,
          600244.0,
          604577.0,
          608411.0,
          608411.0,
          608411.0,
          608411.0,
          617869.0,
          622102.0,
          627022.0,
          631166.0,
          631166.0,
          631166.0,
          631166.0,
          642099.0,
          647470.0,
          652465.0,
          657309.0,
          657309.0,
          657309.0,
          657309.0,
          669113.0,
          675292.0,
          680130.0,
          684961.0,
          684961.0,
          684961.0,
          684961.0,
          695975.0,
          701892.0,
          707192.0,
          712527.0,
          712527.0,
          712527.0,
          712527.0,
          725289.0,
          732070.0,
          738537.0,
          744272.0,
          744272.0,
          744272.0,
          744272.0,
          758335.0,
          765984.0,
          773690.0,
          780018.0,
          780018.0,
          780018.0,
          780018.0,
          796445.0,
          804886.0,
          813191.0,
          813191.0,
          813191.0,
          813191.0,
          813191.0,
          834993.0,
          841807.0,
          849629.0,
          857401.0,
          857401.0,
          857401.0,
          857401.0,
          876506.0,
          885385.0,
          892480.0,
          900138.0,
          900138.0,
          900138.0,
          900138.0,
          916830.0,
          924340.0,
          932076.0,
          938343.0,
          938343.0,
          938343.0,
          938343.0,
          953254.0,
          960520.0,
          967678.0,
          973604.0,
          973604.0,
          973604.0,
          973604.0,
          988554.0,
          995595.0,
          1002121.0,
          1007792.0,
          1007792.0,
          1007792.0,
          1007792.0,
          1021604.0,
          1027934.0,
          1027934.0,
          1037126.0,
          1037126.0,
          1037126.0,
          1037126.0,
          1047143.0,
          1051762.0,
          1055173.0,
          1058341.0,
          1058341.0,
          1058341.0,
          1058341.0,
          1064375.0,
          1067107.0,
          1068473.0,
          1068473.0,
          1068473.0,
          1068473.0,
          1068473.0,
          1068473.0,
          1068473.0,
          1076993.0,
          1078062.0,
          1078062.0,
          1078062.0,
          1078062.0,
          1080733.0,
          1081898.0,
          1082729.0,
          1083456.0,
          1083456.0,
          1083456.0,
          1083456.0,
          1084636.0,
          1084636.0,
          1084636.0,
          1084636.0,
          1084636.0,
          1084636.0,
          1084636.0,
          1088014.0,
          1088518.0,
          1088896.0,
          1088896.0,
          1088896.0,
          1088896.0,
          1088896.0,
          1089743.0,
          1089990.0,
          1090553.0,
          1090880.0,
          1090880.0,
          1090880.0,
          1090880.0,
          1091730.0,
          1092083.0,
          1092308.0,
          1092540.0,
          1092540.0,
          1092540.0,
          1092540.0,
          1093209.0,
          1093576.0,
          1093923.0,
          1094287.0,
          1094287.0,
          1094287.0,
          1094287.0,
          1095279.0,
          1095758.0,
          1096341.0,
          1096799.0,
          1096799.0,
          1096799.0,
          1096799.0,
          1098154.0,
          1098795.0,
          1099414.0,
          1100040.0,
          1100040.0,
          1100040.0,
          1100040.0,
          1101900.0,
          1102829.0,
          1103693.0,
          1104538.0,
          1104538.0,
          1104538.0,
          1104538.0,
          1106821.0,
          1108057.0,
          1109112.0,
          1110147.0,
          1110147.0,
          1110147.0,
          1110147.0,
          1112958.0,
          1114278.0,
          1115566.0,
          1116584.0,
          1116584.0,
          1116584.0,
          1116584.0,
          1119358.0,
          1120628.0,
          1122139.0,
          1123413.0,
          1123413.0,
          1123413.0,
          1123413.0,
          1126813.0,
          1127917.0,
          1129131.0,
          1130525.0,
          1130525.0,
          1130525.0,
          1130525.0,
          1133449.0,
          1135160.0,
          1136535.0,
          1138017.0,
          1138017.0,
          1138017.0,
          1138017.0,
          1141673.0,
          1142770.0,
          1143973.0,
          1144982.0,
          1144982.0,
          1144982.0,
          1144982.0,
          1146968.0,
          1147879.0,
          1148641.0,
          1149407.0,
          1149407.0,
          1149407.0,
          1149407.0,
          1151173.0,
          1152027.0,
          1152886.0,
          1153655.0,
          1153655.0,
          1153655.0,
          1153655.0,
          1155534.0,
          1156248.0,
          1157083.0,
          1157822.0,
          1157822.0,
          1157822.0,
          1157822.0,
          1159560.0,
          1160465.0,
          1161264.0,
          1161933.0,
          1161933.0,
          1161933.0,
          1161933.0,
          1163595.0,
          1164402.0,
          1165194.0,
          1165996.0,
          1165996.0,
          1165996.0,
          1165996.0,
          1168271.0,
          1169530.0,
          1170422.0,
          1171512.0,
          1171512.0,
          1171512.0,
          1171512.0,
          1174273.0,
          1175425.0,
          1176269.0,
          1177094.0,
          1177094.0,
          1177094.0,
          1177094.0,
          1179192.0,
          1180518.0,
          1181532.0,
          1182471.0,
          1182471.0,
          1182471.0,
          1182471.0,
          1185093.0,
          1186387.0,
          1187607.0,
          1188735.0,
          1188735.0,
          1188735.0,
          1188735.0,
          1192560.0,
          1194636.0,
          1196688.0,
          1198848.0,
          1198848.0,
          1198848.0,
          1198848.0,
          1204859.0,
          1207498.0,
          1209935.0,
          1212145.0,
          1212145.0,
          1212145.0,
          1212145.0,
          1219557.0,
          1222892.0,
          1226055.0,
          1229217.0,
          1229217.0,
          1229217.0,
          1229217.0,
          1238689.0,
          1242733.0,
          1246755.0,
          1250885.0,
          1250885.0,
          1250885.0,
          1250885.0,
          1263566.0,
          1268254.0,
          1273313.0,
          1273313.0,
          1273313.0,
          1273313.0,
          1273313.0,
          1294560.0,
          1303663.0,
          1314784.0,
          1314784.0,
          1314784.0,
          1314784.0,
          1314784.0,
          1357753.0,
          1375267.0,
          1375267.0,
          1416650.0,
          1416650.0,
          1416650.0,
          1416650.0,
          1487291.0,
          1509230.0,
          1534797.0,
          1560363.0,
          1560363.0,
          1560363.0,
          1560363.0,
          1657611.0,
          1700336.0,
          1741710.0,
          1784005.0,
          1784005.0,
          1784005.0,
          1784005.0,
          1922990.0,
          1973485.0,
          2015276.0,
          2070456.0,
          2070456.0,
          2070456.0,
          2070456.0,
          2183910.0,
          2223115.0,
          2259656.0,
          2287785.0,
          2287785.0,
          2287785.0,
          2287785.0,
          2354455.0,
          2372637.0,
          2389605.0,
          2397330.0,
          2397330.0,
          2397330.0,
          2397330.0,
          2409081.0,
          2414463.0,
          2418560.0,
          2422856.0,
          2422856.0,
          2422856.0,
          2422856.0,
          2431365.0,
          2434783.0,
          2437850.0,
          2441142.0,
          2441142.0,
          2441142.0,
          2441142.0,
          2448182.0,
          2451464.0,
          2453936.0,
          2455966.0,
          2455966.0,
          2455966.0,
          2455966.0,
          2460783.0,
          2462952.0,
          2465099.0,
          2466577.0,
          2466577.0,
          2466577.0,
          2466577.0,
          2470254.0,
          2472068.0,
          2473707.0,
          2475687.0,
          2475687.0,
          2475687.0,
          2475687.0,
          2475687.0,
          2475687.0,
          2481736.0,
          2481736.0,
          2481736.0,
          2481736.0,
          2481736.0,
          2481736.0,
          2481736.0,
          2487852.0,
          2487852.0,
          2487852.0,
          2487852.0,
          2487852.0,
          2487852.0,
          2487852.0,
          2491980.0,
          2491980.0,
          2491980.0,
          2491980.0,
          2491980.0
         ],
         "type": "scatter",
         "xaxis": "x",
         "yaxis": "y"
        },
        {
         "connectgaps": true,
         "marker": {
          "color": "blue"
         },
         "mode": "lines",
         "name": "Confirmed deaths for Sweden",
         "x": [
          "2020-02-01",
          "2020-02-02",
          "2020-02-03",
          "2020-02-04",
          "2020-02-05",
          "2020-02-06",
          "2020-02-07",
          "2020-02-08",
          "2020-02-09",
          "2020-02-10",
          "2020-02-11",
          "2020-02-12",
          "2020-02-13",
          "2020-02-14",
          "2020-02-15",
          "2020-02-16",
          "2020-02-17",
          "2020-02-18",
          "2020-02-19",
          "2020-02-20",
          "2020-02-21",
          "2020-02-22",
          "2020-02-23",
          "2020-02-24",
          "2020-02-25",
          "2020-02-26",
          "2020-02-27",
          "2020-02-28",
          "2020-02-29",
          "2020-03-01",
          "2020-03-02",
          "2020-03-03",
          "2020-03-04",
          "2020-03-05",
          "2020-03-06",
          "2020-03-07",
          "2020-03-08",
          "2020-03-09",
          "2020-03-10",
          "2020-03-11",
          "2020-03-12",
          "2020-03-13",
          "2020-03-14",
          "2020-03-15",
          "2020-03-16",
          "2020-03-17",
          "2020-03-18",
          "2020-03-19",
          "2020-03-20",
          "2020-03-21",
          "2020-03-22",
          "2020-03-23",
          "2020-03-24",
          "2020-03-25",
          "2020-03-26",
          "2020-03-27",
          "2020-03-28",
          "2020-03-29",
          "2020-03-30",
          "2020-03-31",
          "2020-04-01",
          "2020-04-02",
          "2020-04-03",
          "2020-04-04",
          "2020-04-05",
          "2020-04-06",
          "2020-04-07",
          "2020-04-08",
          "2020-04-09",
          "2020-04-10",
          "2020-04-11",
          "2020-04-12",
          "2020-04-13",
          "2020-04-14",
          "2020-04-15",
          "2020-04-16",
          "2020-04-17",
          "2020-04-18",
          "2020-04-19",
          "2020-04-20",
          "2020-04-21",
          "2020-04-22",
          "2020-04-23",
          "2020-04-24",
          "2020-04-25",
          "2020-04-26",
          "2020-04-27",
          "2020-04-28",
          "2020-04-29",
          "2020-04-30",
          "2020-05-01",
          "2020-05-02",
          "2020-05-03",
          "2020-05-04",
          "2020-05-05",
          "2020-05-06",
          "2020-05-07",
          "2020-05-08",
          "2020-05-09",
          "2020-05-10",
          "2020-05-11",
          "2020-05-12",
          "2020-05-13",
          "2020-05-14",
          "2020-05-15",
          "2020-05-16",
          "2020-05-17",
          "2020-05-18",
          "2020-05-19",
          "2020-05-20",
          "2020-05-21",
          "2020-05-22",
          "2020-05-23",
          "2020-05-24",
          "2020-05-25",
          "2020-05-26",
          "2020-05-27",
          "2020-05-28",
          "2020-05-29",
          "2020-05-30",
          "2020-05-31",
          "2020-06-01",
          "2020-06-02",
          "2020-06-03",
          "2020-06-04",
          "2020-06-05",
          "2020-06-06",
          "2020-06-07",
          "2020-06-08",
          "2020-06-09",
          "2020-06-10",
          "2020-06-11",
          "2020-06-12",
          "2020-06-13",
          "2020-06-14",
          "2020-06-15",
          "2020-06-16",
          "2020-06-17",
          "2020-06-18",
          "2020-06-19",
          "2020-06-20",
          "2020-06-21",
          "2020-06-22",
          "2020-06-23",
          "2020-06-24",
          "2020-06-25",
          "2020-06-26",
          "2020-06-27",
          "2020-06-28",
          "2020-06-29",
          "2020-06-30",
          "2020-07-01",
          "2020-07-02",
          "2020-07-03",
          "2020-07-04",
          "2020-07-05",
          "2020-07-06",
          "2020-07-07",
          "2020-07-08",
          "2020-07-09",
          "2020-07-10",
          "2020-07-11",
          "2020-07-12",
          "2020-07-13",
          "2020-07-14",
          "2020-07-15",
          "2020-07-16",
          "2020-07-17",
          "2020-07-18",
          "2020-07-19",
          "2020-07-20",
          "2020-07-21",
          "2020-07-22",
          "2020-07-23",
          "2020-07-24",
          "2020-07-25",
          "2020-07-26",
          "2020-07-27",
          "2020-07-28",
          "2020-07-29",
          "2020-07-30",
          "2020-07-31",
          "2020-08-01",
          "2020-08-02",
          "2020-08-03",
          "2020-08-04",
          "2020-08-05",
          "2020-08-06",
          "2020-08-07",
          "2020-08-08",
          "2020-08-09",
          "2020-08-10",
          "2020-08-11",
          "2020-08-12",
          "2020-08-13",
          "2020-08-14",
          "2020-08-15",
          "2020-08-16",
          "2020-08-17",
          "2020-08-18",
          "2020-08-19",
          "2020-08-20",
          "2020-08-21",
          "2020-08-22",
          "2020-08-23",
          "2020-08-24",
          "2020-08-25",
          "2020-08-26",
          "2020-08-27",
          "2020-08-28",
          "2020-08-29",
          "2020-08-30",
          "2020-08-31",
          "2020-09-01",
          "2020-09-02",
          "2020-09-03",
          "2020-09-04",
          "2020-09-05",
          "2020-09-06",
          "2020-09-07",
          "2020-09-08",
          "2020-09-09",
          "2020-09-10",
          "2020-09-11",
          "2020-09-12",
          "2020-09-13",
          "2020-09-14",
          "2020-09-15",
          "2020-09-16",
          "2020-09-17",
          "2020-09-18",
          "2020-09-19",
          "2020-09-20",
          "2020-09-21",
          "2020-09-22",
          "2020-09-23",
          "2020-09-24",
          "2020-09-25",
          "2020-09-26",
          "2020-09-27",
          "2020-09-28",
          "2020-09-29",
          "2020-09-30",
          "2020-10-01",
          "2020-10-02",
          "2020-10-03",
          "2020-10-04",
          "2020-10-05",
          "2020-10-06",
          "2020-10-07",
          "2020-10-08",
          "2020-10-09",
          "2020-10-10",
          "2020-10-11",
          "2020-10-12",
          "2020-10-13",
          "2020-10-14",
          "2020-10-15",
          "2020-10-16",
          "2020-10-17",
          "2020-10-18",
          "2020-10-19",
          "2020-10-20",
          "2020-10-21",
          "2020-10-22",
          "2020-10-23",
          "2020-10-24",
          "2020-10-25",
          "2020-10-26",
          "2020-10-27",
          "2020-10-28",
          "2020-10-29",
          "2020-10-30",
          "2020-10-31",
          "2020-11-01",
          "2020-11-02",
          "2020-11-03",
          "2020-11-04",
          "2020-11-05",
          "2020-11-06",
          "2020-11-07",
          "2020-11-08",
          "2020-11-09",
          "2020-11-10",
          "2020-11-11",
          "2020-11-12",
          "2020-11-13",
          "2020-11-14",
          "2020-11-15",
          "2020-11-16",
          "2020-11-17",
          "2020-11-18",
          "2020-11-19",
          "2020-11-20",
          "2020-11-21",
          "2020-11-22",
          "2020-11-23",
          "2020-11-24",
          "2020-11-25",
          "2020-11-26",
          "2020-11-27",
          "2020-11-28",
          "2020-11-29",
          "2020-11-30",
          "2020-12-01",
          "2020-12-02",
          "2020-12-03",
          "2020-12-04",
          "2020-12-05",
          "2020-12-06",
          "2020-12-07",
          "2020-12-08",
          "2020-12-09",
          "2020-12-10",
          "2020-12-11",
          "2020-12-12",
          "2020-12-13",
          "2020-12-14",
          "2020-12-15",
          "2020-12-16",
          "2020-12-17",
          "2020-12-18",
          "2020-12-19",
          "2020-12-20",
          "2020-12-21",
          "2020-12-22",
          "2020-12-23",
          "2020-12-24",
          "2020-12-25",
          "2020-12-26",
          "2020-12-27",
          "2020-12-28",
          "2020-12-29",
          "2020-12-30",
          "2020-12-31",
          "2021-01-01",
          "2021-01-02",
          "2021-01-03",
          "2021-01-04",
          "2021-01-05",
          "2021-01-06",
          "2021-01-07",
          "2021-01-08",
          "2021-01-09",
          "2021-01-10",
          "2021-01-11",
          "2021-01-12",
          "2021-01-13",
          "2021-01-14",
          "2021-01-15",
          "2021-01-16",
          "2021-01-17",
          "2021-01-18",
          "2021-01-19",
          "2021-01-20",
          "2021-01-21",
          "2021-01-22",
          "2021-01-23",
          "2021-01-24",
          "2021-01-25",
          "2021-01-26",
          "2021-01-27",
          "2021-01-28",
          "2021-01-29",
          "2021-01-30",
          "2021-01-31",
          "2021-02-01",
          "2021-02-02",
          "2021-02-03",
          "2021-02-04",
          "2021-02-05",
          "2021-02-06",
          "2021-02-07",
          "2021-02-08",
          "2021-02-09",
          "2021-02-10",
          "2021-02-11",
          "2021-02-12",
          "2021-02-13",
          "2021-02-14",
          "2021-02-15",
          "2021-02-16",
          "2021-02-17",
          "2021-02-18",
          "2021-02-19",
          "2021-02-20",
          "2021-02-21",
          "2021-02-22",
          "2021-02-23",
          "2021-02-24",
          "2021-02-25",
          "2021-02-26",
          "2021-02-27",
          "2021-02-28",
          "2021-03-01",
          "2021-03-02",
          "2021-03-03",
          "2021-03-04",
          "2021-03-05",
          "2021-03-06",
          "2021-03-07",
          "2021-03-08",
          "2021-03-09",
          "2021-03-10",
          "2021-03-11",
          "2021-03-12",
          "2021-03-13",
          "2021-03-14",
          "2021-03-15",
          "2021-03-16",
          "2021-03-17",
          "2021-03-18",
          "2021-03-19",
          "2021-03-20",
          "2021-03-21",
          "2021-03-22",
          "2021-03-23",
          "2021-03-24",
          "2021-03-25",
          "2021-03-26",
          "2021-03-27",
          "2021-03-28",
          "2021-03-29",
          "2021-03-30",
          "2021-03-31",
          "2021-04-01",
          "2021-04-02",
          "2021-04-03",
          "2021-04-04",
          "2021-04-05",
          "2021-04-06",
          "2021-04-07",
          "2021-04-08",
          "2021-04-09",
          "2021-04-10",
          "2021-04-11",
          "2021-04-12",
          "2021-04-13",
          "2021-04-14",
          "2021-04-15",
          "2021-04-16",
          "2021-04-17",
          "2021-04-18",
          "2021-04-19",
          "2021-04-20",
          "2021-04-21",
          "2021-04-22",
          "2021-04-23",
          "2021-04-24",
          "2021-04-25",
          "2021-04-26",
          "2021-04-27",
          "2021-04-28",
          "2021-04-29",
          "2021-04-30",
          "2021-05-01",
          "2021-05-02",
          "2021-05-03",
          "2021-05-04",
          "2021-05-05",
          "2021-05-06",
          "2021-05-07",
          "2021-05-08",
          "2021-05-09",
          "2021-05-10",
          "2021-05-11",
          "2021-05-12",
          "2021-05-13",
          "2021-05-14",
          "2021-05-15",
          "2021-05-16",
          "2021-05-17",
          "2021-05-18",
          "2021-05-19",
          "2021-05-20",
          "2021-05-21",
          "2021-05-22",
          "2021-05-23",
          "2021-05-24",
          "2021-05-25",
          "2021-05-26",
          "2021-05-27",
          "2021-05-28",
          "2021-05-29",
          "2021-05-30",
          "2021-05-31",
          "2021-06-01",
          "2021-06-02",
          "2021-06-03",
          "2021-06-04",
          "2021-06-05",
          "2021-06-06",
          "2021-06-07",
          "2021-06-08",
          "2021-06-09",
          "2021-06-10",
          "2021-06-11",
          "2021-06-12",
          "2021-06-13",
          "2021-06-14",
          "2021-06-15",
          "2021-06-16",
          "2021-06-17",
          "2021-06-18",
          "2021-06-19",
          "2021-06-20",
          "2021-06-21",
          "2021-06-22",
          "2021-06-23",
          "2021-06-24",
          "2021-06-25",
          "2021-06-26",
          "2021-06-27",
          "2021-06-28",
          "2021-06-29",
          "2021-06-30",
          "2021-07-01",
          "2021-07-02",
          "2021-07-03",
          "2021-07-04",
          "2021-07-05",
          "2021-07-06",
          "2021-07-07",
          "2021-07-08",
          "2021-07-09",
          "2021-07-10",
          "2021-07-11",
          "2021-07-12",
          "2021-07-13",
          "2021-07-14",
          "2021-07-15",
          "2021-07-16",
          "2021-07-17",
          "2021-07-18",
          "2021-07-19",
          "2021-07-20",
          "2021-07-21",
          "2021-07-22",
          "2021-07-23",
          "2021-07-24",
          "2021-07-25",
          "2021-07-26",
          "2021-07-27",
          "2021-07-28",
          "2021-07-29",
          "2021-07-30",
          "2021-07-31",
          "2021-08-01",
          "2021-08-02",
          "2021-08-03",
          "2021-08-04",
          "2021-08-05",
          "2021-08-06",
          "2021-08-07",
          "2021-08-08",
          "2021-08-09",
          "2021-08-10",
          "2021-08-11",
          "2021-08-12",
          "2021-08-13",
          "2021-08-14",
          "2021-08-15",
          "2021-08-16",
          "2021-08-17",
          "2021-08-18",
          "2021-08-19",
          "2021-08-20",
          "2021-08-21",
          "2021-08-22",
          "2021-08-23",
          "2021-08-24",
          "2021-08-25",
          "2021-08-26",
          "2021-08-27",
          "2021-08-28",
          "2021-08-29",
          "2021-08-30",
          "2021-08-31",
          "2021-09-01",
          "2021-09-02",
          "2021-09-03",
          "2021-09-04",
          "2021-09-05",
          "2021-09-06",
          "2021-09-07",
          "2021-09-08",
          "2021-09-09",
          "2021-09-10",
          "2021-09-11",
          "2021-09-12",
          "2021-09-13",
          "2021-09-14",
          "2021-09-15",
          "2021-09-16",
          "2021-09-17",
          "2021-09-18",
          "2021-09-19",
          "2021-09-20",
          "2021-09-21",
          "2021-09-22",
          "2021-09-23",
          "2021-09-24",
          "2021-09-25",
          "2021-09-26",
          "2021-09-27",
          "2021-09-28",
          "2021-09-29",
          "2021-09-30",
          "2021-10-01",
          "2021-10-02",
          "2021-10-03",
          "2021-10-04",
          "2021-10-05",
          "2021-10-06",
          "2021-10-07",
          "2021-10-08",
          "2021-10-09",
          "2021-10-10",
          "2021-10-11",
          "2021-10-12",
          "2021-10-13",
          "2021-10-14",
          "2021-10-15",
          "2021-10-16",
          "2021-10-17",
          "2021-10-18",
          "2021-10-19",
          "2021-10-20",
          "2021-10-21",
          "2021-10-22",
          "2021-10-23",
          "2021-10-24",
          "2021-10-25",
          "2021-10-26",
          "2021-10-27",
          "2021-10-28",
          "2021-10-29",
          "2021-10-30",
          "2021-10-31",
          "2021-11-01",
          "2021-11-02",
          "2021-11-03",
          "2021-11-04",
          "2021-11-05",
          "2021-11-06",
          "2021-11-07",
          "2021-11-08",
          "2021-11-09",
          "2021-11-10",
          "2021-11-11",
          "2021-11-12",
          "2021-11-13",
          "2021-11-14",
          "2021-11-15",
          "2021-11-16",
          "2021-11-17",
          "2021-11-18",
          "2021-11-19",
          "2021-11-20",
          "2021-11-21",
          "2021-11-22",
          "2021-11-23",
          "2021-11-24",
          "2021-11-25",
          "2021-11-26",
          "2021-11-27",
          "2021-11-28",
          "2021-11-29",
          "2021-11-30",
          "2021-12-01",
          "2021-12-02",
          "2021-12-03",
          "2021-12-04",
          "2021-12-05",
          "2021-12-06",
          "2021-12-07",
          "2021-12-08",
          "2021-12-09",
          "2021-12-10",
          "2021-12-11",
          "2021-12-12",
          "2021-12-13",
          "2021-12-14",
          "2021-12-15",
          "2021-12-16",
          "2021-12-17",
          "2021-12-18",
          "2021-12-19",
          "2021-12-20",
          "2021-12-21",
          "2021-12-22",
          "2021-12-23",
          "2021-12-24",
          "2021-12-25",
          "2021-12-26",
          "2021-12-27",
          "2021-12-28",
          "2021-12-29",
          "2021-12-30",
          "2021-12-31",
          "2022-01-01",
          "2022-01-02",
          "2022-01-03",
          "2022-01-04",
          "2022-01-05",
          "2022-01-06",
          "2022-01-07",
          "2022-01-08",
          "2022-01-09",
          "2022-01-10",
          "2022-01-11",
          "2022-01-12",
          "2022-01-13",
          "2022-01-14",
          "2022-01-15",
          "2022-01-16",
          "2022-01-17",
          "2022-01-18",
          "2022-01-19",
          "2022-01-20",
          "2022-01-21",
          "2022-01-22",
          "2022-01-23",
          "2022-01-24",
          "2022-01-25",
          "2022-01-26",
          "2022-01-27",
          "2022-01-28",
          "2022-01-29",
          "2022-01-30",
          "2022-01-31",
          "2022-02-01",
          "2022-02-02",
          "2022-02-03",
          "2022-02-04",
          "2022-02-05",
          "2022-02-06",
          "2022-02-07",
          "2022-02-08",
          "2022-02-09",
          "2022-02-10",
          "2022-02-11",
          "2022-02-12",
          "2022-02-13",
          "2022-02-14",
          "2022-02-15",
          "2022-02-16",
          "2022-02-17",
          "2022-02-18",
          "2022-02-19",
          "2022-02-20",
          "2022-02-21",
          "2022-02-22",
          "2022-02-23",
          "2022-02-24",
          "2022-02-25",
          "2022-02-26",
          "2022-02-27",
          "2022-02-28",
          "2022-03-01",
          "2022-03-02",
          "2022-03-03",
          "2022-03-04",
          "2022-03-05",
          "2022-03-06",
          "2022-03-07",
          "2022-03-08",
          "2022-03-09",
          "2022-03-10",
          "2022-03-11",
          "2022-03-12",
          "2022-03-13",
          "2022-03-14",
          "2022-03-15",
          "2022-03-16",
          "2022-03-17",
          "2022-03-18",
          "2022-03-19",
          "2022-03-20",
          "2022-03-21",
          "2022-03-22",
          "2022-03-23",
          "2022-03-24",
          "2022-03-25",
          "2022-03-26",
          "2022-03-27",
          "2022-03-28",
          "2022-03-29",
          "2022-03-30",
          "2022-03-31",
          "2022-04-01",
          "2022-04-02",
          "2022-04-03",
          "2022-04-04",
          "2022-04-05",
          "2022-04-06",
          "2022-04-07",
          "2022-04-08",
          "2022-04-09",
          "2022-04-10",
          "2022-04-11"
         ],
         "y": [
          null,
          null,
          null,
          null,
          null,
          null,
          null,
          null,
          null,
          null,
          null,
          null,
          null,
          null,
          null,
          null,
          null,
          null,
          null,
          null,
          null,
          null,
          null,
          null,
          null,
          null,
          null,
          null,
          null,
          null,
          null,
          null,
          null,
          null,
          null,
          null,
          null,
          null,
          1.0,
          1.0,
          2.0,
          3.0,
          5.0,
          7.0,
          8.0,
          14.0,
          21.0,
          30.0,
          38.0,
          49.0,
          60.0,
          81.0,
          103.0,
          134.0,
          166.0,
          201.0,
          239.0,
          284.0,
          332.0,
          385.0,
          455.0,
          535.0,
          605.0,
          373.0,
          401.0,
          477.0,
          591.0,
          687.0,
          793.0,
          870.0,
          887.0,
          899.0,
          919.0,
          1033.0,
          1203.0,
          1333.0,
          1400.0,
          1511.0,
          1540.0,
          1580.0,
          1765.0,
          1937.0,
          2021.0,
          2152.0,
          2192.0,
          2194.0,
          2274.0,
          2355.0,
          2462.0,
          2586.0,
          2653.0,
          2669.0,
          2679.0,
          2769.0,
          2854.0,
          2941.0,
          3040.0,
          3175.0,
          3220.0,
          3225.0,
          3256.0,
          3313.0,
          3460.0,
          3529.0,
          3646.0,
          3674.0,
          3679.0,
          3698.0,
          3743.0,
          3831.0,
          3871.0,
          3925.0,
          3992.0,
          3998.0,
          4029.0,
          4125.0,
          4220.0,
          4266.0,
          4350.0,
          4395.0,
          4395.0,
          4403.0,
          4468.0,
          4542.0,
          4562.0,
          4639.0,
          4656.0,
          4659.0,
          4694.0,
          4717.0,
          4795.0,
          4814.0,
          4854.0,
          4874.0,
          4874.0,
          4891.0,
          4939.0,
          5041.0,
          5053.0,
          5053.0,
          5053.0,
          5053.0,
          5053.0,
          5161.0,
          5209.0,
          5230.0,
          5280.0,
          5280.0,
          5280.0,
          5280.0,
          5333.0,
          5370.0,
          5411.0,
          5420.0,
          5420.0,
          5420.0,
          5420.0,
          5447.0,
          5482.0,
          5500.0,
          5526.0,
          5526.0,
          5526.0,
          5526.0,
          5545.0,
          5572.0,
          5593.0,
          5619.0,
          5619.0,
          5619.0,
          5619.0,
          5646.0,
          5667.0,
          5676.0,
          5697.0,
          5697.0,
          5697.0,
          5697.0,
          5702.0,
          5730.0,
          5739.0,
          5743.0,
          5743.0,
          5743.0,
          5743.0,
          5747.0,
          5760.0,
          5766.0,
          5763.0,
          5763.0,
          5763.0,
          5763.0,
          5770.0,
          5774.0,
          5776.0,
          5783.0,
          5783.0,
          5783.0,
          5783.0,
          5790.0,
          5802.0,
          5805.0,
          5810.0,
          5810.0,
          5810.0,
          5810.0,
          5814.0,
          5817.0,
          5820.0,
          5821.0,
          5821.0,
          5821.0,
          5821.0,
          5813.0,
          5820.0,
          5832.0,
          5835.0,
          5835.0,
          5835.0,
          5835.0,
          5838.0,
          5842.0,
          5843.0,
          5846.0,
          5846.0,
          5846.0,
          5846.0,
          5846.0,
          5860.0,
          5864.0,
          5865.0,
          5865.0,
          5865.0,
          5865.0,
          5865.0,
          5876.0,
          5878.0,
          5880.0,
          5880.0,
          5880.0,
          5880.0,
          5880.0,
          5893.0,
          5893.0,
          5895.0,
          5895.0,
          5895.0,
          5895.0,
          5895.0,
          5892.0,
          5892.0,
          5894.0,
          5894.0,
          5894.0,
          5894.0,
          5894.0,
          5907.0,
          5910.0,
          5918.0,
          5918.0,
          5918.0,
          5918.0,
          5918.0,
          5929.0,
          5930.0,
          5933.0,
          5933.0,
          5933.0,
          5933.0,
          5933.0,
          5927.0,
          5934.0,
          5938.0,
          5938.0,
          5938.0,
          5938.0,
          5938.0,
          5997.0,
          6002.0,
          6022.0,
          6022.0,
          6022.0,
          6022.0,
          6022.0,
          6082.0,
          6122.0,
          6164.0,
          6164.0,
          6164.0,
          6164.0,
          6164.0,
          6321.0,
          6340.0,
          6406.0,
          6406.0,
          6406.0,
          6406.0,
          6406.0,
          6555.0,
          6622.0,
          6681.0,
          6681.0,
          6681.0,
          6681.0,
          6681.0,
          6972.0,
          7007.0,
          7067.0,
          7067.0,
          7067.0,
          7067.0,
          7067.0,
          7296.0,
          7354.0,
          7514.0,
          7514.0,
          7514.0,
          7514.0,
          7514.0,
          7802.0,
          7893.0,
          7993.0,
          7993.0,
          7993.0,
          7993.0,
          7993.0,
          8279.0,
          8279.0,
          8279.0,
          8279.0,
          8279.0,
          8279.0,
          8279.0,
          8727.0,
          8727.0,
          8727.0,
          8727.0,
          8727.0,
          8727.0,
          8965.0,
          8965.0,
          9262.0,
          9433.0,
          9433.0,
          9433.0,
          9433.0,
          9433.0,
          9834.0,
          10185.0,
          10323.0,
          10323.0,
          10323.0,
          10323.0,
          10323.0,
          10797.0,
          10921.0,
          11005.0,
          11005.0,
          11005.0,
          11005.0,
          11247.0,
          11425.0,
          11520.0,
          11591.0,
          11591.0,
          11591.0,
          11591.0,
          11815.0,
          11939.0,
          12028.0,
          12115.0,
          12115.0,
          12115.0,
          12115.0,
          12188.0,
          12326.0,
          12370.0,
          12428.0,
          12428.0,
          12428.0,
          12428.0,
          12487.0,
          12569.0,
          12598.0,
          12649.0,
          12649.0,
          12649.0,
          12649.0,
          12713.0,
          12793.0,
          12798.0,
          12826.0,
          12826.0,
          12826.0,
          12826.0,
          12882.0,
          12964.0,
          12977.0,
          13003.0,
          13003.0,
          13003.0,
          13003.0,
          13042.0,
          13088.0,
          13111.0,
          13146.0,
          13146.0,
          13146.0,
          13146.0,
          13172.0,
          13228.0,
          13236.0,
          13262.0,
          13262.0,
          13262.0,
          13262.0,
          13315.0,
          13357.0,
          13373.0,
          13402.0,
          13402.0,
          13402.0,
          13402.0,
          13430.0,
          13465.0,
          13498.0,
          13498.0,
          13498.0,
          13498.0,
          13498.0,
          13533.0,
          13578.0,
          13595.0,
          13621.0,
          13621.0,
          13621.0,
          13621.0,
          13660.0,
          13720.0,
          13761.0,
          13788.0,
          13788.0,
          13788.0,
          13788.0,
          13825.0,
          13863.0,
          13882.0,
          13923.0,
          13923.0,
          13923.0,
          13923.0,
          13968.0,
          14000.0,
          14002.0,
          14048.0,
          14048.0,
          14048.0,
          14048.0,
          14091.0,
          14151.0,
          14158.0,
          14173.0,
          14173.0,
          14173.0,
          14173.0,
          14217.0,
          14267.0,
          14267.0,
          14275.0,
          14275.0,
          14275.0,
          14275.0,
          14301.0,
          14349.0,
          14351.0,
          14366.0,
          14366.0,
          14366.0,
          14366.0,
          14396.0,
          14436.0,
          14451.0,
          14451.0,
          14451.0,
          14451.0,
          14451.0,
          14451.0,
          14451.0,
          14512.0,
          14523.0,
          14523.0,
          14523.0,
          14523.0,
          14546.0,
          14562.0,
          14565.0,
          14574.0,
          14574.0,
          14574.0,
          14574.0,
          14574.0,
          14574.0,
          14574.0,
          14574.0,
          14574.0,
          14574.0,
          14574.0,
          14608.0,
          14616.0,
          14619.0,
          14619.0,
          14619.0,
          14619.0,
          14619.0,
          14626.0,
          14629.0,
          14630.0,
          14631.0,
          14631.0,
          14631.0,
          14631.0,
          14633.0,
          14639.0,
          14642.0,
          14643.0,
          14643.0,
          14643.0,
          14643.0,
          14645.0,
          14642.0,
          14643.0,
          14646.0,
          14646.0,
          14646.0,
          14646.0,
          14650.0,
          14651.0,
          14651.0,
          14651.0,
          14651.0,
          14651.0,
          14651.0,
          14655.0,
          14655.0,
          14656.0,
          14655.0,
          14655.0,
          14655.0,
          14655.0,
          14657.0,
          14657.0,
          14657.0,
          14657.0,
          14657.0,
          14657.0,
          14657.0,
          14658.0,
          14658.0,
          14658.0,
          14658.0,
          14658.0,
          14658.0,
          14658.0,
          14659.0,
          14662.0,
          14664.0,
          14668.0,
          14668.0,
          14668.0,
          14668.0,
          14670.0,
          14674.0,
          14682.0,
          14685.0,
          14685.0,
          14685.0,
          14685.0,
          14692.0,
          14692.0,
          14692.0,
          14692.0,
          14692.0,
          14692.0,
          14692.0,
          14699.0,
          14700.0,
          14702.0,
          14703.0,
          14703.0,
          14703.0,
          14703.0,
          14729.0,
          14740.0,
          14753.0,
          14775.0,
          14775.0,
          14775.0,
          14775.0,
          14790.0,
          14809.0,
          14813.0,
          14821.0,
          14821.0,
          14821.0,
          14821.0,
          14850.0,
          14856.0,
          14864.0,
          14868.0,
          14868.0,
          14868.0,
          14868.0,
          14876.0,
          14889.0,
          14904.0,
          14905.0,
          14905.0,
          14905.0,
          14905.0,
          14920.0,
          14922.0,
          14926.0,
          14956.0,
          14956.0,
          14956.0,
          14956.0,
          14963.0,
          14985.0,
          14986.0,
          14993.0,
          14993.0,
          14993.0,
          14993.0,
          15002.0,
          15016.0,
          15018.0,
          15025.0,
          15025.0,
          15025.0,
          15025.0,
          15040.0,
          15043.0,
          15050.0,
          15057.0,
          15057.0,
          15057.0,
          15057.0,
          15065.0,
          15076.0,
          15078.0,
          15082.0,
          15082.0,
          15082.0,
          15082.0,
          15094.0,
          15107.0,
          15109.0,
          15110.0,
          15110.0,
          15110.0,
          15110.0,
          15126.0,
          15142.0,
          15142.0,
          15145.0,
          15145.0,
          15145.0,
          15145.0,
          15151.0,
          15161.0,
          15164.0,
          15170.0,
          15170.0,
          15170.0,
          15170.0,
          15177.0,
          15184.0,
          15185.0,
          15191.0,
          15191.0,
          15191.0,
          15191.0,
          15204.0,
          15221.0,
          15226.0,
          15231.0,
          15231.0,
          15231.0,
          15231.0,
          15242.0,
          15259.0,
          15265.0,
          15265.0,
          15265.0,
          15265.0,
          15265.0,
          15286.0,
          15297.0,
          15310.0,
          15310.0,
          15310.0,
          15310.0,
          15310.0,
          15330.0,
          15369.0,
          15369.0,
          15377.0,
          15377.0,
          15377.0,
          15377.0,
          15431.0,
          15462.0,
          15482.0,
          15513.0,
          15513.0,
          15513.0,
          15513.0,
          15558.0,
          15625.0,
          15631.0,
          15674.0,
          15674.0,
          15674.0,
          15674.0,
          15693.0,
          15768.0,
          15778.0,
          15855.0,
          15855.0,
          15855.0,
          15855.0,
          15961.0,
          16028.0,
          16100.0,
          16180.0,
          16180.0,
          16180.0,
          16180.0,
          16244.0,
          16358.0,
          16395.0,
          16501.0,
          16501.0,
          16501.0,
          16501.0,
          16579.0,
          16716.0,
          16768.0,
          16852.0,
          16852.0,
          16852.0,
          16852.0,
          16933.0,
          17064.0,
          17083.0,
          17142.0,
          17142.0,
          17142.0,
          17142.0,
          17242.0,
          17355.0,
          17425.0,
          17512.0,
          17512.0,
          17512.0,
          17512.0,
          17549.0,
          17693.0,
          17749.0,
          17798.0,
          17798.0,
          17798.0,
          17798.0,
          17874.0,
          17937.0,
          17994.0,
          18053.0,
          18053.0,
          18053.0,
          18053.0,
          18053.0,
          18053.0,
          18189.0,
          18189.0,
          18189.0,
          18189.0,
          18189.0,
          18189.0,
          18189.0,
          18365.0,
          18365.0,
          18365.0,
          18365.0,
          18365.0,
          18365.0,
          18365.0,
          18506.0,
          18506.0,
          18506.0,
          18506.0,
          18506.0
         ],
         "type": "scatter",
         "xaxis": "x2",
         "yaxis": "y2"
        },
        {
         "connectgaps": true,
         "marker": {
          "color": "green"
         },
         "mode": "lines",
         "name": "Confirmed cases for Finland",
         "x": [
          "2020-02-01",
          "2020-02-02",
          "2020-02-03",
          "2020-02-04",
          "2020-02-05",
          "2020-02-06",
          "2020-02-07",
          "2020-02-08",
          "2020-02-09",
          "2020-02-10",
          "2020-02-11",
          "2020-02-12",
          "2020-02-13",
          "2020-02-14",
          "2020-02-15",
          "2020-02-16",
          "2020-02-17",
          "2020-02-18",
          "2020-02-19",
          "2020-02-20",
          "2020-02-21",
          "2020-02-22",
          "2020-02-23",
          "2020-02-24",
          "2020-02-25",
          "2020-02-26",
          "2020-02-27",
          "2020-02-28",
          "2020-02-29",
          "2020-03-01",
          "2020-03-02",
          "2020-03-03",
          "2020-03-04",
          "2020-03-05",
          "2020-03-06",
          "2020-03-07",
          "2020-03-08",
          "2020-03-09",
          "2020-03-10",
          "2020-03-11",
          "2020-03-12",
          "2020-03-13",
          "2020-03-14",
          "2020-03-15",
          "2020-03-16",
          "2020-03-17",
          "2020-03-18",
          "2020-03-19",
          "2020-03-20",
          "2020-03-21",
          "2020-03-22",
          "2020-03-23",
          "2020-03-24",
          "2020-03-25",
          "2020-03-26",
          "2020-03-27",
          "2020-03-28",
          "2020-03-29",
          "2020-03-30",
          "2020-03-31",
          "2020-04-01",
          "2020-04-02",
          "2020-04-03",
          "2020-04-04",
          "2020-04-05",
          "2020-04-06",
          "2020-04-07",
          "2020-04-08",
          "2020-04-09",
          "2020-04-10",
          "2020-04-11",
          "2020-04-12",
          "2020-04-13",
          "2020-04-14",
          "2020-04-15",
          "2020-04-16",
          "2020-04-17",
          "2020-04-18",
          "2020-04-19",
          "2020-04-20",
          "2020-04-21",
          "2020-04-22",
          "2020-04-23",
          "2020-04-24",
          "2020-04-25",
          "2020-04-26",
          "2020-04-27",
          "2020-04-28",
          "2020-04-29",
          "2020-04-30",
          "2020-05-01",
          "2020-05-02",
          "2020-05-03",
          "2020-05-04",
          "2020-05-05",
          "2020-05-06",
          "2020-05-07",
          "2020-05-08",
          "2020-05-09",
          "2020-05-10",
          "2020-05-11",
          "2020-05-12",
          "2020-05-13",
          "2020-05-14",
          "2020-05-15",
          "2020-05-16",
          "2020-05-17",
          "2020-05-18",
          "2020-05-19",
          "2020-05-20",
          "2020-05-21",
          "2020-05-22",
          "2020-05-23",
          "2020-05-24",
          "2020-05-25",
          "2020-05-26",
          "2020-05-27",
          "2020-05-28",
          "2020-05-29",
          "2020-05-30",
          "2020-05-31",
          "2020-06-01",
          "2020-06-02",
          "2020-06-03",
          "2020-06-04",
          "2020-06-05",
          "2020-06-06",
          "2020-06-07",
          "2020-06-08",
          "2020-06-09",
          "2020-06-10",
          "2020-06-11",
          "2020-06-12",
          "2020-06-13",
          "2020-06-14",
          "2020-06-15",
          "2020-06-16",
          "2020-06-17",
          "2020-06-18",
          "2020-06-19",
          "2020-06-20",
          "2020-06-21",
          "2020-06-22",
          "2020-06-23",
          "2020-06-24",
          "2020-06-25",
          "2020-06-26",
          "2020-06-27",
          "2020-06-28",
          "2020-06-29",
          "2020-06-30",
          "2020-07-01",
          "2020-07-02",
          "2020-07-03",
          "2020-07-04",
          "2020-07-05",
          "2020-07-06",
          "2020-07-07",
          "2020-07-08",
          "2020-07-09",
          "2020-07-10",
          "2020-07-11",
          "2020-07-12",
          "2020-07-13",
          "2020-07-14",
          "2020-07-15",
          "2020-07-16",
          "2020-07-17",
          "2020-07-18",
          "2020-07-19",
          "2020-07-20",
          "2020-07-21",
          "2020-07-22",
          "2020-07-23",
          "2020-07-24",
          "2020-07-25",
          "2020-07-26",
          "2020-07-27",
          "2020-07-28",
          "2020-07-29",
          "2020-07-30",
          "2020-07-31",
          "2020-08-01",
          "2020-08-02",
          "2020-08-03",
          "2020-08-04",
          "2020-08-05",
          "2020-08-06",
          "2020-08-07",
          "2020-08-08",
          "2020-08-09",
          "2020-08-10",
          "2020-08-11",
          "2020-08-12",
          "2020-08-13",
          "2020-08-14",
          "2020-08-15",
          "2020-08-16",
          "2020-08-17",
          "2020-08-18",
          "2020-08-19",
          "2020-08-20",
          "2020-08-21",
          "2020-08-22",
          "2020-08-23",
          "2020-08-24",
          "2020-08-25",
          "2020-08-26",
          "2020-08-27",
          "2020-08-28",
          "2020-08-29",
          "2020-08-30",
          "2020-08-31",
          "2020-09-01",
          "2020-09-02",
          "2020-09-03",
          "2020-09-04",
          "2020-09-05",
          "2020-09-06",
          "2020-09-07",
          "2020-09-08",
          "2020-09-09",
          "2020-09-10",
          "2020-09-11",
          "2020-09-12",
          "2020-09-13",
          "2020-09-14",
          "2020-09-15",
          "2020-09-16",
          "2020-09-17",
          "2020-09-18",
          "2020-09-19",
          "2020-09-20",
          "2020-09-21",
          "2020-09-22",
          "2020-09-23",
          "2020-09-24",
          "2020-09-25",
          "2020-09-26",
          "2020-09-27",
          "2020-09-28",
          "2020-09-29",
          "2020-09-30",
          "2020-10-01",
          "2020-10-02",
          "2020-10-03",
          "2020-10-04",
          "2020-10-05",
          "2020-10-06",
          "2020-10-07",
          "2020-10-08",
          "2020-10-09",
          "2020-10-10",
          "2020-10-11",
          "2020-10-12",
          "2020-10-13",
          "2020-10-14",
          "2020-10-15",
          "2020-10-16",
          "2020-10-17",
          "2020-10-18",
          "2020-10-19",
          "2020-10-20",
          "2020-10-21",
          "2020-10-22",
          "2020-10-23",
          "2020-10-24",
          "2020-10-25",
          "2020-10-26",
          "2020-10-27",
          "2020-10-28",
          "2020-10-29",
          "2020-10-30",
          "2020-10-31",
          "2020-11-01",
          "2020-11-02",
          "2020-11-03",
          "2020-11-04",
          "2020-11-05",
          "2020-11-06",
          "2020-11-07",
          "2020-11-08",
          "2020-11-09",
          "2020-11-10",
          "2020-11-11",
          "2020-11-12",
          "2020-11-13",
          "2020-11-14",
          "2020-11-15",
          "2020-11-16",
          "2020-11-17",
          "2020-11-18",
          "2020-11-19",
          "2020-11-20",
          "2020-11-21",
          "2020-11-22",
          "2020-11-23",
          "2020-11-24",
          "2020-11-25",
          "2020-11-26",
          "2020-11-27",
          "2020-11-28",
          "2020-11-29",
          "2020-11-30",
          "2020-12-01",
          "2020-12-02",
          "2020-12-03",
          "2020-12-04",
          "2020-12-05",
          "2020-12-06",
          "2020-12-07",
          "2020-12-08",
          "2020-12-09",
          "2020-12-10",
          "2020-12-11",
          "2020-12-12",
          "2020-12-13",
          "2020-12-14",
          "2020-12-15",
          "2020-12-16",
          "2020-12-17",
          "2020-12-18",
          "2020-12-19",
          "2020-12-20",
          "2020-12-21",
          "2020-12-22",
          "2020-12-23",
          "2020-12-24",
          "2020-12-25",
          "2020-12-26",
          "2020-12-27",
          "2020-12-28",
          "2020-12-29",
          "2020-12-30",
          "2020-12-31",
          "2021-01-01",
          "2021-01-02",
          "2021-01-03",
          "2021-01-04",
          "2021-01-05",
          "2021-01-06",
          "2021-01-07",
          "2021-01-08",
          "2021-01-09",
          "2021-01-10",
          "2021-01-11",
          "2021-01-12",
          "2021-01-13",
          "2021-01-14",
          "2021-01-15",
          "2021-01-16",
          "2021-01-17",
          "2021-01-18",
          "2021-01-19",
          "2021-01-20",
          "2021-01-21",
          "2021-01-22",
          "2021-01-23",
          "2021-01-24",
          "2021-01-25",
          "2021-01-26",
          "2021-01-27",
          "2021-01-28",
          "2021-01-29",
          "2021-01-30",
          "2021-01-31",
          "2021-02-01",
          "2021-02-02",
          "2021-02-03",
          "2021-02-04",
          "2021-02-05",
          "2021-02-06",
          "2021-02-07",
          "2021-02-08",
          "2021-02-09",
          "2021-02-10",
          "2021-02-11",
          "2021-02-12",
          "2021-02-13",
          "2021-02-14",
          "2021-02-15",
          "2021-02-16",
          "2021-02-17",
          "2021-02-18",
          "2021-02-19",
          "2021-02-20",
          "2021-02-21",
          "2021-02-22",
          "2021-02-23",
          "2021-02-24",
          "2021-02-25",
          "2021-02-26",
          "2021-02-27",
          "2021-02-28",
          "2021-03-01",
          "2021-03-02",
          "2021-03-03",
          "2021-03-04",
          "2021-03-05",
          "2021-03-06",
          "2021-03-07",
          "2021-03-08",
          "2021-03-09",
          "2021-03-10",
          "2021-03-11",
          "2021-03-12",
          "2021-03-13",
          "2021-03-14",
          "2021-03-15",
          "2021-03-16",
          "2021-03-17",
          "2021-03-18",
          "2021-03-19",
          "2021-03-20",
          "2021-03-21",
          "2021-03-22",
          "2021-03-23",
          "2021-03-24",
          "2021-03-25",
          "2021-03-26",
          "2021-03-27",
          "2021-03-28",
          "2021-03-29",
          "2021-03-30",
          "2021-03-31",
          "2021-04-01",
          "2021-04-02",
          "2021-04-03",
          "2021-04-04",
          "2021-04-05",
          "2021-04-06",
          "2021-04-07",
          "2021-04-08",
          "2021-04-09",
          "2021-04-10",
          "2021-04-11",
          "2021-04-12",
          "2021-04-13",
          "2021-04-14",
          "2021-04-15",
          "2021-04-16",
          "2021-04-17",
          "2021-04-18",
          "2021-04-19",
          "2021-04-20",
          "2021-04-21",
          "2021-04-22",
          "2021-04-23",
          "2021-04-24",
          "2021-04-25",
          "2021-04-26",
          "2021-04-27",
          "2021-04-28",
          "2021-04-29",
          "2021-04-30",
          "2021-05-01",
          "2021-05-02",
          "2021-05-03",
          "2021-05-04",
          "2021-05-05",
          "2021-05-06",
          "2021-05-07",
          "2021-05-08",
          "2021-05-09",
          "2021-05-10",
          "2021-05-11",
          "2021-05-12",
          "2021-05-13",
          "2021-05-14",
          "2021-05-15",
          "2021-05-16",
          "2021-05-17",
          "2021-05-18",
          "2021-05-19",
          "2021-05-20",
          "2021-05-21",
          "2021-05-22",
          "2021-05-23",
          "2021-05-24",
          "2021-05-25",
          "2021-05-26",
          "2021-05-27",
          "2021-05-28",
          "2021-05-29",
          "2021-05-30",
          "2021-05-31",
          "2021-06-01",
          "2021-06-02",
          "2021-06-03",
          "2021-06-04",
          "2021-06-05",
          "2021-06-06",
          "2021-06-07",
          "2021-06-08",
          "2021-06-09",
          "2021-06-10",
          "2021-06-11",
          "2021-06-12",
          "2021-06-13",
          "2021-06-14",
          "2021-06-15",
          "2021-06-16",
          "2021-06-17",
          "2021-06-18",
          "2021-06-19",
          "2021-06-20",
          "2021-06-21",
          "2021-06-22",
          "2021-06-23",
          "2021-06-24",
          "2021-06-25",
          "2021-06-26",
          "2021-06-27",
          "2021-06-28",
          "2021-06-29",
          "2021-06-30",
          "2021-07-01",
          "2021-07-02",
          "2021-07-03",
          "2021-07-04",
          "2021-07-05",
          "2021-07-06",
          "2021-07-07",
          "2021-07-08",
          "2021-07-09",
          "2021-07-10",
          "2021-07-11",
          "2021-07-12",
          "2021-07-13",
          "2021-07-14",
          "2021-07-15",
          "2021-07-16",
          "2021-07-17",
          "2021-07-18",
          "2021-07-19",
          "2021-07-20",
          "2021-07-21",
          "2021-07-22",
          "2021-07-23",
          "2021-07-24",
          "2021-07-25",
          "2021-07-26",
          "2021-07-27",
          "2021-07-28",
          "2021-07-29",
          "2021-07-30",
          "2021-07-31",
          "2021-08-01",
          "2021-08-02",
          "2021-08-03",
          "2021-08-04",
          "2021-08-05",
          "2021-08-06",
          "2021-08-07",
          "2021-08-08",
          "2021-08-09",
          "2021-08-10",
          "2021-08-11",
          "2021-08-12",
          "2021-08-13",
          "2021-08-14",
          "2021-08-15",
          "2021-08-16",
          "2021-08-17",
          "2021-08-18",
          "2021-08-19",
          "2021-08-20",
          "2021-08-21",
          "2021-08-22",
          "2021-08-23",
          "2021-08-24",
          "2021-08-25",
          "2021-08-26",
          "2021-08-27",
          "2021-08-28",
          "2021-08-29",
          "2021-08-30",
          "2021-08-31",
          "2021-09-01",
          "2021-09-02",
          "2021-09-03",
          "2021-09-04",
          "2021-09-05",
          "2021-09-06",
          "2021-09-07",
          "2021-09-08",
          "2021-09-09",
          "2021-09-10",
          "2021-09-11",
          "2021-09-12",
          "2021-09-13",
          "2021-09-14",
          "2021-09-15",
          "2021-09-16",
          "2021-09-17",
          "2021-09-18",
          "2021-09-19",
          "2021-09-20",
          "2021-09-21",
          "2021-09-22",
          "2021-09-23",
          "2021-09-24",
          "2021-09-25",
          "2021-09-26",
          "2021-09-27",
          "2021-09-28",
          "2021-09-29",
          "2021-09-30",
          "2021-10-01",
          "2021-10-02",
          "2021-10-03",
          "2021-10-04",
          "2021-10-05",
          "2021-10-06",
          "2021-10-07",
          "2021-10-08",
          "2021-10-09",
          "2021-10-10",
          "2021-10-11",
          "2021-10-12",
          "2021-10-13",
          "2021-10-14",
          "2021-10-15",
          "2021-10-16",
          "2021-10-17",
          "2021-10-18",
          "2021-10-19",
          "2021-10-20",
          "2021-10-21",
          "2021-10-22",
          "2021-10-23",
          "2021-10-24",
          "2021-10-25",
          "2021-10-26",
          "2021-10-27",
          "2021-10-28",
          "2021-10-29",
          "2021-10-30",
          "2021-10-31",
          "2021-11-01",
          "2021-11-02",
          "2021-11-03",
          "2021-11-04",
          "2021-11-05",
          "2021-11-06",
          "2021-11-07",
          "2021-11-08",
          "2021-11-09",
          "2021-11-10",
          "2021-11-11",
          "2021-11-12",
          "2021-11-13",
          "2021-11-14",
          "2021-11-15",
          "2021-11-16",
          "2021-11-17",
          "2021-11-18",
          "2021-11-19",
          "2021-11-20",
          "2021-11-21",
          "2021-11-22",
          "2021-11-23",
          "2021-11-24",
          "2021-11-25",
          "2021-11-26",
          "2021-11-27",
          "2021-11-28",
          "2021-11-29",
          "2021-11-30",
          "2021-12-01",
          "2021-12-02",
          "2021-12-03",
          "2021-12-04",
          "2021-12-05",
          "2021-12-06",
          "2021-12-07",
          "2021-12-08",
          "2021-12-09",
          "2021-12-10",
          "2021-12-11",
          "2021-12-12",
          "2021-12-13",
          "2021-12-14",
          "2021-12-15",
          "2021-12-16",
          "2021-12-17",
          "2021-12-18",
          "2021-12-19",
          "2021-12-20",
          "2021-12-21",
          "2021-12-22",
          "2021-12-23",
          "2021-12-24",
          "2021-12-25",
          "2021-12-26",
          "2021-12-27",
          "2021-12-28",
          "2021-12-29",
          "2021-12-30",
          "2021-12-31",
          "2022-01-01",
          "2022-01-02",
          "2022-01-03",
          "2022-01-04",
          "2022-01-05",
          "2022-01-06",
          "2022-01-07",
          "2022-01-08",
          "2022-01-09",
          "2022-01-10",
          "2022-01-11",
          "2022-01-12",
          "2022-01-13",
          "2022-01-14",
          "2022-01-15",
          "2022-01-16",
          "2022-01-17",
          "2022-01-18",
          "2022-01-19",
          "2022-01-20",
          "2022-01-21",
          "2022-01-22",
          "2022-01-23",
          "2022-01-24",
          "2022-01-25",
          "2022-01-26",
          "2022-01-27",
          "2022-01-28",
          "2022-01-29",
          "2022-01-30",
          "2022-01-31",
          "2022-02-01",
          "2022-02-02",
          "2022-02-03",
          "2022-02-04",
          "2022-02-05",
          "2022-02-06",
          "2022-02-07",
          "2022-02-08",
          "2022-02-09",
          "2022-02-10",
          "2022-02-11",
          "2022-02-12",
          "2022-02-13",
          "2022-02-14",
          "2022-02-15",
          "2022-02-16",
          "2022-02-17",
          "2022-02-18",
          "2022-02-19",
          "2022-02-20",
          "2022-02-21",
          "2022-02-22",
          "2022-02-23",
          "2022-02-24",
          "2022-02-25",
          "2022-02-26",
          "2022-02-27",
          "2022-02-28",
          "2022-03-01",
          "2022-03-02",
          "2022-03-03",
          "2022-03-04",
          "2022-03-05",
          "2022-03-06",
          "2022-03-07",
          "2022-03-08",
          "2022-03-09",
          "2022-03-10",
          "2022-03-11",
          "2022-03-12",
          "2022-03-13",
          "2022-03-14",
          "2022-03-15",
          "2022-03-16",
          "2022-03-17",
          "2022-03-18",
          "2022-03-19",
          "2022-03-20",
          "2022-03-21",
          "2022-03-22",
          "2022-03-23",
          "2022-03-24",
          "2022-03-25",
          "2022-03-26",
          "2022-03-27",
          "2022-03-28",
          "2022-03-29",
          "2022-03-30",
          "2022-03-31",
          "2022-04-01",
          "2022-04-02",
          "2022-04-03",
          "2022-04-04",
          "2022-04-05",
          "2022-04-06",
          "2022-04-07",
          "2022-04-08",
          "2022-04-09",
          "2022-04-10",
          "2022-04-11"
         ],
         "y": [
          1.0,
          1.0,
          1.0,
          1.0,
          1.0,
          1.0,
          1.0,
          1.0,
          1.0,
          1.0,
          1.0,
          1.0,
          1.0,
          2.0,
          2.0,
          2.0,
          2.0,
          2.0,
          2.0,
          2.0,
          2.0,
          2.0,
          2.0,
          2.0,
          2.0,
          3.0,
          3.0,
          3.0,
          4.0,
          4.0,
          5.0,
          8.0,
          9.0,
          10.0,
          10.0,
          14.0,
          20.0,
          21.0,
          28.0,
          35.0,
          44.0,
          61.0,
          115.0,
          191.0,
          251.0,
          279.0,
          308.0,
          361.0,
          413.0,
          460.0,
          550.0,
          649.0,
          736.0,
          823.0,
          901.0,
          985.0,
          1084.0,
          1188.0,
          1301.0,
          1396.0,
          1473.0,
          1543.0,
          1672.0,
          1797.0,
          1946.0,
          2107.0,
          2306.0,
          2387.0,
          2509.0,
          2718.0,
          2918.0,
          3056.0,
          3214.0,
          3285.0,
          3360.0,
          3440.0,
          3557.0,
          3732.0,
          3862.0,
          3982.0,
          4107.0,
          4163.0,
          4230.0,
          4373.0,
          4485.0,
          4609.0,
          4725.0,
          4817.0,
          4893.0,
          4966.0,
          5089.0,
          5228.0,
          5336.0,
          5422.0,
          5470.0,
          5528.0,
          5589.0,
          5722.0,
          5847.0,
          5942.0,
          6050.0,
          6131.0,
          6178.0,
          6206.0,
          6298.0,
          6365.0,
          6443.0,
          6493.0,
          6548.0,
          6573.0,
          6602.0,
          6647.0,
          6688.0,
          6731.0,
          6753.0,
          6785.0,
          6803.0,
          6823.0,
          6868.0,
          6901.0,
          6913.0,
          6943.0,
          6964.0,
          6974.0,
          6986.0,
          7003.0,
          7018.0,
          7043.0,
          7055.0,
          7068.0,
          7081.0,
          7085.0,
          7095.0,
          7103.0,
          7110.0,
          7119.0,
          7132.0,
          7134.0,
          7139.0,
          7155.0,
          7163.0,
          7167.0,
          7175.0,
          7175.0,
          7177.0,
          7190.0,
          7195.0,
          7200.0,
          7217.0,
          7231.0,
          7234.0,
          7236.0,
          7243.0,
          7259.0,
          7269.0,
          7271.0,
          7278.0,
          7284.0,
          7286.0,
          7289.0,
          7297.0,
          7300.0,
          7309.0,
          7317.0,
          7323.0,
          7323.0,
          7327.0,
          7333.0,
          7338.0,
          7343.0,
          7352.0,
          7358.0,
          7365.0,
          7370.0,
          7382.0,
          7390.0,
          7401.0,
          7404.0,
          7414.0,
          7418.0,
          7426.0,
          7438.0,
          7447.0,
          7459.0,
          7467.0,
          7485.0,
          7500.0,
          7510.0,
          7545.0,
          7567.0,
          7596.0,
          7618.0,
          7635.0,
          7644.0,
          7679.0,
          7694.0,
          7722.0,
          7749.0,
          7770.0,
          7797.0,
          7811.0,
          7854.0,
          7881.0,
          7920.0,
          7967.0,
          7994.0,
          8019.0,
          8035.0,
          8046.0,
          8063.0,
          8078.0,
          8098.0,
          8130.0,
          8165.0,
          8184.0,
          8202.0,
          8250.0,
          8279.0,
          8305.0,
          8341.0,
          8383.0,
          8405.0,
          8438.0,
          8483.0,
          8540.0,
          8595.0,
          8649.0,
          8707.0,
          8747.0,
          8792.0,
          8851.0,
          8904.0,
          8962.0,
          9047.0,
          9124.0,
          9188.0,
          9262.0,
          9382.0,
          9492.0,
          9610.0,
          9708.0,
          9836.0,
          9910.0,
          9981.0,
          10105.0,
          10239.0,
          10407.0,
          10598.0,
          10785.0,
          10963.0,
          11111.0,
          11402.0,
          11703.0,
          12009.0,
          12268.0,
          12494.0,
          12605.0,
          12737.0,
          12993.0,
          13192.0,
          13394.0,
          13585.0,
          13780.0,
          13884.0,
          14013.0,
          14256.0,
          14423.0,
          14611.0,
          14834.0,
          15028.0,
          15135.0,
          15259.0,
          15514.0,
          15748.0,
          15988.0,
          16224.0,
          16444.0,
          16565.0,
          16716.0,
          17003.0,
          17244.0,
          17458.0,
          17676.0,
          17872.0,
          18000.0,
          18132.0,
          18405.0,
          18611.0,
          18906.0,
          19190.0,
          19458.0,
          19603.0,
          19783.0,
          20176.0,
          20564.0,
          20941.0,
          21419.0,
          21847.0,
          22117.0,
          22384.0,
          22888.0,
          23359.0,
          23978.0,
          24488.0,
          24944.0,
          25228.0,
          25521.0,
          26117.0,
          26557.0,
          27052.0,
          27530.0,
          28003.0,
          28253.0,
          28536.0,
          29123.0,
          29601.0,
          30063.0,
          30470.0,
          30917.0,
          31166.0,
          31442.0,
          31905.0,
          32265.0,
          32617.0,
          32942.0,
          33336.0,
          33527.0,
          33771.0,
          34146.0,
          34478.0,
          34755.0,
          34893.0,
          35050.0,
          35233.0,
          35424.0,
          35859.0,
          36167.0,
          36422.0,
          36676.0,
          36804.0,
          37009.0,
          37178.0,
          37575.0,
          37837.0,
          38045.0,
          38377.0,
          38629.0,
          38822.0,
          39010.0,
          39396.0,
          39625.0,
          39883.0,
          40131.0,
          40397.0,
          40568.0,
          40766.0,
          41213.0,
          41555.0,
          41961.0,
          42338.0,
          42699.0,
          42867.0,
          43114.0,
          43719.0,
          44116.0,
          44498.0,
          44933.0,
          45312.0,
          45546.0,
          45820.0,
          46353.0,
          46749.0,
          47190.0,
          47562.0,
          47928.0,
          48165.0,
          48429.0,
          48890.0,
          49263.0,
          49646.0,
          50007.0,
          50424.0,
          50703.0,
          50984.0,
          51601.0,
          52114.0,
          52667.0,
          53281.0,
          53853.0,
          54171.0,
          54526.0,
          55149.0,
          55774.0,
          56373.0,
          57002.0,
          57690.0,
          58095.0,
          58517.0,
          59388.0,
          60144.0,
          60877.0,
          61515.0,
          62145.0,
          62578.0,
          62974.0,
          63808.0,
          64579.0,
          65401.0,
          66181.0,
          66989.0,
          67484.0,
          67919.0,
          68811.0,
          69578.0,
          70321.0,
          71060.0,
          71805.0,
          72209.0,
          72629.0,
          73397.0,
          74100.0,
          74795.0,
          75401.0,
          76089.0,
          76441.0,
          76816.0,
          77471.0,
          78043.0,
          78593.0,
          79079.0,
          79440.0,
          79764.0,
          80086.0,
          80446.0,
          80990.0,
          81416.0,
          81823.0,
          82175.0,
          82402.0,
          82642.0,
          83041.0,
          83364.0,
          83708.0,
          83982.0,
          84247.0,
          84419.0,
          84575.0,
          84861.0,
          85147.0,
          85380.0,
          85636.0,
          85891.0,
          86045.0,
          86185.0,
          86427.0,
          86656.0,
          86930.0,
          87131.0,
          87328.0,
          87437.0,
          87572.0,
          87888.0,
          88094.0,
          88359.0,
          88598.0,
          88812.0,
          88946.0,
          89076.0,
          89333.0,
          89548.0,
          89804.0,
          89961.0,
          90210.0,
          90374.0,
          90508.0,
          90792.0,
          91009.0,
          91240.0,
          91457.0,
          91625.0,
          91733.0,
          91826.0,
          92014.0,
          92167.0,
          92310.0,
          92437.0,
          92572.0,
          92636.0,
          92715.0,
          92866.0,
          92987.0,
          93106.0,
          93217.0,
          93319.0,
          93383.0,
          93443.0,
          93582.0,
          93683.0,
          93764.0,
          93837.0,
          93907.0,
          93953.0,
          94001.0,
          94094.0,
          94172.0,
          94236.0,
          94327.0,
          94408.0,
          94465.0,
          94545.0,
          94657.0,
          94767.0,
          94911.0,
          95073.0,
          95268.0,
          95399.0,
          95518.0,
          95748.0,
          96009.0,
          96205.0,
          96407.0,
          96574.0,
          96706.0,
          96814.0,
          97057.0,
          97317.0,
          97609.0,
          97893.0,
          98201.0,
          98350.0,
          98510.0,
          98840.0,
          99182.0,
          99564.0,
          99946.0,
          100301.0,
          100507.0,
          100756.0,
          101176.0,
          101600.0,
          102068.0,
          102555.0,
          103033.0,
          103334.0,
          103685.0,
          104455.0,
          105180.0,
          105990.0,
          106762.0,
          107458.0,
          107866.0,
          108343.0,
          109236.0,
          110076.0,
          110860.0,
          111736.0,
          112421.0,
          112906.0,
          113443.0,
          114479.0,
          115305.0,
          116228.0,
          117017.0,
          117757.0,
          118183.0,
          118628.0,
          119396.0,
          120137.0,
          120845.0,
          121515.0,
          122170.0,
          122568.0,
          123024.0,
          123706.0,
          124315.0,
          125014.0,
          125624.0,
          126328.0,
          126767.0,
          127231.0,
          127975.0,
          128625.0,
          129273.0,
          129923.0,
          130443.0,
          130779.0,
          131125.0,
          131706.0,
          132228.0,
          132710.0,
          133169.0,
          133665.0,
          133994.0,
          134277.0,
          134810.0,
          135290.0,
          135744.0,
          136180.0,
          136569.0,
          136809.0,
          137094.0,
          137583.0,
          138072.0,
          138556.0,
          139036.0,
          139460.0,
          139759.0,
          140114.0,
          140798.0,
          141441.0,
          142110.0,
          142728.0,
          143259.0,
          143614.0,
          143997.0,
          144740.0,
          145469.0,
          146215.0,
          146826.0,
          147422.0,
          147847.0,
          148246.0,
          148937.0,
          149547.0,
          150185.0,
          150743.0,
          151305.0,
          151649.0,
          151968.0,
          152629.0,
          153179.0,
          153695.0,
          154318.0,
          154898.0,
          155272.0,
          155661.0,
          156454.0,
          157134.0,
          157774.0,
          158364.0,
          159019.0,
          159424.0,
          159863.0,
          160836.0,
          161591.0,
          162362.0,
          163164.0,
          164006.0,
          164520.0,
          165028.0,
          166150.0,
          166983.0,
          167951.0,
          168885.0,
          169831.0,
          170449.0,
          171020.0,
          172272.0,
          173471.0,
          174641.0,
          175856.0,
          177130.0,
          177838.0,
          178513.0,
          179935.0,
          181273.0,
          182528.0,
          183804.0,
          185104.0,
          185898.0,
          186688.0,
          188390.0,
          189817.0,
          191261.0,
          192729.0,
          194258.0,
          195230.0,
          196233.0,
          197310.0,
          199235.0,
          200968.0,
          202676.0,
          204479.0,
          205603.0,
          206872.0,
          209228.0,
          211061.0,
          213160.0,
          215150.0,
          217322.0,
          218936.0,
          220690.0,
          223730.0,
          226899.0,
          230436.0,
          234340.0,
          236615.0,
          239288.0,
          242588.0,
          249246.0,
          256119.0,
          263504.0,
          270829.0,
          277700.0,
          281702.0,
          286679.0,
          296204.0,
          306188.0,
          315915.0,
          323246.0,
          332270.0,
          338070.0,
          344711.0,
          355258.0,
          364470.0,
          373398.0,
          381673.0,
          389770.0,
          395472.0,
          401722.0,
          411849.0,
          421013.0,
          429525.0,
          437573.0,
          444869.0,
          449237.0,
          453833.0,
          461001.0,
          464394.0,
          470665.0,
          475431.0,
          475431.0,
          475431.0,
          489870.0,
          493114.0,
          501152.0,
          507940.0,
          514892.0,
          514892.0,
          514892.0,
          534790.0,
          542262.0,
          546782.0,
          559587.0,
          569973.0,
          569973.0,
          569973.0,
          582383.0,
          586809.0,
          592765.0,
          600718.0,
          605046.0,
          605046.0,
          605046.0,
          622717.0,
          625463.0,
          629727.0,
          637658.0,
          637729.0,
          637729.0,
          637729.0,
          637757.0,
          657443.0,
          658559.0,
          664588.0,
          671773.0,
          671773.0,
          671773.0,
          694142.0,
          694142.0,
          703052.0,
          713103.0,
          734262.0,
          734262.0,
          734262.0,
          761110.0,
          767220.0,
          778617.0,
          782912.0,
          786312.0,
          786312.0,
          786312.0,
          812017.0,
          812224.0,
          821536.0,
          834038.0,
          844713.0,
          844713.0,
          844713.0,
          859477.0,
          864815.0,
          874135.0,
          883676.0,
          889626.0,
          889626.0,
          889626.0,
          901336.0,
          907786.0,
          913476.0,
          920692.0,
          920692.0,
          920692.0,
          920692.0,
          920692.0
         ],
         "type": "scatter",
         "xaxis": "x",
         "yaxis": "y"
        },
        {
         "connectgaps": true,
         "marker": {
          "color": "green"
         },
         "mode": "lines",
         "name": "Confirmed deaths for Finland",
         "x": [
          "2020-02-01",
          "2020-02-02",
          "2020-02-03",
          "2020-02-04",
          "2020-02-05",
          "2020-02-06",
          "2020-02-07",
          "2020-02-08",
          "2020-02-09",
          "2020-02-10",
          "2020-02-11",
          "2020-02-12",
          "2020-02-13",
          "2020-02-14",
          "2020-02-15",
          "2020-02-16",
          "2020-02-17",
          "2020-02-18",
          "2020-02-19",
          "2020-02-20",
          "2020-02-21",
          "2020-02-22",
          "2020-02-23",
          "2020-02-24",
          "2020-02-25",
          "2020-02-26",
          "2020-02-27",
          "2020-02-28",
          "2020-02-29",
          "2020-03-01",
          "2020-03-02",
          "2020-03-03",
          "2020-03-04",
          "2020-03-05",
          "2020-03-06",
          "2020-03-07",
          "2020-03-08",
          "2020-03-09",
          "2020-03-10",
          "2020-03-11",
          "2020-03-12",
          "2020-03-13",
          "2020-03-14",
          "2020-03-15",
          "2020-03-16",
          "2020-03-17",
          "2020-03-18",
          "2020-03-19",
          "2020-03-20",
          "2020-03-21",
          "2020-03-22",
          "2020-03-23",
          "2020-03-24",
          "2020-03-25",
          "2020-03-26",
          "2020-03-27",
          "2020-03-28",
          "2020-03-29",
          "2020-03-30",
          "2020-03-31",
          "2020-04-01",
          "2020-04-02",
          "2020-04-03",
          "2020-04-04",
          "2020-04-05",
          "2020-04-06",
          "2020-04-07",
          "2020-04-08",
          "2020-04-09",
          "2020-04-10",
          "2020-04-11",
          "2020-04-12",
          "2020-04-13",
          "2020-04-14",
          "2020-04-15",
          "2020-04-16",
          "2020-04-17",
          "2020-04-18",
          "2020-04-19",
          "2020-04-20",
          "2020-04-21",
          "2020-04-22",
          "2020-04-23",
          "2020-04-24",
          "2020-04-25",
          "2020-04-26",
          "2020-04-27",
          "2020-04-28",
          "2020-04-29",
          "2020-04-30",
          "2020-05-01",
          "2020-05-02",
          "2020-05-03",
          "2020-05-04",
          "2020-05-05",
          "2020-05-06",
          "2020-05-07",
          "2020-05-08",
          "2020-05-09",
          "2020-05-10",
          "2020-05-11",
          "2020-05-12",
          "2020-05-13",
          "2020-05-14",
          "2020-05-15",
          "2020-05-16",
          "2020-05-17",
          "2020-05-18",
          "2020-05-19",
          "2020-05-20",
          "2020-05-21",
          "2020-05-22",
          "2020-05-23",
          "2020-05-24",
          "2020-05-25",
          "2020-05-26",
          "2020-05-27",
          "2020-05-28",
          "2020-05-29",
          "2020-05-30",
          "2020-05-31",
          "2020-06-01",
          "2020-06-02",
          "2020-06-03",
          "2020-06-04",
          "2020-06-05",
          "2020-06-06",
          "2020-06-07",
          "2020-06-08",
          "2020-06-09",
          "2020-06-10",
          "2020-06-11",
          "2020-06-12",
          "2020-06-13",
          "2020-06-14",
          "2020-06-15",
          "2020-06-16",
          "2020-06-17",
          "2020-06-18",
          "2020-06-19",
          "2020-06-20",
          "2020-06-21",
          "2020-06-22",
          "2020-06-23",
          "2020-06-24",
          "2020-06-25",
          "2020-06-26",
          "2020-06-27",
          "2020-06-28",
          "2020-06-29",
          "2020-06-30",
          "2020-07-01",
          "2020-07-02",
          "2020-07-03",
          "2020-07-04",
          "2020-07-05",
          "2020-07-06",
          "2020-07-07",
          "2020-07-08",
          "2020-07-09",
          "2020-07-10",
          "2020-07-11",
          "2020-07-12",
          "2020-07-13",
          "2020-07-14",
          "2020-07-15",
          "2020-07-16",
          "2020-07-17",
          "2020-07-18",
          "2020-07-19",
          "2020-07-20",
          "2020-07-21",
          "2020-07-22",
          "2020-07-23",
          "2020-07-24",
          "2020-07-25",
          "2020-07-26",
          "2020-07-27",
          "2020-07-28",
          "2020-07-29",
          "2020-07-30",
          "2020-07-31",
          "2020-08-01",
          "2020-08-02",
          "2020-08-03",
          "2020-08-04",
          "2020-08-05",
          "2020-08-06",
          "2020-08-07",
          "2020-08-08",
          "2020-08-09",
          "2020-08-10",
          "2020-08-11",
          "2020-08-12",
          "2020-08-13",
          "2020-08-14",
          "2020-08-15",
          "2020-08-16",
          "2020-08-17",
          "2020-08-18",
          "2020-08-19",
          "2020-08-20",
          "2020-08-21",
          "2020-08-22",
          "2020-08-23",
          "2020-08-24",
          "2020-08-25",
          "2020-08-26",
          "2020-08-27",
          "2020-08-28",
          "2020-08-29",
          "2020-08-30",
          "2020-08-31",
          "2020-09-01",
          "2020-09-02",
          "2020-09-03",
          "2020-09-04",
          "2020-09-05",
          "2020-09-06",
          "2020-09-07",
          "2020-09-08",
          "2020-09-09",
          "2020-09-10",
          "2020-09-11",
          "2020-09-12",
          "2020-09-13",
          "2020-09-14",
          "2020-09-15",
          "2020-09-16",
          "2020-09-17",
          "2020-09-18",
          "2020-09-19",
          "2020-09-20",
          "2020-09-21",
          "2020-09-22",
          "2020-09-23",
          "2020-09-24",
          "2020-09-25",
          "2020-09-26",
          "2020-09-27",
          "2020-09-28",
          "2020-09-29",
          "2020-09-30",
          "2020-10-01",
          "2020-10-02",
          "2020-10-03",
          "2020-10-04",
          "2020-10-05",
          "2020-10-06",
          "2020-10-07",
          "2020-10-08",
          "2020-10-09",
          "2020-10-10",
          "2020-10-11",
          "2020-10-12",
          "2020-10-13",
          "2020-10-14",
          "2020-10-15",
          "2020-10-16",
          "2020-10-17",
          "2020-10-18",
          "2020-10-19",
          "2020-10-20",
          "2020-10-21",
          "2020-10-22",
          "2020-10-23",
          "2020-10-24",
          "2020-10-25",
          "2020-10-26",
          "2020-10-27",
          "2020-10-28",
          "2020-10-29",
          "2020-10-30",
          "2020-10-31",
          "2020-11-01",
          "2020-11-02",
          "2020-11-03",
          "2020-11-04",
          "2020-11-05",
          "2020-11-06",
          "2020-11-07",
          "2020-11-08",
          "2020-11-09",
          "2020-11-10",
          "2020-11-11",
          "2020-11-12",
          "2020-11-13",
          "2020-11-14",
          "2020-11-15",
          "2020-11-16",
          "2020-11-17",
          "2020-11-18",
          "2020-11-19",
          "2020-11-20",
          "2020-11-21",
          "2020-11-22",
          "2020-11-23",
          "2020-11-24",
          "2020-11-25",
          "2020-11-26",
          "2020-11-27",
          "2020-11-28",
          "2020-11-29",
          "2020-11-30",
          "2020-12-01",
          "2020-12-02",
          "2020-12-03",
          "2020-12-04",
          "2020-12-05",
          "2020-12-06",
          "2020-12-07",
          "2020-12-08",
          "2020-12-09",
          "2020-12-10",
          "2020-12-11",
          "2020-12-12",
          "2020-12-13",
          "2020-12-14",
          "2020-12-15",
          "2020-12-16",
          "2020-12-17",
          "2020-12-18",
          "2020-12-19",
          "2020-12-20",
          "2020-12-21",
          "2020-12-22",
          "2020-12-23",
          "2020-12-24",
          "2020-12-25",
          "2020-12-26",
          "2020-12-27",
          "2020-12-28",
          "2020-12-29",
          "2020-12-30",
          "2020-12-31",
          "2021-01-01",
          "2021-01-02",
          "2021-01-03",
          "2021-01-04",
          "2021-01-05",
          "2021-01-06",
          "2021-01-07",
          "2021-01-08",
          "2021-01-09",
          "2021-01-10",
          "2021-01-11",
          "2021-01-12",
          "2021-01-13",
          "2021-01-14",
          "2021-01-15",
          "2021-01-16",
          "2021-01-17",
          "2021-01-18",
          "2021-01-19",
          "2021-01-20",
          "2021-01-21",
          "2021-01-22",
          "2021-01-23",
          "2021-01-24",
          "2021-01-25",
          "2021-01-26",
          "2021-01-27",
          "2021-01-28",
          "2021-01-29",
          "2021-01-30",
          "2021-01-31",
          "2021-02-01",
          "2021-02-02",
          "2021-02-03",
          "2021-02-04",
          "2021-02-05",
          "2021-02-06",
          "2021-02-07",
          "2021-02-08",
          "2021-02-09",
          "2021-02-10",
          "2021-02-11",
          "2021-02-12",
          "2021-02-13",
          "2021-02-14",
          "2021-02-15",
          "2021-02-16",
          "2021-02-17",
          "2021-02-18",
          "2021-02-19",
          "2021-02-20",
          "2021-02-21",
          "2021-02-22",
          "2021-02-23",
          "2021-02-24",
          "2021-02-25",
          "2021-02-26",
          "2021-02-27",
          "2021-02-28",
          "2021-03-01",
          "2021-03-02",
          "2021-03-03",
          "2021-03-04",
          "2021-03-05",
          "2021-03-06",
          "2021-03-07",
          "2021-03-08",
          "2021-03-09",
          "2021-03-10",
          "2021-03-11",
          "2021-03-12",
          "2021-03-13",
          "2021-03-14",
          "2021-03-15",
          "2021-03-16",
          "2021-03-17",
          "2021-03-18",
          "2021-03-19",
          "2021-03-20",
          "2021-03-21",
          "2021-03-22",
          "2021-03-23",
          "2021-03-24",
          "2021-03-25",
          "2021-03-26",
          "2021-03-27",
          "2021-03-28",
          "2021-03-29",
          "2021-03-30",
          "2021-03-31",
          "2021-04-01",
          "2021-04-02",
          "2021-04-03",
          "2021-04-04",
          "2021-04-05",
          "2021-04-06",
          "2021-04-07",
          "2021-04-08",
          "2021-04-09",
          "2021-04-10",
          "2021-04-11",
          "2021-04-12",
          "2021-04-13",
          "2021-04-14",
          "2021-04-15",
          "2021-04-16",
          "2021-04-17",
          "2021-04-18",
          "2021-04-19",
          "2021-04-20",
          "2021-04-21",
          "2021-04-22",
          "2021-04-23",
          "2021-04-24",
          "2021-04-25",
          "2021-04-26",
          "2021-04-27",
          "2021-04-28",
          "2021-04-29",
          "2021-04-30",
          "2021-05-01",
          "2021-05-02",
          "2021-05-03",
          "2021-05-04",
          "2021-05-05",
          "2021-05-06",
          "2021-05-07",
          "2021-05-08",
          "2021-05-09",
          "2021-05-10",
          "2021-05-11",
          "2021-05-12",
          "2021-05-13",
          "2021-05-14",
          "2021-05-15",
          "2021-05-16",
          "2021-05-17",
          "2021-05-18",
          "2021-05-19",
          "2021-05-20",
          "2021-05-21",
          "2021-05-22",
          "2021-05-23",
          "2021-05-24",
          "2021-05-25",
          "2021-05-26",
          "2021-05-27",
          "2021-05-28",
          "2021-05-29",
          "2021-05-30",
          "2021-05-31",
          "2021-06-01",
          "2021-06-02",
          "2021-06-03",
          "2021-06-04",
          "2021-06-05",
          "2021-06-06",
          "2021-06-07",
          "2021-06-08",
          "2021-06-09",
          "2021-06-10",
          "2021-06-11",
          "2021-06-12",
          "2021-06-13",
          "2021-06-14",
          "2021-06-15",
          "2021-06-16",
          "2021-06-17",
          "2021-06-18",
          "2021-06-19",
          "2021-06-20",
          "2021-06-21",
          "2021-06-22",
          "2021-06-23",
          "2021-06-24",
          "2021-06-25",
          "2021-06-26",
          "2021-06-27",
          "2021-06-28",
          "2021-06-29",
          "2021-06-30",
          "2021-07-01",
          "2021-07-02",
          "2021-07-03",
          "2021-07-04",
          "2021-07-05",
          "2021-07-06",
          "2021-07-07",
          "2021-07-08",
          "2021-07-09",
          "2021-07-10",
          "2021-07-11",
          "2021-07-12",
          "2021-07-13",
          "2021-07-14",
          "2021-07-15",
          "2021-07-16",
          "2021-07-17",
          "2021-07-18",
          "2021-07-19",
          "2021-07-20",
          "2021-07-21",
          "2021-07-22",
          "2021-07-23",
          "2021-07-24",
          "2021-07-25",
          "2021-07-26",
          "2021-07-27",
          "2021-07-28",
          "2021-07-29",
          "2021-07-30",
          "2021-07-31",
          "2021-08-01",
          "2021-08-02",
          "2021-08-03",
          "2021-08-04",
          "2021-08-05",
          "2021-08-06",
          "2021-08-07",
          "2021-08-08",
          "2021-08-09",
          "2021-08-10",
          "2021-08-11",
          "2021-08-12",
          "2021-08-13",
          "2021-08-14",
          "2021-08-15",
          "2021-08-16",
          "2021-08-17",
          "2021-08-18",
          "2021-08-19",
          "2021-08-20",
          "2021-08-21",
          "2021-08-22",
          "2021-08-23",
          "2021-08-24",
          "2021-08-25",
          "2021-08-26",
          "2021-08-27",
          "2021-08-28",
          "2021-08-29",
          "2021-08-30",
          "2021-08-31",
          "2021-09-01",
          "2021-09-02",
          "2021-09-03",
          "2021-09-04",
          "2021-09-05",
          "2021-09-06",
          "2021-09-07",
          "2021-09-08",
          "2021-09-09",
          "2021-09-10",
          "2021-09-11",
          "2021-09-12",
          "2021-09-13",
          "2021-09-14",
          "2021-09-15",
          "2021-09-16",
          "2021-09-17",
          "2021-09-18",
          "2021-09-19",
          "2021-09-20",
          "2021-09-21",
          "2021-09-22",
          "2021-09-23",
          "2021-09-24",
          "2021-09-25",
          "2021-09-26",
          "2021-09-27",
          "2021-09-28",
          "2021-09-29",
          "2021-09-30",
          "2021-10-01",
          "2021-10-02",
          "2021-10-03",
          "2021-10-04",
          "2021-10-05",
          "2021-10-06",
          "2021-10-07",
          "2021-10-08",
          "2021-10-09",
          "2021-10-10",
          "2021-10-11",
          "2021-10-12",
          "2021-10-13",
          "2021-10-14",
          "2021-10-15",
          "2021-10-16",
          "2021-10-17",
          "2021-10-18",
          "2021-10-19",
          "2021-10-20",
          "2021-10-21",
          "2021-10-22",
          "2021-10-23",
          "2021-10-24",
          "2021-10-25",
          "2021-10-26",
          "2021-10-27",
          "2021-10-28",
          "2021-10-29",
          "2021-10-30",
          "2021-10-31",
          "2021-11-01",
          "2021-11-02",
          "2021-11-03",
          "2021-11-04",
          "2021-11-05",
          "2021-11-06",
          "2021-11-07",
          "2021-11-08",
          "2021-11-09",
          "2021-11-10",
          "2021-11-11",
          "2021-11-12",
          "2021-11-13",
          "2021-11-14",
          "2021-11-15",
          "2021-11-16",
          "2021-11-17",
          "2021-11-18",
          "2021-11-19",
          "2021-11-20",
          "2021-11-21",
          "2021-11-22",
          "2021-11-23",
          "2021-11-24",
          "2021-11-25",
          "2021-11-26",
          "2021-11-27",
          "2021-11-28",
          "2021-11-29",
          "2021-11-30",
          "2021-12-01",
          "2021-12-02",
          "2021-12-03",
          "2021-12-04",
          "2021-12-05",
          "2021-12-06",
          "2021-12-07",
          "2021-12-08",
          "2021-12-09",
          "2021-12-10",
          "2021-12-11",
          "2021-12-12",
          "2021-12-13",
          "2021-12-14",
          "2021-12-15",
          "2021-12-16",
          "2021-12-17",
          "2021-12-18",
          "2021-12-19",
          "2021-12-20",
          "2021-12-21",
          "2021-12-22",
          "2021-12-23",
          "2021-12-24",
          "2021-12-25",
          "2021-12-26",
          "2021-12-27",
          "2021-12-28",
          "2021-12-29",
          "2021-12-30",
          "2021-12-31",
          "2022-01-01",
          "2022-01-02",
          "2022-01-03",
          "2022-01-04",
          "2022-01-05",
          "2022-01-06",
          "2022-01-07",
          "2022-01-08",
          "2022-01-09",
          "2022-01-10",
          "2022-01-11",
          "2022-01-12",
          "2022-01-13",
          "2022-01-14",
          "2022-01-15",
          "2022-01-16",
          "2022-01-17",
          "2022-01-18",
          "2022-01-19",
          "2022-01-20",
          "2022-01-21",
          "2022-01-22",
          "2022-01-23",
          "2022-01-24",
          "2022-01-25",
          "2022-01-26",
          "2022-01-27",
          "2022-01-28",
          "2022-01-29",
          "2022-01-30",
          "2022-01-31",
          "2022-02-01",
          "2022-02-02",
          "2022-02-03",
          "2022-02-04",
          "2022-02-05",
          "2022-02-06",
          "2022-02-07",
          "2022-02-08",
          "2022-02-09",
          "2022-02-10",
          "2022-02-11",
          "2022-02-12",
          "2022-02-13",
          "2022-02-14",
          "2022-02-15",
          "2022-02-16",
          "2022-02-17",
          "2022-02-18",
          "2022-02-19",
          "2022-02-20",
          "2022-02-21",
          "2022-02-22",
          "2022-02-23",
          "2022-02-24",
          "2022-02-25",
          "2022-02-26",
          "2022-02-27",
          "2022-02-28",
          "2022-03-01",
          "2022-03-02",
          "2022-03-03",
          "2022-03-04",
          "2022-03-05",
          "2022-03-06",
          "2022-03-07",
          "2022-03-08",
          "2022-03-09",
          "2022-03-10",
          "2022-03-11",
          "2022-03-12",
          "2022-03-13",
          "2022-03-14",
          "2022-03-15",
          "2022-03-16",
          "2022-03-17",
          "2022-03-18",
          "2022-03-19",
          "2022-03-20",
          "2022-03-21",
          "2022-03-22",
          "2022-03-23",
          "2022-03-24",
          "2022-03-25",
          "2022-03-26",
          "2022-03-27",
          "2022-03-28",
          "2022-03-29",
          "2022-03-30",
          "2022-03-31",
          "2022-04-01",
          "2022-04-02",
          "2022-04-03",
          "2022-04-04",
          "2022-04-05",
          "2022-04-06",
          "2022-04-07",
          "2022-04-08",
          "2022-04-09",
          "2022-04-10",
          "2022-04-11"
         ],
         "y": [
          null,
          null,
          null,
          null,
          null,
          null,
          null,
          null,
          null,
          null,
          null,
          null,
          null,
          null,
          null,
          null,
          null,
          null,
          null,
          null,
          null,
          null,
          null,
          null,
          null,
          null,
          null,
          null,
          null,
          null,
          null,
          null,
          null,
          null,
          null,
          null,
          null,
          null,
          1.0,
          1.0,
          1.0,
          1.0,
          1.0,
          1.0,
          1.0,
          2.0,
          3.0,
          3.0,
          4.0,
          6.0,
          6.0,
          7.0,
          8.0,
          10.0,
          11.0,
          15.0,
          16.0,
          21.0,
          25.0,
          27.0,
          31.0,
          41.0,
          51.0,
          58.0,
          62.0,
          68.0,
          73.0,
          80.0,
          84.0,
          94.0,
          111.0,
          119.0,
          130.0,
          133.0,
          136.0,
          147.0,
          159.0,
          169.0,
          183.0,
          195.0,
          205.0,
          205.0,
          211.0,
          228.0,
          232.0,
          238.0,
          238.0,
          241.0,
          247.0,
          252.0,
          253.0,
          255.0,
          256.0,
          260.0,
          262.0,
          265.0,
          268.0,
          275.0,
          279.0,
          281.0,
          288.0,
          289.0,
          291.0,
          291.0,
          292.0,
          294.0,
          296.0,
          296.0,
          297.0,
          299.0,
          299.0,
          301.0,
          301.0,
          302.0,
          302.0,
          303.0,
          303.0,
          303.0,
          304.0,
          304.0,
          304.0,
          304.0,
          305.0,
          305.0,
          305.0,
          305.0,
          305.0,
          305.0,
          305.0,
          305.0,
          305.0,
          305.0,
          305.0,
          305.0,
          305.0,
          305.0,
          305.0,
          305.0,
          305.0,
          305.0,
          305.0,
          305.0,
          305.0,
          305.0,
          306.0,
          307.0,
          307.0,
          307.0,
          308.0,
          308.0,
          308.0,
          308.0,
          308.0,
          309.0,
          309.0,
          309.0,
          309.0,
          309.0,
          309.0,
          309.0,
          309.0,
          309.0,
          309.0,
          309.0,
          309.0,
          309.0,
          309.0,
          309.0,
          309.0,
          309.0,
          309.0,
          309.0,
          309.0,
          309.0,
          310.0,
          310.0,
          310.0,
          310.0,
          310.0,
          310.0,
          310.0,
          310.0,
          311.0,
          312.0,
          312.0,
          312.0,
          312.0,
          312.0,
          313.0,
          313.0,
          313.0,
          313.0,
          313.0,
          313.0,
          313.0,
          313.0,
          313.0,
          313.0,
          313.0,
          313.0,
          313.0,
          314.0,
          314.0,
          314.0,
          314.0,
          314.0,
          314.0,
          314.0,
          314.0,
          314.0,
          314.0,
          314.0,
          314.0,
          314.0,
          314.0,
          314.0,
          315.0,
          316.0,
          316.0,
          316.0,
          317.0,
          317.0,
          318.0,
          318.0,
          318.0,
          321.0,
          321.0,
          323.0,
          323.0,
          323.0,
          324.0,
          324.0,
          325.0,
          325.0,
          325.0,
          325.0,
          325.0,
          325.0,
          326.0,
          328.0,
          328.0,
          329.0,
          329.0,
          329.0,
          329.0,
          329.0,
          329.0,
          331.0,
          331.0,
          331.0,
          331.0,
          333.0,
          334.0,
          336.0,
          336.0,
          336.0,
          337.0,
          339.0,
          339.0,
          339.0,
          341.0,
          341.0,
          342.0,
          342.0,
          342.0,
          345.0,
          345.0,
          345.0,
          346.0,
          347.0,
          347.0,
          348.0,
          348.0,
          349.0,
          349.0,
          349.0,
          350.0,
          350.0,
          350.0,
          350.0,
          350.0,
          350.0,
          350.0,
          352.0,
          354.0,
          361.0,
          364.0,
          364.0,
          365.0,
          369.0,
          376.0,
          378.0,
          380.0,
          381.0,
          382.0,
          385.0,
          388.0,
          394.0,
          404.0,
          408.0,
          413.0,
          419.0,
          427.0,
          429.0,
          435.0,
          437.0,
          442.0,
          452.0,
          454.0,
          461.0,
          468.0,
          471.0,
          477.0,
          487.0,
          497.0,
          500.0,
          505.0,
          509.0,
          517.0,
          520.0,
          525.0,
          536.0,
          543.0,
          547.0,
          548.0,
          553.0,
          556.0,
          560.0,
          564.0,
          569.0,
          572.0,
          575.0,
          577.0,
          577.0,
          581.0,
          586.0,
          588.0,
          592.0,
          598.0,
          601.0,
          605.0,
          608.0,
          615.0,
          619.0,
          622.0,
          625.0,
          629.0,
          631.0,
          634.0,
          642.0,
          651.0,
          656.0,
          661.0,
          662.0,
          663.0,
          663.0,
          664.0,
          668.0,
          680.0,
          684.0,
          686.0,
          688.0,
          690.0,
          695.0,
          698.0,
          698.0,
          699.0,
          702.0,
          703.0,
          703.0,
          709.0,
          711.0,
          714.0,
          715.0,
          717.0,
          717.0,
          719.0,
          724.0,
          724.0,
          729.0,
          731.0,
          733.0,
          737.0,
          741.0,
          742.0,
          747.0,
          749.0,
          751.0,
          754.0,
          756.0,
          757.0,
          762.0,
          771.0,
          773.0,
          780.0,
          783.0,
          784.0,
          785.0,
          792.0,
          794.0,
          795.0,
          797.0,
          800.0,
          801.0,
          803.0,
          812.0,
          816.0,
          820.0,
          824.0,
          828.0,
          832.0,
          832.0,
          833.0,
          834.0,
          837.0,
          841.0,
          848.0,
          852.0,
          852.0,
          858.0,
          863.0,
          867.0,
          869.0,
          872.0,
          876.0,
          877.0,
          880.0,
          882.0,
          883.0,
          885.0,
          887.0,
          890.0,
          891.0,
          891.0,
          892.0,
          896.0,
          897.0,
          899.0,
          901.0,
          901.0,
          902.0,
          906.0,
          907.0,
          909.0,
          914.0,
          916.0,
          916.0,
          919.0,
          920.0,
          922.0,
          922.0,
          923.0,
          924.0,
          924.0,
          927.0,
          929.0,
          931.0,
          932.0,
          934.0,
          934.0,
          936.0,
          936.0,
          936.0,
          937.0,
          939.0,
          940.0,
          940.0,
          940.0,
          941.0,
          942.0,
          944.0,
          946.0,
          951.0,
          957.0,
          959.0,
          959.0,
          962.0,
          968.0,
          968.0,
          968.0,
          970.0,
          972.0,
          972.0,
          972.0,
          973.0,
          973.0,
          973.0,
          973.0,
          975.0,
          975.0,
          976.0,
          976.0,
          976.0,
          977.0,
          977.0,
          977.0,
          978.0,
          979.0,
          979.0,
          980.0,
          980.0,
          980.0,
          980.0,
          980.0,
          982.0,
          982.0,
          982.0,
          982.0,
          982.0,
          982.0,
          983.0,
          983.0,
          984.0,
          984.0,
          984.0,
          984.0,
          984.0,
          984.0,
          984.0,
          984.0,
          984.0,
          984.0,
          984.0,
          984.0,
          985.0,
          986.0,
          986.0,
          986.0,
          986.0,
          986.0,
          988.0,
          990.0,
          991.0,
          991.0,
          991.0,
          991.0,
          991.0,
          991.0,
          991.0,
          991.0,
          993.0,
          993.0,
          995.0,
          996.0,
          997.0,
          999.0,
          1000.0,
          1001.0,
          1005.0,
          1005.0,
          1006.0,
          1006.0,
          1009.0,
          1012.0,
          1016.0,
          1017.0,
          1019.0,
          1023.0,
          1023.0,
          1024.0,
          1025.0,
          1026.0,
          1027.0,
          1029.0,
          1029.0,
          1031.0,
          1031.0,
          1032.0,
          1035.0,
          1037.0,
          1038.0,
          1038.0,
          1040.0,
          1041.0,
          1044.0,
          1046.0,
          1048.0,
          1050.0,
          1050.0,
          1051.0,
          1057.0,
          1059.0,
          1060.0,
          1062.0,
          1063.0,
          1063.0,
          1063.0,
          1069.0,
          1072.0,
          1073.0,
          1075.0,
          1075.0,
          1076.0,
          1081.0,
          1082.0,
          1084.0,
          1085.0,
          1086.0,
          1087.0,
          1087.0,
          1092.0,
          1093.0,
          1094.0,
          1096.0,
          1100.0,
          1103.0,
          1104.0,
          1107.0,
          1110.0,
          1114.0,
          1118.0,
          1121.0,
          1126.0,
          1129.0,
          1134.0,
          1138.0,
          1145.0,
          1147.0,
          1150.0,
          1158.0,
          1163.0,
          1166.0,
          1171.0,
          1174.0,
          1177.0,
          1181.0,
          1183.0,
          1184.0,
          1188.0,
          1194.0,
          1195.0,
          1197.0,
          1199.0,
          1207.0,
          1211.0,
          1213.0,
          1226.0,
          1230.0,
          1235.0,
          1240.0,
          1242.0,
          1245.0,
          1250.0,
          1262.0,
          1265.0,
          1272.0,
          1281.0,
          1292.0,
          1301.0,
          1305.0,
          1317.0,
          1326.0,
          1330.0,
          1336.0,
          1341.0,
          1344.0,
          1350.0,
          1367.0,
          1376.0,
          1381.0,
          1385.0,
          1391.0,
          1399.0,
          1404.0,
          1414.0,
          1424.0,
          1433.0,
          1444.0,
          1452.0,
          1460.0,
          1463.0,
          1478.0,
          1485.0,
          1497.0,
          1502.0,
          1508.0,
          1515.0,
          1520.0,
          1523.0,
          1530.0,
          1539.0,
          1546.0,
          1552.0,
          1559.0,
          1564.0,
          1571.0,
          1577.0,
          1585.0,
          1593.0,
          1601.0,
          1603.0,
          1608.0,
          1616.0,
          1622.0,
          1630.0,
          1637.0,
          1643.0,
          1647.0,
          1656.0,
          1673.0,
          1685.0,
          1698.0,
          1714.0,
          1728.0,
          1739.0,
          1751.0,
          1764.0,
          1777.0,
          1790.0,
          1801.0,
          1812.0,
          1822.0,
          1830.0,
          1839.0,
          1845.0,
          1851.0,
          1858.0,
          1864.0,
          1871.0,
          1875.0,
          1887.0,
          1891.0,
          1891.0,
          1893.0,
          1894.0,
          1894.0,
          1894.0,
          1894.0,
          1894.0,
          1919.0,
          1942.0,
          1942.0,
          1942.0,
          1990.0,
          1990.0,
          2012.0,
          2041.0,
          2058.0,
          2058.0,
          2058.0,
          2095.0,
          2097.0,
          2126.0,
          2141.0,
          2170.0,
          2170.0,
          2170.0,
          2214.0,
          2215.0,
          2242.0,
          2265.0,
          2277.0,
          2277.0,
          2277.0,
          2329.0,
          2329.0,
          2351.0,
          2364.0,
          2364.0,
          2364.0,
          2364.0,
          2366.0,
          2380.0,
          2381.0,
          2384.0,
          2387.0,
          2387.0,
          2387.0,
          2571.0,
          2571.0,
          2573.0,
          2573.0,
          2653.0,
          2653.0,
          2653.0,
          2717.0,
          2719.0,
          2763.0,
          2783.0,
          2783.0,
          2783.0,
          2783.0,
          2881.0,
          2881.0,
          2948.0,
          2951.0,
          2985.0,
          2985.0,
          2985.0,
          3054.0,
          3055.0,
          3105.0,
          3144.0,
          3178.0,
          3178.0,
          3178.0,
          3252.0,
          3254.0,
          3307.0,
          3334.0,
          3334.0,
          3334.0,
          3334.0,
          3334.0
         ],
         "type": "scatter",
         "xaxis": "x2",
         "yaxis": "y2"
        }
       ],
       "layout": {
        "template": {
         "data": {
          "histogram2dcontour": [
           {
            "type": "histogram2dcontour",
            "colorbar": {
             "outlinewidth": 0,
             "ticks": ""
            },
            "colorscale": [
             [
              0.0,
              "#0d0887"
             ],
             [
              0.1111111111111111,
              "#46039f"
             ],
             [
              0.2222222222222222,
              "#7201a8"
             ],
             [
              0.3333333333333333,
              "#9c179e"
             ],
             [
              0.4444444444444444,
              "#bd3786"
             ],
             [
              0.5555555555555556,
              "#d8576b"
             ],
             [
              0.6666666666666666,
              "#ed7953"
             ],
             [
              0.7777777777777778,
              "#fb9f3a"
             ],
             [
              0.8888888888888888,
              "#fdca26"
             ],
             [
              1.0,
              "#f0f921"
             ]
            ]
           }
          ],
          "choropleth": [
           {
            "type": "choropleth",
            "colorbar": {
             "outlinewidth": 0,
             "ticks": ""
            }
           }
          ],
          "histogram2d": [
           {
            "type": "histogram2d",
            "colorbar": {
             "outlinewidth": 0,
             "ticks": ""
            },
            "colorscale": [
             [
              0.0,
              "#0d0887"
             ],
             [
              0.1111111111111111,
              "#46039f"
             ],
             [
              0.2222222222222222,
              "#7201a8"
             ],
             [
              0.3333333333333333,
              "#9c179e"
             ],
             [
              0.4444444444444444,
              "#bd3786"
             ],
             [
              0.5555555555555556,
              "#d8576b"
             ],
             [
              0.6666666666666666,
              "#ed7953"
             ],
             [
              0.7777777777777778,
              "#fb9f3a"
             ],
             [
              0.8888888888888888,
              "#fdca26"
             ],
             [
              1.0,
              "#f0f921"
             ]
            ]
           }
          ],
          "heatmap": [
           {
            "type": "heatmap",
            "colorbar": {
             "outlinewidth": 0,
             "ticks": ""
            },
            "colorscale": [
             [
              0.0,
              "#0d0887"
             ],
             [
              0.1111111111111111,
              "#46039f"
             ],
             [
              0.2222222222222222,
              "#7201a8"
             ],
             [
              0.3333333333333333,
              "#9c179e"
             ],
             [
              0.4444444444444444,
              "#bd3786"
             ],
             [
              0.5555555555555556,
              "#d8576b"
             ],
             [
              0.6666666666666666,
              "#ed7953"
             ],
             [
              0.7777777777777778,
              "#fb9f3a"
             ],
             [
              0.8888888888888888,
              "#fdca26"
             ],
             [
              1.0,
              "#f0f921"
             ]
            ]
           }
          ],
          "heatmapgl": [
           {
            "type": "heatmapgl",
            "colorbar": {
             "outlinewidth": 0,
             "ticks": ""
            },
            "colorscale": [
             [
              0.0,
              "#0d0887"
             ],
             [
              0.1111111111111111,
              "#46039f"
             ],
             [
              0.2222222222222222,
              "#7201a8"
             ],
             [
              0.3333333333333333,
              "#9c179e"
             ],
             [
              0.4444444444444444,
              "#bd3786"
             ],
             [
              0.5555555555555556,
              "#d8576b"
             ],
             [
              0.6666666666666666,
              "#ed7953"
             ],
             [
              0.7777777777777778,
              "#fb9f3a"
             ],
             [
              0.8888888888888888,
              "#fdca26"
             ],
             [
              1.0,
              "#f0f921"
             ]
            ]
           }
          ],
          "contourcarpet": [
           {
            "type": "contourcarpet",
            "colorbar": {
             "outlinewidth": 0,
             "ticks": ""
            }
           }
          ],
          "contour": [
           {
            "type": "contour",
            "colorbar": {
             "outlinewidth": 0,
             "ticks": ""
            },
            "colorscale": [
             [
              0.0,
              "#0d0887"
             ],
             [
              0.1111111111111111,
              "#46039f"
             ],
             [
              0.2222222222222222,
              "#7201a8"
             ],
             [
              0.3333333333333333,
              "#9c179e"
             ],
             [
              0.4444444444444444,
              "#bd3786"
             ],
             [
              0.5555555555555556,
              "#d8576b"
             ],
             [
              0.6666666666666666,
              "#ed7953"
             ],
             [
              0.7777777777777778,
              "#fb9f3a"
             ],
             [
              0.8888888888888888,
              "#fdca26"
             ],
             [
              1.0,
              "#f0f921"
             ]
            ]
           }
          ],
          "surface": [
           {
            "type": "surface",
            "colorbar": {
             "outlinewidth": 0,
             "ticks": ""
            },
            "colorscale": [
             [
              0.0,
              "#0d0887"
             ],
             [
              0.1111111111111111,
              "#46039f"
             ],
             [
              0.2222222222222222,
              "#7201a8"
             ],
             [
              0.3333333333333333,
              "#9c179e"
             ],
             [
              0.4444444444444444,
              "#bd3786"
             ],
             [
              0.5555555555555556,
              "#d8576b"
             ],
             [
              0.6666666666666666,
              "#ed7953"
             ],
             [
              0.7777777777777778,
              "#fb9f3a"
             ],
             [
              0.8888888888888888,
              "#fdca26"
             ],
             [
              1.0,
              "#f0f921"
             ]
            ]
           }
          ],
          "mesh3d": [
           {
            "type": "mesh3d",
            "colorbar": {
             "outlinewidth": 0,
             "ticks": ""
            }
           }
          ],
          "scatter": [
           {
            "marker": {
             "line": {
              "color": "#283442"
             }
            },
            "type": "scatter"
           }
          ],
          "parcoords": [
           {
            "type": "parcoords",
            "line": {
             "colorbar": {
              "outlinewidth": 0,
              "ticks": ""
             }
            }
           }
          ],
          "scatterpolargl": [
           {
            "type": "scatterpolargl",
            "marker": {
             "colorbar": {
              "outlinewidth": 0,
              "ticks": ""
             }
            }
           }
          ],
          "bar": [
           {
            "error_x": {
             "color": "#f2f5fa"
            },
            "error_y": {
             "color": "#f2f5fa"
            },
            "marker": {
             "line": {
              "color": "rgb(17,17,17)",
              "width": 0.5
             },
             "pattern": {
              "fillmode": "overlay",
              "size": 10,
              "solidity": 0.2
             }
            },
            "type": "bar"
           }
          ],
          "scattergeo": [
           {
            "type": "scattergeo",
            "marker": {
             "colorbar": {
              "outlinewidth": 0,
              "ticks": ""
             }
            }
           }
          ],
          "scatterpolar": [
           {
            "type": "scatterpolar",
            "marker": {
             "colorbar": {
              "outlinewidth": 0,
              "ticks": ""
             }
            }
           }
          ],
          "histogram": [
           {
            "marker": {
             "pattern": {
              "fillmode": "overlay",
              "size": 10,
              "solidity": 0.2
             }
            },
            "type": "histogram"
           }
          ],
          "scattergl": [
           {
            "marker": {
             "line": {
              "color": "#283442"
             }
            },
            "type": "scattergl"
           }
          ],
          "scatter3d": [
           {
            "type": "scatter3d",
            "line": {
             "colorbar": {
              "outlinewidth": 0,
              "ticks": ""
             }
            },
            "marker": {
             "colorbar": {
              "outlinewidth": 0,
              "ticks": ""
             }
            }
           }
          ],
          "scattermapbox": [
           {
            "type": "scattermapbox",
            "marker": {
             "colorbar": {
              "outlinewidth": 0,
              "ticks": ""
             }
            }
           }
          ],
          "scatterternary": [
           {
            "type": "scatterternary",
            "marker": {
             "colorbar": {
              "outlinewidth": 0,
              "ticks": ""
             }
            }
           }
          ],
          "scattercarpet": [
           {
            "type": "scattercarpet",
            "marker": {
             "colorbar": {
              "outlinewidth": 0,
              "ticks": ""
             }
            }
           }
          ],
          "carpet": [
           {
            "aaxis": {
             "endlinecolor": "#A2B1C6",
             "gridcolor": "#506784",
             "linecolor": "#506784",
             "minorgridcolor": "#506784",
             "startlinecolor": "#A2B1C6"
            },
            "baxis": {
             "endlinecolor": "#A2B1C6",
             "gridcolor": "#506784",
             "linecolor": "#506784",
             "minorgridcolor": "#506784",
             "startlinecolor": "#A2B1C6"
            },
            "type": "carpet"
           }
          ],
          "table": [
           {
            "cells": {
             "fill": {
              "color": "#506784"
             },
             "line": {
              "color": "rgb(17,17,17)"
             }
            },
            "header": {
             "fill": {
              "color": "#2a3f5f"
             },
             "line": {
              "color": "rgb(17,17,17)"
             }
            },
            "type": "table"
           }
          ],
          "barpolar": [
           {
            "marker": {
             "line": {
              "color": "rgb(17,17,17)",
              "width": 0.5
             },
             "pattern": {
              "fillmode": "overlay",
              "size": 10,
              "solidity": 0.2
             }
            },
            "type": "barpolar"
           }
          ],
          "pie": [
           {
            "automargin": true,
            "type": "pie"
           }
          ]
         },
         "layout": {
          "autotypenumbers": "strict",
          "colorway": [
           "#636efa",
           "#EF553B",
           "#00cc96",
           "#ab63fa",
           "#FFA15A",
           "#19d3f3",
           "#FF6692",
           "#B6E880",
           "#FF97FF",
           "#FECB52"
          ],
          "font": {
           "color": "#f2f5fa"
          },
          "hovermode": "closest",
          "hoverlabel": {
           "align": "left"
          },
          "paper_bgcolor": "rgb(17,17,17)",
          "plot_bgcolor": "rgb(17,17,17)",
          "polar": {
           "bgcolor": "rgb(17,17,17)",
           "angularaxis": {
            "gridcolor": "#506784",
            "linecolor": "#506784",
            "ticks": ""
           },
           "radialaxis": {
            "gridcolor": "#506784",
            "linecolor": "#506784",
            "ticks": ""
           }
          },
          "ternary": {
           "bgcolor": "rgb(17,17,17)",
           "aaxis": {
            "gridcolor": "#506784",
            "linecolor": "#506784",
            "ticks": ""
           },
           "baxis": {
            "gridcolor": "#506784",
            "linecolor": "#506784",
            "ticks": ""
           },
           "caxis": {
            "gridcolor": "#506784",
            "linecolor": "#506784",
            "ticks": ""
           }
          },
          "coloraxis": {
           "colorbar": {
            "outlinewidth": 0,
            "ticks": ""
           }
          },
          "colorscale": {
           "sequential": [
            [
             0.0,
             "#0d0887"
            ],
            [
             0.1111111111111111,
             "#46039f"
            ],
            [
             0.2222222222222222,
             "#7201a8"
            ],
            [
             0.3333333333333333,
             "#9c179e"
            ],
            [
             0.4444444444444444,
             "#bd3786"
            ],
            [
             0.5555555555555556,
             "#d8576b"
            ],
            [
             0.6666666666666666,
             "#ed7953"
            ],
            [
             0.7777777777777778,
             "#fb9f3a"
            ],
            [
             0.8888888888888888,
             "#fdca26"
            ],
            [
             1.0,
             "#f0f921"
            ]
           ],
           "sequentialminus": [
            [
             0.0,
             "#0d0887"
            ],
            [
             0.1111111111111111,
             "#46039f"
            ],
            [
             0.2222222222222222,
             "#7201a8"
            ],
            [
             0.3333333333333333,
             "#9c179e"
            ],
            [
             0.4444444444444444,
             "#bd3786"
            ],
            [
             0.5555555555555556,
             "#d8576b"
            ],
            [
             0.6666666666666666,
             "#ed7953"
            ],
            [
             0.7777777777777778,
             "#fb9f3a"
            ],
            [
             0.8888888888888888,
             "#fdca26"
            ],
            [
             1.0,
             "#f0f921"
            ]
           ],
           "diverging": [
            [
             0,
             "#8e0152"
            ],
            [
             0.1,
             "#c51b7d"
            ],
            [
             0.2,
             "#de77ae"
            ],
            [
             0.3,
             "#f1b6da"
            ],
            [
             0.4,
             "#fde0ef"
            ],
            [
             0.5,
             "#f7f7f7"
            ],
            [
             0.6,
             "#e6f5d0"
            ],
            [
             0.7,
             "#b8e186"
            ],
            [
             0.8,
             "#7fbc41"
            ],
            [
             0.9,
             "#4d9221"
            ],
            [
             1,
             "#276419"
            ]
           ]
          },
          "xaxis": {
           "gridcolor": "#283442",
           "linecolor": "#506784",
           "ticks": "",
           "title": {
            "standoff": 15
           },
           "zerolinecolor": "#283442",
           "automargin": true,
           "zerolinewidth": 2
          },
          "yaxis": {
           "gridcolor": "#283442",
           "linecolor": "#506784",
           "ticks": "",
           "title": {
            "standoff": 15
           },
           "zerolinecolor": "#283442",
           "automargin": true,
           "zerolinewidth": 2
          },
          "scene": {
           "xaxis": {
            "backgroundcolor": "rgb(17,17,17)",
            "gridcolor": "#506784",
            "linecolor": "#506784",
            "showbackground": true,
            "ticks": "",
            "zerolinecolor": "#C8D4E3",
            "gridwidth": 2
           },
           "yaxis": {
            "backgroundcolor": "rgb(17,17,17)",
            "gridcolor": "#506784",
            "linecolor": "#506784",
            "showbackground": true,
            "ticks": "",
            "zerolinecolor": "#C8D4E3",
            "gridwidth": 2
           },
           "zaxis": {
            "backgroundcolor": "rgb(17,17,17)",
            "gridcolor": "#506784",
            "linecolor": "#506784",
            "showbackground": true,
            "ticks": "",
            "zerolinecolor": "#C8D4E3",
            "gridwidth": 2
           }
          },
          "shapedefaults": {
           "line": {
            "color": "#f2f5fa"
           }
          },
          "annotationdefaults": {
           "arrowcolor": "#f2f5fa",
           "arrowhead": 0,
           "arrowwidth": 1
          },
          "geo": {
           "bgcolor": "rgb(17,17,17)",
           "landcolor": "rgb(17,17,17)",
           "subunitcolor": "#506784",
           "showland": true,
           "showlakes": true,
           "lakecolor": "rgb(17,17,17)"
          },
          "title": {
           "x": 0.05
          },
          "updatemenudefaults": {
           "bgcolor": "#506784",
           "borderwidth": 0
          },
          "sliderdefaults": {
           "bgcolor": "#C8D4E3",
           "borderwidth": 1,
           "bordercolor": "rgb(17,17,17)",
           "tickwidth": 0
          },
          "mapbox": {
           "style": "dark"
          }
         }
        },
        "xaxis": {
         "anchor": "y",
         "domain": [
          0.0,
          0.45
         ]
        },
        "yaxis": {
         "anchor": "x",
         "domain": [
          0.0,
          1.0
         ]
        },
        "xaxis2": {
         "anchor": "y2",
         "domain": [
          0.55,
          1.0
         ]
        },
        "yaxis2": {
         "anchor": "x2",
         "domain": [
          0.0,
          1.0
         ]
        },
        "annotations": [
         {
          "font": {
           "size": 16
          },
          "showarrow": false,
          "text": "Confirmed cases for Sweden and Finland",
          "x": 0.225,
          "xanchor": "center",
          "xref": "paper",
          "y": 1.0,
          "yanchor": "bottom",
          "yref": "paper"
         },
         {
          "font": {
           "size": 16
          },
          "showarrow": false,
          "text": "Confirmed deaths for Sweden and Finland",
          "x": 0.775,
          "xanchor": "center",
          "xref": "paper",
          "y": 1.0,
          "yanchor": "bottom",
          "yref": "paper"
         }
        ],
        "title": {
         "text": "Confirmed cases and deaths for Sweden and Finland"
        }
       },
       "config": {
        "plotlyServerURL": "https://plot.ly"
       }
      },
      "text/html": "<div>                            <div id=\"f21dbdc4-7b35-40cc-a316-e6775fe51fd3\" class=\"plotly-graph-div\" style=\"height:525px; width:100%;\"></div>            <script type=\"text/javascript\">                require([\"plotly\"], function(Plotly) {                    window.PLOTLYENV=window.PLOTLYENV || {};                                    if (document.getElementById(\"f21dbdc4-7b35-40cc-a316-e6775fe51fd3\")) {                    Plotly.newPlot(                        \"f21dbdc4-7b35-40cc-a316-e6775fe51fd3\",                        [{\"connectgaps\":true,\"marker\":{\"color\":\"blue\"},\"mode\":\"lines\",\"name\":\"Confirmed cases for Sweden\",\"x\":[\"2020-02-01\",\"2020-02-02\",\"2020-02-03\",\"2020-02-04\",\"2020-02-05\",\"2020-02-06\",\"2020-02-07\",\"2020-02-08\",\"2020-02-09\",\"2020-02-10\",\"2020-02-11\",\"2020-02-12\",\"2020-02-13\",\"2020-02-14\",\"2020-02-15\",\"2020-02-16\",\"2020-02-17\",\"2020-02-18\",\"2020-02-19\",\"2020-02-20\",\"2020-02-21\",\"2020-02-22\",\"2020-02-23\",\"2020-02-24\",\"2020-02-25\",\"2020-02-26\",\"2020-02-27\",\"2020-02-28\",\"2020-02-29\",\"2020-03-01\",\"2020-03-02\",\"2020-03-03\",\"2020-03-04\",\"2020-03-05\",\"2020-03-06\",\"2020-03-07\",\"2020-03-08\",\"2020-03-09\",\"2020-03-10\",\"2020-03-11\",\"2020-03-12\",\"2020-03-13\",\"2020-03-14\",\"2020-03-15\",\"2020-03-16\",\"2020-03-17\",\"2020-03-18\",\"2020-03-19\",\"2020-03-20\",\"2020-03-21\",\"2020-03-22\",\"2020-03-23\",\"2020-03-24\",\"2020-03-25\",\"2020-03-26\",\"2020-03-27\",\"2020-03-28\",\"2020-03-29\",\"2020-03-30\",\"2020-03-31\",\"2020-04-01\",\"2020-04-02\",\"2020-04-03\",\"2020-04-04\",\"2020-04-05\",\"2020-04-06\",\"2020-04-07\",\"2020-04-08\",\"2020-04-09\",\"2020-04-10\",\"2020-04-11\",\"2020-04-12\",\"2020-04-13\",\"2020-04-14\",\"2020-04-15\",\"2020-04-16\",\"2020-04-17\",\"2020-04-18\",\"2020-04-19\",\"2020-04-20\",\"2020-04-21\",\"2020-04-22\",\"2020-04-23\",\"2020-04-24\",\"2020-04-25\",\"2020-04-26\",\"2020-04-27\",\"2020-04-28\",\"2020-04-29\",\"2020-04-30\",\"2020-05-01\",\"2020-05-02\",\"2020-05-03\",\"2020-05-04\",\"2020-05-05\",\"2020-05-06\",\"2020-05-07\",\"2020-05-08\",\"2020-05-09\",\"2020-05-10\",\"2020-05-11\",\"2020-05-12\",\"2020-05-13\",\"2020-05-14\",\"2020-05-15\",\"2020-05-16\",\"2020-05-17\",\"2020-05-18\",\"2020-05-19\",\"2020-05-20\",\"2020-05-21\",\"2020-05-22\",\"2020-05-23\",\"2020-05-24\",\"2020-05-25\",\"2020-05-26\",\"2020-05-27\",\"2020-05-28\",\"2020-05-29\",\"2020-05-30\",\"2020-05-31\",\"2020-06-01\",\"2020-06-02\",\"2020-06-03\",\"2020-06-04\",\"2020-06-05\",\"2020-06-06\",\"2020-06-07\",\"2020-06-08\",\"2020-06-09\",\"2020-06-10\",\"2020-06-11\",\"2020-06-12\",\"2020-06-13\",\"2020-06-14\",\"2020-06-15\",\"2020-06-16\",\"2020-06-17\",\"2020-06-18\",\"2020-06-19\",\"2020-06-20\",\"2020-06-21\",\"2020-06-22\",\"2020-06-23\",\"2020-06-24\",\"2020-06-25\",\"2020-06-26\",\"2020-06-27\",\"2020-06-28\",\"2020-06-29\",\"2020-06-30\",\"2020-07-01\",\"2020-07-02\",\"2020-07-03\",\"2020-07-04\",\"2020-07-05\",\"2020-07-06\",\"2020-07-07\",\"2020-07-08\",\"2020-07-09\",\"2020-07-10\",\"2020-07-11\",\"2020-07-12\",\"2020-07-13\",\"2020-07-14\",\"2020-07-15\",\"2020-07-16\",\"2020-07-17\",\"2020-07-18\",\"2020-07-19\",\"2020-07-20\",\"2020-07-21\",\"2020-07-22\",\"2020-07-23\",\"2020-07-24\",\"2020-07-25\",\"2020-07-26\",\"2020-07-27\",\"2020-07-28\",\"2020-07-29\",\"2020-07-30\",\"2020-07-31\",\"2020-08-01\",\"2020-08-02\",\"2020-08-03\",\"2020-08-04\",\"2020-08-05\",\"2020-08-06\",\"2020-08-07\",\"2020-08-08\",\"2020-08-09\",\"2020-08-10\",\"2020-08-11\",\"2020-08-12\",\"2020-08-13\",\"2020-08-14\",\"2020-08-15\",\"2020-08-16\",\"2020-08-17\",\"2020-08-18\",\"2020-08-19\",\"2020-08-20\",\"2020-08-21\",\"2020-08-22\",\"2020-08-23\",\"2020-08-24\",\"2020-08-25\",\"2020-08-26\",\"2020-08-27\",\"2020-08-28\",\"2020-08-29\",\"2020-08-30\",\"2020-08-31\",\"2020-09-01\",\"2020-09-02\",\"2020-09-03\",\"2020-09-04\",\"2020-09-05\",\"2020-09-06\",\"2020-09-07\",\"2020-09-08\",\"2020-09-09\",\"2020-09-10\",\"2020-09-11\",\"2020-09-12\",\"2020-09-13\",\"2020-09-14\",\"2020-09-15\",\"2020-09-16\",\"2020-09-17\",\"2020-09-18\",\"2020-09-19\",\"2020-09-20\",\"2020-09-21\",\"2020-09-22\",\"2020-09-23\",\"2020-09-24\",\"2020-09-25\",\"2020-09-26\",\"2020-09-27\",\"2020-09-28\",\"2020-09-29\",\"2020-09-30\",\"2020-10-01\",\"2020-10-02\",\"2020-10-03\",\"2020-10-04\",\"2020-10-05\",\"2020-10-06\",\"2020-10-07\",\"2020-10-08\",\"2020-10-09\",\"2020-10-10\",\"2020-10-11\",\"2020-10-12\",\"2020-10-13\",\"2020-10-14\",\"2020-10-15\",\"2020-10-16\",\"2020-10-17\",\"2020-10-18\",\"2020-10-19\",\"2020-10-20\",\"2020-10-21\",\"2020-10-22\",\"2020-10-23\",\"2020-10-24\",\"2020-10-25\",\"2020-10-26\",\"2020-10-27\",\"2020-10-28\",\"2020-10-29\",\"2020-10-30\",\"2020-10-31\",\"2020-11-01\",\"2020-11-02\",\"2020-11-03\",\"2020-11-04\",\"2020-11-05\",\"2020-11-06\",\"2020-11-07\",\"2020-11-08\",\"2020-11-09\",\"2020-11-10\",\"2020-11-11\",\"2020-11-12\",\"2020-11-13\",\"2020-11-14\",\"2020-11-15\",\"2020-11-16\",\"2020-11-17\",\"2020-11-18\",\"2020-11-19\",\"2020-11-20\",\"2020-11-21\",\"2020-11-22\",\"2020-11-23\",\"2020-11-24\",\"2020-11-25\",\"2020-11-26\",\"2020-11-27\",\"2020-11-28\",\"2020-11-29\",\"2020-11-30\",\"2020-12-01\",\"2020-12-02\",\"2020-12-03\",\"2020-12-04\",\"2020-12-05\",\"2020-12-06\",\"2020-12-07\",\"2020-12-08\",\"2020-12-09\",\"2020-12-10\",\"2020-12-11\",\"2020-12-12\",\"2020-12-13\",\"2020-12-14\",\"2020-12-15\",\"2020-12-16\",\"2020-12-17\",\"2020-12-18\",\"2020-12-19\",\"2020-12-20\",\"2020-12-21\",\"2020-12-22\",\"2020-12-23\",\"2020-12-24\",\"2020-12-25\",\"2020-12-26\",\"2020-12-27\",\"2020-12-28\",\"2020-12-29\",\"2020-12-30\",\"2020-12-31\",\"2021-01-01\",\"2021-01-02\",\"2021-01-03\",\"2021-01-04\",\"2021-01-05\",\"2021-01-06\",\"2021-01-07\",\"2021-01-08\",\"2021-01-09\",\"2021-01-10\",\"2021-01-11\",\"2021-01-12\",\"2021-01-13\",\"2021-01-14\",\"2021-01-15\",\"2021-01-16\",\"2021-01-17\",\"2021-01-18\",\"2021-01-19\",\"2021-01-20\",\"2021-01-21\",\"2021-01-22\",\"2021-01-23\",\"2021-01-24\",\"2021-01-25\",\"2021-01-26\",\"2021-01-27\",\"2021-01-28\",\"2021-01-29\",\"2021-01-30\",\"2021-01-31\",\"2021-02-01\",\"2021-02-02\",\"2021-02-03\",\"2021-02-04\",\"2021-02-05\",\"2021-02-06\",\"2021-02-07\",\"2021-02-08\",\"2021-02-09\",\"2021-02-10\",\"2021-02-11\",\"2021-02-12\",\"2021-02-13\",\"2021-02-14\",\"2021-02-15\",\"2021-02-16\",\"2021-02-17\",\"2021-02-18\",\"2021-02-19\",\"2021-02-20\",\"2021-02-21\",\"2021-02-22\",\"2021-02-23\",\"2021-02-24\",\"2021-02-25\",\"2021-02-26\",\"2021-02-27\",\"2021-02-28\",\"2021-03-01\",\"2021-03-02\",\"2021-03-03\",\"2021-03-04\",\"2021-03-05\",\"2021-03-06\",\"2021-03-07\",\"2021-03-08\",\"2021-03-09\",\"2021-03-10\",\"2021-03-11\",\"2021-03-12\",\"2021-03-13\",\"2021-03-14\",\"2021-03-15\",\"2021-03-16\",\"2021-03-17\",\"2021-03-18\",\"2021-03-19\",\"2021-03-20\",\"2021-03-21\",\"2021-03-22\",\"2021-03-23\",\"2021-03-24\",\"2021-03-25\",\"2021-03-26\",\"2021-03-27\",\"2021-03-28\",\"2021-03-29\",\"2021-03-30\",\"2021-03-31\",\"2021-04-01\",\"2021-04-02\",\"2021-04-03\",\"2021-04-04\",\"2021-04-05\",\"2021-04-06\",\"2021-04-07\",\"2021-04-08\",\"2021-04-09\",\"2021-04-10\",\"2021-04-11\",\"2021-04-12\",\"2021-04-13\",\"2021-04-14\",\"2021-04-15\",\"2021-04-16\",\"2021-04-17\",\"2021-04-18\",\"2021-04-19\",\"2021-04-20\",\"2021-04-21\",\"2021-04-22\",\"2021-04-23\",\"2021-04-24\",\"2021-04-25\",\"2021-04-26\",\"2021-04-27\",\"2021-04-28\",\"2021-04-29\",\"2021-04-30\",\"2021-05-01\",\"2021-05-02\",\"2021-05-03\",\"2021-05-04\",\"2021-05-05\",\"2021-05-06\",\"2021-05-07\",\"2021-05-08\",\"2021-05-09\",\"2021-05-10\",\"2021-05-11\",\"2021-05-12\",\"2021-05-13\",\"2021-05-14\",\"2021-05-15\",\"2021-05-16\",\"2021-05-17\",\"2021-05-18\",\"2021-05-19\",\"2021-05-20\",\"2021-05-21\",\"2021-05-22\",\"2021-05-23\",\"2021-05-24\",\"2021-05-25\",\"2021-05-26\",\"2021-05-27\",\"2021-05-28\",\"2021-05-29\",\"2021-05-30\",\"2021-05-31\",\"2021-06-01\",\"2021-06-02\",\"2021-06-03\",\"2021-06-04\",\"2021-06-05\",\"2021-06-06\",\"2021-06-07\",\"2021-06-08\",\"2021-06-09\",\"2021-06-10\",\"2021-06-11\",\"2021-06-12\",\"2021-06-13\",\"2021-06-14\",\"2021-06-15\",\"2021-06-16\",\"2021-06-17\",\"2021-06-18\",\"2021-06-19\",\"2021-06-20\",\"2021-06-21\",\"2021-06-22\",\"2021-06-23\",\"2021-06-24\",\"2021-06-25\",\"2021-06-26\",\"2021-06-27\",\"2021-06-28\",\"2021-06-29\",\"2021-06-30\",\"2021-07-01\",\"2021-07-02\",\"2021-07-03\",\"2021-07-04\",\"2021-07-05\",\"2021-07-06\",\"2021-07-07\",\"2021-07-08\",\"2021-07-09\",\"2021-07-10\",\"2021-07-11\",\"2021-07-12\",\"2021-07-13\",\"2021-07-14\",\"2021-07-15\",\"2021-07-16\",\"2021-07-17\",\"2021-07-18\",\"2021-07-19\",\"2021-07-20\",\"2021-07-21\",\"2021-07-22\",\"2021-07-23\",\"2021-07-24\",\"2021-07-25\",\"2021-07-26\",\"2021-07-27\",\"2021-07-28\",\"2021-07-29\",\"2021-07-30\",\"2021-07-31\",\"2021-08-01\",\"2021-08-02\",\"2021-08-03\",\"2021-08-04\",\"2021-08-05\",\"2021-08-06\",\"2021-08-07\",\"2021-08-08\",\"2021-08-09\",\"2021-08-10\",\"2021-08-11\",\"2021-08-12\",\"2021-08-13\",\"2021-08-14\",\"2021-08-15\",\"2021-08-16\",\"2021-08-17\",\"2021-08-18\",\"2021-08-19\",\"2021-08-20\",\"2021-08-21\",\"2021-08-22\",\"2021-08-23\",\"2021-08-24\",\"2021-08-25\",\"2021-08-26\",\"2021-08-27\",\"2021-08-28\",\"2021-08-29\",\"2021-08-30\",\"2021-08-31\",\"2021-09-01\",\"2021-09-02\",\"2021-09-03\",\"2021-09-04\",\"2021-09-05\",\"2021-09-06\",\"2021-09-07\",\"2021-09-08\",\"2021-09-09\",\"2021-09-10\",\"2021-09-11\",\"2021-09-12\",\"2021-09-13\",\"2021-09-14\",\"2021-09-15\",\"2021-09-16\",\"2021-09-17\",\"2021-09-18\",\"2021-09-19\",\"2021-09-20\",\"2021-09-21\",\"2021-09-22\",\"2021-09-23\",\"2021-09-24\",\"2021-09-25\",\"2021-09-26\",\"2021-09-27\",\"2021-09-28\",\"2021-09-29\",\"2021-09-30\",\"2021-10-01\",\"2021-10-02\",\"2021-10-03\",\"2021-10-04\",\"2021-10-05\",\"2021-10-06\",\"2021-10-07\",\"2021-10-08\",\"2021-10-09\",\"2021-10-10\",\"2021-10-11\",\"2021-10-12\",\"2021-10-13\",\"2021-10-14\",\"2021-10-15\",\"2021-10-16\",\"2021-10-17\",\"2021-10-18\",\"2021-10-19\",\"2021-10-20\",\"2021-10-21\",\"2021-10-22\",\"2021-10-23\",\"2021-10-24\",\"2021-10-25\",\"2021-10-26\",\"2021-10-27\",\"2021-10-28\",\"2021-10-29\",\"2021-10-30\",\"2021-10-31\",\"2021-11-01\",\"2021-11-02\",\"2021-11-03\",\"2021-11-04\",\"2021-11-05\",\"2021-11-06\",\"2021-11-07\",\"2021-11-08\",\"2021-11-09\",\"2021-11-10\",\"2021-11-11\",\"2021-11-12\",\"2021-11-13\",\"2021-11-14\",\"2021-11-15\",\"2021-11-16\",\"2021-11-17\",\"2021-11-18\",\"2021-11-19\",\"2021-11-20\",\"2021-11-21\",\"2021-11-22\",\"2021-11-23\",\"2021-11-24\",\"2021-11-25\",\"2021-11-26\",\"2021-11-27\",\"2021-11-28\",\"2021-11-29\",\"2021-11-30\",\"2021-12-01\",\"2021-12-02\",\"2021-12-03\",\"2021-12-04\",\"2021-12-05\",\"2021-12-06\",\"2021-12-07\",\"2021-12-08\",\"2021-12-09\",\"2021-12-10\",\"2021-12-11\",\"2021-12-12\",\"2021-12-13\",\"2021-12-14\",\"2021-12-15\",\"2021-12-16\",\"2021-12-17\",\"2021-12-18\",\"2021-12-19\",\"2021-12-20\",\"2021-12-21\",\"2021-12-22\",\"2021-12-23\",\"2021-12-24\",\"2021-12-25\",\"2021-12-26\",\"2021-12-27\",\"2021-12-28\",\"2021-12-29\",\"2021-12-30\",\"2021-12-31\",\"2022-01-01\",\"2022-01-02\",\"2022-01-03\",\"2022-01-04\",\"2022-01-05\",\"2022-01-06\",\"2022-01-07\",\"2022-01-08\",\"2022-01-09\",\"2022-01-10\",\"2022-01-11\",\"2022-01-12\",\"2022-01-13\",\"2022-01-14\",\"2022-01-15\",\"2022-01-16\",\"2022-01-17\",\"2022-01-18\",\"2022-01-19\",\"2022-01-20\",\"2022-01-21\",\"2022-01-22\",\"2022-01-23\",\"2022-01-24\",\"2022-01-25\",\"2022-01-26\",\"2022-01-27\",\"2022-01-28\",\"2022-01-29\",\"2022-01-30\",\"2022-01-31\",\"2022-02-01\",\"2022-02-02\",\"2022-02-03\",\"2022-02-04\",\"2022-02-05\",\"2022-02-06\",\"2022-02-07\",\"2022-02-08\",\"2022-02-09\",\"2022-02-10\",\"2022-02-11\",\"2022-02-12\",\"2022-02-13\",\"2022-02-14\",\"2022-02-15\",\"2022-02-16\",\"2022-02-17\",\"2022-02-18\",\"2022-02-19\",\"2022-02-20\",\"2022-02-21\",\"2022-02-22\",\"2022-02-23\",\"2022-02-24\",\"2022-02-25\",\"2022-02-26\",\"2022-02-27\",\"2022-02-28\",\"2022-03-01\",\"2022-03-02\",\"2022-03-03\",\"2022-03-04\",\"2022-03-05\",\"2022-03-06\",\"2022-03-07\",\"2022-03-08\",\"2022-03-09\",\"2022-03-10\",\"2022-03-11\",\"2022-03-12\",\"2022-03-13\",\"2022-03-14\",\"2022-03-15\",\"2022-03-16\",\"2022-03-17\",\"2022-03-18\",\"2022-03-19\",\"2022-03-20\",\"2022-03-21\",\"2022-03-22\",\"2022-03-23\",\"2022-03-24\",\"2022-03-25\",\"2022-03-26\",\"2022-03-27\",\"2022-03-28\",\"2022-03-29\",\"2022-03-30\",\"2022-03-31\",\"2022-04-01\",\"2022-04-02\",\"2022-04-03\",\"2022-04-04\",\"2022-04-05\",\"2022-04-06\",\"2022-04-07\",\"2022-04-08\",\"2022-04-09\",\"2022-04-10\",\"2022-04-11\"],\"y\":[1.0,1.0,1.0,1.0,1.0,1.0,1.0,1.0,1.0,1.0,1.0,1.0,1.0,1.0,1.0,1.0,1.0,1.0,1.0,1.0,1.0,1.0,1.0,1.0,1.0,2.0,3.0,11.0,14.0,14.0,19.0,32.0,62.0,87.0,146.0,179.0,225.0,326.0,424.0,620.0,771.0,923.0,994.0,1063.0,1146.0,1265.0,1410.0,1553.0,1733.0,1868.0,1986.0,2168.0,2398.0,2712.0,2998.0,3363.0,3663.0,3943.0,4359.0,4834.0,5320.0,5874.0,6475.0,6832.0,7172.0,7561.0,8299.0,8954.0,9599.0,10053.0,10448.0,10912.0,11349.0,11828.0,12432.0,13055.0,13743.0,14275.0,14663.0,15124.0,15831.0,16553.0,17311.0,18090.0,18563.0,18863.0,19426.0,20168.0,20966.0,21601.0,22133.0,22432.0,22693.0,23169.0,23826.0,24572.0,25359.0,26059.0,26568.0,26846.0,27301.0,28055.0,28755.0,29415.0,30103.0,30461.0,30720.0,31151.0,31818.0,32626.0,33236.0,33768.0,34171.0,34381.0,34871.0,35617.0,36417.0,37191.0,37964.0,38396.0,38661.0,39309.0,40210.0,41256.0,42295.0,43441.0,44224.0,44686.0,45363.0,46299.0,47736.0,49030.0,50367.0,51409.0,51827.0,52511.0,53729.0,55186.0,56682.0,57895.0,58597.0,58918.0,59718.0,61030.0,62728.0,64009.0,65212.0,65972.0,66392.0,67119.0,67924.0,68608.0,69297.0,69996.0,70366.0,70681.0,70932.0,71210.0,71747.0,72082.0,72459.0,72773.0,72879.0,73049.0,73364.0,73663.0,73936.0,74235.0,74435.0,74545.0,74676.0,74902.0,75199.0,75419.0,75681.0,75819.0,75861.0,75932.0,76215.0,76516.0,76818.0,77076.0,77379.0,77417.0,77582.0,77916.0,78341.0,78719.0,79099.0,79359.0,79432.0,79628.0,80045.0,80489.0,80851.0,81195.0,81421.0,81484.0,81658.0,81972.0,82323.0,82656.0,82954.0,83114.0,83171.0,83353.0,83578.0,83824.0,83958.0,83958.0,83958.0,83958.0,84379.0,84521.0,84532.0,84729.0,84985.0,84985.0,84985.0,85558.0,85707.0,85880.0,86194.0,86505.0,86505.0,86505.0,86505.0,87345.0,87575.0,87885.0,88237.0,88237.0,88237.0,88237.0,89436.0,89756.0,90289.0,90923.0,90923.0,90923.0,90923.0,92466.0,92863.0,93615.0,94283.0,94283.0,94283.0,94283.0,96145.0,96677.0,97532.0,98451.0,98451.0,98451.0,98451.0,100654.0,101332.0,102407.0,103200.0,103200.0,103200.0,103200.0,106380.0,107355.0,108969.0,110594.0,110594.0,110594.0,110594.0,115785.0,117913.0,121167.0,124355.0,124355.0,124355.0,124355.0,134532.0,137730.0,141764.0,146461.0,146461.0,146461.0,146461.0,162240.0,166707.0,171365.0,177355.0,177355.0,177355.0,177355.0,192439.0,196446.0,201055.0,208295.0,208295.0,208295.0,208295.0,225560.0,230514.0,236355.0,243129.0,243129.0,243129.0,243129.0,260758.0,266158.0,272643.0,278912.0,278912.0,278912.0,278912.0,297732.0,304793.0,312728.0,320098.0,320098.0,320098.0,320098.0,341029.0,348585.0,357466.0,367120.0,367120.0,367120.0,367120.0,389439.0,396048.0,396048.0,396048.0,396048.0,396048.0,396048.0,428533.0,437379.0,437379.0,437379.0,437379.0,437379.0,437379.0,469748.0,469748.0,482284.0,489471.0,489471.0,489471.0,489471.0,506866.0,512203.0,518783.0,523486.0,523486.0,523486.0,523486.0,533265.0,537967.0,542952.0,547166.0,547166.0,547166.0,547166.0,556289.0,560472.0,564557.0,566957.0,566957.0,566957.0,566957.0,576606.0,580916.0,584674.0,588062.0,588062.0,588062.0,588062.0,596174.0,600244.0,604577.0,608411.0,608411.0,608411.0,608411.0,617869.0,622102.0,627022.0,631166.0,631166.0,631166.0,631166.0,642099.0,647470.0,652465.0,657309.0,657309.0,657309.0,657309.0,669113.0,675292.0,680130.0,684961.0,684961.0,684961.0,684961.0,695975.0,701892.0,707192.0,712527.0,712527.0,712527.0,712527.0,725289.0,732070.0,738537.0,744272.0,744272.0,744272.0,744272.0,758335.0,765984.0,773690.0,780018.0,780018.0,780018.0,780018.0,796445.0,804886.0,813191.0,813191.0,813191.0,813191.0,813191.0,834993.0,841807.0,849629.0,857401.0,857401.0,857401.0,857401.0,876506.0,885385.0,892480.0,900138.0,900138.0,900138.0,900138.0,916830.0,924340.0,932076.0,938343.0,938343.0,938343.0,938343.0,953254.0,960520.0,967678.0,973604.0,973604.0,973604.0,973604.0,988554.0,995595.0,1002121.0,1007792.0,1007792.0,1007792.0,1007792.0,1021604.0,1027934.0,1027934.0,1037126.0,1037126.0,1037126.0,1037126.0,1047143.0,1051762.0,1055173.0,1058341.0,1058341.0,1058341.0,1058341.0,1064375.0,1067107.0,1068473.0,1068473.0,1068473.0,1068473.0,1068473.0,1068473.0,1068473.0,1076993.0,1078062.0,1078062.0,1078062.0,1078062.0,1080733.0,1081898.0,1082729.0,1083456.0,1083456.0,1083456.0,1083456.0,1084636.0,1084636.0,1084636.0,1084636.0,1084636.0,1084636.0,1084636.0,1088014.0,1088518.0,1088896.0,1088896.0,1088896.0,1088896.0,1088896.0,1089743.0,1089990.0,1090553.0,1090880.0,1090880.0,1090880.0,1090880.0,1091730.0,1092083.0,1092308.0,1092540.0,1092540.0,1092540.0,1092540.0,1093209.0,1093576.0,1093923.0,1094287.0,1094287.0,1094287.0,1094287.0,1095279.0,1095758.0,1096341.0,1096799.0,1096799.0,1096799.0,1096799.0,1098154.0,1098795.0,1099414.0,1100040.0,1100040.0,1100040.0,1100040.0,1101900.0,1102829.0,1103693.0,1104538.0,1104538.0,1104538.0,1104538.0,1106821.0,1108057.0,1109112.0,1110147.0,1110147.0,1110147.0,1110147.0,1112958.0,1114278.0,1115566.0,1116584.0,1116584.0,1116584.0,1116584.0,1119358.0,1120628.0,1122139.0,1123413.0,1123413.0,1123413.0,1123413.0,1126813.0,1127917.0,1129131.0,1130525.0,1130525.0,1130525.0,1130525.0,1133449.0,1135160.0,1136535.0,1138017.0,1138017.0,1138017.0,1138017.0,1141673.0,1142770.0,1143973.0,1144982.0,1144982.0,1144982.0,1144982.0,1146968.0,1147879.0,1148641.0,1149407.0,1149407.0,1149407.0,1149407.0,1151173.0,1152027.0,1152886.0,1153655.0,1153655.0,1153655.0,1153655.0,1155534.0,1156248.0,1157083.0,1157822.0,1157822.0,1157822.0,1157822.0,1159560.0,1160465.0,1161264.0,1161933.0,1161933.0,1161933.0,1161933.0,1163595.0,1164402.0,1165194.0,1165996.0,1165996.0,1165996.0,1165996.0,1168271.0,1169530.0,1170422.0,1171512.0,1171512.0,1171512.0,1171512.0,1174273.0,1175425.0,1176269.0,1177094.0,1177094.0,1177094.0,1177094.0,1179192.0,1180518.0,1181532.0,1182471.0,1182471.0,1182471.0,1182471.0,1185093.0,1186387.0,1187607.0,1188735.0,1188735.0,1188735.0,1188735.0,1192560.0,1194636.0,1196688.0,1198848.0,1198848.0,1198848.0,1198848.0,1204859.0,1207498.0,1209935.0,1212145.0,1212145.0,1212145.0,1212145.0,1219557.0,1222892.0,1226055.0,1229217.0,1229217.0,1229217.0,1229217.0,1238689.0,1242733.0,1246755.0,1250885.0,1250885.0,1250885.0,1250885.0,1263566.0,1268254.0,1273313.0,1273313.0,1273313.0,1273313.0,1273313.0,1294560.0,1303663.0,1314784.0,1314784.0,1314784.0,1314784.0,1314784.0,1357753.0,1375267.0,1375267.0,1416650.0,1416650.0,1416650.0,1416650.0,1487291.0,1509230.0,1534797.0,1560363.0,1560363.0,1560363.0,1560363.0,1657611.0,1700336.0,1741710.0,1784005.0,1784005.0,1784005.0,1784005.0,1922990.0,1973485.0,2015276.0,2070456.0,2070456.0,2070456.0,2070456.0,2183910.0,2223115.0,2259656.0,2287785.0,2287785.0,2287785.0,2287785.0,2354455.0,2372637.0,2389605.0,2397330.0,2397330.0,2397330.0,2397330.0,2409081.0,2414463.0,2418560.0,2422856.0,2422856.0,2422856.0,2422856.0,2431365.0,2434783.0,2437850.0,2441142.0,2441142.0,2441142.0,2441142.0,2448182.0,2451464.0,2453936.0,2455966.0,2455966.0,2455966.0,2455966.0,2460783.0,2462952.0,2465099.0,2466577.0,2466577.0,2466577.0,2466577.0,2470254.0,2472068.0,2473707.0,2475687.0,2475687.0,2475687.0,2475687.0,2475687.0,2475687.0,2481736.0,2481736.0,2481736.0,2481736.0,2481736.0,2481736.0,2481736.0,2487852.0,2487852.0,2487852.0,2487852.0,2487852.0,2487852.0,2487852.0,2491980.0,2491980.0,2491980.0,2491980.0,2491980.0],\"type\":\"scatter\",\"xaxis\":\"x\",\"yaxis\":\"y\"},{\"connectgaps\":true,\"marker\":{\"color\":\"blue\"},\"mode\":\"lines\",\"name\":\"Confirmed deaths for Sweden\",\"x\":[\"2020-02-01\",\"2020-02-02\",\"2020-02-03\",\"2020-02-04\",\"2020-02-05\",\"2020-02-06\",\"2020-02-07\",\"2020-02-08\",\"2020-02-09\",\"2020-02-10\",\"2020-02-11\",\"2020-02-12\",\"2020-02-13\",\"2020-02-14\",\"2020-02-15\",\"2020-02-16\",\"2020-02-17\",\"2020-02-18\",\"2020-02-19\",\"2020-02-20\",\"2020-02-21\",\"2020-02-22\",\"2020-02-23\",\"2020-02-24\",\"2020-02-25\",\"2020-02-26\",\"2020-02-27\",\"2020-02-28\",\"2020-02-29\",\"2020-03-01\",\"2020-03-02\",\"2020-03-03\",\"2020-03-04\",\"2020-03-05\",\"2020-03-06\",\"2020-03-07\",\"2020-03-08\",\"2020-03-09\",\"2020-03-10\",\"2020-03-11\",\"2020-03-12\",\"2020-03-13\",\"2020-03-14\",\"2020-03-15\",\"2020-03-16\",\"2020-03-17\",\"2020-03-18\",\"2020-03-19\",\"2020-03-20\",\"2020-03-21\",\"2020-03-22\",\"2020-03-23\",\"2020-03-24\",\"2020-03-25\",\"2020-03-26\",\"2020-03-27\",\"2020-03-28\",\"2020-03-29\",\"2020-03-30\",\"2020-03-31\",\"2020-04-01\",\"2020-04-02\",\"2020-04-03\",\"2020-04-04\",\"2020-04-05\",\"2020-04-06\",\"2020-04-07\",\"2020-04-08\",\"2020-04-09\",\"2020-04-10\",\"2020-04-11\",\"2020-04-12\",\"2020-04-13\",\"2020-04-14\",\"2020-04-15\",\"2020-04-16\",\"2020-04-17\",\"2020-04-18\",\"2020-04-19\",\"2020-04-20\",\"2020-04-21\",\"2020-04-22\",\"2020-04-23\",\"2020-04-24\",\"2020-04-25\",\"2020-04-26\",\"2020-04-27\",\"2020-04-28\",\"2020-04-29\",\"2020-04-30\",\"2020-05-01\",\"2020-05-02\",\"2020-05-03\",\"2020-05-04\",\"2020-05-05\",\"2020-05-06\",\"2020-05-07\",\"2020-05-08\",\"2020-05-09\",\"2020-05-10\",\"2020-05-11\",\"2020-05-12\",\"2020-05-13\",\"2020-05-14\",\"2020-05-15\",\"2020-05-16\",\"2020-05-17\",\"2020-05-18\",\"2020-05-19\",\"2020-05-20\",\"2020-05-21\",\"2020-05-22\",\"2020-05-23\",\"2020-05-24\",\"2020-05-25\",\"2020-05-26\",\"2020-05-27\",\"2020-05-28\",\"2020-05-29\",\"2020-05-30\",\"2020-05-31\",\"2020-06-01\",\"2020-06-02\",\"2020-06-03\",\"2020-06-04\",\"2020-06-05\",\"2020-06-06\",\"2020-06-07\",\"2020-06-08\",\"2020-06-09\",\"2020-06-10\",\"2020-06-11\",\"2020-06-12\",\"2020-06-13\",\"2020-06-14\",\"2020-06-15\",\"2020-06-16\",\"2020-06-17\",\"2020-06-18\",\"2020-06-19\",\"2020-06-20\",\"2020-06-21\",\"2020-06-22\",\"2020-06-23\",\"2020-06-24\",\"2020-06-25\",\"2020-06-26\",\"2020-06-27\",\"2020-06-28\",\"2020-06-29\",\"2020-06-30\",\"2020-07-01\",\"2020-07-02\",\"2020-07-03\",\"2020-07-04\",\"2020-07-05\",\"2020-07-06\",\"2020-07-07\",\"2020-07-08\",\"2020-07-09\",\"2020-07-10\",\"2020-07-11\",\"2020-07-12\",\"2020-07-13\",\"2020-07-14\",\"2020-07-15\",\"2020-07-16\",\"2020-07-17\",\"2020-07-18\",\"2020-07-19\",\"2020-07-20\",\"2020-07-21\",\"2020-07-22\",\"2020-07-23\",\"2020-07-24\",\"2020-07-25\",\"2020-07-26\",\"2020-07-27\",\"2020-07-28\",\"2020-07-29\",\"2020-07-30\",\"2020-07-31\",\"2020-08-01\",\"2020-08-02\",\"2020-08-03\",\"2020-08-04\",\"2020-08-05\",\"2020-08-06\",\"2020-08-07\",\"2020-08-08\",\"2020-08-09\",\"2020-08-10\",\"2020-08-11\",\"2020-08-12\",\"2020-08-13\",\"2020-08-14\",\"2020-08-15\",\"2020-08-16\",\"2020-08-17\",\"2020-08-18\",\"2020-08-19\",\"2020-08-20\",\"2020-08-21\",\"2020-08-22\",\"2020-08-23\",\"2020-08-24\",\"2020-08-25\",\"2020-08-26\",\"2020-08-27\",\"2020-08-28\",\"2020-08-29\",\"2020-08-30\",\"2020-08-31\",\"2020-09-01\",\"2020-09-02\",\"2020-09-03\",\"2020-09-04\",\"2020-09-05\",\"2020-09-06\",\"2020-09-07\",\"2020-09-08\",\"2020-09-09\",\"2020-09-10\",\"2020-09-11\",\"2020-09-12\",\"2020-09-13\",\"2020-09-14\",\"2020-09-15\",\"2020-09-16\",\"2020-09-17\",\"2020-09-18\",\"2020-09-19\",\"2020-09-20\",\"2020-09-21\",\"2020-09-22\",\"2020-09-23\",\"2020-09-24\",\"2020-09-25\",\"2020-09-26\",\"2020-09-27\",\"2020-09-28\",\"2020-09-29\",\"2020-09-30\",\"2020-10-01\",\"2020-10-02\",\"2020-10-03\",\"2020-10-04\",\"2020-10-05\",\"2020-10-06\",\"2020-10-07\",\"2020-10-08\",\"2020-10-09\",\"2020-10-10\",\"2020-10-11\",\"2020-10-12\",\"2020-10-13\",\"2020-10-14\",\"2020-10-15\",\"2020-10-16\",\"2020-10-17\",\"2020-10-18\",\"2020-10-19\",\"2020-10-20\",\"2020-10-21\",\"2020-10-22\",\"2020-10-23\",\"2020-10-24\",\"2020-10-25\",\"2020-10-26\",\"2020-10-27\",\"2020-10-28\",\"2020-10-29\",\"2020-10-30\",\"2020-10-31\",\"2020-11-01\",\"2020-11-02\",\"2020-11-03\",\"2020-11-04\",\"2020-11-05\",\"2020-11-06\",\"2020-11-07\",\"2020-11-08\",\"2020-11-09\",\"2020-11-10\",\"2020-11-11\",\"2020-11-12\",\"2020-11-13\",\"2020-11-14\",\"2020-11-15\",\"2020-11-16\",\"2020-11-17\",\"2020-11-18\",\"2020-11-19\",\"2020-11-20\",\"2020-11-21\",\"2020-11-22\",\"2020-11-23\",\"2020-11-24\",\"2020-11-25\",\"2020-11-26\",\"2020-11-27\",\"2020-11-28\",\"2020-11-29\",\"2020-11-30\",\"2020-12-01\",\"2020-12-02\",\"2020-12-03\",\"2020-12-04\",\"2020-12-05\",\"2020-12-06\",\"2020-12-07\",\"2020-12-08\",\"2020-12-09\",\"2020-12-10\",\"2020-12-11\",\"2020-12-12\",\"2020-12-13\",\"2020-12-14\",\"2020-12-15\",\"2020-12-16\",\"2020-12-17\",\"2020-12-18\",\"2020-12-19\",\"2020-12-20\",\"2020-12-21\",\"2020-12-22\",\"2020-12-23\",\"2020-12-24\",\"2020-12-25\",\"2020-12-26\",\"2020-12-27\",\"2020-12-28\",\"2020-12-29\",\"2020-12-30\",\"2020-12-31\",\"2021-01-01\",\"2021-01-02\",\"2021-01-03\",\"2021-01-04\",\"2021-01-05\",\"2021-01-06\",\"2021-01-07\",\"2021-01-08\",\"2021-01-09\",\"2021-01-10\",\"2021-01-11\",\"2021-01-12\",\"2021-01-13\",\"2021-01-14\",\"2021-01-15\",\"2021-01-16\",\"2021-01-17\",\"2021-01-18\",\"2021-01-19\",\"2021-01-20\",\"2021-01-21\",\"2021-01-22\",\"2021-01-23\",\"2021-01-24\",\"2021-01-25\",\"2021-01-26\",\"2021-01-27\",\"2021-01-28\",\"2021-01-29\",\"2021-01-30\",\"2021-01-31\",\"2021-02-01\",\"2021-02-02\",\"2021-02-03\",\"2021-02-04\",\"2021-02-05\",\"2021-02-06\",\"2021-02-07\",\"2021-02-08\",\"2021-02-09\",\"2021-02-10\",\"2021-02-11\",\"2021-02-12\",\"2021-02-13\",\"2021-02-14\",\"2021-02-15\",\"2021-02-16\",\"2021-02-17\",\"2021-02-18\",\"2021-02-19\",\"2021-02-20\",\"2021-02-21\",\"2021-02-22\",\"2021-02-23\",\"2021-02-24\",\"2021-02-25\",\"2021-02-26\",\"2021-02-27\",\"2021-02-28\",\"2021-03-01\",\"2021-03-02\",\"2021-03-03\",\"2021-03-04\",\"2021-03-05\",\"2021-03-06\",\"2021-03-07\",\"2021-03-08\",\"2021-03-09\",\"2021-03-10\",\"2021-03-11\",\"2021-03-12\",\"2021-03-13\",\"2021-03-14\",\"2021-03-15\",\"2021-03-16\",\"2021-03-17\",\"2021-03-18\",\"2021-03-19\",\"2021-03-20\",\"2021-03-21\",\"2021-03-22\",\"2021-03-23\",\"2021-03-24\",\"2021-03-25\",\"2021-03-26\",\"2021-03-27\",\"2021-03-28\",\"2021-03-29\",\"2021-03-30\",\"2021-03-31\",\"2021-04-01\",\"2021-04-02\",\"2021-04-03\",\"2021-04-04\",\"2021-04-05\",\"2021-04-06\",\"2021-04-07\",\"2021-04-08\",\"2021-04-09\",\"2021-04-10\",\"2021-04-11\",\"2021-04-12\",\"2021-04-13\",\"2021-04-14\",\"2021-04-15\",\"2021-04-16\",\"2021-04-17\",\"2021-04-18\",\"2021-04-19\",\"2021-04-20\",\"2021-04-21\",\"2021-04-22\",\"2021-04-23\",\"2021-04-24\",\"2021-04-25\",\"2021-04-26\",\"2021-04-27\",\"2021-04-28\",\"2021-04-29\",\"2021-04-30\",\"2021-05-01\",\"2021-05-02\",\"2021-05-03\",\"2021-05-04\",\"2021-05-05\",\"2021-05-06\",\"2021-05-07\",\"2021-05-08\",\"2021-05-09\",\"2021-05-10\",\"2021-05-11\",\"2021-05-12\",\"2021-05-13\",\"2021-05-14\",\"2021-05-15\",\"2021-05-16\",\"2021-05-17\",\"2021-05-18\",\"2021-05-19\",\"2021-05-20\",\"2021-05-21\",\"2021-05-22\",\"2021-05-23\",\"2021-05-24\",\"2021-05-25\",\"2021-05-26\",\"2021-05-27\",\"2021-05-28\",\"2021-05-29\",\"2021-05-30\",\"2021-05-31\",\"2021-06-01\",\"2021-06-02\",\"2021-06-03\",\"2021-06-04\",\"2021-06-05\",\"2021-06-06\",\"2021-06-07\",\"2021-06-08\",\"2021-06-09\",\"2021-06-10\",\"2021-06-11\",\"2021-06-12\",\"2021-06-13\",\"2021-06-14\",\"2021-06-15\",\"2021-06-16\",\"2021-06-17\",\"2021-06-18\",\"2021-06-19\",\"2021-06-20\",\"2021-06-21\",\"2021-06-22\",\"2021-06-23\",\"2021-06-24\",\"2021-06-25\",\"2021-06-26\",\"2021-06-27\",\"2021-06-28\",\"2021-06-29\",\"2021-06-30\",\"2021-07-01\",\"2021-07-02\",\"2021-07-03\",\"2021-07-04\",\"2021-07-05\",\"2021-07-06\",\"2021-07-07\",\"2021-07-08\",\"2021-07-09\",\"2021-07-10\",\"2021-07-11\",\"2021-07-12\",\"2021-07-13\",\"2021-07-14\",\"2021-07-15\",\"2021-07-16\",\"2021-07-17\",\"2021-07-18\",\"2021-07-19\",\"2021-07-20\",\"2021-07-21\",\"2021-07-22\",\"2021-07-23\",\"2021-07-24\",\"2021-07-25\",\"2021-07-26\",\"2021-07-27\",\"2021-07-28\",\"2021-07-29\",\"2021-07-30\",\"2021-07-31\",\"2021-08-01\",\"2021-08-02\",\"2021-08-03\",\"2021-08-04\",\"2021-08-05\",\"2021-08-06\",\"2021-08-07\",\"2021-08-08\",\"2021-08-09\",\"2021-08-10\",\"2021-08-11\",\"2021-08-12\",\"2021-08-13\",\"2021-08-14\",\"2021-08-15\",\"2021-08-16\",\"2021-08-17\",\"2021-08-18\",\"2021-08-19\",\"2021-08-20\",\"2021-08-21\",\"2021-08-22\",\"2021-08-23\",\"2021-08-24\",\"2021-08-25\",\"2021-08-26\",\"2021-08-27\",\"2021-08-28\",\"2021-08-29\",\"2021-08-30\",\"2021-08-31\",\"2021-09-01\",\"2021-09-02\",\"2021-09-03\",\"2021-09-04\",\"2021-09-05\",\"2021-09-06\",\"2021-09-07\",\"2021-09-08\",\"2021-09-09\",\"2021-09-10\",\"2021-09-11\",\"2021-09-12\",\"2021-09-13\",\"2021-09-14\",\"2021-09-15\",\"2021-09-16\",\"2021-09-17\",\"2021-09-18\",\"2021-09-19\",\"2021-09-20\",\"2021-09-21\",\"2021-09-22\",\"2021-09-23\",\"2021-09-24\",\"2021-09-25\",\"2021-09-26\",\"2021-09-27\",\"2021-09-28\",\"2021-09-29\",\"2021-09-30\",\"2021-10-01\",\"2021-10-02\",\"2021-10-03\",\"2021-10-04\",\"2021-10-05\",\"2021-10-06\",\"2021-10-07\",\"2021-10-08\",\"2021-10-09\",\"2021-10-10\",\"2021-10-11\",\"2021-10-12\",\"2021-10-13\",\"2021-10-14\",\"2021-10-15\",\"2021-10-16\",\"2021-10-17\",\"2021-10-18\",\"2021-10-19\",\"2021-10-20\",\"2021-10-21\",\"2021-10-22\",\"2021-10-23\",\"2021-10-24\",\"2021-10-25\",\"2021-10-26\",\"2021-10-27\",\"2021-10-28\",\"2021-10-29\",\"2021-10-30\",\"2021-10-31\",\"2021-11-01\",\"2021-11-02\",\"2021-11-03\",\"2021-11-04\",\"2021-11-05\",\"2021-11-06\",\"2021-11-07\",\"2021-11-08\",\"2021-11-09\",\"2021-11-10\",\"2021-11-11\",\"2021-11-12\",\"2021-11-13\",\"2021-11-14\",\"2021-11-15\",\"2021-11-16\",\"2021-11-17\",\"2021-11-18\",\"2021-11-19\",\"2021-11-20\",\"2021-11-21\",\"2021-11-22\",\"2021-11-23\",\"2021-11-24\",\"2021-11-25\",\"2021-11-26\",\"2021-11-27\",\"2021-11-28\",\"2021-11-29\",\"2021-11-30\",\"2021-12-01\",\"2021-12-02\",\"2021-12-03\",\"2021-12-04\",\"2021-12-05\",\"2021-12-06\",\"2021-12-07\",\"2021-12-08\",\"2021-12-09\",\"2021-12-10\",\"2021-12-11\",\"2021-12-12\",\"2021-12-13\",\"2021-12-14\",\"2021-12-15\",\"2021-12-16\",\"2021-12-17\",\"2021-12-18\",\"2021-12-19\",\"2021-12-20\",\"2021-12-21\",\"2021-12-22\",\"2021-12-23\",\"2021-12-24\",\"2021-12-25\",\"2021-12-26\",\"2021-12-27\",\"2021-12-28\",\"2021-12-29\",\"2021-12-30\",\"2021-12-31\",\"2022-01-01\",\"2022-01-02\",\"2022-01-03\",\"2022-01-04\",\"2022-01-05\",\"2022-01-06\",\"2022-01-07\",\"2022-01-08\",\"2022-01-09\",\"2022-01-10\",\"2022-01-11\",\"2022-01-12\",\"2022-01-13\",\"2022-01-14\",\"2022-01-15\",\"2022-01-16\",\"2022-01-17\",\"2022-01-18\",\"2022-01-19\",\"2022-01-20\",\"2022-01-21\",\"2022-01-22\",\"2022-01-23\",\"2022-01-24\",\"2022-01-25\",\"2022-01-26\",\"2022-01-27\",\"2022-01-28\",\"2022-01-29\",\"2022-01-30\",\"2022-01-31\",\"2022-02-01\",\"2022-02-02\",\"2022-02-03\",\"2022-02-04\",\"2022-02-05\",\"2022-02-06\",\"2022-02-07\",\"2022-02-08\",\"2022-02-09\",\"2022-02-10\",\"2022-02-11\",\"2022-02-12\",\"2022-02-13\",\"2022-02-14\",\"2022-02-15\",\"2022-02-16\",\"2022-02-17\",\"2022-02-18\",\"2022-02-19\",\"2022-02-20\",\"2022-02-21\",\"2022-02-22\",\"2022-02-23\",\"2022-02-24\",\"2022-02-25\",\"2022-02-26\",\"2022-02-27\",\"2022-02-28\",\"2022-03-01\",\"2022-03-02\",\"2022-03-03\",\"2022-03-04\",\"2022-03-05\",\"2022-03-06\",\"2022-03-07\",\"2022-03-08\",\"2022-03-09\",\"2022-03-10\",\"2022-03-11\",\"2022-03-12\",\"2022-03-13\",\"2022-03-14\",\"2022-03-15\",\"2022-03-16\",\"2022-03-17\",\"2022-03-18\",\"2022-03-19\",\"2022-03-20\",\"2022-03-21\",\"2022-03-22\",\"2022-03-23\",\"2022-03-24\",\"2022-03-25\",\"2022-03-26\",\"2022-03-27\",\"2022-03-28\",\"2022-03-29\",\"2022-03-30\",\"2022-03-31\",\"2022-04-01\",\"2022-04-02\",\"2022-04-03\",\"2022-04-04\",\"2022-04-05\",\"2022-04-06\",\"2022-04-07\",\"2022-04-08\",\"2022-04-09\",\"2022-04-10\",\"2022-04-11\"],\"y\":[null,null,null,null,null,null,null,null,null,null,null,null,null,null,null,null,null,null,null,null,null,null,null,null,null,null,null,null,null,null,null,null,null,null,null,null,null,null,1.0,1.0,2.0,3.0,5.0,7.0,8.0,14.0,21.0,30.0,38.0,49.0,60.0,81.0,103.0,134.0,166.0,201.0,239.0,284.0,332.0,385.0,455.0,535.0,605.0,373.0,401.0,477.0,591.0,687.0,793.0,870.0,887.0,899.0,919.0,1033.0,1203.0,1333.0,1400.0,1511.0,1540.0,1580.0,1765.0,1937.0,2021.0,2152.0,2192.0,2194.0,2274.0,2355.0,2462.0,2586.0,2653.0,2669.0,2679.0,2769.0,2854.0,2941.0,3040.0,3175.0,3220.0,3225.0,3256.0,3313.0,3460.0,3529.0,3646.0,3674.0,3679.0,3698.0,3743.0,3831.0,3871.0,3925.0,3992.0,3998.0,4029.0,4125.0,4220.0,4266.0,4350.0,4395.0,4395.0,4403.0,4468.0,4542.0,4562.0,4639.0,4656.0,4659.0,4694.0,4717.0,4795.0,4814.0,4854.0,4874.0,4874.0,4891.0,4939.0,5041.0,5053.0,5053.0,5053.0,5053.0,5053.0,5161.0,5209.0,5230.0,5280.0,5280.0,5280.0,5280.0,5333.0,5370.0,5411.0,5420.0,5420.0,5420.0,5420.0,5447.0,5482.0,5500.0,5526.0,5526.0,5526.0,5526.0,5545.0,5572.0,5593.0,5619.0,5619.0,5619.0,5619.0,5646.0,5667.0,5676.0,5697.0,5697.0,5697.0,5697.0,5702.0,5730.0,5739.0,5743.0,5743.0,5743.0,5743.0,5747.0,5760.0,5766.0,5763.0,5763.0,5763.0,5763.0,5770.0,5774.0,5776.0,5783.0,5783.0,5783.0,5783.0,5790.0,5802.0,5805.0,5810.0,5810.0,5810.0,5810.0,5814.0,5817.0,5820.0,5821.0,5821.0,5821.0,5821.0,5813.0,5820.0,5832.0,5835.0,5835.0,5835.0,5835.0,5838.0,5842.0,5843.0,5846.0,5846.0,5846.0,5846.0,5846.0,5860.0,5864.0,5865.0,5865.0,5865.0,5865.0,5865.0,5876.0,5878.0,5880.0,5880.0,5880.0,5880.0,5880.0,5893.0,5893.0,5895.0,5895.0,5895.0,5895.0,5895.0,5892.0,5892.0,5894.0,5894.0,5894.0,5894.0,5894.0,5907.0,5910.0,5918.0,5918.0,5918.0,5918.0,5918.0,5929.0,5930.0,5933.0,5933.0,5933.0,5933.0,5933.0,5927.0,5934.0,5938.0,5938.0,5938.0,5938.0,5938.0,5997.0,6002.0,6022.0,6022.0,6022.0,6022.0,6022.0,6082.0,6122.0,6164.0,6164.0,6164.0,6164.0,6164.0,6321.0,6340.0,6406.0,6406.0,6406.0,6406.0,6406.0,6555.0,6622.0,6681.0,6681.0,6681.0,6681.0,6681.0,6972.0,7007.0,7067.0,7067.0,7067.0,7067.0,7067.0,7296.0,7354.0,7514.0,7514.0,7514.0,7514.0,7514.0,7802.0,7893.0,7993.0,7993.0,7993.0,7993.0,7993.0,8279.0,8279.0,8279.0,8279.0,8279.0,8279.0,8279.0,8727.0,8727.0,8727.0,8727.0,8727.0,8727.0,8965.0,8965.0,9262.0,9433.0,9433.0,9433.0,9433.0,9433.0,9834.0,10185.0,10323.0,10323.0,10323.0,10323.0,10323.0,10797.0,10921.0,11005.0,11005.0,11005.0,11005.0,11247.0,11425.0,11520.0,11591.0,11591.0,11591.0,11591.0,11815.0,11939.0,12028.0,12115.0,12115.0,12115.0,12115.0,12188.0,12326.0,12370.0,12428.0,12428.0,12428.0,12428.0,12487.0,12569.0,12598.0,12649.0,12649.0,12649.0,12649.0,12713.0,12793.0,12798.0,12826.0,12826.0,12826.0,12826.0,12882.0,12964.0,12977.0,13003.0,13003.0,13003.0,13003.0,13042.0,13088.0,13111.0,13146.0,13146.0,13146.0,13146.0,13172.0,13228.0,13236.0,13262.0,13262.0,13262.0,13262.0,13315.0,13357.0,13373.0,13402.0,13402.0,13402.0,13402.0,13430.0,13465.0,13498.0,13498.0,13498.0,13498.0,13498.0,13533.0,13578.0,13595.0,13621.0,13621.0,13621.0,13621.0,13660.0,13720.0,13761.0,13788.0,13788.0,13788.0,13788.0,13825.0,13863.0,13882.0,13923.0,13923.0,13923.0,13923.0,13968.0,14000.0,14002.0,14048.0,14048.0,14048.0,14048.0,14091.0,14151.0,14158.0,14173.0,14173.0,14173.0,14173.0,14217.0,14267.0,14267.0,14275.0,14275.0,14275.0,14275.0,14301.0,14349.0,14351.0,14366.0,14366.0,14366.0,14366.0,14396.0,14436.0,14451.0,14451.0,14451.0,14451.0,14451.0,14451.0,14451.0,14512.0,14523.0,14523.0,14523.0,14523.0,14546.0,14562.0,14565.0,14574.0,14574.0,14574.0,14574.0,14574.0,14574.0,14574.0,14574.0,14574.0,14574.0,14574.0,14608.0,14616.0,14619.0,14619.0,14619.0,14619.0,14619.0,14626.0,14629.0,14630.0,14631.0,14631.0,14631.0,14631.0,14633.0,14639.0,14642.0,14643.0,14643.0,14643.0,14643.0,14645.0,14642.0,14643.0,14646.0,14646.0,14646.0,14646.0,14650.0,14651.0,14651.0,14651.0,14651.0,14651.0,14651.0,14655.0,14655.0,14656.0,14655.0,14655.0,14655.0,14655.0,14657.0,14657.0,14657.0,14657.0,14657.0,14657.0,14657.0,14658.0,14658.0,14658.0,14658.0,14658.0,14658.0,14658.0,14659.0,14662.0,14664.0,14668.0,14668.0,14668.0,14668.0,14670.0,14674.0,14682.0,14685.0,14685.0,14685.0,14685.0,14692.0,14692.0,14692.0,14692.0,14692.0,14692.0,14692.0,14699.0,14700.0,14702.0,14703.0,14703.0,14703.0,14703.0,14729.0,14740.0,14753.0,14775.0,14775.0,14775.0,14775.0,14790.0,14809.0,14813.0,14821.0,14821.0,14821.0,14821.0,14850.0,14856.0,14864.0,14868.0,14868.0,14868.0,14868.0,14876.0,14889.0,14904.0,14905.0,14905.0,14905.0,14905.0,14920.0,14922.0,14926.0,14956.0,14956.0,14956.0,14956.0,14963.0,14985.0,14986.0,14993.0,14993.0,14993.0,14993.0,15002.0,15016.0,15018.0,15025.0,15025.0,15025.0,15025.0,15040.0,15043.0,15050.0,15057.0,15057.0,15057.0,15057.0,15065.0,15076.0,15078.0,15082.0,15082.0,15082.0,15082.0,15094.0,15107.0,15109.0,15110.0,15110.0,15110.0,15110.0,15126.0,15142.0,15142.0,15145.0,15145.0,15145.0,15145.0,15151.0,15161.0,15164.0,15170.0,15170.0,15170.0,15170.0,15177.0,15184.0,15185.0,15191.0,15191.0,15191.0,15191.0,15204.0,15221.0,15226.0,15231.0,15231.0,15231.0,15231.0,15242.0,15259.0,15265.0,15265.0,15265.0,15265.0,15265.0,15286.0,15297.0,15310.0,15310.0,15310.0,15310.0,15310.0,15330.0,15369.0,15369.0,15377.0,15377.0,15377.0,15377.0,15431.0,15462.0,15482.0,15513.0,15513.0,15513.0,15513.0,15558.0,15625.0,15631.0,15674.0,15674.0,15674.0,15674.0,15693.0,15768.0,15778.0,15855.0,15855.0,15855.0,15855.0,15961.0,16028.0,16100.0,16180.0,16180.0,16180.0,16180.0,16244.0,16358.0,16395.0,16501.0,16501.0,16501.0,16501.0,16579.0,16716.0,16768.0,16852.0,16852.0,16852.0,16852.0,16933.0,17064.0,17083.0,17142.0,17142.0,17142.0,17142.0,17242.0,17355.0,17425.0,17512.0,17512.0,17512.0,17512.0,17549.0,17693.0,17749.0,17798.0,17798.0,17798.0,17798.0,17874.0,17937.0,17994.0,18053.0,18053.0,18053.0,18053.0,18053.0,18053.0,18189.0,18189.0,18189.0,18189.0,18189.0,18189.0,18189.0,18365.0,18365.0,18365.0,18365.0,18365.0,18365.0,18365.0,18506.0,18506.0,18506.0,18506.0,18506.0],\"type\":\"scatter\",\"xaxis\":\"x2\",\"yaxis\":\"y2\"},{\"connectgaps\":true,\"marker\":{\"color\":\"green\"},\"mode\":\"lines\",\"name\":\"Confirmed cases for Finland\",\"x\":[\"2020-02-01\",\"2020-02-02\",\"2020-02-03\",\"2020-02-04\",\"2020-02-05\",\"2020-02-06\",\"2020-02-07\",\"2020-02-08\",\"2020-02-09\",\"2020-02-10\",\"2020-02-11\",\"2020-02-12\",\"2020-02-13\",\"2020-02-14\",\"2020-02-15\",\"2020-02-16\",\"2020-02-17\",\"2020-02-18\",\"2020-02-19\",\"2020-02-20\",\"2020-02-21\",\"2020-02-22\",\"2020-02-23\",\"2020-02-24\",\"2020-02-25\",\"2020-02-26\",\"2020-02-27\",\"2020-02-28\",\"2020-02-29\",\"2020-03-01\",\"2020-03-02\",\"2020-03-03\",\"2020-03-04\",\"2020-03-05\",\"2020-03-06\",\"2020-03-07\",\"2020-03-08\",\"2020-03-09\",\"2020-03-10\",\"2020-03-11\",\"2020-03-12\",\"2020-03-13\",\"2020-03-14\",\"2020-03-15\",\"2020-03-16\",\"2020-03-17\",\"2020-03-18\",\"2020-03-19\",\"2020-03-20\",\"2020-03-21\",\"2020-03-22\",\"2020-03-23\",\"2020-03-24\",\"2020-03-25\",\"2020-03-26\",\"2020-03-27\",\"2020-03-28\",\"2020-03-29\",\"2020-03-30\",\"2020-03-31\",\"2020-04-01\",\"2020-04-02\",\"2020-04-03\",\"2020-04-04\",\"2020-04-05\",\"2020-04-06\",\"2020-04-07\",\"2020-04-08\",\"2020-04-09\",\"2020-04-10\",\"2020-04-11\",\"2020-04-12\",\"2020-04-13\",\"2020-04-14\",\"2020-04-15\",\"2020-04-16\",\"2020-04-17\",\"2020-04-18\",\"2020-04-19\",\"2020-04-20\",\"2020-04-21\",\"2020-04-22\",\"2020-04-23\",\"2020-04-24\",\"2020-04-25\",\"2020-04-26\",\"2020-04-27\",\"2020-04-28\",\"2020-04-29\",\"2020-04-30\",\"2020-05-01\",\"2020-05-02\",\"2020-05-03\",\"2020-05-04\",\"2020-05-05\",\"2020-05-06\",\"2020-05-07\",\"2020-05-08\",\"2020-05-09\",\"2020-05-10\",\"2020-05-11\",\"2020-05-12\",\"2020-05-13\",\"2020-05-14\",\"2020-05-15\",\"2020-05-16\",\"2020-05-17\",\"2020-05-18\",\"2020-05-19\",\"2020-05-20\",\"2020-05-21\",\"2020-05-22\",\"2020-05-23\",\"2020-05-24\",\"2020-05-25\",\"2020-05-26\",\"2020-05-27\",\"2020-05-28\",\"2020-05-29\",\"2020-05-30\",\"2020-05-31\",\"2020-06-01\",\"2020-06-02\",\"2020-06-03\",\"2020-06-04\",\"2020-06-05\",\"2020-06-06\",\"2020-06-07\",\"2020-06-08\",\"2020-06-09\",\"2020-06-10\",\"2020-06-11\",\"2020-06-12\",\"2020-06-13\",\"2020-06-14\",\"2020-06-15\",\"2020-06-16\",\"2020-06-17\",\"2020-06-18\",\"2020-06-19\",\"2020-06-20\",\"2020-06-21\",\"2020-06-22\",\"2020-06-23\",\"2020-06-24\",\"2020-06-25\",\"2020-06-26\",\"2020-06-27\",\"2020-06-28\",\"2020-06-29\",\"2020-06-30\",\"2020-07-01\",\"2020-07-02\",\"2020-07-03\",\"2020-07-04\",\"2020-07-05\",\"2020-07-06\",\"2020-07-07\",\"2020-07-08\",\"2020-07-09\",\"2020-07-10\",\"2020-07-11\",\"2020-07-12\",\"2020-07-13\",\"2020-07-14\",\"2020-07-15\",\"2020-07-16\",\"2020-07-17\",\"2020-07-18\",\"2020-07-19\",\"2020-07-20\",\"2020-07-21\",\"2020-07-22\",\"2020-07-23\",\"2020-07-24\",\"2020-07-25\",\"2020-07-26\",\"2020-07-27\",\"2020-07-28\",\"2020-07-29\",\"2020-07-30\",\"2020-07-31\",\"2020-08-01\",\"2020-08-02\",\"2020-08-03\",\"2020-08-04\",\"2020-08-05\",\"2020-08-06\",\"2020-08-07\",\"2020-08-08\",\"2020-08-09\",\"2020-08-10\",\"2020-08-11\",\"2020-08-12\",\"2020-08-13\",\"2020-08-14\",\"2020-08-15\",\"2020-08-16\",\"2020-08-17\",\"2020-08-18\",\"2020-08-19\",\"2020-08-20\",\"2020-08-21\",\"2020-08-22\",\"2020-08-23\",\"2020-08-24\",\"2020-08-25\",\"2020-08-26\",\"2020-08-27\",\"2020-08-28\",\"2020-08-29\",\"2020-08-30\",\"2020-08-31\",\"2020-09-01\",\"2020-09-02\",\"2020-09-03\",\"2020-09-04\",\"2020-09-05\",\"2020-09-06\",\"2020-09-07\",\"2020-09-08\",\"2020-09-09\",\"2020-09-10\",\"2020-09-11\",\"2020-09-12\",\"2020-09-13\",\"2020-09-14\",\"2020-09-15\",\"2020-09-16\",\"2020-09-17\",\"2020-09-18\",\"2020-09-19\",\"2020-09-20\",\"2020-09-21\",\"2020-09-22\",\"2020-09-23\",\"2020-09-24\",\"2020-09-25\",\"2020-09-26\",\"2020-09-27\",\"2020-09-28\",\"2020-09-29\",\"2020-09-30\",\"2020-10-01\",\"2020-10-02\",\"2020-10-03\",\"2020-10-04\",\"2020-10-05\",\"2020-10-06\",\"2020-10-07\",\"2020-10-08\",\"2020-10-09\",\"2020-10-10\",\"2020-10-11\",\"2020-10-12\",\"2020-10-13\",\"2020-10-14\",\"2020-10-15\",\"2020-10-16\",\"2020-10-17\",\"2020-10-18\",\"2020-10-19\",\"2020-10-20\",\"2020-10-21\",\"2020-10-22\",\"2020-10-23\",\"2020-10-24\",\"2020-10-25\",\"2020-10-26\",\"2020-10-27\",\"2020-10-28\",\"2020-10-29\",\"2020-10-30\",\"2020-10-31\",\"2020-11-01\",\"2020-11-02\",\"2020-11-03\",\"2020-11-04\",\"2020-11-05\",\"2020-11-06\",\"2020-11-07\",\"2020-11-08\",\"2020-11-09\",\"2020-11-10\",\"2020-11-11\",\"2020-11-12\",\"2020-11-13\",\"2020-11-14\",\"2020-11-15\",\"2020-11-16\",\"2020-11-17\",\"2020-11-18\",\"2020-11-19\",\"2020-11-20\",\"2020-11-21\",\"2020-11-22\",\"2020-11-23\",\"2020-11-24\",\"2020-11-25\",\"2020-11-26\",\"2020-11-27\",\"2020-11-28\",\"2020-11-29\",\"2020-11-30\",\"2020-12-01\",\"2020-12-02\",\"2020-12-03\",\"2020-12-04\",\"2020-12-05\",\"2020-12-06\",\"2020-12-07\",\"2020-12-08\",\"2020-12-09\",\"2020-12-10\",\"2020-12-11\",\"2020-12-12\",\"2020-12-13\",\"2020-12-14\",\"2020-12-15\",\"2020-12-16\",\"2020-12-17\",\"2020-12-18\",\"2020-12-19\",\"2020-12-20\",\"2020-12-21\",\"2020-12-22\",\"2020-12-23\",\"2020-12-24\",\"2020-12-25\",\"2020-12-26\",\"2020-12-27\",\"2020-12-28\",\"2020-12-29\",\"2020-12-30\",\"2020-12-31\",\"2021-01-01\",\"2021-01-02\",\"2021-01-03\",\"2021-01-04\",\"2021-01-05\",\"2021-01-06\",\"2021-01-07\",\"2021-01-08\",\"2021-01-09\",\"2021-01-10\",\"2021-01-11\",\"2021-01-12\",\"2021-01-13\",\"2021-01-14\",\"2021-01-15\",\"2021-01-16\",\"2021-01-17\",\"2021-01-18\",\"2021-01-19\",\"2021-01-20\",\"2021-01-21\",\"2021-01-22\",\"2021-01-23\",\"2021-01-24\",\"2021-01-25\",\"2021-01-26\",\"2021-01-27\",\"2021-01-28\",\"2021-01-29\",\"2021-01-30\",\"2021-01-31\",\"2021-02-01\",\"2021-02-02\",\"2021-02-03\",\"2021-02-04\",\"2021-02-05\",\"2021-02-06\",\"2021-02-07\",\"2021-02-08\",\"2021-02-09\",\"2021-02-10\",\"2021-02-11\",\"2021-02-12\",\"2021-02-13\",\"2021-02-14\",\"2021-02-15\",\"2021-02-16\",\"2021-02-17\",\"2021-02-18\",\"2021-02-19\",\"2021-02-20\",\"2021-02-21\",\"2021-02-22\",\"2021-02-23\",\"2021-02-24\",\"2021-02-25\",\"2021-02-26\",\"2021-02-27\",\"2021-02-28\",\"2021-03-01\",\"2021-03-02\",\"2021-03-03\",\"2021-03-04\",\"2021-03-05\",\"2021-03-06\",\"2021-03-07\",\"2021-03-08\",\"2021-03-09\",\"2021-03-10\",\"2021-03-11\",\"2021-03-12\",\"2021-03-13\",\"2021-03-14\",\"2021-03-15\",\"2021-03-16\",\"2021-03-17\",\"2021-03-18\",\"2021-03-19\",\"2021-03-20\",\"2021-03-21\",\"2021-03-22\",\"2021-03-23\",\"2021-03-24\",\"2021-03-25\",\"2021-03-26\",\"2021-03-27\",\"2021-03-28\",\"2021-03-29\",\"2021-03-30\",\"2021-03-31\",\"2021-04-01\",\"2021-04-02\",\"2021-04-03\",\"2021-04-04\",\"2021-04-05\",\"2021-04-06\",\"2021-04-07\",\"2021-04-08\",\"2021-04-09\",\"2021-04-10\",\"2021-04-11\",\"2021-04-12\",\"2021-04-13\",\"2021-04-14\",\"2021-04-15\",\"2021-04-16\",\"2021-04-17\",\"2021-04-18\",\"2021-04-19\",\"2021-04-20\",\"2021-04-21\",\"2021-04-22\",\"2021-04-23\",\"2021-04-24\",\"2021-04-25\",\"2021-04-26\",\"2021-04-27\",\"2021-04-28\",\"2021-04-29\",\"2021-04-30\",\"2021-05-01\",\"2021-05-02\",\"2021-05-03\",\"2021-05-04\",\"2021-05-05\",\"2021-05-06\",\"2021-05-07\",\"2021-05-08\",\"2021-05-09\",\"2021-05-10\",\"2021-05-11\",\"2021-05-12\",\"2021-05-13\",\"2021-05-14\",\"2021-05-15\",\"2021-05-16\",\"2021-05-17\",\"2021-05-18\",\"2021-05-19\",\"2021-05-20\",\"2021-05-21\",\"2021-05-22\",\"2021-05-23\",\"2021-05-24\",\"2021-05-25\",\"2021-05-26\",\"2021-05-27\",\"2021-05-28\",\"2021-05-29\",\"2021-05-30\",\"2021-05-31\",\"2021-06-01\",\"2021-06-02\",\"2021-06-03\",\"2021-06-04\",\"2021-06-05\",\"2021-06-06\",\"2021-06-07\",\"2021-06-08\",\"2021-06-09\",\"2021-06-10\",\"2021-06-11\",\"2021-06-12\",\"2021-06-13\",\"2021-06-14\",\"2021-06-15\",\"2021-06-16\",\"2021-06-17\",\"2021-06-18\",\"2021-06-19\",\"2021-06-20\",\"2021-06-21\",\"2021-06-22\",\"2021-06-23\",\"2021-06-24\",\"2021-06-25\",\"2021-06-26\",\"2021-06-27\",\"2021-06-28\",\"2021-06-29\",\"2021-06-30\",\"2021-07-01\",\"2021-07-02\",\"2021-07-03\",\"2021-07-04\",\"2021-07-05\",\"2021-07-06\",\"2021-07-07\",\"2021-07-08\",\"2021-07-09\",\"2021-07-10\",\"2021-07-11\",\"2021-07-12\",\"2021-07-13\",\"2021-07-14\",\"2021-07-15\",\"2021-07-16\",\"2021-07-17\",\"2021-07-18\",\"2021-07-19\",\"2021-07-20\",\"2021-07-21\",\"2021-07-22\",\"2021-07-23\",\"2021-07-24\",\"2021-07-25\",\"2021-07-26\",\"2021-07-27\",\"2021-07-28\",\"2021-07-29\",\"2021-07-30\",\"2021-07-31\",\"2021-08-01\",\"2021-08-02\",\"2021-08-03\",\"2021-08-04\",\"2021-08-05\",\"2021-08-06\",\"2021-08-07\",\"2021-08-08\",\"2021-08-09\",\"2021-08-10\",\"2021-08-11\",\"2021-08-12\",\"2021-08-13\",\"2021-08-14\",\"2021-08-15\",\"2021-08-16\",\"2021-08-17\",\"2021-08-18\",\"2021-08-19\",\"2021-08-20\",\"2021-08-21\",\"2021-08-22\",\"2021-08-23\",\"2021-08-24\",\"2021-08-25\",\"2021-08-26\",\"2021-08-27\",\"2021-08-28\",\"2021-08-29\",\"2021-08-30\",\"2021-08-31\",\"2021-09-01\",\"2021-09-02\",\"2021-09-03\",\"2021-09-04\",\"2021-09-05\",\"2021-09-06\",\"2021-09-07\",\"2021-09-08\",\"2021-09-09\",\"2021-09-10\",\"2021-09-11\",\"2021-09-12\",\"2021-09-13\",\"2021-09-14\",\"2021-09-15\",\"2021-09-16\",\"2021-09-17\",\"2021-09-18\",\"2021-09-19\",\"2021-09-20\",\"2021-09-21\",\"2021-09-22\",\"2021-09-23\",\"2021-09-24\",\"2021-09-25\",\"2021-09-26\",\"2021-09-27\",\"2021-09-28\",\"2021-09-29\",\"2021-09-30\",\"2021-10-01\",\"2021-10-02\",\"2021-10-03\",\"2021-10-04\",\"2021-10-05\",\"2021-10-06\",\"2021-10-07\",\"2021-10-08\",\"2021-10-09\",\"2021-10-10\",\"2021-10-11\",\"2021-10-12\",\"2021-10-13\",\"2021-10-14\",\"2021-10-15\",\"2021-10-16\",\"2021-10-17\",\"2021-10-18\",\"2021-10-19\",\"2021-10-20\",\"2021-10-21\",\"2021-10-22\",\"2021-10-23\",\"2021-10-24\",\"2021-10-25\",\"2021-10-26\",\"2021-10-27\",\"2021-10-28\",\"2021-10-29\",\"2021-10-30\",\"2021-10-31\",\"2021-11-01\",\"2021-11-02\",\"2021-11-03\",\"2021-11-04\",\"2021-11-05\",\"2021-11-06\",\"2021-11-07\",\"2021-11-08\",\"2021-11-09\",\"2021-11-10\",\"2021-11-11\",\"2021-11-12\",\"2021-11-13\",\"2021-11-14\",\"2021-11-15\",\"2021-11-16\",\"2021-11-17\",\"2021-11-18\",\"2021-11-19\",\"2021-11-20\",\"2021-11-21\",\"2021-11-22\",\"2021-11-23\",\"2021-11-24\",\"2021-11-25\",\"2021-11-26\",\"2021-11-27\",\"2021-11-28\",\"2021-11-29\",\"2021-11-30\",\"2021-12-01\",\"2021-12-02\",\"2021-12-03\",\"2021-12-04\",\"2021-12-05\",\"2021-12-06\",\"2021-12-07\",\"2021-12-08\",\"2021-12-09\",\"2021-12-10\",\"2021-12-11\",\"2021-12-12\",\"2021-12-13\",\"2021-12-14\",\"2021-12-15\",\"2021-12-16\",\"2021-12-17\",\"2021-12-18\",\"2021-12-19\",\"2021-12-20\",\"2021-12-21\",\"2021-12-22\",\"2021-12-23\",\"2021-12-24\",\"2021-12-25\",\"2021-12-26\",\"2021-12-27\",\"2021-12-28\",\"2021-12-29\",\"2021-12-30\",\"2021-12-31\",\"2022-01-01\",\"2022-01-02\",\"2022-01-03\",\"2022-01-04\",\"2022-01-05\",\"2022-01-06\",\"2022-01-07\",\"2022-01-08\",\"2022-01-09\",\"2022-01-10\",\"2022-01-11\",\"2022-01-12\",\"2022-01-13\",\"2022-01-14\",\"2022-01-15\",\"2022-01-16\",\"2022-01-17\",\"2022-01-18\",\"2022-01-19\",\"2022-01-20\",\"2022-01-21\",\"2022-01-22\",\"2022-01-23\",\"2022-01-24\",\"2022-01-25\",\"2022-01-26\",\"2022-01-27\",\"2022-01-28\",\"2022-01-29\",\"2022-01-30\",\"2022-01-31\",\"2022-02-01\",\"2022-02-02\",\"2022-02-03\",\"2022-02-04\",\"2022-02-05\",\"2022-02-06\",\"2022-02-07\",\"2022-02-08\",\"2022-02-09\",\"2022-02-10\",\"2022-02-11\",\"2022-02-12\",\"2022-02-13\",\"2022-02-14\",\"2022-02-15\",\"2022-02-16\",\"2022-02-17\",\"2022-02-18\",\"2022-02-19\",\"2022-02-20\",\"2022-02-21\",\"2022-02-22\",\"2022-02-23\",\"2022-02-24\",\"2022-02-25\",\"2022-02-26\",\"2022-02-27\",\"2022-02-28\",\"2022-03-01\",\"2022-03-02\",\"2022-03-03\",\"2022-03-04\",\"2022-03-05\",\"2022-03-06\",\"2022-03-07\",\"2022-03-08\",\"2022-03-09\",\"2022-03-10\",\"2022-03-11\",\"2022-03-12\",\"2022-03-13\",\"2022-03-14\",\"2022-03-15\",\"2022-03-16\",\"2022-03-17\",\"2022-03-18\",\"2022-03-19\",\"2022-03-20\",\"2022-03-21\",\"2022-03-22\",\"2022-03-23\",\"2022-03-24\",\"2022-03-25\",\"2022-03-26\",\"2022-03-27\",\"2022-03-28\",\"2022-03-29\",\"2022-03-30\",\"2022-03-31\",\"2022-04-01\",\"2022-04-02\",\"2022-04-03\",\"2022-04-04\",\"2022-04-05\",\"2022-04-06\",\"2022-04-07\",\"2022-04-08\",\"2022-04-09\",\"2022-04-10\",\"2022-04-11\"],\"y\":[1.0,1.0,1.0,1.0,1.0,1.0,1.0,1.0,1.0,1.0,1.0,1.0,1.0,2.0,2.0,2.0,2.0,2.0,2.0,2.0,2.0,2.0,2.0,2.0,2.0,3.0,3.0,3.0,4.0,4.0,5.0,8.0,9.0,10.0,10.0,14.0,20.0,21.0,28.0,35.0,44.0,61.0,115.0,191.0,251.0,279.0,308.0,361.0,413.0,460.0,550.0,649.0,736.0,823.0,901.0,985.0,1084.0,1188.0,1301.0,1396.0,1473.0,1543.0,1672.0,1797.0,1946.0,2107.0,2306.0,2387.0,2509.0,2718.0,2918.0,3056.0,3214.0,3285.0,3360.0,3440.0,3557.0,3732.0,3862.0,3982.0,4107.0,4163.0,4230.0,4373.0,4485.0,4609.0,4725.0,4817.0,4893.0,4966.0,5089.0,5228.0,5336.0,5422.0,5470.0,5528.0,5589.0,5722.0,5847.0,5942.0,6050.0,6131.0,6178.0,6206.0,6298.0,6365.0,6443.0,6493.0,6548.0,6573.0,6602.0,6647.0,6688.0,6731.0,6753.0,6785.0,6803.0,6823.0,6868.0,6901.0,6913.0,6943.0,6964.0,6974.0,6986.0,7003.0,7018.0,7043.0,7055.0,7068.0,7081.0,7085.0,7095.0,7103.0,7110.0,7119.0,7132.0,7134.0,7139.0,7155.0,7163.0,7167.0,7175.0,7175.0,7177.0,7190.0,7195.0,7200.0,7217.0,7231.0,7234.0,7236.0,7243.0,7259.0,7269.0,7271.0,7278.0,7284.0,7286.0,7289.0,7297.0,7300.0,7309.0,7317.0,7323.0,7323.0,7327.0,7333.0,7338.0,7343.0,7352.0,7358.0,7365.0,7370.0,7382.0,7390.0,7401.0,7404.0,7414.0,7418.0,7426.0,7438.0,7447.0,7459.0,7467.0,7485.0,7500.0,7510.0,7545.0,7567.0,7596.0,7618.0,7635.0,7644.0,7679.0,7694.0,7722.0,7749.0,7770.0,7797.0,7811.0,7854.0,7881.0,7920.0,7967.0,7994.0,8019.0,8035.0,8046.0,8063.0,8078.0,8098.0,8130.0,8165.0,8184.0,8202.0,8250.0,8279.0,8305.0,8341.0,8383.0,8405.0,8438.0,8483.0,8540.0,8595.0,8649.0,8707.0,8747.0,8792.0,8851.0,8904.0,8962.0,9047.0,9124.0,9188.0,9262.0,9382.0,9492.0,9610.0,9708.0,9836.0,9910.0,9981.0,10105.0,10239.0,10407.0,10598.0,10785.0,10963.0,11111.0,11402.0,11703.0,12009.0,12268.0,12494.0,12605.0,12737.0,12993.0,13192.0,13394.0,13585.0,13780.0,13884.0,14013.0,14256.0,14423.0,14611.0,14834.0,15028.0,15135.0,15259.0,15514.0,15748.0,15988.0,16224.0,16444.0,16565.0,16716.0,17003.0,17244.0,17458.0,17676.0,17872.0,18000.0,18132.0,18405.0,18611.0,18906.0,19190.0,19458.0,19603.0,19783.0,20176.0,20564.0,20941.0,21419.0,21847.0,22117.0,22384.0,22888.0,23359.0,23978.0,24488.0,24944.0,25228.0,25521.0,26117.0,26557.0,27052.0,27530.0,28003.0,28253.0,28536.0,29123.0,29601.0,30063.0,30470.0,30917.0,31166.0,31442.0,31905.0,32265.0,32617.0,32942.0,33336.0,33527.0,33771.0,34146.0,34478.0,34755.0,34893.0,35050.0,35233.0,35424.0,35859.0,36167.0,36422.0,36676.0,36804.0,37009.0,37178.0,37575.0,37837.0,38045.0,38377.0,38629.0,38822.0,39010.0,39396.0,39625.0,39883.0,40131.0,40397.0,40568.0,40766.0,41213.0,41555.0,41961.0,42338.0,42699.0,42867.0,43114.0,43719.0,44116.0,44498.0,44933.0,45312.0,45546.0,45820.0,46353.0,46749.0,47190.0,47562.0,47928.0,48165.0,48429.0,48890.0,49263.0,49646.0,50007.0,50424.0,50703.0,50984.0,51601.0,52114.0,52667.0,53281.0,53853.0,54171.0,54526.0,55149.0,55774.0,56373.0,57002.0,57690.0,58095.0,58517.0,59388.0,60144.0,60877.0,61515.0,62145.0,62578.0,62974.0,63808.0,64579.0,65401.0,66181.0,66989.0,67484.0,67919.0,68811.0,69578.0,70321.0,71060.0,71805.0,72209.0,72629.0,73397.0,74100.0,74795.0,75401.0,76089.0,76441.0,76816.0,77471.0,78043.0,78593.0,79079.0,79440.0,79764.0,80086.0,80446.0,80990.0,81416.0,81823.0,82175.0,82402.0,82642.0,83041.0,83364.0,83708.0,83982.0,84247.0,84419.0,84575.0,84861.0,85147.0,85380.0,85636.0,85891.0,86045.0,86185.0,86427.0,86656.0,86930.0,87131.0,87328.0,87437.0,87572.0,87888.0,88094.0,88359.0,88598.0,88812.0,88946.0,89076.0,89333.0,89548.0,89804.0,89961.0,90210.0,90374.0,90508.0,90792.0,91009.0,91240.0,91457.0,91625.0,91733.0,91826.0,92014.0,92167.0,92310.0,92437.0,92572.0,92636.0,92715.0,92866.0,92987.0,93106.0,93217.0,93319.0,93383.0,93443.0,93582.0,93683.0,93764.0,93837.0,93907.0,93953.0,94001.0,94094.0,94172.0,94236.0,94327.0,94408.0,94465.0,94545.0,94657.0,94767.0,94911.0,95073.0,95268.0,95399.0,95518.0,95748.0,96009.0,96205.0,96407.0,96574.0,96706.0,96814.0,97057.0,97317.0,97609.0,97893.0,98201.0,98350.0,98510.0,98840.0,99182.0,99564.0,99946.0,100301.0,100507.0,100756.0,101176.0,101600.0,102068.0,102555.0,103033.0,103334.0,103685.0,104455.0,105180.0,105990.0,106762.0,107458.0,107866.0,108343.0,109236.0,110076.0,110860.0,111736.0,112421.0,112906.0,113443.0,114479.0,115305.0,116228.0,117017.0,117757.0,118183.0,118628.0,119396.0,120137.0,120845.0,121515.0,122170.0,122568.0,123024.0,123706.0,124315.0,125014.0,125624.0,126328.0,126767.0,127231.0,127975.0,128625.0,129273.0,129923.0,130443.0,130779.0,131125.0,131706.0,132228.0,132710.0,133169.0,133665.0,133994.0,134277.0,134810.0,135290.0,135744.0,136180.0,136569.0,136809.0,137094.0,137583.0,138072.0,138556.0,139036.0,139460.0,139759.0,140114.0,140798.0,141441.0,142110.0,142728.0,143259.0,143614.0,143997.0,144740.0,145469.0,146215.0,146826.0,147422.0,147847.0,148246.0,148937.0,149547.0,150185.0,150743.0,151305.0,151649.0,151968.0,152629.0,153179.0,153695.0,154318.0,154898.0,155272.0,155661.0,156454.0,157134.0,157774.0,158364.0,159019.0,159424.0,159863.0,160836.0,161591.0,162362.0,163164.0,164006.0,164520.0,165028.0,166150.0,166983.0,167951.0,168885.0,169831.0,170449.0,171020.0,172272.0,173471.0,174641.0,175856.0,177130.0,177838.0,178513.0,179935.0,181273.0,182528.0,183804.0,185104.0,185898.0,186688.0,188390.0,189817.0,191261.0,192729.0,194258.0,195230.0,196233.0,197310.0,199235.0,200968.0,202676.0,204479.0,205603.0,206872.0,209228.0,211061.0,213160.0,215150.0,217322.0,218936.0,220690.0,223730.0,226899.0,230436.0,234340.0,236615.0,239288.0,242588.0,249246.0,256119.0,263504.0,270829.0,277700.0,281702.0,286679.0,296204.0,306188.0,315915.0,323246.0,332270.0,338070.0,344711.0,355258.0,364470.0,373398.0,381673.0,389770.0,395472.0,401722.0,411849.0,421013.0,429525.0,437573.0,444869.0,449237.0,453833.0,461001.0,464394.0,470665.0,475431.0,475431.0,475431.0,489870.0,493114.0,501152.0,507940.0,514892.0,514892.0,514892.0,534790.0,542262.0,546782.0,559587.0,569973.0,569973.0,569973.0,582383.0,586809.0,592765.0,600718.0,605046.0,605046.0,605046.0,622717.0,625463.0,629727.0,637658.0,637729.0,637729.0,637729.0,637757.0,657443.0,658559.0,664588.0,671773.0,671773.0,671773.0,694142.0,694142.0,703052.0,713103.0,734262.0,734262.0,734262.0,761110.0,767220.0,778617.0,782912.0,786312.0,786312.0,786312.0,812017.0,812224.0,821536.0,834038.0,844713.0,844713.0,844713.0,859477.0,864815.0,874135.0,883676.0,889626.0,889626.0,889626.0,901336.0,907786.0,913476.0,920692.0,920692.0,920692.0,920692.0,920692.0],\"type\":\"scatter\",\"xaxis\":\"x\",\"yaxis\":\"y\"},{\"connectgaps\":true,\"marker\":{\"color\":\"green\"},\"mode\":\"lines\",\"name\":\"Confirmed deaths for Finland\",\"x\":[\"2020-02-01\",\"2020-02-02\",\"2020-02-03\",\"2020-02-04\",\"2020-02-05\",\"2020-02-06\",\"2020-02-07\",\"2020-02-08\",\"2020-02-09\",\"2020-02-10\",\"2020-02-11\",\"2020-02-12\",\"2020-02-13\",\"2020-02-14\",\"2020-02-15\",\"2020-02-16\",\"2020-02-17\",\"2020-02-18\",\"2020-02-19\",\"2020-02-20\",\"2020-02-21\",\"2020-02-22\",\"2020-02-23\",\"2020-02-24\",\"2020-02-25\",\"2020-02-26\",\"2020-02-27\",\"2020-02-28\",\"2020-02-29\",\"2020-03-01\",\"2020-03-02\",\"2020-03-03\",\"2020-03-04\",\"2020-03-05\",\"2020-03-06\",\"2020-03-07\",\"2020-03-08\",\"2020-03-09\",\"2020-03-10\",\"2020-03-11\",\"2020-03-12\",\"2020-03-13\",\"2020-03-14\",\"2020-03-15\",\"2020-03-16\",\"2020-03-17\",\"2020-03-18\",\"2020-03-19\",\"2020-03-20\",\"2020-03-21\",\"2020-03-22\",\"2020-03-23\",\"2020-03-24\",\"2020-03-25\",\"2020-03-26\",\"2020-03-27\",\"2020-03-28\",\"2020-03-29\",\"2020-03-30\",\"2020-03-31\",\"2020-04-01\",\"2020-04-02\",\"2020-04-03\",\"2020-04-04\",\"2020-04-05\",\"2020-04-06\",\"2020-04-07\",\"2020-04-08\",\"2020-04-09\",\"2020-04-10\",\"2020-04-11\",\"2020-04-12\",\"2020-04-13\",\"2020-04-14\",\"2020-04-15\",\"2020-04-16\",\"2020-04-17\",\"2020-04-18\",\"2020-04-19\",\"2020-04-20\",\"2020-04-21\",\"2020-04-22\",\"2020-04-23\",\"2020-04-24\",\"2020-04-25\",\"2020-04-26\",\"2020-04-27\",\"2020-04-28\",\"2020-04-29\",\"2020-04-30\",\"2020-05-01\",\"2020-05-02\",\"2020-05-03\",\"2020-05-04\",\"2020-05-05\",\"2020-05-06\",\"2020-05-07\",\"2020-05-08\",\"2020-05-09\",\"2020-05-10\",\"2020-05-11\",\"2020-05-12\",\"2020-05-13\",\"2020-05-14\",\"2020-05-15\",\"2020-05-16\",\"2020-05-17\",\"2020-05-18\",\"2020-05-19\",\"2020-05-20\",\"2020-05-21\",\"2020-05-22\",\"2020-05-23\",\"2020-05-24\",\"2020-05-25\",\"2020-05-26\",\"2020-05-27\",\"2020-05-28\",\"2020-05-29\",\"2020-05-30\",\"2020-05-31\",\"2020-06-01\",\"2020-06-02\",\"2020-06-03\",\"2020-06-04\",\"2020-06-05\",\"2020-06-06\",\"2020-06-07\",\"2020-06-08\",\"2020-06-09\",\"2020-06-10\",\"2020-06-11\",\"2020-06-12\",\"2020-06-13\",\"2020-06-14\",\"2020-06-15\",\"2020-06-16\",\"2020-06-17\",\"2020-06-18\",\"2020-06-19\",\"2020-06-20\",\"2020-06-21\",\"2020-06-22\",\"2020-06-23\",\"2020-06-24\",\"2020-06-25\",\"2020-06-26\",\"2020-06-27\",\"2020-06-28\",\"2020-06-29\",\"2020-06-30\",\"2020-07-01\",\"2020-07-02\",\"2020-07-03\",\"2020-07-04\",\"2020-07-05\",\"2020-07-06\",\"2020-07-07\",\"2020-07-08\",\"2020-07-09\",\"2020-07-10\",\"2020-07-11\",\"2020-07-12\",\"2020-07-13\",\"2020-07-14\",\"2020-07-15\",\"2020-07-16\",\"2020-07-17\",\"2020-07-18\",\"2020-07-19\",\"2020-07-20\",\"2020-07-21\",\"2020-07-22\",\"2020-07-23\",\"2020-07-24\",\"2020-07-25\",\"2020-07-26\",\"2020-07-27\",\"2020-07-28\",\"2020-07-29\",\"2020-07-30\",\"2020-07-31\",\"2020-08-01\",\"2020-08-02\",\"2020-08-03\",\"2020-08-04\",\"2020-08-05\",\"2020-08-06\",\"2020-08-07\",\"2020-08-08\",\"2020-08-09\",\"2020-08-10\",\"2020-08-11\",\"2020-08-12\",\"2020-08-13\",\"2020-08-14\",\"2020-08-15\",\"2020-08-16\",\"2020-08-17\",\"2020-08-18\",\"2020-08-19\",\"2020-08-20\",\"2020-08-21\",\"2020-08-22\",\"2020-08-23\",\"2020-08-24\",\"2020-08-25\",\"2020-08-26\",\"2020-08-27\",\"2020-08-28\",\"2020-08-29\",\"2020-08-30\",\"2020-08-31\",\"2020-09-01\",\"2020-09-02\",\"2020-09-03\",\"2020-09-04\",\"2020-09-05\",\"2020-09-06\",\"2020-09-07\",\"2020-09-08\",\"2020-09-09\",\"2020-09-10\",\"2020-09-11\",\"2020-09-12\",\"2020-09-13\",\"2020-09-14\",\"2020-09-15\",\"2020-09-16\",\"2020-09-17\",\"2020-09-18\",\"2020-09-19\",\"2020-09-20\",\"2020-09-21\",\"2020-09-22\",\"2020-09-23\",\"2020-09-24\",\"2020-09-25\",\"2020-09-26\",\"2020-09-27\",\"2020-09-28\",\"2020-09-29\",\"2020-09-30\",\"2020-10-01\",\"2020-10-02\",\"2020-10-03\",\"2020-10-04\",\"2020-10-05\",\"2020-10-06\",\"2020-10-07\",\"2020-10-08\",\"2020-10-09\",\"2020-10-10\",\"2020-10-11\",\"2020-10-12\",\"2020-10-13\",\"2020-10-14\",\"2020-10-15\",\"2020-10-16\",\"2020-10-17\",\"2020-10-18\",\"2020-10-19\",\"2020-10-20\",\"2020-10-21\",\"2020-10-22\",\"2020-10-23\",\"2020-10-24\",\"2020-10-25\",\"2020-10-26\",\"2020-10-27\",\"2020-10-28\",\"2020-10-29\",\"2020-10-30\",\"2020-10-31\",\"2020-11-01\",\"2020-11-02\",\"2020-11-03\",\"2020-11-04\",\"2020-11-05\",\"2020-11-06\",\"2020-11-07\",\"2020-11-08\",\"2020-11-09\",\"2020-11-10\",\"2020-11-11\",\"2020-11-12\",\"2020-11-13\",\"2020-11-14\",\"2020-11-15\",\"2020-11-16\",\"2020-11-17\",\"2020-11-18\",\"2020-11-19\",\"2020-11-20\",\"2020-11-21\",\"2020-11-22\",\"2020-11-23\",\"2020-11-24\",\"2020-11-25\",\"2020-11-26\",\"2020-11-27\",\"2020-11-28\",\"2020-11-29\",\"2020-11-30\",\"2020-12-01\",\"2020-12-02\",\"2020-12-03\",\"2020-12-04\",\"2020-12-05\",\"2020-12-06\",\"2020-12-07\",\"2020-12-08\",\"2020-12-09\",\"2020-12-10\",\"2020-12-11\",\"2020-12-12\",\"2020-12-13\",\"2020-12-14\",\"2020-12-15\",\"2020-12-16\",\"2020-12-17\",\"2020-12-18\",\"2020-12-19\",\"2020-12-20\",\"2020-12-21\",\"2020-12-22\",\"2020-12-23\",\"2020-12-24\",\"2020-12-25\",\"2020-12-26\",\"2020-12-27\",\"2020-12-28\",\"2020-12-29\",\"2020-12-30\",\"2020-12-31\",\"2021-01-01\",\"2021-01-02\",\"2021-01-03\",\"2021-01-04\",\"2021-01-05\",\"2021-01-06\",\"2021-01-07\",\"2021-01-08\",\"2021-01-09\",\"2021-01-10\",\"2021-01-11\",\"2021-01-12\",\"2021-01-13\",\"2021-01-14\",\"2021-01-15\",\"2021-01-16\",\"2021-01-17\",\"2021-01-18\",\"2021-01-19\",\"2021-01-20\",\"2021-01-21\",\"2021-01-22\",\"2021-01-23\",\"2021-01-24\",\"2021-01-25\",\"2021-01-26\",\"2021-01-27\",\"2021-01-28\",\"2021-01-29\",\"2021-01-30\",\"2021-01-31\",\"2021-02-01\",\"2021-02-02\",\"2021-02-03\",\"2021-02-04\",\"2021-02-05\",\"2021-02-06\",\"2021-02-07\",\"2021-02-08\",\"2021-02-09\",\"2021-02-10\",\"2021-02-11\",\"2021-02-12\",\"2021-02-13\",\"2021-02-14\",\"2021-02-15\",\"2021-02-16\",\"2021-02-17\",\"2021-02-18\",\"2021-02-19\",\"2021-02-20\",\"2021-02-21\",\"2021-02-22\",\"2021-02-23\",\"2021-02-24\",\"2021-02-25\",\"2021-02-26\",\"2021-02-27\",\"2021-02-28\",\"2021-03-01\",\"2021-03-02\",\"2021-03-03\",\"2021-03-04\",\"2021-03-05\",\"2021-03-06\",\"2021-03-07\",\"2021-03-08\",\"2021-03-09\",\"2021-03-10\",\"2021-03-11\",\"2021-03-12\",\"2021-03-13\",\"2021-03-14\",\"2021-03-15\",\"2021-03-16\",\"2021-03-17\",\"2021-03-18\",\"2021-03-19\",\"2021-03-20\",\"2021-03-21\",\"2021-03-22\",\"2021-03-23\",\"2021-03-24\",\"2021-03-25\",\"2021-03-26\",\"2021-03-27\",\"2021-03-28\",\"2021-03-29\",\"2021-03-30\",\"2021-03-31\",\"2021-04-01\",\"2021-04-02\",\"2021-04-03\",\"2021-04-04\",\"2021-04-05\",\"2021-04-06\",\"2021-04-07\",\"2021-04-08\",\"2021-04-09\",\"2021-04-10\",\"2021-04-11\",\"2021-04-12\",\"2021-04-13\",\"2021-04-14\",\"2021-04-15\",\"2021-04-16\",\"2021-04-17\",\"2021-04-18\",\"2021-04-19\",\"2021-04-20\",\"2021-04-21\",\"2021-04-22\",\"2021-04-23\",\"2021-04-24\",\"2021-04-25\",\"2021-04-26\",\"2021-04-27\",\"2021-04-28\",\"2021-04-29\",\"2021-04-30\",\"2021-05-01\",\"2021-05-02\",\"2021-05-03\",\"2021-05-04\",\"2021-05-05\",\"2021-05-06\",\"2021-05-07\",\"2021-05-08\",\"2021-05-09\",\"2021-05-10\",\"2021-05-11\",\"2021-05-12\",\"2021-05-13\",\"2021-05-14\",\"2021-05-15\",\"2021-05-16\",\"2021-05-17\",\"2021-05-18\",\"2021-05-19\",\"2021-05-20\",\"2021-05-21\",\"2021-05-22\",\"2021-05-23\",\"2021-05-24\",\"2021-05-25\",\"2021-05-26\",\"2021-05-27\",\"2021-05-28\",\"2021-05-29\",\"2021-05-30\",\"2021-05-31\",\"2021-06-01\",\"2021-06-02\",\"2021-06-03\",\"2021-06-04\",\"2021-06-05\",\"2021-06-06\",\"2021-06-07\",\"2021-06-08\",\"2021-06-09\",\"2021-06-10\",\"2021-06-11\",\"2021-06-12\",\"2021-06-13\",\"2021-06-14\",\"2021-06-15\",\"2021-06-16\",\"2021-06-17\",\"2021-06-18\",\"2021-06-19\",\"2021-06-20\",\"2021-06-21\",\"2021-06-22\",\"2021-06-23\",\"2021-06-24\",\"2021-06-25\",\"2021-06-26\",\"2021-06-27\",\"2021-06-28\",\"2021-06-29\",\"2021-06-30\",\"2021-07-01\",\"2021-07-02\",\"2021-07-03\",\"2021-07-04\",\"2021-07-05\",\"2021-07-06\",\"2021-07-07\",\"2021-07-08\",\"2021-07-09\",\"2021-07-10\",\"2021-07-11\",\"2021-07-12\",\"2021-07-13\",\"2021-07-14\",\"2021-07-15\",\"2021-07-16\",\"2021-07-17\",\"2021-07-18\",\"2021-07-19\",\"2021-07-20\",\"2021-07-21\",\"2021-07-22\",\"2021-07-23\",\"2021-07-24\",\"2021-07-25\",\"2021-07-26\",\"2021-07-27\",\"2021-07-28\",\"2021-07-29\",\"2021-07-30\",\"2021-07-31\",\"2021-08-01\",\"2021-08-02\",\"2021-08-03\",\"2021-08-04\",\"2021-08-05\",\"2021-08-06\",\"2021-08-07\",\"2021-08-08\",\"2021-08-09\",\"2021-08-10\",\"2021-08-11\",\"2021-08-12\",\"2021-08-13\",\"2021-08-14\",\"2021-08-15\",\"2021-08-16\",\"2021-08-17\",\"2021-08-18\",\"2021-08-19\",\"2021-08-20\",\"2021-08-21\",\"2021-08-22\",\"2021-08-23\",\"2021-08-24\",\"2021-08-25\",\"2021-08-26\",\"2021-08-27\",\"2021-08-28\",\"2021-08-29\",\"2021-08-30\",\"2021-08-31\",\"2021-09-01\",\"2021-09-02\",\"2021-09-03\",\"2021-09-04\",\"2021-09-05\",\"2021-09-06\",\"2021-09-07\",\"2021-09-08\",\"2021-09-09\",\"2021-09-10\",\"2021-09-11\",\"2021-09-12\",\"2021-09-13\",\"2021-09-14\",\"2021-09-15\",\"2021-09-16\",\"2021-09-17\",\"2021-09-18\",\"2021-09-19\",\"2021-09-20\",\"2021-09-21\",\"2021-09-22\",\"2021-09-23\",\"2021-09-24\",\"2021-09-25\",\"2021-09-26\",\"2021-09-27\",\"2021-09-28\",\"2021-09-29\",\"2021-09-30\",\"2021-10-01\",\"2021-10-02\",\"2021-10-03\",\"2021-10-04\",\"2021-10-05\",\"2021-10-06\",\"2021-10-07\",\"2021-10-08\",\"2021-10-09\",\"2021-10-10\",\"2021-10-11\",\"2021-10-12\",\"2021-10-13\",\"2021-10-14\",\"2021-10-15\",\"2021-10-16\",\"2021-10-17\",\"2021-10-18\",\"2021-10-19\",\"2021-10-20\",\"2021-10-21\",\"2021-10-22\",\"2021-10-23\",\"2021-10-24\",\"2021-10-25\",\"2021-10-26\",\"2021-10-27\",\"2021-10-28\",\"2021-10-29\",\"2021-10-30\",\"2021-10-31\",\"2021-11-01\",\"2021-11-02\",\"2021-11-03\",\"2021-11-04\",\"2021-11-05\",\"2021-11-06\",\"2021-11-07\",\"2021-11-08\",\"2021-11-09\",\"2021-11-10\",\"2021-11-11\",\"2021-11-12\",\"2021-11-13\",\"2021-11-14\",\"2021-11-15\",\"2021-11-16\",\"2021-11-17\",\"2021-11-18\",\"2021-11-19\",\"2021-11-20\",\"2021-11-21\",\"2021-11-22\",\"2021-11-23\",\"2021-11-24\",\"2021-11-25\",\"2021-11-26\",\"2021-11-27\",\"2021-11-28\",\"2021-11-29\",\"2021-11-30\",\"2021-12-01\",\"2021-12-02\",\"2021-12-03\",\"2021-12-04\",\"2021-12-05\",\"2021-12-06\",\"2021-12-07\",\"2021-12-08\",\"2021-12-09\",\"2021-12-10\",\"2021-12-11\",\"2021-12-12\",\"2021-12-13\",\"2021-12-14\",\"2021-12-15\",\"2021-12-16\",\"2021-12-17\",\"2021-12-18\",\"2021-12-19\",\"2021-12-20\",\"2021-12-21\",\"2021-12-22\",\"2021-12-23\",\"2021-12-24\",\"2021-12-25\",\"2021-12-26\",\"2021-12-27\",\"2021-12-28\",\"2021-12-29\",\"2021-12-30\",\"2021-12-31\",\"2022-01-01\",\"2022-01-02\",\"2022-01-03\",\"2022-01-04\",\"2022-01-05\",\"2022-01-06\",\"2022-01-07\",\"2022-01-08\",\"2022-01-09\",\"2022-01-10\",\"2022-01-11\",\"2022-01-12\",\"2022-01-13\",\"2022-01-14\",\"2022-01-15\",\"2022-01-16\",\"2022-01-17\",\"2022-01-18\",\"2022-01-19\",\"2022-01-20\",\"2022-01-21\",\"2022-01-22\",\"2022-01-23\",\"2022-01-24\",\"2022-01-25\",\"2022-01-26\",\"2022-01-27\",\"2022-01-28\",\"2022-01-29\",\"2022-01-30\",\"2022-01-31\",\"2022-02-01\",\"2022-02-02\",\"2022-02-03\",\"2022-02-04\",\"2022-02-05\",\"2022-02-06\",\"2022-02-07\",\"2022-02-08\",\"2022-02-09\",\"2022-02-10\",\"2022-02-11\",\"2022-02-12\",\"2022-02-13\",\"2022-02-14\",\"2022-02-15\",\"2022-02-16\",\"2022-02-17\",\"2022-02-18\",\"2022-02-19\",\"2022-02-20\",\"2022-02-21\",\"2022-02-22\",\"2022-02-23\",\"2022-02-24\",\"2022-02-25\",\"2022-02-26\",\"2022-02-27\",\"2022-02-28\",\"2022-03-01\",\"2022-03-02\",\"2022-03-03\",\"2022-03-04\",\"2022-03-05\",\"2022-03-06\",\"2022-03-07\",\"2022-03-08\",\"2022-03-09\",\"2022-03-10\",\"2022-03-11\",\"2022-03-12\",\"2022-03-13\",\"2022-03-14\",\"2022-03-15\",\"2022-03-16\",\"2022-03-17\",\"2022-03-18\",\"2022-03-19\",\"2022-03-20\",\"2022-03-21\",\"2022-03-22\",\"2022-03-23\",\"2022-03-24\",\"2022-03-25\",\"2022-03-26\",\"2022-03-27\",\"2022-03-28\",\"2022-03-29\",\"2022-03-30\",\"2022-03-31\",\"2022-04-01\",\"2022-04-02\",\"2022-04-03\",\"2022-04-04\",\"2022-04-05\",\"2022-04-06\",\"2022-04-07\",\"2022-04-08\",\"2022-04-09\",\"2022-04-10\",\"2022-04-11\"],\"y\":[null,null,null,null,null,null,null,null,null,null,null,null,null,null,null,null,null,null,null,null,null,null,null,null,null,null,null,null,null,null,null,null,null,null,null,null,null,null,1.0,1.0,1.0,1.0,1.0,1.0,1.0,2.0,3.0,3.0,4.0,6.0,6.0,7.0,8.0,10.0,11.0,15.0,16.0,21.0,25.0,27.0,31.0,41.0,51.0,58.0,62.0,68.0,73.0,80.0,84.0,94.0,111.0,119.0,130.0,133.0,136.0,147.0,159.0,169.0,183.0,195.0,205.0,205.0,211.0,228.0,232.0,238.0,238.0,241.0,247.0,252.0,253.0,255.0,256.0,260.0,262.0,265.0,268.0,275.0,279.0,281.0,288.0,289.0,291.0,291.0,292.0,294.0,296.0,296.0,297.0,299.0,299.0,301.0,301.0,302.0,302.0,303.0,303.0,303.0,304.0,304.0,304.0,304.0,305.0,305.0,305.0,305.0,305.0,305.0,305.0,305.0,305.0,305.0,305.0,305.0,305.0,305.0,305.0,305.0,305.0,305.0,305.0,305.0,305.0,305.0,306.0,307.0,307.0,307.0,308.0,308.0,308.0,308.0,308.0,309.0,309.0,309.0,309.0,309.0,309.0,309.0,309.0,309.0,309.0,309.0,309.0,309.0,309.0,309.0,309.0,309.0,309.0,309.0,309.0,309.0,310.0,310.0,310.0,310.0,310.0,310.0,310.0,310.0,311.0,312.0,312.0,312.0,312.0,312.0,313.0,313.0,313.0,313.0,313.0,313.0,313.0,313.0,313.0,313.0,313.0,313.0,313.0,314.0,314.0,314.0,314.0,314.0,314.0,314.0,314.0,314.0,314.0,314.0,314.0,314.0,314.0,314.0,315.0,316.0,316.0,316.0,317.0,317.0,318.0,318.0,318.0,321.0,321.0,323.0,323.0,323.0,324.0,324.0,325.0,325.0,325.0,325.0,325.0,325.0,326.0,328.0,328.0,329.0,329.0,329.0,329.0,329.0,329.0,331.0,331.0,331.0,331.0,333.0,334.0,336.0,336.0,336.0,337.0,339.0,339.0,339.0,341.0,341.0,342.0,342.0,342.0,345.0,345.0,345.0,346.0,347.0,347.0,348.0,348.0,349.0,349.0,349.0,350.0,350.0,350.0,350.0,350.0,350.0,350.0,352.0,354.0,361.0,364.0,364.0,365.0,369.0,376.0,378.0,380.0,381.0,382.0,385.0,388.0,394.0,404.0,408.0,413.0,419.0,427.0,429.0,435.0,437.0,442.0,452.0,454.0,461.0,468.0,471.0,477.0,487.0,497.0,500.0,505.0,509.0,517.0,520.0,525.0,536.0,543.0,547.0,548.0,553.0,556.0,560.0,564.0,569.0,572.0,575.0,577.0,577.0,581.0,586.0,588.0,592.0,598.0,601.0,605.0,608.0,615.0,619.0,622.0,625.0,629.0,631.0,634.0,642.0,651.0,656.0,661.0,662.0,663.0,663.0,664.0,668.0,680.0,684.0,686.0,688.0,690.0,695.0,698.0,698.0,699.0,702.0,703.0,703.0,709.0,711.0,714.0,715.0,717.0,717.0,719.0,724.0,724.0,729.0,731.0,733.0,737.0,741.0,742.0,747.0,749.0,751.0,754.0,756.0,757.0,762.0,771.0,773.0,780.0,783.0,784.0,785.0,792.0,794.0,795.0,797.0,800.0,801.0,803.0,812.0,816.0,820.0,824.0,828.0,832.0,832.0,833.0,834.0,837.0,841.0,848.0,852.0,852.0,858.0,863.0,867.0,869.0,872.0,876.0,877.0,880.0,882.0,883.0,885.0,887.0,890.0,891.0,891.0,892.0,896.0,897.0,899.0,901.0,901.0,902.0,906.0,907.0,909.0,914.0,916.0,916.0,919.0,920.0,922.0,922.0,923.0,924.0,924.0,927.0,929.0,931.0,932.0,934.0,934.0,936.0,936.0,936.0,937.0,939.0,940.0,940.0,940.0,941.0,942.0,944.0,946.0,951.0,957.0,959.0,959.0,962.0,968.0,968.0,968.0,970.0,972.0,972.0,972.0,973.0,973.0,973.0,973.0,975.0,975.0,976.0,976.0,976.0,977.0,977.0,977.0,978.0,979.0,979.0,980.0,980.0,980.0,980.0,980.0,982.0,982.0,982.0,982.0,982.0,982.0,983.0,983.0,984.0,984.0,984.0,984.0,984.0,984.0,984.0,984.0,984.0,984.0,984.0,984.0,985.0,986.0,986.0,986.0,986.0,986.0,988.0,990.0,991.0,991.0,991.0,991.0,991.0,991.0,991.0,991.0,993.0,993.0,995.0,996.0,997.0,999.0,1000.0,1001.0,1005.0,1005.0,1006.0,1006.0,1009.0,1012.0,1016.0,1017.0,1019.0,1023.0,1023.0,1024.0,1025.0,1026.0,1027.0,1029.0,1029.0,1031.0,1031.0,1032.0,1035.0,1037.0,1038.0,1038.0,1040.0,1041.0,1044.0,1046.0,1048.0,1050.0,1050.0,1051.0,1057.0,1059.0,1060.0,1062.0,1063.0,1063.0,1063.0,1069.0,1072.0,1073.0,1075.0,1075.0,1076.0,1081.0,1082.0,1084.0,1085.0,1086.0,1087.0,1087.0,1092.0,1093.0,1094.0,1096.0,1100.0,1103.0,1104.0,1107.0,1110.0,1114.0,1118.0,1121.0,1126.0,1129.0,1134.0,1138.0,1145.0,1147.0,1150.0,1158.0,1163.0,1166.0,1171.0,1174.0,1177.0,1181.0,1183.0,1184.0,1188.0,1194.0,1195.0,1197.0,1199.0,1207.0,1211.0,1213.0,1226.0,1230.0,1235.0,1240.0,1242.0,1245.0,1250.0,1262.0,1265.0,1272.0,1281.0,1292.0,1301.0,1305.0,1317.0,1326.0,1330.0,1336.0,1341.0,1344.0,1350.0,1367.0,1376.0,1381.0,1385.0,1391.0,1399.0,1404.0,1414.0,1424.0,1433.0,1444.0,1452.0,1460.0,1463.0,1478.0,1485.0,1497.0,1502.0,1508.0,1515.0,1520.0,1523.0,1530.0,1539.0,1546.0,1552.0,1559.0,1564.0,1571.0,1577.0,1585.0,1593.0,1601.0,1603.0,1608.0,1616.0,1622.0,1630.0,1637.0,1643.0,1647.0,1656.0,1673.0,1685.0,1698.0,1714.0,1728.0,1739.0,1751.0,1764.0,1777.0,1790.0,1801.0,1812.0,1822.0,1830.0,1839.0,1845.0,1851.0,1858.0,1864.0,1871.0,1875.0,1887.0,1891.0,1891.0,1893.0,1894.0,1894.0,1894.0,1894.0,1894.0,1919.0,1942.0,1942.0,1942.0,1990.0,1990.0,2012.0,2041.0,2058.0,2058.0,2058.0,2095.0,2097.0,2126.0,2141.0,2170.0,2170.0,2170.0,2214.0,2215.0,2242.0,2265.0,2277.0,2277.0,2277.0,2329.0,2329.0,2351.0,2364.0,2364.0,2364.0,2364.0,2366.0,2380.0,2381.0,2384.0,2387.0,2387.0,2387.0,2571.0,2571.0,2573.0,2573.0,2653.0,2653.0,2653.0,2717.0,2719.0,2763.0,2783.0,2783.0,2783.0,2783.0,2881.0,2881.0,2948.0,2951.0,2985.0,2985.0,2985.0,3054.0,3055.0,3105.0,3144.0,3178.0,3178.0,3178.0,3252.0,3254.0,3307.0,3334.0,3334.0,3334.0,3334.0,3334.0],\"type\":\"scatter\",\"xaxis\":\"x2\",\"yaxis\":\"y2\"}],                        {\"template\":{\"data\":{\"histogram2dcontour\":[{\"type\":\"histogram2dcontour\",\"colorbar\":{\"outlinewidth\":0,\"ticks\":\"\"},\"colorscale\":[[0.0,\"#0d0887\"],[0.1111111111111111,\"#46039f\"],[0.2222222222222222,\"#7201a8\"],[0.3333333333333333,\"#9c179e\"],[0.4444444444444444,\"#bd3786\"],[0.5555555555555556,\"#d8576b\"],[0.6666666666666666,\"#ed7953\"],[0.7777777777777778,\"#fb9f3a\"],[0.8888888888888888,\"#fdca26\"],[1.0,\"#f0f921\"]]}],\"choropleth\":[{\"type\":\"choropleth\",\"colorbar\":{\"outlinewidth\":0,\"ticks\":\"\"}}],\"histogram2d\":[{\"type\":\"histogram2d\",\"colorbar\":{\"outlinewidth\":0,\"ticks\":\"\"},\"colorscale\":[[0.0,\"#0d0887\"],[0.1111111111111111,\"#46039f\"],[0.2222222222222222,\"#7201a8\"],[0.3333333333333333,\"#9c179e\"],[0.4444444444444444,\"#bd3786\"],[0.5555555555555556,\"#d8576b\"],[0.6666666666666666,\"#ed7953\"],[0.7777777777777778,\"#fb9f3a\"],[0.8888888888888888,\"#fdca26\"],[1.0,\"#f0f921\"]]}],\"heatmap\":[{\"type\":\"heatmap\",\"colorbar\":{\"outlinewidth\":0,\"ticks\":\"\"},\"colorscale\":[[0.0,\"#0d0887\"],[0.1111111111111111,\"#46039f\"],[0.2222222222222222,\"#7201a8\"],[0.3333333333333333,\"#9c179e\"],[0.4444444444444444,\"#bd3786\"],[0.5555555555555556,\"#d8576b\"],[0.6666666666666666,\"#ed7953\"],[0.7777777777777778,\"#fb9f3a\"],[0.8888888888888888,\"#fdca26\"],[1.0,\"#f0f921\"]]}],\"heatmapgl\":[{\"type\":\"heatmapgl\",\"colorbar\":{\"outlinewidth\":0,\"ticks\":\"\"},\"colorscale\":[[0.0,\"#0d0887\"],[0.1111111111111111,\"#46039f\"],[0.2222222222222222,\"#7201a8\"],[0.3333333333333333,\"#9c179e\"],[0.4444444444444444,\"#bd3786\"],[0.5555555555555556,\"#d8576b\"],[0.6666666666666666,\"#ed7953\"],[0.7777777777777778,\"#fb9f3a\"],[0.8888888888888888,\"#fdca26\"],[1.0,\"#f0f921\"]]}],\"contourcarpet\":[{\"type\":\"contourcarpet\",\"colorbar\":{\"outlinewidth\":0,\"ticks\":\"\"}}],\"contour\":[{\"type\":\"contour\",\"colorbar\":{\"outlinewidth\":0,\"ticks\":\"\"},\"colorscale\":[[0.0,\"#0d0887\"],[0.1111111111111111,\"#46039f\"],[0.2222222222222222,\"#7201a8\"],[0.3333333333333333,\"#9c179e\"],[0.4444444444444444,\"#bd3786\"],[0.5555555555555556,\"#d8576b\"],[0.6666666666666666,\"#ed7953\"],[0.7777777777777778,\"#fb9f3a\"],[0.8888888888888888,\"#fdca26\"],[1.0,\"#f0f921\"]]}],\"surface\":[{\"type\":\"surface\",\"colorbar\":{\"outlinewidth\":0,\"ticks\":\"\"},\"colorscale\":[[0.0,\"#0d0887\"],[0.1111111111111111,\"#46039f\"],[0.2222222222222222,\"#7201a8\"],[0.3333333333333333,\"#9c179e\"],[0.4444444444444444,\"#bd3786\"],[0.5555555555555556,\"#d8576b\"],[0.6666666666666666,\"#ed7953\"],[0.7777777777777778,\"#fb9f3a\"],[0.8888888888888888,\"#fdca26\"],[1.0,\"#f0f921\"]]}],\"mesh3d\":[{\"type\":\"mesh3d\",\"colorbar\":{\"outlinewidth\":0,\"ticks\":\"\"}}],\"scatter\":[{\"marker\":{\"line\":{\"color\":\"#283442\"}},\"type\":\"scatter\"}],\"parcoords\":[{\"type\":\"parcoords\",\"line\":{\"colorbar\":{\"outlinewidth\":0,\"ticks\":\"\"}}}],\"scatterpolargl\":[{\"type\":\"scatterpolargl\",\"marker\":{\"colorbar\":{\"outlinewidth\":0,\"ticks\":\"\"}}}],\"bar\":[{\"error_x\":{\"color\":\"#f2f5fa\"},\"error_y\":{\"color\":\"#f2f5fa\"},\"marker\":{\"line\":{\"color\":\"rgb(17,17,17)\",\"width\":0.5},\"pattern\":{\"fillmode\":\"overlay\",\"size\":10,\"solidity\":0.2}},\"type\":\"bar\"}],\"scattergeo\":[{\"type\":\"scattergeo\",\"marker\":{\"colorbar\":{\"outlinewidth\":0,\"ticks\":\"\"}}}],\"scatterpolar\":[{\"type\":\"scatterpolar\",\"marker\":{\"colorbar\":{\"outlinewidth\":0,\"ticks\":\"\"}}}],\"histogram\":[{\"marker\":{\"pattern\":{\"fillmode\":\"overlay\",\"size\":10,\"solidity\":0.2}},\"type\":\"histogram\"}],\"scattergl\":[{\"marker\":{\"line\":{\"color\":\"#283442\"}},\"type\":\"scattergl\"}],\"scatter3d\":[{\"type\":\"scatter3d\",\"line\":{\"colorbar\":{\"outlinewidth\":0,\"ticks\":\"\"}},\"marker\":{\"colorbar\":{\"outlinewidth\":0,\"ticks\":\"\"}}}],\"scattermapbox\":[{\"type\":\"scattermapbox\",\"marker\":{\"colorbar\":{\"outlinewidth\":0,\"ticks\":\"\"}}}],\"scatterternary\":[{\"type\":\"scatterternary\",\"marker\":{\"colorbar\":{\"outlinewidth\":0,\"ticks\":\"\"}}}],\"scattercarpet\":[{\"type\":\"scattercarpet\",\"marker\":{\"colorbar\":{\"outlinewidth\":0,\"ticks\":\"\"}}}],\"carpet\":[{\"aaxis\":{\"endlinecolor\":\"#A2B1C6\",\"gridcolor\":\"#506784\",\"linecolor\":\"#506784\",\"minorgridcolor\":\"#506784\",\"startlinecolor\":\"#A2B1C6\"},\"baxis\":{\"endlinecolor\":\"#A2B1C6\",\"gridcolor\":\"#506784\",\"linecolor\":\"#506784\",\"minorgridcolor\":\"#506784\",\"startlinecolor\":\"#A2B1C6\"},\"type\":\"carpet\"}],\"table\":[{\"cells\":{\"fill\":{\"color\":\"#506784\"},\"line\":{\"color\":\"rgb(17,17,17)\"}},\"header\":{\"fill\":{\"color\":\"#2a3f5f\"},\"line\":{\"color\":\"rgb(17,17,17)\"}},\"type\":\"table\"}],\"barpolar\":[{\"marker\":{\"line\":{\"color\":\"rgb(17,17,17)\",\"width\":0.5},\"pattern\":{\"fillmode\":\"overlay\",\"size\":10,\"solidity\":0.2}},\"type\":\"barpolar\"}],\"pie\":[{\"automargin\":true,\"type\":\"pie\"}]},\"layout\":{\"autotypenumbers\":\"strict\",\"colorway\":[\"#636efa\",\"#EF553B\",\"#00cc96\",\"#ab63fa\",\"#FFA15A\",\"#19d3f3\",\"#FF6692\",\"#B6E880\",\"#FF97FF\",\"#FECB52\"],\"font\":{\"color\":\"#f2f5fa\"},\"hovermode\":\"closest\",\"hoverlabel\":{\"align\":\"left\"},\"paper_bgcolor\":\"rgb(17,17,17)\",\"plot_bgcolor\":\"rgb(17,17,17)\",\"polar\":{\"bgcolor\":\"rgb(17,17,17)\",\"angularaxis\":{\"gridcolor\":\"#506784\",\"linecolor\":\"#506784\",\"ticks\":\"\"},\"radialaxis\":{\"gridcolor\":\"#506784\",\"linecolor\":\"#506784\",\"ticks\":\"\"}},\"ternary\":{\"bgcolor\":\"rgb(17,17,17)\",\"aaxis\":{\"gridcolor\":\"#506784\",\"linecolor\":\"#506784\",\"ticks\":\"\"},\"baxis\":{\"gridcolor\":\"#506784\",\"linecolor\":\"#506784\",\"ticks\":\"\"},\"caxis\":{\"gridcolor\":\"#506784\",\"linecolor\":\"#506784\",\"ticks\":\"\"}},\"coloraxis\":{\"colorbar\":{\"outlinewidth\":0,\"ticks\":\"\"}},\"colorscale\":{\"sequential\":[[0.0,\"#0d0887\"],[0.1111111111111111,\"#46039f\"],[0.2222222222222222,\"#7201a8\"],[0.3333333333333333,\"#9c179e\"],[0.4444444444444444,\"#bd3786\"],[0.5555555555555556,\"#d8576b\"],[0.6666666666666666,\"#ed7953\"],[0.7777777777777778,\"#fb9f3a\"],[0.8888888888888888,\"#fdca26\"],[1.0,\"#f0f921\"]],\"sequentialminus\":[[0.0,\"#0d0887\"],[0.1111111111111111,\"#46039f\"],[0.2222222222222222,\"#7201a8\"],[0.3333333333333333,\"#9c179e\"],[0.4444444444444444,\"#bd3786\"],[0.5555555555555556,\"#d8576b\"],[0.6666666666666666,\"#ed7953\"],[0.7777777777777778,\"#fb9f3a\"],[0.8888888888888888,\"#fdca26\"],[1.0,\"#f0f921\"]],\"diverging\":[[0,\"#8e0152\"],[0.1,\"#c51b7d\"],[0.2,\"#de77ae\"],[0.3,\"#f1b6da\"],[0.4,\"#fde0ef\"],[0.5,\"#f7f7f7\"],[0.6,\"#e6f5d0\"],[0.7,\"#b8e186\"],[0.8,\"#7fbc41\"],[0.9,\"#4d9221\"],[1,\"#276419\"]]},\"xaxis\":{\"gridcolor\":\"#283442\",\"linecolor\":\"#506784\",\"ticks\":\"\",\"title\":{\"standoff\":15},\"zerolinecolor\":\"#283442\",\"automargin\":true,\"zerolinewidth\":2},\"yaxis\":{\"gridcolor\":\"#283442\",\"linecolor\":\"#506784\",\"ticks\":\"\",\"title\":{\"standoff\":15},\"zerolinecolor\":\"#283442\",\"automargin\":true,\"zerolinewidth\":2},\"scene\":{\"xaxis\":{\"backgroundcolor\":\"rgb(17,17,17)\",\"gridcolor\":\"#506784\",\"linecolor\":\"#506784\",\"showbackground\":true,\"ticks\":\"\",\"zerolinecolor\":\"#C8D4E3\",\"gridwidth\":2},\"yaxis\":{\"backgroundcolor\":\"rgb(17,17,17)\",\"gridcolor\":\"#506784\",\"linecolor\":\"#506784\",\"showbackground\":true,\"ticks\":\"\",\"zerolinecolor\":\"#C8D4E3\",\"gridwidth\":2},\"zaxis\":{\"backgroundcolor\":\"rgb(17,17,17)\",\"gridcolor\":\"#506784\",\"linecolor\":\"#506784\",\"showbackground\":true,\"ticks\":\"\",\"zerolinecolor\":\"#C8D4E3\",\"gridwidth\":2}},\"shapedefaults\":{\"line\":{\"color\":\"#f2f5fa\"}},\"annotationdefaults\":{\"arrowcolor\":\"#f2f5fa\",\"arrowhead\":0,\"arrowwidth\":1},\"geo\":{\"bgcolor\":\"rgb(17,17,17)\",\"landcolor\":\"rgb(17,17,17)\",\"subunitcolor\":\"#506784\",\"showland\":true,\"showlakes\":true,\"lakecolor\":\"rgb(17,17,17)\"},\"title\":{\"x\":0.05},\"updatemenudefaults\":{\"bgcolor\":\"#506784\",\"borderwidth\":0},\"sliderdefaults\":{\"bgcolor\":\"#C8D4E3\",\"borderwidth\":1,\"bordercolor\":\"rgb(17,17,17)\",\"tickwidth\":0},\"mapbox\":{\"style\":\"dark\"}}},\"xaxis\":{\"anchor\":\"y\",\"domain\":[0.0,0.45]},\"yaxis\":{\"anchor\":\"x\",\"domain\":[0.0,1.0]},\"xaxis2\":{\"anchor\":\"y2\",\"domain\":[0.55,1.0]},\"yaxis2\":{\"anchor\":\"x2\",\"domain\":[0.0,1.0]},\"annotations\":[{\"font\":{\"size\":16},\"showarrow\":false,\"text\":\"Confirmed cases for Sweden and Finland\",\"x\":0.225,\"xanchor\":\"center\",\"xref\":\"paper\",\"y\":1.0,\"yanchor\":\"bottom\",\"yref\":\"paper\"},{\"font\":{\"size\":16},\"showarrow\":false,\"text\":\"Confirmed deaths for Sweden and Finland\",\"x\":0.775,\"xanchor\":\"center\",\"xref\":\"paper\",\"y\":1.0,\"yanchor\":\"bottom\",\"yref\":\"paper\"}],\"title\":{\"text\":\"Confirmed cases and deaths for Sweden and Finland\"}},                        {\"responsive\": true}                    ).then(function(){\n                            \nvar gd = document.getElementById('f21dbdc4-7b35-40cc-a316-e6775fe51fd3');\nvar x = new MutationObserver(function (mutations, observer) {{\n        var display = window.getComputedStyle(gd).display;\n        if (!display || display === 'none') {{\n            console.log([gd, 'removed!']);\n            Plotly.purge(gd);\n            observer.disconnect();\n        }}\n}});\n\n// Listen for the removal of the full notebook cells\nvar notebookContainer = gd.closest('#notebook-container');\nif (notebookContainer) {{\n    x.observe(notebookContainer, {childList: true});\n}}\n\n// Listen for the clearing of the current output cell\nvar outputEl = gd.closest('.output');\nif (outputEl) {{\n    x.observe(outputEl, {childList: true});\n}}\n\n                        })                };                });            </script>        </div>"
     },
     "metadata": {},
     "output_type": "display_data"
    }
   ],
   "source": [
    "from plotly.subplots import make_subplots\n",
    "\n",
    "\n",
    "def plot_compare_country_cases(country, country2):\n",
    "    dfi = confirmed_df.query(f\"country == '{country}'\")\n",
    "    dfi2 = confirmed_df.query(f\"country == '{country2}'\")\n",
    "\n",
    "    fig = make_subplots(cols=2, rows=1, subplot_titles=(\n",
    "        f\"Confirmed cases for {country} and {country2}\", f\"Confirmed deaths for {country} and {country2}\"))\n",
    "    fig.add_trace(\n",
    "        go.Scatter(x=dfi.date, y=dfi.confirmed, name=f\"Confirmed cases for {country}\", mode='lines', connectgaps=True,\n",
    "                   marker=dict(color=\"blue\")), col=1, row=1)\n",
    "    fig.add_trace(\n",
    "        go.Scatter(x=dfi.date, y=dfi.deaths, name=f\"Confirmed deaths for {country}\", mode='lines', connectgaps=True,\n",
    "                   marker=dict(color=\"blue\")), col=2, row=1)\n",
    "\n",
    "    fig.add_trace(\n",
    "        go.Scatter(x=dfi.date, y=dfi2.confirmed, name=f\"Confirmed cases for {country2}\", mode='lines',\n",
    "                   connectgaps=True,\n",
    "                   marker=dict(color=\"green\")), col=1, row=1)\n",
    "    fig.add_trace(\n",
    "        go.Scatter(x=dfi.date, y=dfi2.deaths, name=f\"Confirmed deaths for {country2}\", mode='lines', connectgaps=True,\n",
    "                   marker=dict(color=\"green\")), col=2, row=1)\n",
    "\n",
    "    fig.update_layout(title=f\"Confirmed cases and deaths for {country} and {country2}\")\n",
    "\n",
    "    return fig.show()\n",
    "\n",
    "\n",
    "plot_compare_country_cases('Sweden', 'Finland')"
   ]
  },
  {
   "cell_type": "code",
   "execution_count": 67,
   "metadata": {
    "pycharm": {
     "name": "#%%\n"
    }
   },
   "outputs": [
    {
     "data": {
      "text/plain": "            country  positive_tests  tests_taken        date\n0       Afghanistan             NaN          NaN  2020-02-24\n1       Afghanistan             NaN          NaN  2020-02-25\n2       Afghanistan             NaN          NaN  2020-02-26\n3       Afghanistan             NaN          NaN  2020-02-27\n4       Afghanistan             NaN          NaN  2020-02-28\n...             ...             ...          ...         ...\n178097     Zimbabwe      56480.7680    2206280.0  2022-04-07\n178098     Zimbabwe             NaN          NaN  2022-04-08\n178099     Zimbabwe             NaN          NaN  2022-04-09\n178100     Zimbabwe      46038.3664    2213383.0  2022-04-10\n178101     Zimbabwe             NaN          NaN  2022-04-11\n\n[178102 rows x 4 columns]",
      "text/html": "<div>\n<style scoped>\n    .dataframe tbody tr th:only-of-type {\n        vertical-align: middle;\n    }\n\n    .dataframe tbody tr th {\n        vertical-align: top;\n    }\n\n    .dataframe thead th {\n        text-align: right;\n    }\n</style>\n<table border=\"1\" class=\"dataframe\">\n  <thead>\n    <tr style=\"text-align: right;\">\n      <th></th>\n      <th>country</th>\n      <th>positive_tests</th>\n      <th>tests_taken</th>\n      <th>date</th>\n    </tr>\n  </thead>\n  <tbody>\n    <tr>\n      <th>0</th>\n      <td>Afghanistan</td>\n      <td>NaN</td>\n      <td>NaN</td>\n      <td>2020-02-24</td>\n    </tr>\n    <tr>\n      <th>1</th>\n      <td>Afghanistan</td>\n      <td>NaN</td>\n      <td>NaN</td>\n      <td>2020-02-25</td>\n    </tr>\n    <tr>\n      <th>2</th>\n      <td>Afghanistan</td>\n      <td>NaN</td>\n      <td>NaN</td>\n      <td>2020-02-26</td>\n    </tr>\n    <tr>\n      <th>3</th>\n      <td>Afghanistan</td>\n      <td>NaN</td>\n      <td>NaN</td>\n      <td>2020-02-27</td>\n    </tr>\n    <tr>\n      <th>4</th>\n      <td>Afghanistan</td>\n      <td>NaN</td>\n      <td>NaN</td>\n      <td>2020-02-28</td>\n    </tr>\n    <tr>\n      <th>...</th>\n      <td>...</td>\n      <td>...</td>\n      <td>...</td>\n      <td>...</td>\n    </tr>\n    <tr>\n      <th>178097</th>\n      <td>Zimbabwe</td>\n      <td>56480.7680</td>\n      <td>2206280.0</td>\n      <td>2022-04-07</td>\n    </tr>\n    <tr>\n      <th>178098</th>\n      <td>Zimbabwe</td>\n      <td>NaN</td>\n      <td>NaN</td>\n      <td>2022-04-08</td>\n    </tr>\n    <tr>\n      <th>178099</th>\n      <td>Zimbabwe</td>\n      <td>NaN</td>\n      <td>NaN</td>\n      <td>2022-04-09</td>\n    </tr>\n    <tr>\n      <th>178100</th>\n      <td>Zimbabwe</td>\n      <td>46038.3664</td>\n      <td>2213383.0</td>\n      <td>2022-04-10</td>\n    </tr>\n    <tr>\n      <th>178101</th>\n      <td>Zimbabwe</td>\n      <td>NaN</td>\n      <td>NaN</td>\n      <td>2022-04-11</td>\n    </tr>\n  </tbody>\n</table>\n<p>178102 rows × 4 columns</p>\n</div>"
     },
     "execution_count": 67,
     "metadata": {},
     "output_type": "execute_result"
    }
   ],
   "source": [
    "vaccinations_df = pd.DataFrame()\n",
    "\n",
    "vaccinations_df['country'] = df.location\n",
    "vaccinations_df['positive_tests'] = df.total_tests * df.positive_rate\n",
    "vaccinations_df['tests_taken'] = df.total_tests\n",
    "vaccinations_df['date'] = df.date\n",
    "vaccinations_df.drop(index_countries.index)\n",
    "\n",
    "vaccinations_df"
   ]
  },
  {
   "cell_type": "code",
   "execution_count": 68,
   "metadata": {
    "pycharm": {
     "name": "#%%\n"
    }
   },
   "outputs": [
    {
     "data": {
      "application/vnd.plotly.v1+json": {
       "data": [
        {
         "name": "positive tests",
         "x": [
          "2020-02-01",
          "2020-02-02",
          "2020-02-03",
          "2020-02-04",
          "2020-02-05",
          "2020-02-06",
          "2020-02-07",
          "2020-02-08",
          "2020-02-09",
          "2020-02-10",
          "2020-02-11",
          "2020-02-12",
          "2020-02-13",
          "2020-02-14",
          "2020-02-15",
          "2020-02-16",
          "2020-02-17",
          "2020-02-18",
          "2020-02-19",
          "2020-02-20",
          "2020-02-21",
          "2020-02-22",
          "2020-02-23",
          "2020-02-24",
          "2020-02-25",
          "2020-02-26",
          "2020-02-27",
          "2020-02-28",
          "2020-02-29",
          "2020-03-01",
          "2020-03-02",
          "2020-03-03",
          "2020-03-04",
          "2020-03-05",
          "2020-03-06",
          "2020-03-07",
          "2020-03-08",
          "2020-03-09",
          "2020-03-10",
          "2020-03-11",
          "2020-03-12",
          "2020-03-13",
          "2020-03-14",
          "2020-03-15",
          "2020-03-16",
          "2020-03-17",
          "2020-03-18",
          "2020-03-19",
          "2020-03-20",
          "2020-03-21",
          "2020-03-22",
          "2020-03-23",
          "2020-03-24",
          "2020-03-25",
          "2020-03-26",
          "2020-03-27",
          "2020-03-28",
          "2020-03-29",
          "2020-03-30",
          "2020-03-31",
          "2020-04-01",
          "2020-04-02",
          "2020-04-03",
          "2020-04-04",
          "2020-04-05",
          "2020-04-06",
          "2020-04-07",
          "2020-04-08",
          "2020-04-09",
          "2020-04-10",
          "2020-04-11",
          "2020-04-12",
          "2020-04-13",
          "2020-04-14",
          "2020-04-15",
          "2020-04-16",
          "2020-04-17",
          "2020-04-18",
          "2020-04-19",
          "2020-04-20",
          "2020-04-21",
          "2020-04-22",
          "2020-04-23",
          "2020-04-24",
          "2020-04-25",
          "2020-04-26",
          "2020-04-27",
          "2020-04-28",
          "2020-04-29",
          "2020-04-30",
          "2020-05-01",
          "2020-05-02",
          "2020-05-03",
          "2020-05-04",
          "2020-05-05",
          "2020-05-06",
          "2020-05-07",
          "2020-05-08",
          "2020-05-09",
          "2020-05-10",
          "2020-05-11",
          "2020-05-12",
          "2020-05-13",
          "2020-05-14",
          "2020-05-15",
          "2020-05-16",
          "2020-05-17",
          "2020-05-18",
          "2020-05-19",
          "2020-05-20",
          "2020-05-21",
          "2020-05-22",
          "2020-05-23",
          "2020-05-24",
          "2020-05-25",
          "2020-05-26",
          "2020-05-27",
          "2020-05-28",
          "2020-05-29",
          "2020-05-30",
          "2020-05-31",
          "2020-06-01",
          "2020-06-02",
          "2020-06-03",
          "2020-06-04",
          "2020-06-05",
          "2020-06-06",
          "2020-06-07",
          "2020-06-08",
          "2020-06-09",
          "2020-06-10",
          "2020-06-11",
          "2020-06-12",
          "2020-06-13",
          "2020-06-14",
          "2020-06-15",
          "2020-06-16",
          "2020-06-17",
          "2020-06-18",
          "2020-06-19",
          "2020-06-20",
          "2020-06-21",
          "2020-06-22",
          "2020-06-23",
          "2020-06-24",
          "2020-06-25",
          "2020-06-26",
          "2020-06-27",
          "2020-06-28",
          "2020-06-29",
          "2020-06-30",
          "2020-07-01",
          "2020-07-02",
          "2020-07-03",
          "2020-07-04",
          "2020-07-05",
          "2020-07-06",
          "2020-07-07",
          "2020-07-08",
          "2020-07-09",
          "2020-07-10",
          "2020-07-11",
          "2020-07-12",
          "2020-07-13",
          "2020-07-14",
          "2020-07-15",
          "2020-07-16",
          "2020-07-17",
          "2020-07-18",
          "2020-07-19",
          "2020-07-20",
          "2020-07-21",
          "2020-07-22",
          "2020-07-23",
          "2020-07-24",
          "2020-07-25",
          "2020-07-26",
          "2020-07-27",
          "2020-07-28",
          "2020-07-29",
          "2020-07-30",
          "2020-07-31",
          "2020-08-01",
          "2020-08-02",
          "2020-08-03",
          "2020-08-04",
          "2020-08-05",
          "2020-08-06",
          "2020-08-07",
          "2020-08-08",
          "2020-08-09",
          "2020-08-10",
          "2020-08-11",
          "2020-08-12",
          "2020-08-13",
          "2020-08-14",
          "2020-08-15",
          "2020-08-16",
          "2020-08-17",
          "2020-08-18",
          "2020-08-19",
          "2020-08-20",
          "2020-08-21",
          "2020-08-22",
          "2020-08-23",
          "2020-08-24",
          "2020-08-25",
          "2020-08-26",
          "2020-08-27",
          "2020-08-28",
          "2020-08-29",
          "2020-08-30",
          "2020-08-31",
          "2020-09-01",
          "2020-09-02",
          "2020-09-03",
          "2020-09-04",
          "2020-09-05",
          "2020-09-06",
          "2020-09-07",
          "2020-09-08",
          "2020-09-09",
          "2020-09-10",
          "2020-09-11",
          "2020-09-12",
          "2020-09-13",
          "2020-09-14",
          "2020-09-15",
          "2020-09-16",
          "2020-09-17",
          "2020-09-18",
          "2020-09-19",
          "2020-09-20",
          "2020-09-21",
          "2020-09-22",
          "2020-09-23",
          "2020-09-24",
          "2020-09-25",
          "2020-09-26",
          "2020-09-27",
          "2020-09-28",
          "2020-09-29",
          "2020-09-30",
          "2020-10-01",
          "2020-10-02",
          "2020-10-03",
          "2020-10-04",
          "2020-10-05",
          "2020-10-06",
          "2020-10-07",
          "2020-10-08",
          "2020-10-09",
          "2020-10-10",
          "2020-10-11",
          "2020-10-12",
          "2020-10-13",
          "2020-10-14",
          "2020-10-15",
          "2020-10-16",
          "2020-10-17",
          "2020-10-18",
          "2020-10-19",
          "2020-10-20",
          "2020-10-21",
          "2020-10-22",
          "2020-10-23",
          "2020-10-24",
          "2020-10-25",
          "2020-10-26",
          "2020-10-27",
          "2020-10-28",
          "2020-10-29",
          "2020-10-30",
          "2020-10-31",
          "2020-11-01",
          "2020-11-02",
          "2020-11-03",
          "2020-11-04",
          "2020-11-05",
          "2020-11-06",
          "2020-11-07",
          "2020-11-08",
          "2020-11-09",
          "2020-11-10",
          "2020-11-11",
          "2020-11-12",
          "2020-11-13",
          "2020-11-14",
          "2020-11-15",
          "2020-11-16",
          "2020-11-17",
          "2020-11-18",
          "2020-11-19",
          "2020-11-20",
          "2020-11-21",
          "2020-11-22",
          "2020-11-23",
          "2020-11-24",
          "2020-11-25",
          "2020-11-26",
          "2020-11-27",
          "2020-11-28",
          "2020-11-29",
          "2020-11-30",
          "2020-12-01",
          "2020-12-02",
          "2020-12-03",
          "2020-12-04",
          "2020-12-05",
          "2020-12-06",
          "2020-12-07",
          "2020-12-08",
          "2020-12-09",
          "2020-12-10",
          "2020-12-11",
          "2020-12-12",
          "2020-12-13",
          "2020-12-14",
          "2020-12-15",
          "2020-12-16",
          "2020-12-17",
          "2020-12-18",
          "2020-12-19",
          "2020-12-20",
          "2020-12-21",
          "2020-12-22",
          "2020-12-23",
          "2020-12-24",
          "2020-12-25",
          "2020-12-26",
          "2020-12-27",
          "2020-12-28",
          "2020-12-29",
          "2020-12-30",
          "2020-12-31",
          "2021-01-01",
          "2021-01-02",
          "2021-01-03",
          "2021-01-04",
          "2021-01-05",
          "2021-01-06",
          "2021-01-07",
          "2021-01-08",
          "2021-01-09",
          "2021-01-10",
          "2021-01-11",
          "2021-01-12",
          "2021-01-13",
          "2021-01-14",
          "2021-01-15",
          "2021-01-16",
          "2021-01-17",
          "2021-01-18",
          "2021-01-19",
          "2021-01-20",
          "2021-01-21",
          "2021-01-22",
          "2021-01-23",
          "2021-01-24",
          "2021-01-25",
          "2021-01-26",
          "2021-01-27",
          "2021-01-28",
          "2021-01-29",
          "2021-01-30",
          "2021-01-31",
          "2021-02-01",
          "2021-02-02",
          "2021-02-03",
          "2021-02-04",
          "2021-02-05",
          "2021-02-06",
          "2021-02-07",
          "2021-02-08",
          "2021-02-09",
          "2021-02-10",
          "2021-02-11",
          "2021-02-12",
          "2021-02-13",
          "2021-02-14",
          "2021-02-15",
          "2021-02-16",
          "2021-02-17",
          "2021-02-18",
          "2021-02-19",
          "2021-02-20",
          "2021-02-21",
          "2021-02-22",
          "2021-02-23",
          "2021-02-24",
          "2021-02-25",
          "2021-02-26",
          "2021-02-27",
          "2021-02-28",
          "2021-03-01",
          "2021-03-02",
          "2021-03-03",
          "2021-03-04",
          "2021-03-05",
          "2021-03-06",
          "2021-03-07",
          "2021-03-08",
          "2021-03-09",
          "2021-03-10",
          "2021-03-11",
          "2021-03-12",
          "2021-03-13",
          "2021-03-14",
          "2021-03-15",
          "2021-03-16",
          "2021-03-17",
          "2021-03-18",
          "2021-03-19",
          "2021-03-20",
          "2021-03-21",
          "2021-03-22",
          "2021-03-23",
          "2021-03-24",
          "2021-03-25",
          "2021-03-26",
          "2021-03-27",
          "2021-03-28",
          "2021-03-29",
          "2021-03-30",
          "2021-03-31",
          "2021-04-01",
          "2021-04-02",
          "2021-04-03",
          "2021-04-04",
          "2021-04-05",
          "2021-04-06",
          "2021-04-07",
          "2021-04-08",
          "2021-04-09",
          "2021-04-10",
          "2021-04-11",
          "2021-04-12",
          "2021-04-13",
          "2021-04-14",
          "2021-04-15",
          "2021-04-16",
          "2021-04-17",
          "2021-04-18",
          "2021-04-19",
          "2021-04-20",
          "2021-04-21",
          "2021-04-22",
          "2021-04-23",
          "2021-04-24",
          "2021-04-25",
          "2021-04-26",
          "2021-04-27",
          "2021-04-28",
          "2021-04-29",
          "2021-04-30",
          "2021-05-01",
          "2021-05-02",
          "2021-05-03",
          "2021-05-04",
          "2021-05-05",
          "2021-05-06",
          "2021-05-07",
          "2021-05-08",
          "2021-05-09",
          "2021-05-10",
          "2021-05-11",
          "2021-05-12",
          "2021-05-13",
          "2021-05-14",
          "2021-05-15",
          "2021-05-16",
          "2021-05-17",
          "2021-05-18",
          "2021-05-19",
          "2021-05-20",
          "2021-05-21",
          "2021-05-22",
          "2021-05-23",
          "2021-05-24",
          "2021-05-25",
          "2021-05-26",
          "2021-05-27",
          "2021-05-28",
          "2021-05-29",
          "2021-05-30",
          "2021-05-31",
          "2021-06-01",
          "2021-06-02",
          "2021-06-03",
          "2021-06-04",
          "2021-06-05",
          "2021-06-06",
          "2021-06-07",
          "2021-06-08",
          "2021-06-09",
          "2021-06-10",
          "2021-06-11",
          "2021-06-12",
          "2021-06-13",
          "2021-06-14",
          "2021-06-15",
          "2021-06-16",
          "2021-06-17",
          "2021-06-18",
          "2021-06-19",
          "2021-06-20",
          "2021-06-21",
          "2021-06-22",
          "2021-06-23",
          "2021-06-24",
          "2021-06-25",
          "2021-06-26",
          "2021-06-27",
          "2021-06-28",
          "2021-06-29",
          "2021-06-30",
          "2021-07-01",
          "2021-07-02",
          "2021-07-03",
          "2021-07-04",
          "2021-07-05",
          "2021-07-06",
          "2021-07-07",
          "2021-07-08",
          "2021-07-09",
          "2021-07-10",
          "2021-07-11",
          "2021-07-12",
          "2021-07-13",
          "2021-07-14",
          "2021-07-15",
          "2021-07-16",
          "2021-07-17",
          "2021-07-18",
          "2021-07-19",
          "2021-07-20",
          "2021-07-21",
          "2021-07-22",
          "2021-07-23",
          "2021-07-24",
          "2021-07-25",
          "2021-07-26",
          "2021-07-27",
          "2021-07-28",
          "2021-07-29",
          "2021-07-30",
          "2021-07-31",
          "2021-08-01",
          "2021-08-02",
          "2021-08-03",
          "2021-08-04",
          "2021-08-05",
          "2021-08-06",
          "2021-08-07",
          "2021-08-08",
          "2021-08-09",
          "2021-08-10",
          "2021-08-11",
          "2021-08-12",
          "2021-08-13",
          "2021-08-14",
          "2021-08-15",
          "2021-08-16",
          "2021-08-17",
          "2021-08-18",
          "2021-08-19",
          "2021-08-20",
          "2021-08-21",
          "2021-08-22",
          "2021-08-23",
          "2021-08-24",
          "2021-08-25",
          "2021-08-26",
          "2021-08-27",
          "2021-08-28",
          "2021-08-29",
          "2021-08-30",
          "2021-08-31",
          "2021-09-01",
          "2021-09-02",
          "2021-09-03",
          "2021-09-04",
          "2021-09-05",
          "2021-09-06",
          "2021-09-07",
          "2021-09-08",
          "2021-09-09",
          "2021-09-10",
          "2021-09-11",
          "2021-09-12",
          "2021-09-13",
          "2021-09-14",
          "2021-09-15",
          "2021-09-16",
          "2021-09-17",
          "2021-09-18",
          "2021-09-19",
          "2021-09-20",
          "2021-09-21",
          "2021-09-22",
          "2021-09-23",
          "2021-09-24",
          "2021-09-25",
          "2021-09-26",
          "2021-09-27",
          "2021-09-28",
          "2021-09-29",
          "2021-09-30",
          "2021-10-01",
          "2021-10-02",
          "2021-10-03",
          "2021-10-04",
          "2021-10-05",
          "2021-10-06",
          "2021-10-07",
          "2021-10-08",
          "2021-10-09",
          "2021-10-10",
          "2021-10-11",
          "2021-10-12",
          "2021-10-13",
          "2021-10-14",
          "2021-10-15",
          "2021-10-16",
          "2021-10-17",
          "2021-10-18",
          "2021-10-19",
          "2021-10-20",
          "2021-10-21",
          "2021-10-22",
          "2021-10-23",
          "2021-10-24",
          "2021-10-25",
          "2021-10-26",
          "2021-10-27",
          "2021-10-28",
          "2021-10-29",
          "2021-10-30",
          "2021-10-31",
          "2021-11-01",
          "2021-11-02",
          "2021-11-03",
          "2021-11-04",
          "2021-11-05",
          "2021-11-06",
          "2021-11-07",
          "2021-11-08",
          "2021-11-09",
          "2021-11-10",
          "2021-11-11",
          "2021-11-12",
          "2021-11-13",
          "2021-11-14",
          "2021-11-15",
          "2021-11-16",
          "2021-11-17",
          "2021-11-18",
          "2021-11-19",
          "2021-11-20",
          "2021-11-21",
          "2021-11-22",
          "2021-11-23",
          "2021-11-24",
          "2021-11-25",
          "2021-11-26",
          "2021-11-27",
          "2021-11-28",
          "2021-11-29",
          "2021-11-30",
          "2021-12-01",
          "2021-12-02",
          "2021-12-03",
          "2021-12-04",
          "2021-12-05",
          "2021-12-06",
          "2021-12-07",
          "2021-12-08",
          "2021-12-09",
          "2021-12-10",
          "2021-12-11",
          "2021-12-12",
          "2021-12-13",
          "2021-12-14",
          "2021-12-15",
          "2021-12-16",
          "2021-12-17",
          "2021-12-18",
          "2021-12-19",
          "2021-12-20",
          "2021-12-21",
          "2021-12-22",
          "2021-12-23",
          "2021-12-24",
          "2021-12-25",
          "2021-12-26",
          "2021-12-27",
          "2021-12-28",
          "2021-12-29",
          "2021-12-30",
          "2021-12-31",
          "2022-01-01",
          "2022-01-02",
          "2022-01-03",
          "2022-01-04",
          "2022-01-05",
          "2022-01-06",
          "2022-01-07",
          "2022-01-08",
          "2022-01-09",
          "2022-01-10",
          "2022-01-11",
          "2022-01-12",
          "2022-01-13",
          "2022-01-14",
          "2022-01-15",
          "2022-01-16",
          "2022-01-17",
          "2022-01-18",
          "2022-01-19",
          "2022-01-20",
          "2022-01-21",
          "2022-01-22",
          "2022-01-23",
          "2022-01-24",
          "2022-01-25",
          "2022-01-26",
          "2022-01-27",
          "2022-01-28",
          "2022-01-29",
          "2022-01-30",
          "2022-01-31",
          "2022-02-01",
          "2022-02-02",
          "2022-02-03",
          "2022-02-04",
          "2022-02-05",
          "2022-02-06",
          "2022-02-07",
          "2022-02-08",
          "2022-02-09",
          "2022-02-10",
          "2022-02-11",
          "2022-02-12",
          "2022-02-13",
          "2022-02-14",
          "2022-02-15",
          "2022-02-16",
          "2022-02-17",
          "2022-02-18",
          "2022-02-19",
          "2022-02-20",
          "2022-02-21",
          "2022-02-22",
          "2022-02-23",
          "2022-02-24",
          "2022-02-25",
          "2022-02-26",
          "2022-02-27",
          "2022-02-28",
          "2022-03-01",
          "2022-03-02",
          "2022-03-03",
          "2022-03-04",
          "2022-03-05",
          "2022-03-06",
          "2022-03-07",
          "2022-03-08",
          "2022-03-09",
          "2022-03-10",
          "2022-03-11",
          "2022-03-12",
          "2022-03-13",
          "2022-03-14",
          "2022-03-15",
          "2022-03-16",
          "2022-03-17",
          "2022-03-18",
          "2022-03-19",
          "2022-03-20",
          "2022-03-21",
          "2022-03-22",
          "2022-03-23",
          "2022-03-24",
          "2022-03-25",
          "2022-03-26",
          "2022-03-27",
          "2022-03-28",
          "2022-03-29",
          "2022-03-30",
          "2022-03-31",
          "2022-04-01",
          "2022-04-02",
          "2022-04-03",
          "2022-04-04",
          "2022-04-05",
          "2022-04-06",
          "2022-04-07",
          "2022-04-08",
          "2022-04-09",
          "2022-04-10",
          "2022-04-11"
         ],
         "y": [
          null,
          null,
          null,
          null,
          null,
          null,
          null,
          null,
          null,
          null,
          null,
          null,
          null,
          null,
          null,
          null,
          null,
          null,
          null,
          null,
          null,
          null,
          null,
          null,
          null,
          null,
          null,
          null,
          null,
          null,
          null,
          null,
          null,
          null,
          null,
          null,
          null,
          null,
          null,
          null,
          null,
          null,
          null,
          0.0,
          0.0,
          0.0,
          0.0,
          0.0,
          0.0,
          33629.905,
          39544.806000000004,
          47936.511999999995,
          58599.772,
          69785.744,
          81019.12,
          90778.492,
          98138.04699999999,
          102962.21399999999,
          109432.232,
          114400.825,
          117523.95199999999,
          120433.36799999999,
          123522.94200000001,
          123689.67599999999,
          123600.0,
          124670.50399999999,
          125226.35200000001,
          126553.098,
          126692.93,
          127446.608,
          128741.84400000001,
          128400.16,
          126553.098,
          125243.1,
          123819.759,
          122285.644,
          118985.955,
          115399.9,
          111723.65999999999,
          109559.85900000001,
          105944.076,
          102290.888,
          97822.52399999999,
          93142.656,
          91196.196,
          90196.30399999999,
          87930.36600000001,
          85258.712,
          82946.23199999999,
          81311.952,
          78466.496,
          77313.69,
          78304.698,
          76326.58899999999,
          76211.793,
          75903.96,
          75448.256,
          76252.95599999999,
          76326.14099999999,
          75607.1,
          74154.864,
          73049.42599999999,
          70270.08399999999,
          68856.917,
          67267.707,
          64875.50399999999,
          63665.63999999999,
          63029.54000000001,
          60926.08500000001,
          62429.697,
          61935.264,
          63358.304000000004,
          64252.832,
          62738.389,
          61696.229999999996,
          63064.47,
          60117.876000000004,
          61251.708,
          60263.595,
          58737.562,
          59124.259999999995,
          57607.925,
          56378.04,
          57427.752,
          55937.311,
          56899.884,
          57490.11,
          57801.093,
          55996.094,
          56929.861999999994,
          55196.232,
          55945.40700000001,
          51425.894,
          51889.0,
          49423.626,
          50011.21799999999,
          47931.5,
          48603.901000000005,
          46290.352,
          46912.832,
          50263.05,
          53454.293999999994,
          54001.638,
          54755.765999999996,
          55364.742,
          52855.771,
          53587.60400000001,
          54001.537000000004,
          51080.832,
          48370.064999999995,
          49001.655,
          49589.43,
          53441.792,
          54053.200000000004,
          57829.223000000005,
          58077.525,
          58593.186,
          66276.845,
          70558.68000000001,
          78418.14199999999,
          86517.384,
          94440.606,
          94864.406,
          103113.864,
          115505.628,
          128232.32600000002,
          137331.216,
          154482.2,
          163620.744,
          172336.824,
          182038.468,
          196458.54200000002,
          207167.81399999998,
          218025.782,
          220926.207,
          227085.174,
          232620.85,
          239379.50400000002,
          246913.17,
          263569.32,
          284837.952,
          302298.77400000003,
          309545.384,
          320499.06000000006,
          333236.952,
          351927.89999999997,
          371140.536,
          381010.601,
          401285.204,
          410555.433,
          418268.67600000004,
          438211.692,
          455124.907,
          467030.79,
          489910.701,
          514014.336,
          541606.6,
          545570.3,
          557491.7200000001,
          571821.894,
          598123.0499999999,
          619341.145,
          642144.179,
          650022.263,
          661330.56,
          676033.068,
          693291.536,
          705603.136,
          723754.378,
          736438.854,
          751871.268,
          765304.415,
          768686.61,
          774491.943,
          787200.9400000001,
          793025.296,
          820978.0680000001,
          830367.336,
          844413.605,
          869143.743,
          904081.44,
          947680.912,
          985415.479,
          1022604.4400000001,
          1049922.588,
          1065583.4980000001,
          1077595.3930000002,
          1101264.9300000002,
          1101203.4000000001,
          1109627.247,
          1101406.72,
          1088343.75,
          1079431.149,
          1074330.444,
          1072618.043,
          1070378.361,
          1057610.49,
          1064589.159,
          1066750.272,
          1064838.318,
          1066437.79,
          1051937.865,
          1056846.606,
          1060627.9949999999,
          1055111.709,
          1064545.479,
          1060032.042,
          1081312.025,
          1096325.923,
          1132357.065,
          1157938.912,
          1205708.078,
          1226765.43,
          1244435.652,
          1273013.365,
          1332371.4300000002,
          1373679.356,
          1416321.577,
          1448518.2,
          1474321.788,
          1471384.66,
          1488804.43,
          1548313.5,
          1621898.553,
          1683896.9400000002,
          1736145.8080000002,
          1779069.992,
          1817234.9220000003,
          1853506.8980000003,
          1883113.4810000001,
          1898780.2260000003,
          1899226.2640000002,
          1914118.425,
          1932709.5450000002,
          1930817.5240000002,
          1934420.628,
          1960367.7310000001,
          2002752.878,
          2044771.56,
          2072624.3550000002,
          2074771.4460000002,
          2087820.3660000002,
          2094026.8790000002,
          2089313.105,
          2082690.165,
          2057962.914,
          2032424.202,
          2029980.814,
          2007552.0,
          1976149.539,
          1946781.648,
          1931572.608,
          1897432.76,
          1862300.432,
          1854413.19,
          1844015.264,
          1840658.204,
          1803237.0,
          1745959.4880000001,
          1686772.16,
          1628448.3599999999,
          1580666.0350000001,
          1585514.01,
          1559280.164,
          1535040.0720000002,
          1509678.703,
          1463684.152,
          1474889.896,
          1461729.525,
          1465676.25,
          1453316.784,
          1458241.2619999999,
          1468935.964,
          1541149.225,
          1594409.126,
          1622447.76,
          1627207.84,
          1679964.75,
          1714782.8220000002,
          1749748.1400000001,
          1742911.1900000002,
          1757388.216,
          1765815.787,
          1770979.134,
          1805993.28,
          1822159.2480000001,
          1860882.2200000002,
          1894937.3299999998,
          1943377.832,
          1993994.91,
          2021852.6509999998,
          2192027.642,
          2411792.84,
          2658566.5470000003,
          2879605.764,
          2955045.828,
          3034280.964,
          3135409.2800000003,
          3297220.1199999996,
          3490408.738,
          3669796.884,
          3816508.864,
          3874423.4280000003,
          3990557.3320000004,
          4029587.756,
          4160276.9550000005,
          4274362.026,
          4293483.033,
          4360559.711999999,
          4481571.324,
          4485814.08,
          4531513.467,
          4497477.702,
          4496180.448,
          4494845.5600000005,
          4466070.813,
          4408593.681,
          4358062.88,
          4324719.752,
          4312707.828,
          4249267.92,
          4184604.5399999996,
          4114599.5519999997,
          4042129.5600000005,
          3954086.3040000005,
          3884610.933,
          3800167.14,
          3717206.375,
          3602783.76,
          3483664.295,
          3330941.246,
          3256740.608,
          3206404.2399999998,
          3105247.2,
          2941534.386,
          2836459.17,
          2728836.3299999996,
          2650239.0530000003,
          2626889.188,
          2632190.898,
          2613208.878,
          2562998.0270000002,
          2510796.673,
          2522832.928,
          2501479.732,
          2474794.9499999997,
          2446042.324,
          2390461.488,
          2334850.9800000004,
          2244621.739,
          2219253.63,
          2194272.535,
          2165323.648,
          2168521.088,
          2108967.014,
          2050289.94,
          2024628.247,
          1963302.357,
          1935996.832,
          1940123.36,
          1908221.81,
          1915494.1300000001,
          1923334.875,
          1930423.55,
          1936694.43,
          1943634.0,
          1947587.785,
          1950208.92,
          1957365.465,
          2000704.832,
          2007926.76,
          2050584.1770000001,
          2056475.6970000002,
          2060260.497,
          2063063.1870000002,
          2070633.642,
          2115722.5500000003,
          2160431.556,
          2204872.8,
          2249954.927,
          2292084.386,
          2295374.292,
          2377710.144,
          2497860.2320000003,
          2618560.2800000003,
          2736849.716,
          2815838.625,
          2859024.012,
          2939078.454,
          3023252.56,
          3073217.355,
          3123382.7060000002,
          3135150.526,
          3108995.379,
          3116517.201,
          3121317.666,
          3093797.44,
          3028874.472,
          3002275.122,
          3013018.085,
          3024298.508,
          3031110.236,
          3035701.207,
          3007519.424,
          3019629.188,
          3070843.699,
          3041987.4,
          3052747.0239999997,
          3019544.4,
          3024104.475,
          3035380.5,
          2966352.0069999998,
          2936511.9359999998,
          2905883.456,
          2875591.8800000004,
          2839971.828,
          2843987.2830000003,
          2770035.203,
          2738591.724,
          2664863.552,
          2589913.228,
          2556707.762,
          2519801.82,
          2523330.7199999997,
          2489112.119,
          2412737.724,
          2377792.536,
          2342081.28,
          2263888.852,
          2225379.884,
          2228274.3079999997,
          2191966.689,
          2155849.45,
          2162114.15,
          2167874.3000000003,
          2173992.95,
          2177627.95,
          2180279.3000000003,
          2185968.95,
          2192548.35,
          2198597.0,
          2204290.5500000003,
          2166062.199,
          2169662.67,
          2172122.323,
          2178137.563,
          2184256.9280000003,
          2190032.8030000003,
          2150358.576,
          2111001.757,
          2069407.29,
          2071650.71,
          2076960.9039999999,
          2037088.9349999998,
          2041908.03,
          2000977.308,
          2005630.572,
          2008605.4999999998,
          1964994.0909999998,
          1969814.907,
          1928875.7040000001,
          1933233.0780000002,
          1937216.5680000002,
          1987706.261,
          1990560.214,
          1992524.3679999998,
          2043642.3039999998,
          2094934.095,
          2192947.244,
          2243484.912,
          2389330.824,
          2486965.64,
          2583675.215,
          2873080.5409999997,
          3212030.3880000003,
          3695325.036,
          4133811.4379999996,
          4528619.22,
          4825291.766000001,
          5023872.0,
          5375951.28,
          5780491.8,
          6188329.984,
          6453506.465000001,
          6674713.295000001,
          6838356.28,
          6949079.56,
          7220781.414,
          7399155.45,
          7529791.6559999995,
          7661749.942,
          7795105.5,
          7916497.886,
          8031468.8,
          8063948.96,
          8149746.423,
          8235703.998000001,
          8321696.376,
          8358037.226000001,
          8381149.811000001,
          8344262.79,
          8323928.942,
          8306791.36,
          8184642.831,
          8113015.27,
          8042178.473999999,
          7957748.471,
          7917760.05,
          7732662.677999999,
          7654544.783999999,
          7575097.351999999,
          7493044.44,
          7464294.301000001,
          7425818.088,
          7381414.506000001,
          7294427.595000001,
          7209019.615,
          7067357.57,
          6869817.4860000005,
          6725158.209,
          6627419.26,
          6525528.625,
          6375309.192000001,
          6172050.416,
          6023134.208,
          5927845.047,
          5831708.925,
          5729371.601,
          5679418.344,
          5637375.196,
          5539341.555000001,
          5328590.565,
          5171854.06,
          4958005.448,
          4795450.100000001,
          4743553.92,
          4471431.205,
          4198491.38,
          3980688.8800000004,
          3760762.302,
          3596799.024,
          3486819.292,
          3489677.996,
          3381746.837,
          3273673.248,
          3164528.5100000002,
          3054774.462,
          2944577.82,
          2889960.0500000003,
          2834365.31,
          2723841.619,
          2613017.79,
          2501662.6859999998,
          2331048.64,
          2218457.784,
          2220748.994,
          2164006.309,
          2051061.5650000002,
          1937740.695,
          1882657.376,
          1768083.48,
          1712065.0250000001,
          1654792.692,
          1656146.492,
          1600297.911,
          1544226.632,
          1487778.5750000002,
          1430720.616,
          1373403.4849999999,
          1315006.308,
          1315980.8199999998,
          1258490.0580000002,
          1260794.6190000002,
          1202871.8,
          1204652.48,
          1266602.6730000002,
          1267535.367,
          1268204.8260000001,
          1330639.552,
          1331725.098,
          1334144.834,
          1336329.9179999998,
          1338409.9959999998,
          1339597.4679999999,
          1401375.073,
          1342747.802,
          1406214.871,
          1469713.7280000001,
          1471816.392,
          1535380.225,
          1536664.35,
          1537612.05,
          1540152.425,
          1604482.672,
          1545294.9000000001,
          1609367.162,
          1673478.279,
          1736807.5760000001,
          1737906.352,
          1739104.024,
          1804253.85,
          1931998.492,
          1997363.584,
          2062889.631,
          2127279.4960000003,
          2128647.316,
          2194968.37,
          2261632.8959999997,
          2328682.949,
          2458606.917,
          2588983.827,
          2654747.9280000003,
          2719979.9209999996,
          2851945.065,
          3048385.1040000003,
          3245449.7189999996,
          3442966.182,
          3577673.344,
          3645828.015,
          3712907.004,
          3913609.7569999998,
          4051502.2800000003,
          4254500.778,
          4393227.244,
          4532922.170000001,
          4668727.392,
          4738120.845,
          4944816.12,
          5088978.102,
          5234231.76,
          5446222.869,
          5593620.670000001,
          5800745.631999999,
          5939433.359999999,
          6144701.859,
          6492023.426,
          6900917.0879999995,
          7321474.82,
          7813327.743000001,
          8030236.56,
          8243882.874,
          8472945.6,
          8775254.540000001,
          9081949.428000001,
          9528162.0,
          9845632.224,
          1.0011124224E7,
          1.0238680126E7,
          1.070247999E7,
          1.1390968992E7,
          1.2164651981999999E7,
          1.2886152156E7,
          1.373435125E7,
          1.43405254E7,
          1.4880578251E7,
          1.6256113545E7,
          1.7805134802E7,
          1.959471864E7,
          2.1401861821E7,
          2.2601733924E7,
          2.3094019248E7,
          2.3671054563E7,
          2.4686055234E7,
          2.5873573016999997E7,
          2.6842911242E7,
          2.7660602976E7,
          2.8550163852E7,
          2.8859513655E7,
          2.9385647622E7,
          3.0151119855E7,
          3.054435876E7,
          3.055310082E7,
          3.0089240144E7,
          2.9537234245E7,
          2.9457620725E7,
          2.9355936375E7,
          2.8868571952999998E7,
          2.8376645579E7,
          2.819089861E7,
          2.8309326255E7,
          2.8425622125E7,
          2.848316088E7,
          2.8365969108999997E7,
          2.8161328264999997E7,
          2.802910881E7,
          2.7966418431999996E7,
          2.773131494E7,
          2.7408774060000002E7,
          2.7123180002E7,
          2.682557907E7,
          2.6251481674E7,
          2.5665644779E7,
          2.5152535007999998E7,
          2.4713097684E7,
          2.4436857522E7,
          2.4131259599999998E7,
          2.3735826854999997E7,
          2.3374839040000003E7,
          2.3007007375E7,
          2.2549064073000003E7,
          2.2084165756E7,
          2.1531232768E7,
          2.1129293452E7,
          2.0890977128E7,
          2.0086239908E7,
          1.9360360511E7,
          1.86293437E7,
          1.7892293599999998E7,
          1.7408495244999997E7,
          1.7166265828E7,
          1.7006048400000002E7,
          1.6353076416000001E7,
          1.5866273928E7,
          1.537626618E7,
          1.4967052274999999E7,
          1.4641949214000002E7,
          1.45653484E7,
          1.4487304286E7,
          1.4248945818E7,
          1.4181905100000001E7,
          1.4201301345E7,
          1.4391030111000001E7,
          1.449474096E7,
          1.4590891822E7,
          1.4598819781000001E7,
          1.4793443244E7,
          1.4900520991999999E7,
          1.483342749E7,
          1.4850475848000001E7,
          1.4866838325000001E7,
          1.4876033850000001E7,
          1.4884081281000001E7,
          1.5080386298999999E7,
          1.5188671236E7,
          1.5383264863999998E7,
          1.5487749569999998E7,
          1.5591655993999999E7,
          1.5688239842E7,
          1.5696107786999999E7,
          1.5806358899999999E7,
          1.6091840931E7,
          1.6376188277999999E7,
          1.6481185534E7,
          1.6585766456E7,
          1.6506314594E7,
          1.642512804E7,
          1.6354010915E7,
          1.6103555468E7,
          1.5851073636E7,
          1.5596007328E7,
          1.5429518729999999E7,
          1.5346968399999999E7,
          1.5351909972E7,
          1.5542832549999999E7,
          1.5821372114E7,
          1.60982667E7,
          null,
          null,
          null,
          null,
          null
         ],
         "type": "bar"
        },
        {
         "name": "total tests taken",
         "x": [
          "2020-02-01",
          "2020-02-02",
          "2020-02-03",
          "2020-02-04",
          "2020-02-05",
          "2020-02-06",
          "2020-02-07",
          "2020-02-08",
          "2020-02-09",
          "2020-02-10",
          "2020-02-11",
          "2020-02-12",
          "2020-02-13",
          "2020-02-14",
          "2020-02-15",
          "2020-02-16",
          "2020-02-17",
          "2020-02-18",
          "2020-02-19",
          "2020-02-20",
          "2020-02-21",
          "2020-02-22",
          "2020-02-23",
          "2020-02-24",
          "2020-02-25",
          "2020-02-26",
          "2020-02-27",
          "2020-02-28",
          "2020-02-29",
          "2020-03-01",
          "2020-03-02",
          "2020-03-03",
          "2020-03-04",
          "2020-03-05",
          "2020-03-06",
          "2020-03-07",
          "2020-03-08",
          "2020-03-09",
          "2020-03-10",
          "2020-03-11",
          "2020-03-12",
          "2020-03-13",
          "2020-03-14",
          "2020-03-15",
          "2020-03-16",
          "2020-03-17",
          "2020-03-18",
          "2020-03-19",
          "2020-03-20",
          "2020-03-21",
          "2020-03-22",
          "2020-03-23",
          "2020-03-24",
          "2020-03-25",
          "2020-03-26",
          "2020-03-27",
          "2020-03-28",
          "2020-03-29",
          "2020-03-30",
          "2020-03-31",
          "2020-04-01",
          "2020-04-02",
          "2020-04-03",
          "2020-04-04",
          "2020-04-05",
          "2020-04-06",
          "2020-04-07",
          "2020-04-08",
          "2020-04-09",
          "2020-04-10",
          "2020-04-11",
          "2020-04-12",
          "2020-04-13",
          "2020-04-14",
          "2020-04-15",
          "2020-04-16",
          "2020-04-17",
          "2020-04-18",
          "2020-04-19",
          "2020-04-20",
          "2020-04-21",
          "2020-04-22",
          "2020-04-23",
          "2020-04-24",
          "2020-04-25",
          "2020-04-26",
          "2020-04-27",
          "2020-04-28",
          "2020-04-29",
          "2020-04-30",
          "2020-05-01",
          "2020-05-02",
          "2020-05-03",
          "2020-05-04",
          "2020-05-05",
          "2020-05-06",
          "2020-05-07",
          "2020-05-08",
          "2020-05-09",
          "2020-05-10",
          "2020-05-11",
          "2020-05-12",
          "2020-05-13",
          "2020-05-14",
          "2020-05-15",
          "2020-05-16",
          "2020-05-17",
          "2020-05-18",
          "2020-05-19",
          "2020-05-20",
          "2020-05-21",
          "2020-05-22",
          "2020-05-23",
          "2020-05-24",
          "2020-05-25",
          "2020-05-26",
          "2020-05-27",
          "2020-05-28",
          "2020-05-29",
          "2020-05-30",
          "2020-05-31",
          "2020-06-01",
          "2020-06-02",
          "2020-06-03",
          "2020-06-04",
          "2020-06-05",
          "2020-06-06",
          "2020-06-07",
          "2020-06-08",
          "2020-06-09",
          "2020-06-10",
          "2020-06-11",
          "2020-06-12",
          "2020-06-13",
          "2020-06-14",
          "2020-06-15",
          "2020-06-16",
          "2020-06-17",
          "2020-06-18",
          "2020-06-19",
          "2020-06-20",
          "2020-06-21",
          "2020-06-22",
          "2020-06-23",
          "2020-06-24",
          "2020-06-25",
          "2020-06-26",
          "2020-06-27",
          "2020-06-28",
          "2020-06-29",
          "2020-06-30",
          "2020-07-01",
          "2020-07-02",
          "2020-07-03",
          "2020-07-04",
          "2020-07-05",
          "2020-07-06",
          "2020-07-07",
          "2020-07-08",
          "2020-07-09",
          "2020-07-10",
          "2020-07-11",
          "2020-07-12",
          "2020-07-13",
          "2020-07-14",
          "2020-07-15",
          "2020-07-16",
          "2020-07-17",
          "2020-07-18",
          "2020-07-19",
          "2020-07-20",
          "2020-07-21",
          "2020-07-22",
          "2020-07-23",
          "2020-07-24",
          "2020-07-25",
          "2020-07-26",
          "2020-07-27",
          "2020-07-28",
          "2020-07-29",
          "2020-07-30",
          "2020-07-31",
          "2020-08-01",
          "2020-08-02",
          "2020-08-03",
          "2020-08-04",
          "2020-08-05",
          "2020-08-06",
          "2020-08-07",
          "2020-08-08",
          "2020-08-09",
          "2020-08-10",
          "2020-08-11",
          "2020-08-12",
          "2020-08-13",
          "2020-08-14",
          "2020-08-15",
          "2020-08-16",
          "2020-08-17",
          "2020-08-18",
          "2020-08-19",
          "2020-08-20",
          "2020-08-21",
          "2020-08-22",
          "2020-08-23",
          "2020-08-24",
          "2020-08-25",
          "2020-08-26",
          "2020-08-27",
          "2020-08-28",
          "2020-08-29",
          "2020-08-30",
          "2020-08-31",
          "2020-09-01",
          "2020-09-02",
          "2020-09-03",
          "2020-09-04",
          "2020-09-05",
          "2020-09-06",
          "2020-09-07",
          "2020-09-08",
          "2020-09-09",
          "2020-09-10",
          "2020-09-11",
          "2020-09-12",
          "2020-09-13",
          "2020-09-14",
          "2020-09-15",
          "2020-09-16",
          "2020-09-17",
          "2020-09-18",
          "2020-09-19",
          "2020-09-20",
          "2020-09-21",
          "2020-09-22",
          "2020-09-23",
          "2020-09-24",
          "2020-09-25",
          "2020-09-26",
          "2020-09-27",
          "2020-09-28",
          "2020-09-29",
          "2020-09-30",
          "2020-10-01",
          "2020-10-02",
          "2020-10-03",
          "2020-10-04",
          "2020-10-05",
          "2020-10-06",
          "2020-10-07",
          "2020-10-08",
          "2020-10-09",
          "2020-10-10",
          "2020-10-11",
          "2020-10-12",
          "2020-10-13",
          "2020-10-14",
          "2020-10-15",
          "2020-10-16",
          "2020-10-17",
          "2020-10-18",
          "2020-10-19",
          "2020-10-20",
          "2020-10-21",
          "2020-10-22",
          "2020-10-23",
          "2020-10-24",
          "2020-10-25",
          "2020-10-26",
          "2020-10-27",
          "2020-10-28",
          "2020-10-29",
          "2020-10-30",
          "2020-10-31",
          "2020-11-01",
          "2020-11-02",
          "2020-11-03",
          "2020-11-04",
          "2020-11-05",
          "2020-11-06",
          "2020-11-07",
          "2020-11-08",
          "2020-11-09",
          "2020-11-10",
          "2020-11-11",
          "2020-11-12",
          "2020-11-13",
          "2020-11-14",
          "2020-11-15",
          "2020-11-16",
          "2020-11-17",
          "2020-11-18",
          "2020-11-19",
          "2020-11-20",
          "2020-11-21",
          "2020-11-22",
          "2020-11-23",
          "2020-11-24",
          "2020-11-25",
          "2020-11-26",
          "2020-11-27",
          "2020-11-28",
          "2020-11-29",
          "2020-11-30",
          "2020-12-01",
          "2020-12-02",
          "2020-12-03",
          "2020-12-04",
          "2020-12-05",
          "2020-12-06",
          "2020-12-07",
          "2020-12-08",
          "2020-12-09",
          "2020-12-10",
          "2020-12-11",
          "2020-12-12",
          "2020-12-13",
          "2020-12-14",
          "2020-12-15",
          "2020-12-16",
          "2020-12-17",
          "2020-12-18",
          "2020-12-19",
          "2020-12-20",
          "2020-12-21",
          "2020-12-22",
          "2020-12-23",
          "2020-12-24",
          "2020-12-25",
          "2020-12-26",
          "2020-12-27",
          "2020-12-28",
          "2020-12-29",
          "2020-12-30",
          "2020-12-31",
          "2021-01-01",
          "2021-01-02",
          "2021-01-03",
          "2021-01-04",
          "2021-01-05",
          "2021-01-06",
          "2021-01-07",
          "2021-01-08",
          "2021-01-09",
          "2021-01-10",
          "2021-01-11",
          "2021-01-12",
          "2021-01-13",
          "2021-01-14",
          "2021-01-15",
          "2021-01-16",
          "2021-01-17",
          "2021-01-18",
          "2021-01-19",
          "2021-01-20",
          "2021-01-21",
          "2021-01-22",
          "2021-01-23",
          "2021-01-24",
          "2021-01-25",
          "2021-01-26",
          "2021-01-27",
          "2021-01-28",
          "2021-01-29",
          "2021-01-30",
          "2021-01-31",
          "2021-02-01",
          "2021-02-02",
          "2021-02-03",
          "2021-02-04",
          "2021-02-05",
          "2021-02-06",
          "2021-02-07",
          "2021-02-08",
          "2021-02-09",
          "2021-02-10",
          "2021-02-11",
          "2021-02-12",
          "2021-02-13",
          "2021-02-14",
          "2021-02-15",
          "2021-02-16",
          "2021-02-17",
          "2021-02-18",
          "2021-02-19",
          "2021-02-20",
          "2021-02-21",
          "2021-02-22",
          "2021-02-23",
          "2021-02-24",
          "2021-02-25",
          "2021-02-26",
          "2021-02-27",
          "2021-02-28",
          "2021-03-01",
          "2021-03-02",
          "2021-03-03",
          "2021-03-04",
          "2021-03-05",
          "2021-03-06",
          "2021-03-07",
          "2021-03-08",
          "2021-03-09",
          "2021-03-10",
          "2021-03-11",
          "2021-03-12",
          "2021-03-13",
          "2021-03-14",
          "2021-03-15",
          "2021-03-16",
          "2021-03-17",
          "2021-03-18",
          "2021-03-19",
          "2021-03-20",
          "2021-03-21",
          "2021-03-22",
          "2021-03-23",
          "2021-03-24",
          "2021-03-25",
          "2021-03-26",
          "2021-03-27",
          "2021-03-28",
          "2021-03-29",
          "2021-03-30",
          "2021-03-31",
          "2021-04-01",
          "2021-04-02",
          "2021-04-03",
          "2021-04-04",
          "2021-04-05",
          "2021-04-06",
          "2021-04-07",
          "2021-04-08",
          "2021-04-09",
          "2021-04-10",
          "2021-04-11",
          "2021-04-12",
          "2021-04-13",
          "2021-04-14",
          "2021-04-15",
          "2021-04-16",
          "2021-04-17",
          "2021-04-18",
          "2021-04-19",
          "2021-04-20",
          "2021-04-21",
          "2021-04-22",
          "2021-04-23",
          "2021-04-24",
          "2021-04-25",
          "2021-04-26",
          "2021-04-27",
          "2021-04-28",
          "2021-04-29",
          "2021-04-30",
          "2021-05-01",
          "2021-05-02",
          "2021-05-03",
          "2021-05-04",
          "2021-05-05",
          "2021-05-06",
          "2021-05-07",
          "2021-05-08",
          "2021-05-09",
          "2021-05-10",
          "2021-05-11",
          "2021-05-12",
          "2021-05-13",
          "2021-05-14",
          "2021-05-15",
          "2021-05-16",
          "2021-05-17",
          "2021-05-18",
          "2021-05-19",
          "2021-05-20",
          "2021-05-21",
          "2021-05-22",
          "2021-05-23",
          "2021-05-24",
          "2021-05-25",
          "2021-05-26",
          "2021-05-27",
          "2021-05-28",
          "2021-05-29",
          "2021-05-30",
          "2021-05-31",
          "2021-06-01",
          "2021-06-02",
          "2021-06-03",
          "2021-06-04",
          "2021-06-05",
          "2021-06-06",
          "2021-06-07",
          "2021-06-08",
          "2021-06-09",
          "2021-06-10",
          "2021-06-11",
          "2021-06-12",
          "2021-06-13",
          "2021-06-14",
          "2021-06-15",
          "2021-06-16",
          "2021-06-17",
          "2021-06-18",
          "2021-06-19",
          "2021-06-20",
          "2021-06-21",
          "2021-06-22",
          "2021-06-23",
          "2021-06-24",
          "2021-06-25",
          "2021-06-26",
          "2021-06-27",
          "2021-06-28",
          "2021-06-29",
          "2021-06-30",
          "2021-07-01",
          "2021-07-02",
          "2021-07-03",
          "2021-07-04",
          "2021-07-05",
          "2021-07-06",
          "2021-07-07",
          "2021-07-08",
          "2021-07-09",
          "2021-07-10",
          "2021-07-11",
          "2021-07-12",
          "2021-07-13",
          "2021-07-14",
          "2021-07-15",
          "2021-07-16",
          "2021-07-17",
          "2021-07-18",
          "2021-07-19",
          "2021-07-20",
          "2021-07-21",
          "2021-07-22",
          "2021-07-23",
          "2021-07-24",
          "2021-07-25",
          "2021-07-26",
          "2021-07-27",
          "2021-07-28",
          "2021-07-29",
          "2021-07-30",
          "2021-07-31",
          "2021-08-01",
          "2021-08-02",
          "2021-08-03",
          "2021-08-04",
          "2021-08-05",
          "2021-08-06",
          "2021-08-07",
          "2021-08-08",
          "2021-08-09",
          "2021-08-10",
          "2021-08-11",
          "2021-08-12",
          "2021-08-13",
          "2021-08-14",
          "2021-08-15",
          "2021-08-16",
          "2021-08-17",
          "2021-08-18",
          "2021-08-19",
          "2021-08-20",
          "2021-08-21",
          "2021-08-22",
          "2021-08-23",
          "2021-08-24",
          "2021-08-25",
          "2021-08-26",
          "2021-08-27",
          "2021-08-28",
          "2021-08-29",
          "2021-08-30",
          "2021-08-31",
          "2021-09-01",
          "2021-09-02",
          "2021-09-03",
          "2021-09-04",
          "2021-09-05",
          "2021-09-06",
          "2021-09-07",
          "2021-09-08",
          "2021-09-09",
          "2021-09-10",
          "2021-09-11",
          "2021-09-12",
          "2021-09-13",
          "2021-09-14",
          "2021-09-15",
          "2021-09-16",
          "2021-09-17",
          "2021-09-18",
          "2021-09-19",
          "2021-09-20",
          "2021-09-21",
          "2021-09-22",
          "2021-09-23",
          "2021-09-24",
          "2021-09-25",
          "2021-09-26",
          "2021-09-27",
          "2021-09-28",
          "2021-09-29",
          "2021-09-30",
          "2021-10-01",
          "2021-10-02",
          "2021-10-03",
          "2021-10-04",
          "2021-10-05",
          "2021-10-06",
          "2021-10-07",
          "2021-10-08",
          "2021-10-09",
          "2021-10-10",
          "2021-10-11",
          "2021-10-12",
          "2021-10-13",
          "2021-10-14",
          "2021-10-15",
          "2021-10-16",
          "2021-10-17",
          "2021-10-18",
          "2021-10-19",
          "2021-10-20",
          "2021-10-21",
          "2021-10-22",
          "2021-10-23",
          "2021-10-24",
          "2021-10-25",
          "2021-10-26",
          "2021-10-27",
          "2021-10-28",
          "2021-10-29",
          "2021-10-30",
          "2021-10-31",
          "2021-11-01",
          "2021-11-02",
          "2021-11-03",
          "2021-11-04",
          "2021-11-05",
          "2021-11-06",
          "2021-11-07",
          "2021-11-08",
          "2021-11-09",
          "2021-11-10",
          "2021-11-11",
          "2021-11-12",
          "2021-11-13",
          "2021-11-14",
          "2021-11-15",
          "2021-11-16",
          "2021-11-17",
          "2021-11-18",
          "2021-11-19",
          "2021-11-20",
          "2021-11-21",
          "2021-11-22",
          "2021-11-23",
          "2021-11-24",
          "2021-11-25",
          "2021-11-26",
          "2021-11-27",
          "2021-11-28",
          "2021-11-29",
          "2021-11-30",
          "2021-12-01",
          "2021-12-02",
          "2021-12-03",
          "2021-12-04",
          "2021-12-05",
          "2021-12-06",
          "2021-12-07",
          "2021-12-08",
          "2021-12-09",
          "2021-12-10",
          "2021-12-11",
          "2021-12-12",
          "2021-12-13",
          "2021-12-14",
          "2021-12-15",
          "2021-12-16",
          "2021-12-17",
          "2021-12-18",
          "2021-12-19",
          "2021-12-20",
          "2021-12-21",
          "2021-12-22",
          "2021-12-23",
          "2021-12-24",
          "2021-12-25",
          "2021-12-26",
          "2021-12-27",
          "2021-12-28",
          "2021-12-29",
          "2021-12-30",
          "2021-12-31",
          "2022-01-01",
          "2022-01-02",
          "2022-01-03",
          "2022-01-04",
          "2022-01-05",
          "2022-01-06",
          "2022-01-07",
          "2022-01-08",
          "2022-01-09",
          "2022-01-10",
          "2022-01-11",
          "2022-01-12",
          "2022-01-13",
          "2022-01-14",
          "2022-01-15",
          "2022-01-16",
          "2022-01-17",
          "2022-01-18",
          "2022-01-19",
          "2022-01-20",
          "2022-01-21",
          "2022-01-22",
          "2022-01-23",
          "2022-01-24",
          "2022-01-25",
          "2022-01-26",
          "2022-01-27",
          "2022-01-28",
          "2022-01-29",
          "2022-01-30",
          "2022-01-31",
          "2022-02-01",
          "2022-02-02",
          "2022-02-03",
          "2022-02-04",
          "2022-02-05",
          "2022-02-06",
          "2022-02-07",
          "2022-02-08",
          "2022-02-09",
          "2022-02-10",
          "2022-02-11",
          "2022-02-12",
          "2022-02-13",
          "2022-02-14",
          "2022-02-15",
          "2022-02-16",
          "2022-02-17",
          "2022-02-18",
          "2022-02-19",
          "2022-02-20",
          "2022-02-21",
          "2022-02-22",
          "2022-02-23",
          "2022-02-24",
          "2022-02-25",
          "2022-02-26",
          "2022-02-27",
          "2022-02-28",
          "2022-03-01",
          "2022-03-02",
          "2022-03-03",
          "2022-03-04",
          "2022-03-05",
          "2022-03-06",
          "2022-03-07",
          "2022-03-08",
          "2022-03-09",
          "2022-03-10",
          "2022-03-11",
          "2022-03-12",
          "2022-03-13",
          "2022-03-14",
          "2022-03-15",
          "2022-03-16",
          "2022-03-17",
          "2022-03-18",
          "2022-03-19",
          "2022-03-20",
          "2022-03-21",
          "2022-03-22",
          "2022-03-23",
          "2022-03-24",
          "2022-03-25",
          "2022-03-26",
          "2022-03-27",
          "2022-03-28",
          "2022-03-29",
          "2022-03-30",
          "2022-03-31",
          "2022-04-01",
          "2022-04-02",
          "2022-04-03",
          "2022-04-04",
          "2022-04-05",
          "2022-04-06",
          "2022-04-07",
          "2022-04-08",
          "2022-04-09",
          "2022-04-10",
          "2022-04-11"
         ],
         "y": [
          null,
          null,
          null,
          null,
          null,
          null,
          null,
          null,
          null,
          null,
          null,
          null,
          null,
          null,
          null,
          null,
          null,
          null,
          null,
          null,
          null,
          null,
          null,
          null,
          null,
          null,
          null,
          null,
          null,
          null,
          null,
          null,
          null,
          null,
          null,
          null,
          null,
          null,
          null,
          null,
          null,
          null,
          null,
          6303.0,
          15353.0,
          27042.0,
          39814.0,
          54737.0,
          70911.0,
          85139.0,
          97401.0,
          115232.0,
          137236.0,
          161168.0,
          186680.0,
          212596.0,
          233107.0,
          248701.0,
          271544.0,
          297145.0,
          322868.0,
          350097.0,
          377746.0,
          397716.0,
          412000.0,
          434392.0,
          460391.0,
          488622.0,
          517114.0,
          540028.0,
          557324.0,
          573215.0,
          594146.0,
          623100.0,
          655131.0,
          686998.0,
          721127.0,
          749350.0,
          770508.0,
          799707.0,
          840826.0,
          881818.0,
          922854.0,
          970236.0,
          1002156.0,
          1024958.0,
          1059402.0,
          1107256.0,
          1152031.0,
          1195764.0,
          1226039.0,
          1246995.0,
          1262979.0,
          1293671.0,
          1337049.0,
          1380072.0,
          1423552.0,
          1466403.0,
          1496591.0,
          1512142.0,
          1544893.0,
          1588031.0,
          1634188.0,
          1679437.0,
          1724813.0,
          1753392.0,
          1768490.0,
          1800844.0,
          1846245.0,
          1891809.0,
          1935477.0,
          1979947.0,
          2007901.0,
          2023819.0,
          2056541.0,
          2102149.0,
          2147067.0,
          2187561.0,
          2231985.0,
          2259137.0,
          2274010.0,
          2304317.0,
          2349085.0,
          2392823.0,
          2432057.0,
          2473908.0,
          2499570.0,
          2513091.0,
          2545277.0,
          2587721.0,
          2628392.0,
          2664067.0,
          2706626.0,
          2731000.0,
          2745757.0,
          2778401.0,
          2819500.0,
          2859053.0,
          2893147.0,
          2932052.0,
          2956650.0,
          2969683.0,
          3000091.0,
          3041987.0,
          3075819.0,
          3109163.0,
          3152212.0,
          3176561.0,
          3192552.0,
          3224671.0,
          3266777.0,
          3305962.0,
          3340112.0,
          3378325.0,
          3401719.0,
          3416325.0,
          3446658.0,
          3488255.0,
          3527934.0,
          3564461.0,
          3604891.0,
          3632331.0,
          3648631.0,
          3682638.0,
          3725988.0,
          3771539.0,
          3814756.0,
          3862055.0,
          3895732.0,
          3916746.0,
          3957358.0,
          4009358.0,
          4062114.0,
          4113694.0,
          4168419.0,
          4205281.0,
          4229470.0,
          4274634.0,
          4331810.0,
          4392822.0,
          4450593.0,
          4511922.0,
          4552138.0,
          4578558.0,
          4628291.0,
          4692372.0,
          4758212.0,
          4822919.0,
          4893722.0,
          4946451.0,
          4979389.0,
          5036916.0,
          5113763.0,
          5189231.0,
          5267857.0,
          5354316.0,
          5416066.0,
          5455703.0,
          5519720.0,
          5606097.0,
          5696410.0,
          5788235.0,
          5891231.0,
          5963507.0,
          6012096.0,
          6090388.0,
          6190103.0,
          6300028.0,
          6404906.0,
          6517158.0,
          6595362.0,
          6654821.0,
          6742865.0,
          6853911.0,
          6966380.0,
          7080583.0,
          7201562.0,
          7283924.0,
          7342727.0,
          7428579.0,
          7534012.0,
          7642588.0,
          7759177.0,
          7866188.0,
          7953959.0,
          8011906.0,
          8102221.0,
          8218395.0,
          8342450.0,
          8470437.0,
          8604740.0,
          8706750.0,
          8775863.0,
          8878764.0,
          9013597.0,
          9148533.0,
          9277285.0,
          9421143.0,
          9524556.0,
          9593138.0,
          9694889.0,
          9831195.0,
          9970251.0,
          1.0101219E7,
          1.0243803E7,
          1.0335393E7,
          1.0392471E7,
          1.0498175E7,
          1.0643941E7,
          1.0784353E7,
          1.0923952E7,
          1.1061542E7,
          1.1152413E7,
          1.1211132E7,
          1.1265605E7,
          1.138779E7,
          1.1543524E7,
          1.1705137E7,
          1.18731E7,
          1.1986356E7,
          1.206053E7,
          1.2203315E7,
          1.2386508E7,
          1.2572857E7,
          1.2756795E7,
          1.2956312E7,
          1.3081397E7,
          1.3168369E7,
          1.3334582E7,
          1.3547579E7,
          1.3759277E7,
          1.3964899E7,
          1.4178655E7,
          1.4316367E7,
          1.4409086E7,
          1.4544516E7,
          1.4739607E7,
          1.4945917E7,
          1.5146456E7,
          1.5352773E7,
          1.5483369E7,
          1.5580749E7,
          1.5744563E7,
          1.5948955E7,
          1.6144885E7,
          1.6333039E7,
          1.6523774E7,
          1.6639187E7,
          1.67296E7,
          1.6890167E7,
          1.7077032E7,
          1.7246184E7,
          1.740764E7,
          1.7568872E7,
          1.7661078E7,
          1.7730916E7,
          1.7870468E7,
          1.803237E7,
          1.8187078E7,
          1.833448E7,
          1.8505095E7,
          1.8596071E7,
          1.8653106E7,
          1.8786508E7,
          1.8951112E7,
          1.9109857E7,
          1.9259002E7,
          1.9406446E7,
          1.9489727E7,
          1.954235E7,
          1.9639416E7,
          1.9705963E7,
          1.9850486E7,
          2.0014925E7,
          2.0182394E7,
          2.0280597E7,
          2.0340098E7,
          2.0487375E7,
          2.0660034E7,
          2.0830335E7,
          2.099893E7,
          2.1173352E7,
          2.1274889E7,
          2.1337098E7,
          2.149992E7,
          2.1692372E7,
          2.1892732E7,
          2.2034155E7,
          2.2083839E7,
          2.2155499E7,
          2.2218161E7,
          2.2367629E7,
          2.254012E7,
          2.2722791E7,
          2.2854014E7,
          2.2907332E7,
          2.2986977E7,
          2.305448E7,
          2.321986E7,
          2.3425562E7,
          2.3524339E7,
          2.3705024E7,
          2.3916194E7,
          2.4039502E7,
          2.4129268E7,
          2.4329105E7,
          2.4565299E7,
          2.4817821E7,
          2.5060688E7,
          2.5319612E7,
          2.548758E7,
          2.5601771E7,
          2.5847573E7,
          2.6140584E7,
          2.6440268E7,
          2.6742939E7,
          2.7046587E7,
          2.7237893E7,
          2.7371644E7,
          2.7645563E7,
          2.795571E7,
          2.8274355E7,
          2.8573608E7,
          2.8872354E7,
          2.9074164E7,
          2.9207601E7,
          2.945866E7,
          2.9737651E7,
          3.0023198E7,
          3.0292733E7,
          3.0559094E7,
          3.0723968E7,
          3.083081E7,
          3.1052472E7,
          3.1292919E7,
          3.1516213E7,
          3.1730655E7,
          3.1930591E7,
          3.2035234E7,
          3.2099889E7,
          3.2261838E7,
          3.2443013E7,
          3.2607749E7,
          3.2764064E7,
          3.2914207E7,
          3.2997266E7,
          3.3054626E7,
          3.3200854E7,
          3.3355014E7,
          3.3501817E7,
          3.3625055E7,
          3.3758039E7,
          3.3833182E7,
          3.3883142E7,
          3.4015597E7,
          3.4171499E7,
          3.4315733E7,
          3.4443901E7,
          3.4571372E7,
          3.464506E7,
          3.4694942E7,
          3.4827166E7,
          3.4969725E7,
          3.509861E7,
          3.5212626E7,
          3.53388E7,
          3.5410687E7,
          3.5458344E7,
          3.5588463E7,
          3.5726872E7,
          3.5855835E7,
          3.5975161E7,
          3.6078521E7,
          3.6144921E7,
          3.6194091E7,
          3.6326906E7,
          3.6477975E7,
          3.6617484E7,
          3.674788E7,
          3.6884507E7,
          3.6969103E7,
          3.7022166E7,
          3.7151721E7,
          3.7281496E7,
          3.7408004E7,
          3.7491092E7,
          3.7544515E7,
          3.7618737E7,
          3.7680493E7,
          3.7790657E7,
          3.7940955E7,
          3.8090033E7,
          3.8233543E7,
          3.8382659E7,
          3.8475521E7,
          3.8534786E7,
          3.8672468E7,
          3.8831724E7,
          3.8990586E7,
          3.9130105E7,
          3.9276604E7,
          3.9365068E7,
          3.9424691E7,
          3.9572624E7,
          3.9731963E7,
          3.9881087E7,
          4.002615E7,
          4.0167724E7,
          4.0260592E7,
          4.0321393E7,
          4.047174E7,
          4.0634959E7,
          4.0784888E7,
          4.0927936E7,
          4.1079884E7,
          4.1159012E7,
          4.1217207E7,
          4.1343809E7,
          4.1493814E7,
          4.1638493E7,
          4.1772794E7,
          4.1913242E7,
          4.1996697E7,
          4.2055512E7,
          4.2188341E7,
          4.2328732E7,
          4.2460581E7,
          4.2583296E7,
          4.2714884E7,
          4.2795767E7,
          4.2851429E7,
          4.2979739E7,
          4.3116989E7,
          4.3242283E7,
          4.3357486E7,
          4.3479859E7,
          4.3552559E7,
          4.3605586E7,
          4.3719379E7,
          4.3850967E7,
          4.397194E7,
          4.4085811E7,
          4.4205351E7,
          4.427883E7,
          4.4329027E7,
          4.4451787E7,
          4.4576672E7,
          4.4694547E7,
          4.4799137E7,
          4.4914931E7,
          4.4987115E7,
          4.5035885E7,
          4.5151324E7,
          4.5268643E7,
          4.5375734E7,
          4.5476757E7,
          4.5582513E7,
          4.5650125E7,
          4.5697537E7,
          4.5809649E7,
          4.5925612E7,
          4.6029359E7,
          4.6124204E7,
          4.6225727E7,
          4.6292098E7,
          4.6337776E7,
          4.6446416E7,
          4.6554091E7,
          4.6658452E7,
          4.6739269E7,
          4.6849624E7,
          4.692388E7,
          4.6975913E7,
          4.7099681E7,
          4.7235741E7,
          4.7375962E7,
          4.7515074E7,
          4.7669676E7,
          4.7775166E7,
          4.78464E7,
          4.7999565E7,
          4.8170765E7,
          4.8346328E7,
          4.8522605E7,
          4.8720535E7,
          4.8845402E7,
          4.893718E7,
          4.9120962E7,
          4.9327703E7,
          4.9538103E7,
          4.9751623E7,
          4.9968625E7,
          5.0104417E7,
          5.019668E7,
          5.0399681E7,
          5.0619543E7,
          5.0837679E7,
          5.1053352E7,
          5.1276302E7,
          5.1418097E7,
          5.1507795E7,
          5.1701422E7,
          5.1917446E7,
          5.2131483E7,
          5.2342034E7,
          5.2563258E7,
          5.2700321E7,
          5.2785067E7,
          5.2963443E7,
          5.3156561E7,
          5.3345756E7,
          5.3521746E7,
          5.3699959E7,
          5.3810276E7,
          5.3878938E7,
          5.4032797E7,
          5.4203155E7,
          5.4364289E7,
          5.4522361E7,
          5.4676083E7,
          5.477206E7,
          5.4836375E7,
          5.4959562E7,
          5.5107593E7,
          5.5258112E7,
          5.5400421E7,
          5.5540085E7,
          5.5624967E7,
          5.5680572E7,
          5.5815596E7,
          5.5952945E7,
          5.6090427E7,
          5.6215805E7,
          5.6340971E7,
          5.641706E7,
          5.647088E7,
          5.6600395E7,
          5.673637E7,
          5.6866984E7,
          5.6981247E7,
          5.7092048E7,
          5.7160972E7,
          5.7207836E7,
          5.7317743E7,
          5.7432864E7,
          5.7536882E7,
          5.7637254E7,
          5.773682E7,
          5.7799201E7,
          5.784419E7,
          5.7954077E7,
          5.8067062E7,
          5.8178202E7,
          5.8276216E7,
          5.8380468E7,
          5.8440763E7,
          5.8486657E7,
          5.8601759E7,
          5.8719415E7,
          5.8833043E7,
          5.8936116E7,
          5.9036725E7,
          5.9099739E7,
          5.9148089E7,
          5.9270293E7,
          5.9393332E7,
          5.9511143E7,
          5.9613359E7,
          5.9713195E7,
          5.9773014E7,
          5.981731E7,
          5.9928098E7,
          6.0037839E7,
          6.014359E7,
          6.0232624E7,
          6.0314413E7,
          6.0358827E7,
          6.0390706E7,
          6.0483616E7,
          6.0532959E7,
          6.0642947E7,
          6.0742269E7,
          6.0836818E7,
          6.0890794E7,
          6.0929351E7,
          6.1033991E7,
          6.1139777E7,
          6.1238072E7,
          6.1325683E7,
          6.1415209E7,
          6.1466574E7,
          6.1504482E7,
          6.1606097E7,
          6.1710872E7,
          6.1811796E7,
          6.1898737E7,
          6.1980677E7,
          6.2028842E7,
          6.2068084E7,
          6.2110858E7,
          6.221565E7,
          6.2322532E7,
          6.2417612E7,
          6.2511807E7,
          6.2567044E7,
          6.2607274E7,
          6.2713382E7,
          6.2823136E7,
          6.2937377E7,
          6.3041203E7,
          6.3145947E7,
          6.3208284E7,
          6.3255347E7,
          6.3376557E7,
          6.3508023E7,
          6.3636269E7,
          6.3758633E7,
          6.3887024E7,
          6.3961895E7,
          6.4015638E7,
          6.4157537E7,
          6.430956E7,
          6.4462133E7,
          6.4606283E7,
          6.4756031E7,
          6.4843436E7,
          6.4905765E7,
          6.506337E7,
          6.5243309E7,
          6.5427897E7,
          6.5617143E7,
          6.5807302E7,
          6.5917564E7,
          6.5993704E7,
          6.6072063E7,
          6.6245137E7,
          6.6354972E7,
          6.6558862E7,
          6.6780579E7,
          6.6918638E7,
          6.7023438E7,
          6.72456E7,
          6.7501958E7,
          6.7775742E7,
          6.80583E7,
          6.8372446E7,
          6.8569344E7,
          6.8715974E7,
          6.9048258E7,
          6.9457128E7,
          6.9911793E7,
          7.0416132E7,
          7.0795625E7,
          7.09927E7,
          7.1198939E7,
          7.1612835E7,
          7.2085566E7,
          7.2573032E7,
          7.3043897E7,
          7.3382253E7,
          7.3547832E7,
          7.3741603E7,
          7.4132298E7,
          7.4563611E7,
          7.4980199E7,
          7.5164682E7,
          7.5529534E7,
          7.5746755E7,
          7.5931906E7,
          7.6331949E7,
          7.674462E7,
          7.7154295E7,
          7.7549588E7,
          7.7934655E7,
          7.8136925E7,
          7.8282497E7,
          7.8660959E7,
          7.9043581E7,
          7.9410982E7,
          7.9744581E7,
          8.0072175E7,
          8.0234256E7,
          8.0356853E7,
          8.0691485E7,
          8.1008985E7,
          8.1297728E7,
          8.1562691E7,
          8.1817236E7,
          8.1943142E7,
          8.203541E7,
          8.2293046E7,
          8.2526189E7,
          8.2738602E7,
          8.2929858E7,
          8.3118563E7,
          8.321124E7,
          8.3283603E7,
          8.3481568E7,
          8.3661845E7,
          8.3825517E7,
          8.3970212E7,
          8.4106378E7,
          8.4180452E7,
          8.4237811E7,
          8.4395966E7,
          8.4543059E7,
          8.4678835E7,
          8.47976E7,
          8.4919489E7,
          8.4981514E7,
          8.5030242E7,
          8.5172273E7,
          8.5302548E7,
          8.5423701E7,
          8.5526013E7,
          8.5625434E7,
          8.567852E7,
          8.5723694E7,
          8.5837023E7,
          8.595094E7,
          8.6068493E7,
          8.6173833E7,
          8.627822E7,
          8.6336638E7,
          8.6383549E7,
          8.6511364E7,
          8.6630936E7,
          8.674519E7,
          8.6844888E7,
          8.6940575E7,
          8.699435E7,
          8.7041411E7,
          8.7169863E7,
          8.7291214E7,
          8.7404914E7,
          8.750141E7,
          8.7593573E7,
          8.7643798E7,
          8.7687753E7,
          8.7813105E7,
          8.7933557E7,
          8.8044023E7,
          8.8134682E7,
          8.8222162E7,
          8.8269062E7,
          8.830714E7,
          8.8400059E7,
          8.8481074E7,
          8.8553484E7,
          8.8613678E7,
          8.8675395E7,
          8.87108E7,
          8.8739364E7,
          8.8816186E7,
          8.8884113E7,
          8.89407E7,
          null,
          null,
          null,
          null,
          null
         ],
         "type": "bar"
        }
       ],
       "layout": {
        "barmode": "stack",
        "title": {
         "text": "Corona tests taken and tests that where positive for country: Spain"
        },
        "template": {
         "data": {
          "histogram2dcontour": [
           {
            "type": "histogram2dcontour",
            "colorbar": {
             "outlinewidth": 0,
             "ticks": ""
            },
            "colorscale": [
             [
              0.0,
              "#0d0887"
             ],
             [
              0.1111111111111111,
              "#46039f"
             ],
             [
              0.2222222222222222,
              "#7201a8"
             ],
             [
              0.3333333333333333,
              "#9c179e"
             ],
             [
              0.4444444444444444,
              "#bd3786"
             ],
             [
              0.5555555555555556,
              "#d8576b"
             ],
             [
              0.6666666666666666,
              "#ed7953"
             ],
             [
              0.7777777777777778,
              "#fb9f3a"
             ],
             [
              0.8888888888888888,
              "#fdca26"
             ],
             [
              1.0,
              "#f0f921"
             ]
            ]
           }
          ],
          "choropleth": [
           {
            "type": "choropleth",
            "colorbar": {
             "outlinewidth": 0,
             "ticks": ""
            }
           }
          ],
          "histogram2d": [
           {
            "type": "histogram2d",
            "colorbar": {
             "outlinewidth": 0,
             "ticks": ""
            },
            "colorscale": [
             [
              0.0,
              "#0d0887"
             ],
             [
              0.1111111111111111,
              "#46039f"
             ],
             [
              0.2222222222222222,
              "#7201a8"
             ],
             [
              0.3333333333333333,
              "#9c179e"
             ],
             [
              0.4444444444444444,
              "#bd3786"
             ],
             [
              0.5555555555555556,
              "#d8576b"
             ],
             [
              0.6666666666666666,
              "#ed7953"
             ],
             [
              0.7777777777777778,
              "#fb9f3a"
             ],
             [
              0.8888888888888888,
              "#fdca26"
             ],
             [
              1.0,
              "#f0f921"
             ]
            ]
           }
          ],
          "heatmap": [
           {
            "type": "heatmap",
            "colorbar": {
             "outlinewidth": 0,
             "ticks": ""
            },
            "colorscale": [
             [
              0.0,
              "#0d0887"
             ],
             [
              0.1111111111111111,
              "#46039f"
             ],
             [
              0.2222222222222222,
              "#7201a8"
             ],
             [
              0.3333333333333333,
              "#9c179e"
             ],
             [
              0.4444444444444444,
              "#bd3786"
             ],
             [
              0.5555555555555556,
              "#d8576b"
             ],
             [
              0.6666666666666666,
              "#ed7953"
             ],
             [
              0.7777777777777778,
              "#fb9f3a"
             ],
             [
              0.8888888888888888,
              "#fdca26"
             ],
             [
              1.0,
              "#f0f921"
             ]
            ]
           }
          ],
          "heatmapgl": [
           {
            "type": "heatmapgl",
            "colorbar": {
             "outlinewidth": 0,
             "ticks": ""
            },
            "colorscale": [
             [
              0.0,
              "#0d0887"
             ],
             [
              0.1111111111111111,
              "#46039f"
             ],
             [
              0.2222222222222222,
              "#7201a8"
             ],
             [
              0.3333333333333333,
              "#9c179e"
             ],
             [
              0.4444444444444444,
              "#bd3786"
             ],
             [
              0.5555555555555556,
              "#d8576b"
             ],
             [
              0.6666666666666666,
              "#ed7953"
             ],
             [
              0.7777777777777778,
              "#fb9f3a"
             ],
             [
              0.8888888888888888,
              "#fdca26"
             ],
             [
              1.0,
              "#f0f921"
             ]
            ]
           }
          ],
          "contourcarpet": [
           {
            "type": "contourcarpet",
            "colorbar": {
             "outlinewidth": 0,
             "ticks": ""
            }
           }
          ],
          "contour": [
           {
            "type": "contour",
            "colorbar": {
             "outlinewidth": 0,
             "ticks": ""
            },
            "colorscale": [
             [
              0.0,
              "#0d0887"
             ],
             [
              0.1111111111111111,
              "#46039f"
             ],
             [
              0.2222222222222222,
              "#7201a8"
             ],
             [
              0.3333333333333333,
              "#9c179e"
             ],
             [
              0.4444444444444444,
              "#bd3786"
             ],
             [
              0.5555555555555556,
              "#d8576b"
             ],
             [
              0.6666666666666666,
              "#ed7953"
             ],
             [
              0.7777777777777778,
              "#fb9f3a"
             ],
             [
              0.8888888888888888,
              "#fdca26"
             ],
             [
              1.0,
              "#f0f921"
             ]
            ]
           }
          ],
          "surface": [
           {
            "type": "surface",
            "colorbar": {
             "outlinewidth": 0,
             "ticks": ""
            },
            "colorscale": [
             [
              0.0,
              "#0d0887"
             ],
             [
              0.1111111111111111,
              "#46039f"
             ],
             [
              0.2222222222222222,
              "#7201a8"
             ],
             [
              0.3333333333333333,
              "#9c179e"
             ],
             [
              0.4444444444444444,
              "#bd3786"
             ],
             [
              0.5555555555555556,
              "#d8576b"
             ],
             [
              0.6666666666666666,
              "#ed7953"
             ],
             [
              0.7777777777777778,
              "#fb9f3a"
             ],
             [
              0.8888888888888888,
              "#fdca26"
             ],
             [
              1.0,
              "#f0f921"
             ]
            ]
           }
          ],
          "mesh3d": [
           {
            "type": "mesh3d",
            "colorbar": {
             "outlinewidth": 0,
             "ticks": ""
            }
           }
          ],
          "scatter": [
           {
            "marker": {
             "line": {
              "color": "#283442"
             }
            },
            "type": "scatter"
           }
          ],
          "parcoords": [
           {
            "type": "parcoords",
            "line": {
             "colorbar": {
              "outlinewidth": 0,
              "ticks": ""
             }
            }
           }
          ],
          "scatterpolargl": [
           {
            "type": "scatterpolargl",
            "marker": {
             "colorbar": {
              "outlinewidth": 0,
              "ticks": ""
             }
            }
           }
          ],
          "bar": [
           {
            "error_x": {
             "color": "#f2f5fa"
            },
            "error_y": {
             "color": "#f2f5fa"
            },
            "marker": {
             "line": {
              "color": "rgb(17,17,17)",
              "width": 0.5
             },
             "pattern": {
              "fillmode": "overlay",
              "size": 10,
              "solidity": 0.2
             }
            },
            "type": "bar"
           }
          ],
          "scattergeo": [
           {
            "type": "scattergeo",
            "marker": {
             "colorbar": {
              "outlinewidth": 0,
              "ticks": ""
             }
            }
           }
          ],
          "scatterpolar": [
           {
            "type": "scatterpolar",
            "marker": {
             "colorbar": {
              "outlinewidth": 0,
              "ticks": ""
             }
            }
           }
          ],
          "histogram": [
           {
            "marker": {
             "pattern": {
              "fillmode": "overlay",
              "size": 10,
              "solidity": 0.2
             }
            },
            "type": "histogram"
           }
          ],
          "scattergl": [
           {
            "marker": {
             "line": {
              "color": "#283442"
             }
            },
            "type": "scattergl"
           }
          ],
          "scatter3d": [
           {
            "type": "scatter3d",
            "line": {
             "colorbar": {
              "outlinewidth": 0,
              "ticks": ""
             }
            },
            "marker": {
             "colorbar": {
              "outlinewidth": 0,
              "ticks": ""
             }
            }
           }
          ],
          "scattermapbox": [
           {
            "type": "scattermapbox",
            "marker": {
             "colorbar": {
              "outlinewidth": 0,
              "ticks": ""
             }
            }
           }
          ],
          "scatterternary": [
           {
            "type": "scatterternary",
            "marker": {
             "colorbar": {
              "outlinewidth": 0,
              "ticks": ""
             }
            }
           }
          ],
          "scattercarpet": [
           {
            "type": "scattercarpet",
            "marker": {
             "colorbar": {
              "outlinewidth": 0,
              "ticks": ""
             }
            }
           }
          ],
          "carpet": [
           {
            "aaxis": {
             "endlinecolor": "#A2B1C6",
             "gridcolor": "#506784",
             "linecolor": "#506784",
             "minorgridcolor": "#506784",
             "startlinecolor": "#A2B1C6"
            },
            "baxis": {
             "endlinecolor": "#A2B1C6",
             "gridcolor": "#506784",
             "linecolor": "#506784",
             "minorgridcolor": "#506784",
             "startlinecolor": "#A2B1C6"
            },
            "type": "carpet"
           }
          ],
          "table": [
           {
            "cells": {
             "fill": {
              "color": "#506784"
             },
             "line": {
              "color": "rgb(17,17,17)"
             }
            },
            "header": {
             "fill": {
              "color": "#2a3f5f"
             },
             "line": {
              "color": "rgb(17,17,17)"
             }
            },
            "type": "table"
           }
          ],
          "barpolar": [
           {
            "marker": {
             "line": {
              "color": "rgb(17,17,17)",
              "width": 0.5
             },
             "pattern": {
              "fillmode": "overlay",
              "size": 10,
              "solidity": 0.2
             }
            },
            "type": "barpolar"
           }
          ],
          "pie": [
           {
            "automargin": true,
            "type": "pie"
           }
          ]
         },
         "layout": {
          "autotypenumbers": "strict",
          "colorway": [
           "#636efa",
           "#EF553B",
           "#00cc96",
           "#ab63fa",
           "#FFA15A",
           "#19d3f3",
           "#FF6692",
           "#B6E880",
           "#FF97FF",
           "#FECB52"
          ],
          "font": {
           "color": "#f2f5fa"
          },
          "hovermode": "closest",
          "hoverlabel": {
           "align": "left"
          },
          "paper_bgcolor": "rgb(17,17,17)",
          "plot_bgcolor": "rgb(17,17,17)",
          "polar": {
           "bgcolor": "rgb(17,17,17)",
           "angularaxis": {
            "gridcolor": "#506784",
            "linecolor": "#506784",
            "ticks": ""
           },
           "radialaxis": {
            "gridcolor": "#506784",
            "linecolor": "#506784",
            "ticks": ""
           }
          },
          "ternary": {
           "bgcolor": "rgb(17,17,17)",
           "aaxis": {
            "gridcolor": "#506784",
            "linecolor": "#506784",
            "ticks": ""
           },
           "baxis": {
            "gridcolor": "#506784",
            "linecolor": "#506784",
            "ticks": ""
           },
           "caxis": {
            "gridcolor": "#506784",
            "linecolor": "#506784",
            "ticks": ""
           }
          },
          "coloraxis": {
           "colorbar": {
            "outlinewidth": 0,
            "ticks": ""
           }
          },
          "colorscale": {
           "sequential": [
            [
             0.0,
             "#0d0887"
            ],
            [
             0.1111111111111111,
             "#46039f"
            ],
            [
             0.2222222222222222,
             "#7201a8"
            ],
            [
             0.3333333333333333,
             "#9c179e"
            ],
            [
             0.4444444444444444,
             "#bd3786"
            ],
            [
             0.5555555555555556,
             "#d8576b"
            ],
            [
             0.6666666666666666,
             "#ed7953"
            ],
            [
             0.7777777777777778,
             "#fb9f3a"
            ],
            [
             0.8888888888888888,
             "#fdca26"
            ],
            [
             1.0,
             "#f0f921"
            ]
           ],
           "sequentialminus": [
            [
             0.0,
             "#0d0887"
            ],
            [
             0.1111111111111111,
             "#46039f"
            ],
            [
             0.2222222222222222,
             "#7201a8"
            ],
            [
             0.3333333333333333,
             "#9c179e"
            ],
            [
             0.4444444444444444,
             "#bd3786"
            ],
            [
             0.5555555555555556,
             "#d8576b"
            ],
            [
             0.6666666666666666,
             "#ed7953"
            ],
            [
             0.7777777777777778,
             "#fb9f3a"
            ],
            [
             0.8888888888888888,
             "#fdca26"
            ],
            [
             1.0,
             "#f0f921"
            ]
           ],
           "diverging": [
            [
             0,
             "#8e0152"
            ],
            [
             0.1,
             "#c51b7d"
            ],
            [
             0.2,
             "#de77ae"
            ],
            [
             0.3,
             "#f1b6da"
            ],
            [
             0.4,
             "#fde0ef"
            ],
            [
             0.5,
             "#f7f7f7"
            ],
            [
             0.6,
             "#e6f5d0"
            ],
            [
             0.7,
             "#b8e186"
            ],
            [
             0.8,
             "#7fbc41"
            ],
            [
             0.9,
             "#4d9221"
            ],
            [
             1,
             "#276419"
            ]
           ]
          },
          "xaxis": {
           "gridcolor": "#283442",
           "linecolor": "#506784",
           "ticks": "",
           "title": {
            "standoff": 15
           },
           "zerolinecolor": "#283442",
           "automargin": true,
           "zerolinewidth": 2
          },
          "yaxis": {
           "gridcolor": "#283442",
           "linecolor": "#506784",
           "ticks": "",
           "title": {
            "standoff": 15
           },
           "zerolinecolor": "#283442",
           "automargin": true,
           "zerolinewidth": 2
          },
          "scene": {
           "xaxis": {
            "backgroundcolor": "rgb(17,17,17)",
            "gridcolor": "#506784",
            "linecolor": "#506784",
            "showbackground": true,
            "ticks": "",
            "zerolinecolor": "#C8D4E3",
            "gridwidth": 2
           },
           "yaxis": {
            "backgroundcolor": "rgb(17,17,17)",
            "gridcolor": "#506784",
            "linecolor": "#506784",
            "showbackground": true,
            "ticks": "",
            "zerolinecolor": "#C8D4E3",
            "gridwidth": 2
           },
           "zaxis": {
            "backgroundcolor": "rgb(17,17,17)",
            "gridcolor": "#506784",
            "linecolor": "#506784",
            "showbackground": true,
            "ticks": "",
            "zerolinecolor": "#C8D4E3",
            "gridwidth": 2
           }
          },
          "shapedefaults": {
           "line": {
            "color": "#f2f5fa"
           }
          },
          "annotationdefaults": {
           "arrowcolor": "#f2f5fa",
           "arrowhead": 0,
           "arrowwidth": 1
          },
          "geo": {
           "bgcolor": "rgb(17,17,17)",
           "landcolor": "rgb(17,17,17)",
           "subunitcolor": "#506784",
           "showland": true,
           "showlakes": true,
           "lakecolor": "rgb(17,17,17)"
          },
          "title": {
           "x": 0.05
          },
          "updatemenudefaults": {
           "bgcolor": "#506784",
           "borderwidth": 0
          },
          "sliderdefaults": {
           "bgcolor": "#C8D4E3",
           "borderwidth": 1,
           "bordercolor": "rgb(17,17,17)",
           "tickwidth": 0
          },
          "mapbox": {
           "style": "dark"
          }
         }
        }
       },
       "config": {
        "plotlyServerURL": "https://plot.ly"
       }
      },
      "text/html": "<div>                            <div id=\"4dbbcc49-177d-4e5f-9bfb-a2bd8d24cafe\" class=\"plotly-graph-div\" style=\"height:525px; width:100%;\"></div>            <script type=\"text/javascript\">                require([\"plotly\"], function(Plotly) {                    window.PLOTLYENV=window.PLOTLYENV || {};                                    if (document.getElementById(\"4dbbcc49-177d-4e5f-9bfb-a2bd8d24cafe\")) {                    Plotly.newPlot(                        \"4dbbcc49-177d-4e5f-9bfb-a2bd8d24cafe\",                        [{\"name\":\"positive tests\",\"x\":[\"2020-02-01\",\"2020-02-02\",\"2020-02-03\",\"2020-02-04\",\"2020-02-05\",\"2020-02-06\",\"2020-02-07\",\"2020-02-08\",\"2020-02-09\",\"2020-02-10\",\"2020-02-11\",\"2020-02-12\",\"2020-02-13\",\"2020-02-14\",\"2020-02-15\",\"2020-02-16\",\"2020-02-17\",\"2020-02-18\",\"2020-02-19\",\"2020-02-20\",\"2020-02-21\",\"2020-02-22\",\"2020-02-23\",\"2020-02-24\",\"2020-02-25\",\"2020-02-26\",\"2020-02-27\",\"2020-02-28\",\"2020-02-29\",\"2020-03-01\",\"2020-03-02\",\"2020-03-03\",\"2020-03-04\",\"2020-03-05\",\"2020-03-06\",\"2020-03-07\",\"2020-03-08\",\"2020-03-09\",\"2020-03-10\",\"2020-03-11\",\"2020-03-12\",\"2020-03-13\",\"2020-03-14\",\"2020-03-15\",\"2020-03-16\",\"2020-03-17\",\"2020-03-18\",\"2020-03-19\",\"2020-03-20\",\"2020-03-21\",\"2020-03-22\",\"2020-03-23\",\"2020-03-24\",\"2020-03-25\",\"2020-03-26\",\"2020-03-27\",\"2020-03-28\",\"2020-03-29\",\"2020-03-30\",\"2020-03-31\",\"2020-04-01\",\"2020-04-02\",\"2020-04-03\",\"2020-04-04\",\"2020-04-05\",\"2020-04-06\",\"2020-04-07\",\"2020-04-08\",\"2020-04-09\",\"2020-04-10\",\"2020-04-11\",\"2020-04-12\",\"2020-04-13\",\"2020-04-14\",\"2020-04-15\",\"2020-04-16\",\"2020-04-17\",\"2020-04-18\",\"2020-04-19\",\"2020-04-20\",\"2020-04-21\",\"2020-04-22\",\"2020-04-23\",\"2020-04-24\",\"2020-04-25\",\"2020-04-26\",\"2020-04-27\",\"2020-04-28\",\"2020-04-29\",\"2020-04-30\",\"2020-05-01\",\"2020-05-02\",\"2020-05-03\",\"2020-05-04\",\"2020-05-05\",\"2020-05-06\",\"2020-05-07\",\"2020-05-08\",\"2020-05-09\",\"2020-05-10\",\"2020-05-11\",\"2020-05-12\",\"2020-05-13\",\"2020-05-14\",\"2020-05-15\",\"2020-05-16\",\"2020-05-17\",\"2020-05-18\",\"2020-05-19\",\"2020-05-20\",\"2020-05-21\",\"2020-05-22\",\"2020-05-23\",\"2020-05-24\",\"2020-05-25\",\"2020-05-26\",\"2020-05-27\",\"2020-05-28\",\"2020-05-29\",\"2020-05-30\",\"2020-05-31\",\"2020-06-01\",\"2020-06-02\",\"2020-06-03\",\"2020-06-04\",\"2020-06-05\",\"2020-06-06\",\"2020-06-07\",\"2020-06-08\",\"2020-06-09\",\"2020-06-10\",\"2020-06-11\",\"2020-06-12\",\"2020-06-13\",\"2020-06-14\",\"2020-06-15\",\"2020-06-16\",\"2020-06-17\",\"2020-06-18\",\"2020-06-19\",\"2020-06-20\",\"2020-06-21\",\"2020-06-22\",\"2020-06-23\",\"2020-06-24\",\"2020-06-25\",\"2020-06-26\",\"2020-06-27\",\"2020-06-28\",\"2020-06-29\",\"2020-06-30\",\"2020-07-01\",\"2020-07-02\",\"2020-07-03\",\"2020-07-04\",\"2020-07-05\",\"2020-07-06\",\"2020-07-07\",\"2020-07-08\",\"2020-07-09\",\"2020-07-10\",\"2020-07-11\",\"2020-07-12\",\"2020-07-13\",\"2020-07-14\",\"2020-07-15\",\"2020-07-16\",\"2020-07-17\",\"2020-07-18\",\"2020-07-19\",\"2020-07-20\",\"2020-07-21\",\"2020-07-22\",\"2020-07-23\",\"2020-07-24\",\"2020-07-25\",\"2020-07-26\",\"2020-07-27\",\"2020-07-28\",\"2020-07-29\",\"2020-07-30\",\"2020-07-31\",\"2020-08-01\",\"2020-08-02\",\"2020-08-03\",\"2020-08-04\",\"2020-08-05\",\"2020-08-06\",\"2020-08-07\",\"2020-08-08\",\"2020-08-09\",\"2020-08-10\",\"2020-08-11\",\"2020-08-12\",\"2020-08-13\",\"2020-08-14\",\"2020-08-15\",\"2020-08-16\",\"2020-08-17\",\"2020-08-18\",\"2020-08-19\",\"2020-08-20\",\"2020-08-21\",\"2020-08-22\",\"2020-08-23\",\"2020-08-24\",\"2020-08-25\",\"2020-08-26\",\"2020-08-27\",\"2020-08-28\",\"2020-08-29\",\"2020-08-30\",\"2020-08-31\",\"2020-09-01\",\"2020-09-02\",\"2020-09-03\",\"2020-09-04\",\"2020-09-05\",\"2020-09-06\",\"2020-09-07\",\"2020-09-08\",\"2020-09-09\",\"2020-09-10\",\"2020-09-11\",\"2020-09-12\",\"2020-09-13\",\"2020-09-14\",\"2020-09-15\",\"2020-09-16\",\"2020-09-17\",\"2020-09-18\",\"2020-09-19\",\"2020-09-20\",\"2020-09-21\",\"2020-09-22\",\"2020-09-23\",\"2020-09-24\",\"2020-09-25\",\"2020-09-26\",\"2020-09-27\",\"2020-09-28\",\"2020-09-29\",\"2020-09-30\",\"2020-10-01\",\"2020-10-02\",\"2020-10-03\",\"2020-10-04\",\"2020-10-05\",\"2020-10-06\",\"2020-10-07\",\"2020-10-08\",\"2020-10-09\",\"2020-10-10\",\"2020-10-11\",\"2020-10-12\",\"2020-10-13\",\"2020-10-14\",\"2020-10-15\",\"2020-10-16\",\"2020-10-17\",\"2020-10-18\",\"2020-10-19\",\"2020-10-20\",\"2020-10-21\",\"2020-10-22\",\"2020-10-23\",\"2020-10-24\",\"2020-10-25\",\"2020-10-26\",\"2020-10-27\",\"2020-10-28\",\"2020-10-29\",\"2020-10-30\",\"2020-10-31\",\"2020-11-01\",\"2020-11-02\",\"2020-11-03\",\"2020-11-04\",\"2020-11-05\",\"2020-11-06\",\"2020-11-07\",\"2020-11-08\",\"2020-11-09\",\"2020-11-10\",\"2020-11-11\",\"2020-11-12\",\"2020-11-13\",\"2020-11-14\",\"2020-11-15\",\"2020-11-16\",\"2020-11-17\",\"2020-11-18\",\"2020-11-19\",\"2020-11-20\",\"2020-11-21\",\"2020-11-22\",\"2020-11-23\",\"2020-11-24\",\"2020-11-25\",\"2020-11-26\",\"2020-11-27\",\"2020-11-28\",\"2020-11-29\",\"2020-11-30\",\"2020-12-01\",\"2020-12-02\",\"2020-12-03\",\"2020-12-04\",\"2020-12-05\",\"2020-12-06\",\"2020-12-07\",\"2020-12-08\",\"2020-12-09\",\"2020-12-10\",\"2020-12-11\",\"2020-12-12\",\"2020-12-13\",\"2020-12-14\",\"2020-12-15\",\"2020-12-16\",\"2020-12-17\",\"2020-12-18\",\"2020-12-19\",\"2020-12-20\",\"2020-12-21\",\"2020-12-22\",\"2020-12-23\",\"2020-12-24\",\"2020-12-25\",\"2020-12-26\",\"2020-12-27\",\"2020-12-28\",\"2020-12-29\",\"2020-12-30\",\"2020-12-31\",\"2021-01-01\",\"2021-01-02\",\"2021-01-03\",\"2021-01-04\",\"2021-01-05\",\"2021-01-06\",\"2021-01-07\",\"2021-01-08\",\"2021-01-09\",\"2021-01-10\",\"2021-01-11\",\"2021-01-12\",\"2021-01-13\",\"2021-01-14\",\"2021-01-15\",\"2021-01-16\",\"2021-01-17\",\"2021-01-18\",\"2021-01-19\",\"2021-01-20\",\"2021-01-21\",\"2021-01-22\",\"2021-01-23\",\"2021-01-24\",\"2021-01-25\",\"2021-01-26\",\"2021-01-27\",\"2021-01-28\",\"2021-01-29\",\"2021-01-30\",\"2021-01-31\",\"2021-02-01\",\"2021-02-02\",\"2021-02-03\",\"2021-02-04\",\"2021-02-05\",\"2021-02-06\",\"2021-02-07\",\"2021-02-08\",\"2021-02-09\",\"2021-02-10\",\"2021-02-11\",\"2021-02-12\",\"2021-02-13\",\"2021-02-14\",\"2021-02-15\",\"2021-02-16\",\"2021-02-17\",\"2021-02-18\",\"2021-02-19\",\"2021-02-20\",\"2021-02-21\",\"2021-02-22\",\"2021-02-23\",\"2021-02-24\",\"2021-02-25\",\"2021-02-26\",\"2021-02-27\",\"2021-02-28\",\"2021-03-01\",\"2021-03-02\",\"2021-03-03\",\"2021-03-04\",\"2021-03-05\",\"2021-03-06\",\"2021-03-07\",\"2021-03-08\",\"2021-03-09\",\"2021-03-10\",\"2021-03-11\",\"2021-03-12\",\"2021-03-13\",\"2021-03-14\",\"2021-03-15\",\"2021-03-16\",\"2021-03-17\",\"2021-03-18\",\"2021-03-19\",\"2021-03-20\",\"2021-03-21\",\"2021-03-22\",\"2021-03-23\",\"2021-03-24\",\"2021-03-25\",\"2021-03-26\",\"2021-03-27\",\"2021-03-28\",\"2021-03-29\",\"2021-03-30\",\"2021-03-31\",\"2021-04-01\",\"2021-04-02\",\"2021-04-03\",\"2021-04-04\",\"2021-04-05\",\"2021-04-06\",\"2021-04-07\",\"2021-04-08\",\"2021-04-09\",\"2021-04-10\",\"2021-04-11\",\"2021-04-12\",\"2021-04-13\",\"2021-04-14\",\"2021-04-15\",\"2021-04-16\",\"2021-04-17\",\"2021-04-18\",\"2021-04-19\",\"2021-04-20\",\"2021-04-21\",\"2021-04-22\",\"2021-04-23\",\"2021-04-24\",\"2021-04-25\",\"2021-04-26\",\"2021-04-27\",\"2021-04-28\",\"2021-04-29\",\"2021-04-30\",\"2021-05-01\",\"2021-05-02\",\"2021-05-03\",\"2021-05-04\",\"2021-05-05\",\"2021-05-06\",\"2021-05-07\",\"2021-05-08\",\"2021-05-09\",\"2021-05-10\",\"2021-05-11\",\"2021-05-12\",\"2021-05-13\",\"2021-05-14\",\"2021-05-15\",\"2021-05-16\",\"2021-05-17\",\"2021-05-18\",\"2021-05-19\",\"2021-05-20\",\"2021-05-21\",\"2021-05-22\",\"2021-05-23\",\"2021-05-24\",\"2021-05-25\",\"2021-05-26\",\"2021-05-27\",\"2021-05-28\",\"2021-05-29\",\"2021-05-30\",\"2021-05-31\",\"2021-06-01\",\"2021-06-02\",\"2021-06-03\",\"2021-06-04\",\"2021-06-05\",\"2021-06-06\",\"2021-06-07\",\"2021-06-08\",\"2021-06-09\",\"2021-06-10\",\"2021-06-11\",\"2021-06-12\",\"2021-06-13\",\"2021-06-14\",\"2021-06-15\",\"2021-06-16\",\"2021-06-17\",\"2021-06-18\",\"2021-06-19\",\"2021-06-20\",\"2021-06-21\",\"2021-06-22\",\"2021-06-23\",\"2021-06-24\",\"2021-06-25\",\"2021-06-26\",\"2021-06-27\",\"2021-06-28\",\"2021-06-29\",\"2021-06-30\",\"2021-07-01\",\"2021-07-02\",\"2021-07-03\",\"2021-07-04\",\"2021-07-05\",\"2021-07-06\",\"2021-07-07\",\"2021-07-08\",\"2021-07-09\",\"2021-07-10\",\"2021-07-11\",\"2021-07-12\",\"2021-07-13\",\"2021-07-14\",\"2021-07-15\",\"2021-07-16\",\"2021-07-17\",\"2021-07-18\",\"2021-07-19\",\"2021-07-20\",\"2021-07-21\",\"2021-07-22\",\"2021-07-23\",\"2021-07-24\",\"2021-07-25\",\"2021-07-26\",\"2021-07-27\",\"2021-07-28\",\"2021-07-29\",\"2021-07-30\",\"2021-07-31\",\"2021-08-01\",\"2021-08-02\",\"2021-08-03\",\"2021-08-04\",\"2021-08-05\",\"2021-08-06\",\"2021-08-07\",\"2021-08-08\",\"2021-08-09\",\"2021-08-10\",\"2021-08-11\",\"2021-08-12\",\"2021-08-13\",\"2021-08-14\",\"2021-08-15\",\"2021-08-16\",\"2021-08-17\",\"2021-08-18\",\"2021-08-19\",\"2021-08-20\",\"2021-08-21\",\"2021-08-22\",\"2021-08-23\",\"2021-08-24\",\"2021-08-25\",\"2021-08-26\",\"2021-08-27\",\"2021-08-28\",\"2021-08-29\",\"2021-08-30\",\"2021-08-31\",\"2021-09-01\",\"2021-09-02\",\"2021-09-03\",\"2021-09-04\",\"2021-09-05\",\"2021-09-06\",\"2021-09-07\",\"2021-09-08\",\"2021-09-09\",\"2021-09-10\",\"2021-09-11\",\"2021-09-12\",\"2021-09-13\",\"2021-09-14\",\"2021-09-15\",\"2021-09-16\",\"2021-09-17\",\"2021-09-18\",\"2021-09-19\",\"2021-09-20\",\"2021-09-21\",\"2021-09-22\",\"2021-09-23\",\"2021-09-24\",\"2021-09-25\",\"2021-09-26\",\"2021-09-27\",\"2021-09-28\",\"2021-09-29\",\"2021-09-30\",\"2021-10-01\",\"2021-10-02\",\"2021-10-03\",\"2021-10-04\",\"2021-10-05\",\"2021-10-06\",\"2021-10-07\",\"2021-10-08\",\"2021-10-09\",\"2021-10-10\",\"2021-10-11\",\"2021-10-12\",\"2021-10-13\",\"2021-10-14\",\"2021-10-15\",\"2021-10-16\",\"2021-10-17\",\"2021-10-18\",\"2021-10-19\",\"2021-10-20\",\"2021-10-21\",\"2021-10-22\",\"2021-10-23\",\"2021-10-24\",\"2021-10-25\",\"2021-10-26\",\"2021-10-27\",\"2021-10-28\",\"2021-10-29\",\"2021-10-30\",\"2021-10-31\",\"2021-11-01\",\"2021-11-02\",\"2021-11-03\",\"2021-11-04\",\"2021-11-05\",\"2021-11-06\",\"2021-11-07\",\"2021-11-08\",\"2021-11-09\",\"2021-11-10\",\"2021-11-11\",\"2021-11-12\",\"2021-11-13\",\"2021-11-14\",\"2021-11-15\",\"2021-11-16\",\"2021-11-17\",\"2021-11-18\",\"2021-11-19\",\"2021-11-20\",\"2021-11-21\",\"2021-11-22\",\"2021-11-23\",\"2021-11-24\",\"2021-11-25\",\"2021-11-26\",\"2021-11-27\",\"2021-11-28\",\"2021-11-29\",\"2021-11-30\",\"2021-12-01\",\"2021-12-02\",\"2021-12-03\",\"2021-12-04\",\"2021-12-05\",\"2021-12-06\",\"2021-12-07\",\"2021-12-08\",\"2021-12-09\",\"2021-12-10\",\"2021-12-11\",\"2021-12-12\",\"2021-12-13\",\"2021-12-14\",\"2021-12-15\",\"2021-12-16\",\"2021-12-17\",\"2021-12-18\",\"2021-12-19\",\"2021-12-20\",\"2021-12-21\",\"2021-12-22\",\"2021-12-23\",\"2021-12-24\",\"2021-12-25\",\"2021-12-26\",\"2021-12-27\",\"2021-12-28\",\"2021-12-29\",\"2021-12-30\",\"2021-12-31\",\"2022-01-01\",\"2022-01-02\",\"2022-01-03\",\"2022-01-04\",\"2022-01-05\",\"2022-01-06\",\"2022-01-07\",\"2022-01-08\",\"2022-01-09\",\"2022-01-10\",\"2022-01-11\",\"2022-01-12\",\"2022-01-13\",\"2022-01-14\",\"2022-01-15\",\"2022-01-16\",\"2022-01-17\",\"2022-01-18\",\"2022-01-19\",\"2022-01-20\",\"2022-01-21\",\"2022-01-22\",\"2022-01-23\",\"2022-01-24\",\"2022-01-25\",\"2022-01-26\",\"2022-01-27\",\"2022-01-28\",\"2022-01-29\",\"2022-01-30\",\"2022-01-31\",\"2022-02-01\",\"2022-02-02\",\"2022-02-03\",\"2022-02-04\",\"2022-02-05\",\"2022-02-06\",\"2022-02-07\",\"2022-02-08\",\"2022-02-09\",\"2022-02-10\",\"2022-02-11\",\"2022-02-12\",\"2022-02-13\",\"2022-02-14\",\"2022-02-15\",\"2022-02-16\",\"2022-02-17\",\"2022-02-18\",\"2022-02-19\",\"2022-02-20\",\"2022-02-21\",\"2022-02-22\",\"2022-02-23\",\"2022-02-24\",\"2022-02-25\",\"2022-02-26\",\"2022-02-27\",\"2022-02-28\",\"2022-03-01\",\"2022-03-02\",\"2022-03-03\",\"2022-03-04\",\"2022-03-05\",\"2022-03-06\",\"2022-03-07\",\"2022-03-08\",\"2022-03-09\",\"2022-03-10\",\"2022-03-11\",\"2022-03-12\",\"2022-03-13\",\"2022-03-14\",\"2022-03-15\",\"2022-03-16\",\"2022-03-17\",\"2022-03-18\",\"2022-03-19\",\"2022-03-20\",\"2022-03-21\",\"2022-03-22\",\"2022-03-23\",\"2022-03-24\",\"2022-03-25\",\"2022-03-26\",\"2022-03-27\",\"2022-03-28\",\"2022-03-29\",\"2022-03-30\",\"2022-03-31\",\"2022-04-01\",\"2022-04-02\",\"2022-04-03\",\"2022-04-04\",\"2022-04-05\",\"2022-04-06\",\"2022-04-07\",\"2022-04-08\",\"2022-04-09\",\"2022-04-10\",\"2022-04-11\"],\"y\":[null,null,null,null,null,null,null,null,null,null,null,null,null,null,null,null,null,null,null,null,null,null,null,null,null,null,null,null,null,null,null,null,null,null,null,null,null,null,null,null,null,null,null,0.0,0.0,0.0,0.0,0.0,0.0,33629.905,39544.806000000004,47936.511999999995,58599.772,69785.744,81019.12,90778.492,98138.04699999999,102962.21399999999,109432.232,114400.825,117523.95199999999,120433.36799999999,123522.94200000001,123689.67599999999,123600.0,124670.50399999999,125226.35200000001,126553.098,126692.93,127446.608,128741.84400000001,128400.16,126553.098,125243.1,123819.759,122285.644,118985.955,115399.9,111723.65999999999,109559.85900000001,105944.076,102290.888,97822.52399999999,93142.656,91196.196,90196.30399999999,87930.36600000001,85258.712,82946.23199999999,81311.952,78466.496,77313.69,78304.698,76326.58899999999,76211.793,75903.96,75448.256,76252.95599999999,76326.14099999999,75607.1,74154.864,73049.42599999999,70270.08399999999,68856.917,67267.707,64875.50399999999,63665.63999999999,63029.54000000001,60926.08500000001,62429.697,61935.264,63358.304000000004,64252.832,62738.389,61696.229999999996,63064.47,60117.876000000004,61251.708,60263.595,58737.562,59124.259999999995,57607.925,56378.04,57427.752,55937.311,56899.884,57490.11,57801.093,55996.094,56929.861999999994,55196.232,55945.40700000001,51425.894,51889.0,49423.626,50011.21799999999,47931.5,48603.901000000005,46290.352,46912.832,50263.05,53454.293999999994,54001.638,54755.765999999996,55364.742,52855.771,53587.60400000001,54001.537000000004,51080.832,48370.064999999995,49001.655,49589.43,53441.792,54053.200000000004,57829.223000000005,58077.525,58593.186,66276.845,70558.68000000001,78418.14199999999,86517.384,94440.606,94864.406,103113.864,115505.628,128232.32600000002,137331.216,154482.2,163620.744,172336.824,182038.468,196458.54200000002,207167.81399999998,218025.782,220926.207,227085.174,232620.85,239379.50400000002,246913.17,263569.32,284837.952,302298.77400000003,309545.384,320499.06000000006,333236.952,351927.89999999997,371140.536,381010.601,401285.204,410555.433,418268.67600000004,438211.692,455124.907,467030.79,489910.701,514014.336,541606.6,545570.3,557491.7200000001,571821.894,598123.0499999999,619341.145,642144.179,650022.263,661330.56,676033.068,693291.536,705603.136,723754.378,736438.854,751871.268,765304.415,768686.61,774491.943,787200.9400000001,793025.296,820978.0680000001,830367.336,844413.605,869143.743,904081.44,947680.912,985415.479,1022604.4400000001,1049922.588,1065583.4980000001,1077595.3930000002,1101264.9300000002,1101203.4000000001,1109627.247,1101406.72,1088343.75,1079431.149,1074330.444,1072618.043,1070378.361,1057610.49,1064589.159,1066750.272,1064838.318,1066437.79,1051937.865,1056846.606,1060627.9949999999,1055111.709,1064545.479,1060032.042,1081312.025,1096325.923,1132357.065,1157938.912,1205708.078,1226765.43,1244435.652,1273013.365,1332371.4300000002,1373679.356,1416321.577,1448518.2,1474321.788,1471384.66,1488804.43,1548313.5,1621898.553,1683896.9400000002,1736145.8080000002,1779069.992,1817234.9220000003,1853506.8980000003,1883113.4810000001,1898780.2260000003,1899226.2640000002,1914118.425,1932709.5450000002,1930817.5240000002,1934420.628,1960367.7310000001,2002752.878,2044771.56,2072624.3550000002,2074771.4460000002,2087820.3660000002,2094026.8790000002,2089313.105,2082690.165,2057962.914,2032424.202,2029980.814,2007552.0,1976149.539,1946781.648,1931572.608,1897432.76,1862300.432,1854413.19,1844015.264,1840658.204,1803237.0,1745959.4880000001,1686772.16,1628448.3599999999,1580666.0350000001,1585514.01,1559280.164,1535040.0720000002,1509678.703,1463684.152,1474889.896,1461729.525,1465676.25,1453316.784,1458241.2619999999,1468935.964,1541149.225,1594409.126,1622447.76,1627207.84,1679964.75,1714782.8220000002,1749748.1400000001,1742911.1900000002,1757388.216,1765815.787,1770979.134,1805993.28,1822159.2480000001,1860882.2200000002,1894937.3299999998,1943377.832,1993994.91,2021852.6509999998,2192027.642,2411792.84,2658566.5470000003,2879605.764,2955045.828,3034280.964,3135409.2800000003,3297220.1199999996,3490408.738,3669796.884,3816508.864,3874423.4280000003,3990557.3320000004,4029587.756,4160276.9550000005,4274362.026,4293483.033,4360559.711999999,4481571.324,4485814.08,4531513.467,4497477.702,4496180.448,4494845.5600000005,4466070.813,4408593.681,4358062.88,4324719.752,4312707.828,4249267.92,4184604.5399999996,4114599.5519999997,4042129.5600000005,3954086.3040000005,3884610.933,3800167.14,3717206.375,3602783.76,3483664.295,3330941.246,3256740.608,3206404.2399999998,3105247.2,2941534.386,2836459.17,2728836.3299999996,2650239.0530000003,2626889.188,2632190.898,2613208.878,2562998.0270000002,2510796.673,2522832.928,2501479.732,2474794.9499999997,2446042.324,2390461.488,2334850.9800000004,2244621.739,2219253.63,2194272.535,2165323.648,2168521.088,2108967.014,2050289.94,2024628.247,1963302.357,1935996.832,1940123.36,1908221.81,1915494.1300000001,1923334.875,1930423.55,1936694.43,1943634.0,1947587.785,1950208.92,1957365.465,2000704.832,2007926.76,2050584.1770000001,2056475.6970000002,2060260.497,2063063.1870000002,2070633.642,2115722.5500000003,2160431.556,2204872.8,2249954.927,2292084.386,2295374.292,2377710.144,2497860.2320000003,2618560.2800000003,2736849.716,2815838.625,2859024.012,2939078.454,3023252.56,3073217.355,3123382.7060000002,3135150.526,3108995.379,3116517.201,3121317.666,3093797.44,3028874.472,3002275.122,3013018.085,3024298.508,3031110.236,3035701.207,3007519.424,3019629.188,3070843.699,3041987.4,3052747.0239999997,3019544.4,3024104.475,3035380.5,2966352.0069999998,2936511.9359999998,2905883.456,2875591.8800000004,2839971.828,2843987.2830000003,2770035.203,2738591.724,2664863.552,2589913.228,2556707.762,2519801.82,2523330.7199999997,2489112.119,2412737.724,2377792.536,2342081.28,2263888.852,2225379.884,2228274.3079999997,2191966.689,2155849.45,2162114.15,2167874.3000000003,2173992.95,2177627.95,2180279.3000000003,2185968.95,2192548.35,2198597.0,2204290.5500000003,2166062.199,2169662.67,2172122.323,2178137.563,2184256.9280000003,2190032.8030000003,2150358.576,2111001.757,2069407.29,2071650.71,2076960.9039999999,2037088.9349999998,2041908.03,2000977.308,2005630.572,2008605.4999999998,1964994.0909999998,1969814.907,1928875.7040000001,1933233.0780000002,1937216.5680000002,1987706.261,1990560.214,1992524.3679999998,2043642.3039999998,2094934.095,2192947.244,2243484.912,2389330.824,2486965.64,2583675.215,2873080.5409999997,3212030.3880000003,3695325.036,4133811.4379999996,4528619.22,4825291.766000001,5023872.0,5375951.28,5780491.8,6188329.984,6453506.465000001,6674713.295000001,6838356.28,6949079.56,7220781.414,7399155.45,7529791.6559999995,7661749.942,7795105.5,7916497.886,8031468.8,8063948.96,8149746.423,8235703.998000001,8321696.376,8358037.226000001,8381149.811000001,8344262.79,8323928.942,8306791.36,8184642.831,8113015.27,8042178.473999999,7957748.471,7917760.05,7732662.677999999,7654544.783999999,7575097.351999999,7493044.44,7464294.301000001,7425818.088,7381414.506000001,7294427.595000001,7209019.615,7067357.57,6869817.4860000005,6725158.209,6627419.26,6525528.625,6375309.192000001,6172050.416,6023134.208,5927845.047,5831708.925,5729371.601,5679418.344,5637375.196,5539341.555000001,5328590.565,5171854.06,4958005.448,4795450.100000001,4743553.92,4471431.205,4198491.38,3980688.8800000004,3760762.302,3596799.024,3486819.292,3489677.996,3381746.837,3273673.248,3164528.5100000002,3054774.462,2944577.82,2889960.0500000003,2834365.31,2723841.619,2613017.79,2501662.6859999998,2331048.64,2218457.784,2220748.994,2164006.309,2051061.5650000002,1937740.695,1882657.376,1768083.48,1712065.0250000001,1654792.692,1656146.492,1600297.911,1544226.632,1487778.5750000002,1430720.616,1373403.4849999999,1315006.308,1315980.8199999998,1258490.0580000002,1260794.6190000002,1202871.8,1204652.48,1266602.6730000002,1267535.367,1268204.8260000001,1330639.552,1331725.098,1334144.834,1336329.9179999998,1338409.9959999998,1339597.4679999999,1401375.073,1342747.802,1406214.871,1469713.7280000001,1471816.392,1535380.225,1536664.35,1537612.05,1540152.425,1604482.672,1545294.9000000001,1609367.162,1673478.279,1736807.5760000001,1737906.352,1739104.024,1804253.85,1931998.492,1997363.584,2062889.631,2127279.4960000003,2128647.316,2194968.37,2261632.8959999997,2328682.949,2458606.917,2588983.827,2654747.9280000003,2719979.9209999996,2851945.065,3048385.1040000003,3245449.7189999996,3442966.182,3577673.344,3645828.015,3712907.004,3913609.7569999998,4051502.2800000003,4254500.778,4393227.244,4532922.170000001,4668727.392,4738120.845,4944816.12,5088978.102,5234231.76,5446222.869,5593620.670000001,5800745.631999999,5939433.359999999,6144701.859,6492023.426,6900917.0879999995,7321474.82,7813327.743000001,8030236.56,8243882.874,8472945.6,8775254.540000001,9081949.428000001,9528162.0,9845632.224,10011124.224,10238680.126,10702479.99,11390968.992,12164651.981999999,12886152.156,13734351.25,14340525.4,14880578.251,16256113.545,17805134.802,19594718.64,21401861.821,22601733.924,23094019.248,23671054.563,24686055.234,25873573.016999997,26842911.242,27660602.976,28550163.852,28859513.655,29385647.622,30151119.855,30544358.76,30553100.82,30089240.144,29537234.245,29457620.725,29355936.375,28868571.952999998,28376645.579,28190898.61,28309326.255,28425622.125,28483160.88,28365969.108999997,28161328.264999997,28029108.81,27966418.431999996,27731314.94,27408774.060000002,27123180.002,26825579.07,26251481.674,25665644.779,25152535.007999998,24713097.684,24436857.522,24131259.599999998,23735826.854999997,23374839.040000003,23007007.375,22549064.073000003,22084165.756,21531232.768,21129293.452,20890977.128,20086239.908,19360360.511,18629343.7,17892293.599999998,17408495.244999997,17166265.828,17006048.400000002,16353076.416000001,15866273.928,15376266.18,14967052.274999999,14641949.214000002,14565348.4,14487304.286,14248945.818,14181905.100000001,14201301.345,14391030.111000001,14494740.96,14590891.822,14598819.781000001,14793443.244,14900520.991999999,14833427.49,14850475.848000001,14866838.325000001,14876033.850000001,14884081.281000001,15080386.298999999,15188671.236,15383264.863999998,15487749.569999998,15591655.993999999,15688239.842,15696107.786999999,15806358.899999999,16091840.931,16376188.277999999,16481185.534,16585766.456,16506314.594,16425128.04,16354010.915,16103555.468,15851073.636,15596007.328,15429518.729999999,15346968.399999999,15351909.972,15542832.549999999,15821372.114,16098266.7,null,null,null,null,null],\"type\":\"bar\"},{\"name\":\"total tests taken\",\"x\":[\"2020-02-01\",\"2020-02-02\",\"2020-02-03\",\"2020-02-04\",\"2020-02-05\",\"2020-02-06\",\"2020-02-07\",\"2020-02-08\",\"2020-02-09\",\"2020-02-10\",\"2020-02-11\",\"2020-02-12\",\"2020-02-13\",\"2020-02-14\",\"2020-02-15\",\"2020-02-16\",\"2020-02-17\",\"2020-02-18\",\"2020-02-19\",\"2020-02-20\",\"2020-02-21\",\"2020-02-22\",\"2020-02-23\",\"2020-02-24\",\"2020-02-25\",\"2020-02-26\",\"2020-02-27\",\"2020-02-28\",\"2020-02-29\",\"2020-03-01\",\"2020-03-02\",\"2020-03-03\",\"2020-03-04\",\"2020-03-05\",\"2020-03-06\",\"2020-03-07\",\"2020-03-08\",\"2020-03-09\",\"2020-03-10\",\"2020-03-11\",\"2020-03-12\",\"2020-03-13\",\"2020-03-14\",\"2020-03-15\",\"2020-03-16\",\"2020-03-17\",\"2020-03-18\",\"2020-03-19\",\"2020-03-20\",\"2020-03-21\",\"2020-03-22\",\"2020-03-23\",\"2020-03-24\",\"2020-03-25\",\"2020-03-26\",\"2020-03-27\",\"2020-03-28\",\"2020-03-29\",\"2020-03-30\",\"2020-03-31\",\"2020-04-01\",\"2020-04-02\",\"2020-04-03\",\"2020-04-04\",\"2020-04-05\",\"2020-04-06\",\"2020-04-07\",\"2020-04-08\",\"2020-04-09\",\"2020-04-10\",\"2020-04-11\",\"2020-04-12\",\"2020-04-13\",\"2020-04-14\",\"2020-04-15\",\"2020-04-16\",\"2020-04-17\",\"2020-04-18\",\"2020-04-19\",\"2020-04-20\",\"2020-04-21\",\"2020-04-22\",\"2020-04-23\",\"2020-04-24\",\"2020-04-25\",\"2020-04-26\",\"2020-04-27\",\"2020-04-28\",\"2020-04-29\",\"2020-04-30\",\"2020-05-01\",\"2020-05-02\",\"2020-05-03\",\"2020-05-04\",\"2020-05-05\",\"2020-05-06\",\"2020-05-07\",\"2020-05-08\",\"2020-05-09\",\"2020-05-10\",\"2020-05-11\",\"2020-05-12\",\"2020-05-13\",\"2020-05-14\",\"2020-05-15\",\"2020-05-16\",\"2020-05-17\",\"2020-05-18\",\"2020-05-19\",\"2020-05-20\",\"2020-05-21\",\"2020-05-22\",\"2020-05-23\",\"2020-05-24\",\"2020-05-25\",\"2020-05-26\",\"2020-05-27\",\"2020-05-28\",\"2020-05-29\",\"2020-05-30\",\"2020-05-31\",\"2020-06-01\",\"2020-06-02\",\"2020-06-03\",\"2020-06-04\",\"2020-06-05\",\"2020-06-06\",\"2020-06-07\",\"2020-06-08\",\"2020-06-09\",\"2020-06-10\",\"2020-06-11\",\"2020-06-12\",\"2020-06-13\",\"2020-06-14\",\"2020-06-15\",\"2020-06-16\",\"2020-06-17\",\"2020-06-18\",\"2020-06-19\",\"2020-06-20\",\"2020-06-21\",\"2020-06-22\",\"2020-06-23\",\"2020-06-24\",\"2020-06-25\",\"2020-06-26\",\"2020-06-27\",\"2020-06-28\",\"2020-06-29\",\"2020-06-30\",\"2020-07-01\",\"2020-07-02\",\"2020-07-03\",\"2020-07-04\",\"2020-07-05\",\"2020-07-06\",\"2020-07-07\",\"2020-07-08\",\"2020-07-09\",\"2020-07-10\",\"2020-07-11\",\"2020-07-12\",\"2020-07-13\",\"2020-07-14\",\"2020-07-15\",\"2020-07-16\",\"2020-07-17\",\"2020-07-18\",\"2020-07-19\",\"2020-07-20\",\"2020-07-21\",\"2020-07-22\",\"2020-07-23\",\"2020-07-24\",\"2020-07-25\",\"2020-07-26\",\"2020-07-27\",\"2020-07-28\",\"2020-07-29\",\"2020-07-30\",\"2020-07-31\",\"2020-08-01\",\"2020-08-02\",\"2020-08-03\",\"2020-08-04\",\"2020-08-05\",\"2020-08-06\",\"2020-08-07\",\"2020-08-08\",\"2020-08-09\",\"2020-08-10\",\"2020-08-11\",\"2020-08-12\",\"2020-08-13\",\"2020-08-14\",\"2020-08-15\",\"2020-08-16\",\"2020-08-17\",\"2020-08-18\",\"2020-08-19\",\"2020-08-20\",\"2020-08-21\",\"2020-08-22\",\"2020-08-23\",\"2020-08-24\",\"2020-08-25\",\"2020-08-26\",\"2020-08-27\",\"2020-08-28\",\"2020-08-29\",\"2020-08-30\",\"2020-08-31\",\"2020-09-01\",\"2020-09-02\",\"2020-09-03\",\"2020-09-04\",\"2020-09-05\",\"2020-09-06\",\"2020-09-07\",\"2020-09-08\",\"2020-09-09\",\"2020-09-10\",\"2020-09-11\",\"2020-09-12\",\"2020-09-13\",\"2020-09-14\",\"2020-09-15\",\"2020-09-16\",\"2020-09-17\",\"2020-09-18\",\"2020-09-19\",\"2020-09-20\",\"2020-09-21\",\"2020-09-22\",\"2020-09-23\",\"2020-09-24\",\"2020-09-25\",\"2020-09-26\",\"2020-09-27\",\"2020-09-28\",\"2020-09-29\",\"2020-09-30\",\"2020-10-01\",\"2020-10-02\",\"2020-10-03\",\"2020-10-04\",\"2020-10-05\",\"2020-10-06\",\"2020-10-07\",\"2020-10-08\",\"2020-10-09\",\"2020-10-10\",\"2020-10-11\",\"2020-10-12\",\"2020-10-13\",\"2020-10-14\",\"2020-10-15\",\"2020-10-16\",\"2020-10-17\",\"2020-10-18\",\"2020-10-19\",\"2020-10-20\",\"2020-10-21\",\"2020-10-22\",\"2020-10-23\",\"2020-10-24\",\"2020-10-25\",\"2020-10-26\",\"2020-10-27\",\"2020-10-28\",\"2020-10-29\",\"2020-10-30\",\"2020-10-31\",\"2020-11-01\",\"2020-11-02\",\"2020-11-03\",\"2020-11-04\",\"2020-11-05\",\"2020-11-06\",\"2020-11-07\",\"2020-11-08\",\"2020-11-09\",\"2020-11-10\",\"2020-11-11\",\"2020-11-12\",\"2020-11-13\",\"2020-11-14\",\"2020-11-15\",\"2020-11-16\",\"2020-11-17\",\"2020-11-18\",\"2020-11-19\",\"2020-11-20\",\"2020-11-21\",\"2020-11-22\",\"2020-11-23\",\"2020-11-24\",\"2020-11-25\",\"2020-11-26\",\"2020-11-27\",\"2020-11-28\",\"2020-11-29\",\"2020-11-30\",\"2020-12-01\",\"2020-12-02\",\"2020-12-03\",\"2020-12-04\",\"2020-12-05\",\"2020-12-06\",\"2020-12-07\",\"2020-12-08\",\"2020-12-09\",\"2020-12-10\",\"2020-12-11\",\"2020-12-12\",\"2020-12-13\",\"2020-12-14\",\"2020-12-15\",\"2020-12-16\",\"2020-12-17\",\"2020-12-18\",\"2020-12-19\",\"2020-12-20\",\"2020-12-21\",\"2020-12-22\",\"2020-12-23\",\"2020-12-24\",\"2020-12-25\",\"2020-12-26\",\"2020-12-27\",\"2020-12-28\",\"2020-12-29\",\"2020-12-30\",\"2020-12-31\",\"2021-01-01\",\"2021-01-02\",\"2021-01-03\",\"2021-01-04\",\"2021-01-05\",\"2021-01-06\",\"2021-01-07\",\"2021-01-08\",\"2021-01-09\",\"2021-01-10\",\"2021-01-11\",\"2021-01-12\",\"2021-01-13\",\"2021-01-14\",\"2021-01-15\",\"2021-01-16\",\"2021-01-17\",\"2021-01-18\",\"2021-01-19\",\"2021-01-20\",\"2021-01-21\",\"2021-01-22\",\"2021-01-23\",\"2021-01-24\",\"2021-01-25\",\"2021-01-26\",\"2021-01-27\",\"2021-01-28\",\"2021-01-29\",\"2021-01-30\",\"2021-01-31\",\"2021-02-01\",\"2021-02-02\",\"2021-02-03\",\"2021-02-04\",\"2021-02-05\",\"2021-02-06\",\"2021-02-07\",\"2021-02-08\",\"2021-02-09\",\"2021-02-10\",\"2021-02-11\",\"2021-02-12\",\"2021-02-13\",\"2021-02-14\",\"2021-02-15\",\"2021-02-16\",\"2021-02-17\",\"2021-02-18\",\"2021-02-19\",\"2021-02-20\",\"2021-02-21\",\"2021-02-22\",\"2021-02-23\",\"2021-02-24\",\"2021-02-25\",\"2021-02-26\",\"2021-02-27\",\"2021-02-28\",\"2021-03-01\",\"2021-03-02\",\"2021-03-03\",\"2021-03-04\",\"2021-03-05\",\"2021-03-06\",\"2021-03-07\",\"2021-03-08\",\"2021-03-09\",\"2021-03-10\",\"2021-03-11\",\"2021-03-12\",\"2021-03-13\",\"2021-03-14\",\"2021-03-15\",\"2021-03-16\",\"2021-03-17\",\"2021-03-18\",\"2021-03-19\",\"2021-03-20\",\"2021-03-21\",\"2021-03-22\",\"2021-03-23\",\"2021-03-24\",\"2021-03-25\",\"2021-03-26\",\"2021-03-27\",\"2021-03-28\",\"2021-03-29\",\"2021-03-30\",\"2021-03-31\",\"2021-04-01\",\"2021-04-02\",\"2021-04-03\",\"2021-04-04\",\"2021-04-05\",\"2021-04-06\",\"2021-04-07\",\"2021-04-08\",\"2021-04-09\",\"2021-04-10\",\"2021-04-11\",\"2021-04-12\",\"2021-04-13\",\"2021-04-14\",\"2021-04-15\",\"2021-04-16\",\"2021-04-17\",\"2021-04-18\",\"2021-04-19\",\"2021-04-20\",\"2021-04-21\",\"2021-04-22\",\"2021-04-23\",\"2021-04-24\",\"2021-04-25\",\"2021-04-26\",\"2021-04-27\",\"2021-04-28\",\"2021-04-29\",\"2021-04-30\",\"2021-05-01\",\"2021-05-02\",\"2021-05-03\",\"2021-05-04\",\"2021-05-05\",\"2021-05-06\",\"2021-05-07\",\"2021-05-08\",\"2021-05-09\",\"2021-05-10\",\"2021-05-11\",\"2021-05-12\",\"2021-05-13\",\"2021-05-14\",\"2021-05-15\",\"2021-05-16\",\"2021-05-17\",\"2021-05-18\",\"2021-05-19\",\"2021-05-20\",\"2021-05-21\",\"2021-05-22\",\"2021-05-23\",\"2021-05-24\",\"2021-05-25\",\"2021-05-26\",\"2021-05-27\",\"2021-05-28\",\"2021-05-29\",\"2021-05-30\",\"2021-05-31\",\"2021-06-01\",\"2021-06-02\",\"2021-06-03\",\"2021-06-04\",\"2021-06-05\",\"2021-06-06\",\"2021-06-07\",\"2021-06-08\",\"2021-06-09\",\"2021-06-10\",\"2021-06-11\",\"2021-06-12\",\"2021-06-13\",\"2021-06-14\",\"2021-06-15\",\"2021-06-16\",\"2021-06-17\",\"2021-06-18\",\"2021-06-19\",\"2021-06-20\",\"2021-06-21\",\"2021-06-22\",\"2021-06-23\",\"2021-06-24\",\"2021-06-25\",\"2021-06-26\",\"2021-06-27\",\"2021-06-28\",\"2021-06-29\",\"2021-06-30\",\"2021-07-01\",\"2021-07-02\",\"2021-07-03\",\"2021-07-04\",\"2021-07-05\",\"2021-07-06\",\"2021-07-07\",\"2021-07-08\",\"2021-07-09\",\"2021-07-10\",\"2021-07-11\",\"2021-07-12\",\"2021-07-13\",\"2021-07-14\",\"2021-07-15\",\"2021-07-16\",\"2021-07-17\",\"2021-07-18\",\"2021-07-19\",\"2021-07-20\",\"2021-07-21\",\"2021-07-22\",\"2021-07-23\",\"2021-07-24\",\"2021-07-25\",\"2021-07-26\",\"2021-07-27\",\"2021-07-28\",\"2021-07-29\",\"2021-07-30\",\"2021-07-31\",\"2021-08-01\",\"2021-08-02\",\"2021-08-03\",\"2021-08-04\",\"2021-08-05\",\"2021-08-06\",\"2021-08-07\",\"2021-08-08\",\"2021-08-09\",\"2021-08-10\",\"2021-08-11\",\"2021-08-12\",\"2021-08-13\",\"2021-08-14\",\"2021-08-15\",\"2021-08-16\",\"2021-08-17\",\"2021-08-18\",\"2021-08-19\",\"2021-08-20\",\"2021-08-21\",\"2021-08-22\",\"2021-08-23\",\"2021-08-24\",\"2021-08-25\",\"2021-08-26\",\"2021-08-27\",\"2021-08-28\",\"2021-08-29\",\"2021-08-30\",\"2021-08-31\",\"2021-09-01\",\"2021-09-02\",\"2021-09-03\",\"2021-09-04\",\"2021-09-05\",\"2021-09-06\",\"2021-09-07\",\"2021-09-08\",\"2021-09-09\",\"2021-09-10\",\"2021-09-11\",\"2021-09-12\",\"2021-09-13\",\"2021-09-14\",\"2021-09-15\",\"2021-09-16\",\"2021-09-17\",\"2021-09-18\",\"2021-09-19\",\"2021-09-20\",\"2021-09-21\",\"2021-09-22\",\"2021-09-23\",\"2021-09-24\",\"2021-09-25\",\"2021-09-26\",\"2021-09-27\",\"2021-09-28\",\"2021-09-29\",\"2021-09-30\",\"2021-10-01\",\"2021-10-02\",\"2021-10-03\",\"2021-10-04\",\"2021-10-05\",\"2021-10-06\",\"2021-10-07\",\"2021-10-08\",\"2021-10-09\",\"2021-10-10\",\"2021-10-11\",\"2021-10-12\",\"2021-10-13\",\"2021-10-14\",\"2021-10-15\",\"2021-10-16\",\"2021-10-17\",\"2021-10-18\",\"2021-10-19\",\"2021-10-20\",\"2021-10-21\",\"2021-10-22\",\"2021-10-23\",\"2021-10-24\",\"2021-10-25\",\"2021-10-26\",\"2021-10-27\",\"2021-10-28\",\"2021-10-29\",\"2021-10-30\",\"2021-10-31\",\"2021-11-01\",\"2021-11-02\",\"2021-11-03\",\"2021-11-04\",\"2021-11-05\",\"2021-11-06\",\"2021-11-07\",\"2021-11-08\",\"2021-11-09\",\"2021-11-10\",\"2021-11-11\",\"2021-11-12\",\"2021-11-13\",\"2021-11-14\",\"2021-11-15\",\"2021-11-16\",\"2021-11-17\",\"2021-11-18\",\"2021-11-19\",\"2021-11-20\",\"2021-11-21\",\"2021-11-22\",\"2021-11-23\",\"2021-11-24\",\"2021-11-25\",\"2021-11-26\",\"2021-11-27\",\"2021-11-28\",\"2021-11-29\",\"2021-11-30\",\"2021-12-01\",\"2021-12-02\",\"2021-12-03\",\"2021-12-04\",\"2021-12-05\",\"2021-12-06\",\"2021-12-07\",\"2021-12-08\",\"2021-12-09\",\"2021-12-10\",\"2021-12-11\",\"2021-12-12\",\"2021-12-13\",\"2021-12-14\",\"2021-12-15\",\"2021-12-16\",\"2021-12-17\",\"2021-12-18\",\"2021-12-19\",\"2021-12-20\",\"2021-12-21\",\"2021-12-22\",\"2021-12-23\",\"2021-12-24\",\"2021-12-25\",\"2021-12-26\",\"2021-12-27\",\"2021-12-28\",\"2021-12-29\",\"2021-12-30\",\"2021-12-31\",\"2022-01-01\",\"2022-01-02\",\"2022-01-03\",\"2022-01-04\",\"2022-01-05\",\"2022-01-06\",\"2022-01-07\",\"2022-01-08\",\"2022-01-09\",\"2022-01-10\",\"2022-01-11\",\"2022-01-12\",\"2022-01-13\",\"2022-01-14\",\"2022-01-15\",\"2022-01-16\",\"2022-01-17\",\"2022-01-18\",\"2022-01-19\",\"2022-01-20\",\"2022-01-21\",\"2022-01-22\",\"2022-01-23\",\"2022-01-24\",\"2022-01-25\",\"2022-01-26\",\"2022-01-27\",\"2022-01-28\",\"2022-01-29\",\"2022-01-30\",\"2022-01-31\",\"2022-02-01\",\"2022-02-02\",\"2022-02-03\",\"2022-02-04\",\"2022-02-05\",\"2022-02-06\",\"2022-02-07\",\"2022-02-08\",\"2022-02-09\",\"2022-02-10\",\"2022-02-11\",\"2022-02-12\",\"2022-02-13\",\"2022-02-14\",\"2022-02-15\",\"2022-02-16\",\"2022-02-17\",\"2022-02-18\",\"2022-02-19\",\"2022-02-20\",\"2022-02-21\",\"2022-02-22\",\"2022-02-23\",\"2022-02-24\",\"2022-02-25\",\"2022-02-26\",\"2022-02-27\",\"2022-02-28\",\"2022-03-01\",\"2022-03-02\",\"2022-03-03\",\"2022-03-04\",\"2022-03-05\",\"2022-03-06\",\"2022-03-07\",\"2022-03-08\",\"2022-03-09\",\"2022-03-10\",\"2022-03-11\",\"2022-03-12\",\"2022-03-13\",\"2022-03-14\",\"2022-03-15\",\"2022-03-16\",\"2022-03-17\",\"2022-03-18\",\"2022-03-19\",\"2022-03-20\",\"2022-03-21\",\"2022-03-22\",\"2022-03-23\",\"2022-03-24\",\"2022-03-25\",\"2022-03-26\",\"2022-03-27\",\"2022-03-28\",\"2022-03-29\",\"2022-03-30\",\"2022-03-31\",\"2022-04-01\",\"2022-04-02\",\"2022-04-03\",\"2022-04-04\",\"2022-04-05\",\"2022-04-06\",\"2022-04-07\",\"2022-04-08\",\"2022-04-09\",\"2022-04-10\",\"2022-04-11\"],\"y\":[null,null,null,null,null,null,null,null,null,null,null,null,null,null,null,null,null,null,null,null,null,null,null,null,null,null,null,null,null,null,null,null,null,null,null,null,null,null,null,null,null,null,null,6303.0,15353.0,27042.0,39814.0,54737.0,70911.0,85139.0,97401.0,115232.0,137236.0,161168.0,186680.0,212596.0,233107.0,248701.0,271544.0,297145.0,322868.0,350097.0,377746.0,397716.0,412000.0,434392.0,460391.0,488622.0,517114.0,540028.0,557324.0,573215.0,594146.0,623100.0,655131.0,686998.0,721127.0,749350.0,770508.0,799707.0,840826.0,881818.0,922854.0,970236.0,1002156.0,1024958.0,1059402.0,1107256.0,1152031.0,1195764.0,1226039.0,1246995.0,1262979.0,1293671.0,1337049.0,1380072.0,1423552.0,1466403.0,1496591.0,1512142.0,1544893.0,1588031.0,1634188.0,1679437.0,1724813.0,1753392.0,1768490.0,1800844.0,1846245.0,1891809.0,1935477.0,1979947.0,2007901.0,2023819.0,2056541.0,2102149.0,2147067.0,2187561.0,2231985.0,2259137.0,2274010.0,2304317.0,2349085.0,2392823.0,2432057.0,2473908.0,2499570.0,2513091.0,2545277.0,2587721.0,2628392.0,2664067.0,2706626.0,2731000.0,2745757.0,2778401.0,2819500.0,2859053.0,2893147.0,2932052.0,2956650.0,2969683.0,3000091.0,3041987.0,3075819.0,3109163.0,3152212.0,3176561.0,3192552.0,3224671.0,3266777.0,3305962.0,3340112.0,3378325.0,3401719.0,3416325.0,3446658.0,3488255.0,3527934.0,3564461.0,3604891.0,3632331.0,3648631.0,3682638.0,3725988.0,3771539.0,3814756.0,3862055.0,3895732.0,3916746.0,3957358.0,4009358.0,4062114.0,4113694.0,4168419.0,4205281.0,4229470.0,4274634.0,4331810.0,4392822.0,4450593.0,4511922.0,4552138.0,4578558.0,4628291.0,4692372.0,4758212.0,4822919.0,4893722.0,4946451.0,4979389.0,5036916.0,5113763.0,5189231.0,5267857.0,5354316.0,5416066.0,5455703.0,5519720.0,5606097.0,5696410.0,5788235.0,5891231.0,5963507.0,6012096.0,6090388.0,6190103.0,6300028.0,6404906.0,6517158.0,6595362.0,6654821.0,6742865.0,6853911.0,6966380.0,7080583.0,7201562.0,7283924.0,7342727.0,7428579.0,7534012.0,7642588.0,7759177.0,7866188.0,7953959.0,8011906.0,8102221.0,8218395.0,8342450.0,8470437.0,8604740.0,8706750.0,8775863.0,8878764.0,9013597.0,9148533.0,9277285.0,9421143.0,9524556.0,9593138.0,9694889.0,9831195.0,9970251.0,10101219.0,10243803.0,10335393.0,10392471.0,10498175.0,10643941.0,10784353.0,10923952.0,11061542.0,11152413.0,11211132.0,11265605.0,11387790.0,11543524.0,11705137.0,11873100.0,11986356.0,12060530.0,12203315.0,12386508.0,12572857.0,12756795.0,12956312.0,13081397.0,13168369.0,13334582.0,13547579.0,13759277.0,13964899.0,14178655.0,14316367.0,14409086.0,14544516.0,14739607.0,14945917.0,15146456.0,15352773.0,15483369.0,15580749.0,15744563.0,15948955.0,16144885.0,16333039.0,16523774.0,16639187.0,16729600.0,16890167.0,17077032.0,17246184.0,17407640.0,17568872.0,17661078.0,17730916.0,17870468.0,18032370.0,18187078.0,18334480.0,18505095.0,18596071.0,18653106.0,18786508.0,18951112.0,19109857.0,19259002.0,19406446.0,19489727.0,19542350.0,19639416.0,19705963.0,19850486.0,20014925.0,20182394.0,20280597.0,20340098.0,20487375.0,20660034.0,20830335.0,20998930.0,21173352.0,21274889.0,21337098.0,21499920.0,21692372.0,21892732.0,22034155.0,22083839.0,22155499.0,22218161.0,22367629.0,22540120.0,22722791.0,22854014.0,22907332.0,22986977.0,23054480.0,23219860.0,23425562.0,23524339.0,23705024.0,23916194.0,24039502.0,24129268.0,24329105.0,24565299.0,24817821.0,25060688.0,25319612.0,25487580.0,25601771.0,25847573.0,26140584.0,26440268.0,26742939.0,27046587.0,27237893.0,27371644.0,27645563.0,27955710.0,28274355.0,28573608.0,28872354.0,29074164.0,29207601.0,29458660.0,29737651.0,30023198.0,30292733.0,30559094.0,30723968.0,30830810.0,31052472.0,31292919.0,31516213.0,31730655.0,31930591.0,32035234.0,32099889.0,32261838.0,32443013.0,32607749.0,32764064.0,32914207.0,32997266.0,33054626.0,33200854.0,33355014.0,33501817.0,33625055.0,33758039.0,33833182.0,33883142.0,34015597.0,34171499.0,34315733.0,34443901.0,34571372.0,34645060.0,34694942.0,34827166.0,34969725.0,35098610.0,35212626.0,35338800.0,35410687.0,35458344.0,35588463.0,35726872.0,35855835.0,35975161.0,36078521.0,36144921.0,36194091.0,36326906.0,36477975.0,36617484.0,36747880.0,36884507.0,36969103.0,37022166.0,37151721.0,37281496.0,37408004.0,37491092.0,37544515.0,37618737.0,37680493.0,37790657.0,37940955.0,38090033.0,38233543.0,38382659.0,38475521.0,38534786.0,38672468.0,38831724.0,38990586.0,39130105.0,39276604.0,39365068.0,39424691.0,39572624.0,39731963.0,39881087.0,40026150.0,40167724.0,40260592.0,40321393.0,40471740.0,40634959.0,40784888.0,40927936.0,41079884.0,41159012.0,41217207.0,41343809.0,41493814.0,41638493.0,41772794.0,41913242.0,41996697.0,42055512.0,42188341.0,42328732.0,42460581.0,42583296.0,42714884.0,42795767.0,42851429.0,42979739.0,43116989.0,43242283.0,43357486.0,43479859.0,43552559.0,43605586.0,43719379.0,43850967.0,43971940.0,44085811.0,44205351.0,44278830.0,44329027.0,44451787.0,44576672.0,44694547.0,44799137.0,44914931.0,44987115.0,45035885.0,45151324.0,45268643.0,45375734.0,45476757.0,45582513.0,45650125.0,45697537.0,45809649.0,45925612.0,46029359.0,46124204.0,46225727.0,46292098.0,46337776.0,46446416.0,46554091.0,46658452.0,46739269.0,46849624.0,46923880.0,46975913.0,47099681.0,47235741.0,47375962.0,47515074.0,47669676.0,47775166.0,47846400.0,47999565.0,48170765.0,48346328.0,48522605.0,48720535.0,48845402.0,48937180.0,49120962.0,49327703.0,49538103.0,49751623.0,49968625.0,50104417.0,50196680.0,50399681.0,50619543.0,50837679.0,51053352.0,51276302.0,51418097.0,51507795.0,51701422.0,51917446.0,52131483.0,52342034.0,52563258.0,52700321.0,52785067.0,52963443.0,53156561.0,53345756.0,53521746.0,53699959.0,53810276.0,53878938.0,54032797.0,54203155.0,54364289.0,54522361.0,54676083.0,54772060.0,54836375.0,54959562.0,55107593.0,55258112.0,55400421.0,55540085.0,55624967.0,55680572.0,55815596.0,55952945.0,56090427.0,56215805.0,56340971.0,56417060.0,56470880.0,56600395.0,56736370.0,56866984.0,56981247.0,57092048.0,57160972.0,57207836.0,57317743.0,57432864.0,57536882.0,57637254.0,57736820.0,57799201.0,57844190.0,57954077.0,58067062.0,58178202.0,58276216.0,58380468.0,58440763.0,58486657.0,58601759.0,58719415.0,58833043.0,58936116.0,59036725.0,59099739.0,59148089.0,59270293.0,59393332.0,59511143.0,59613359.0,59713195.0,59773014.0,59817310.0,59928098.0,60037839.0,60143590.0,60232624.0,60314413.0,60358827.0,60390706.0,60483616.0,60532959.0,60642947.0,60742269.0,60836818.0,60890794.0,60929351.0,61033991.0,61139777.0,61238072.0,61325683.0,61415209.0,61466574.0,61504482.0,61606097.0,61710872.0,61811796.0,61898737.0,61980677.0,62028842.0,62068084.0,62110858.0,62215650.0,62322532.0,62417612.0,62511807.0,62567044.0,62607274.0,62713382.0,62823136.0,62937377.0,63041203.0,63145947.0,63208284.0,63255347.0,63376557.0,63508023.0,63636269.0,63758633.0,63887024.0,63961895.0,64015638.0,64157537.0,64309560.0,64462133.0,64606283.0,64756031.0,64843436.0,64905765.0,65063370.0,65243309.0,65427897.0,65617143.0,65807302.0,65917564.0,65993704.0,66072063.0,66245137.0,66354972.0,66558862.0,66780579.0,66918638.0,67023438.0,67245600.0,67501958.0,67775742.0,68058300.0,68372446.0,68569344.0,68715974.0,69048258.0,69457128.0,69911793.0,70416132.0,70795625.0,70992700.0,71198939.0,71612835.0,72085566.0,72573032.0,73043897.0,73382253.0,73547832.0,73741603.0,74132298.0,74563611.0,74980199.0,75164682.0,75529534.0,75746755.0,75931906.0,76331949.0,76744620.0,77154295.0,77549588.0,77934655.0,78136925.0,78282497.0,78660959.0,79043581.0,79410982.0,79744581.0,80072175.0,80234256.0,80356853.0,80691485.0,81008985.0,81297728.0,81562691.0,81817236.0,81943142.0,82035410.0,82293046.0,82526189.0,82738602.0,82929858.0,83118563.0,83211240.0,83283603.0,83481568.0,83661845.0,83825517.0,83970212.0,84106378.0,84180452.0,84237811.0,84395966.0,84543059.0,84678835.0,84797600.0,84919489.0,84981514.0,85030242.0,85172273.0,85302548.0,85423701.0,85526013.0,85625434.0,85678520.0,85723694.0,85837023.0,85950940.0,86068493.0,86173833.0,86278220.0,86336638.0,86383549.0,86511364.0,86630936.0,86745190.0,86844888.0,86940575.0,86994350.0,87041411.0,87169863.0,87291214.0,87404914.0,87501410.0,87593573.0,87643798.0,87687753.0,87813105.0,87933557.0,88044023.0,88134682.0,88222162.0,88269062.0,88307140.0,88400059.0,88481074.0,88553484.0,88613678.0,88675395.0,88710800.0,88739364.0,88816186.0,88884113.0,88940700.0,null,null,null,null,null],\"type\":\"bar\"}],                        {\"barmode\":\"stack\",\"title\":{\"text\":\"Corona tests taken and tests that where positive for country: Spain\"},\"template\":{\"data\":{\"histogram2dcontour\":[{\"type\":\"histogram2dcontour\",\"colorbar\":{\"outlinewidth\":0,\"ticks\":\"\"},\"colorscale\":[[0.0,\"#0d0887\"],[0.1111111111111111,\"#46039f\"],[0.2222222222222222,\"#7201a8\"],[0.3333333333333333,\"#9c179e\"],[0.4444444444444444,\"#bd3786\"],[0.5555555555555556,\"#d8576b\"],[0.6666666666666666,\"#ed7953\"],[0.7777777777777778,\"#fb9f3a\"],[0.8888888888888888,\"#fdca26\"],[1.0,\"#f0f921\"]]}],\"choropleth\":[{\"type\":\"choropleth\",\"colorbar\":{\"outlinewidth\":0,\"ticks\":\"\"}}],\"histogram2d\":[{\"type\":\"histogram2d\",\"colorbar\":{\"outlinewidth\":0,\"ticks\":\"\"},\"colorscale\":[[0.0,\"#0d0887\"],[0.1111111111111111,\"#46039f\"],[0.2222222222222222,\"#7201a8\"],[0.3333333333333333,\"#9c179e\"],[0.4444444444444444,\"#bd3786\"],[0.5555555555555556,\"#d8576b\"],[0.6666666666666666,\"#ed7953\"],[0.7777777777777778,\"#fb9f3a\"],[0.8888888888888888,\"#fdca26\"],[1.0,\"#f0f921\"]]}],\"heatmap\":[{\"type\":\"heatmap\",\"colorbar\":{\"outlinewidth\":0,\"ticks\":\"\"},\"colorscale\":[[0.0,\"#0d0887\"],[0.1111111111111111,\"#46039f\"],[0.2222222222222222,\"#7201a8\"],[0.3333333333333333,\"#9c179e\"],[0.4444444444444444,\"#bd3786\"],[0.5555555555555556,\"#d8576b\"],[0.6666666666666666,\"#ed7953\"],[0.7777777777777778,\"#fb9f3a\"],[0.8888888888888888,\"#fdca26\"],[1.0,\"#f0f921\"]]}],\"heatmapgl\":[{\"type\":\"heatmapgl\",\"colorbar\":{\"outlinewidth\":0,\"ticks\":\"\"},\"colorscale\":[[0.0,\"#0d0887\"],[0.1111111111111111,\"#46039f\"],[0.2222222222222222,\"#7201a8\"],[0.3333333333333333,\"#9c179e\"],[0.4444444444444444,\"#bd3786\"],[0.5555555555555556,\"#d8576b\"],[0.6666666666666666,\"#ed7953\"],[0.7777777777777778,\"#fb9f3a\"],[0.8888888888888888,\"#fdca26\"],[1.0,\"#f0f921\"]]}],\"contourcarpet\":[{\"type\":\"contourcarpet\",\"colorbar\":{\"outlinewidth\":0,\"ticks\":\"\"}}],\"contour\":[{\"type\":\"contour\",\"colorbar\":{\"outlinewidth\":0,\"ticks\":\"\"},\"colorscale\":[[0.0,\"#0d0887\"],[0.1111111111111111,\"#46039f\"],[0.2222222222222222,\"#7201a8\"],[0.3333333333333333,\"#9c179e\"],[0.4444444444444444,\"#bd3786\"],[0.5555555555555556,\"#d8576b\"],[0.6666666666666666,\"#ed7953\"],[0.7777777777777778,\"#fb9f3a\"],[0.8888888888888888,\"#fdca26\"],[1.0,\"#f0f921\"]]}],\"surface\":[{\"type\":\"surface\",\"colorbar\":{\"outlinewidth\":0,\"ticks\":\"\"},\"colorscale\":[[0.0,\"#0d0887\"],[0.1111111111111111,\"#46039f\"],[0.2222222222222222,\"#7201a8\"],[0.3333333333333333,\"#9c179e\"],[0.4444444444444444,\"#bd3786\"],[0.5555555555555556,\"#d8576b\"],[0.6666666666666666,\"#ed7953\"],[0.7777777777777778,\"#fb9f3a\"],[0.8888888888888888,\"#fdca26\"],[1.0,\"#f0f921\"]]}],\"mesh3d\":[{\"type\":\"mesh3d\",\"colorbar\":{\"outlinewidth\":0,\"ticks\":\"\"}}],\"scatter\":[{\"marker\":{\"line\":{\"color\":\"#283442\"}},\"type\":\"scatter\"}],\"parcoords\":[{\"type\":\"parcoords\",\"line\":{\"colorbar\":{\"outlinewidth\":0,\"ticks\":\"\"}}}],\"scatterpolargl\":[{\"type\":\"scatterpolargl\",\"marker\":{\"colorbar\":{\"outlinewidth\":0,\"ticks\":\"\"}}}],\"bar\":[{\"error_x\":{\"color\":\"#f2f5fa\"},\"error_y\":{\"color\":\"#f2f5fa\"},\"marker\":{\"line\":{\"color\":\"rgb(17,17,17)\",\"width\":0.5},\"pattern\":{\"fillmode\":\"overlay\",\"size\":10,\"solidity\":0.2}},\"type\":\"bar\"}],\"scattergeo\":[{\"type\":\"scattergeo\",\"marker\":{\"colorbar\":{\"outlinewidth\":0,\"ticks\":\"\"}}}],\"scatterpolar\":[{\"type\":\"scatterpolar\",\"marker\":{\"colorbar\":{\"outlinewidth\":0,\"ticks\":\"\"}}}],\"histogram\":[{\"marker\":{\"pattern\":{\"fillmode\":\"overlay\",\"size\":10,\"solidity\":0.2}},\"type\":\"histogram\"}],\"scattergl\":[{\"marker\":{\"line\":{\"color\":\"#283442\"}},\"type\":\"scattergl\"}],\"scatter3d\":[{\"type\":\"scatter3d\",\"line\":{\"colorbar\":{\"outlinewidth\":0,\"ticks\":\"\"}},\"marker\":{\"colorbar\":{\"outlinewidth\":0,\"ticks\":\"\"}}}],\"scattermapbox\":[{\"type\":\"scattermapbox\",\"marker\":{\"colorbar\":{\"outlinewidth\":0,\"ticks\":\"\"}}}],\"scatterternary\":[{\"type\":\"scatterternary\",\"marker\":{\"colorbar\":{\"outlinewidth\":0,\"ticks\":\"\"}}}],\"scattercarpet\":[{\"type\":\"scattercarpet\",\"marker\":{\"colorbar\":{\"outlinewidth\":0,\"ticks\":\"\"}}}],\"carpet\":[{\"aaxis\":{\"endlinecolor\":\"#A2B1C6\",\"gridcolor\":\"#506784\",\"linecolor\":\"#506784\",\"minorgridcolor\":\"#506784\",\"startlinecolor\":\"#A2B1C6\"},\"baxis\":{\"endlinecolor\":\"#A2B1C6\",\"gridcolor\":\"#506784\",\"linecolor\":\"#506784\",\"minorgridcolor\":\"#506784\",\"startlinecolor\":\"#A2B1C6\"},\"type\":\"carpet\"}],\"table\":[{\"cells\":{\"fill\":{\"color\":\"#506784\"},\"line\":{\"color\":\"rgb(17,17,17)\"}},\"header\":{\"fill\":{\"color\":\"#2a3f5f\"},\"line\":{\"color\":\"rgb(17,17,17)\"}},\"type\":\"table\"}],\"barpolar\":[{\"marker\":{\"line\":{\"color\":\"rgb(17,17,17)\",\"width\":0.5},\"pattern\":{\"fillmode\":\"overlay\",\"size\":10,\"solidity\":0.2}},\"type\":\"barpolar\"}],\"pie\":[{\"automargin\":true,\"type\":\"pie\"}]},\"layout\":{\"autotypenumbers\":\"strict\",\"colorway\":[\"#636efa\",\"#EF553B\",\"#00cc96\",\"#ab63fa\",\"#FFA15A\",\"#19d3f3\",\"#FF6692\",\"#B6E880\",\"#FF97FF\",\"#FECB52\"],\"font\":{\"color\":\"#f2f5fa\"},\"hovermode\":\"closest\",\"hoverlabel\":{\"align\":\"left\"},\"paper_bgcolor\":\"rgb(17,17,17)\",\"plot_bgcolor\":\"rgb(17,17,17)\",\"polar\":{\"bgcolor\":\"rgb(17,17,17)\",\"angularaxis\":{\"gridcolor\":\"#506784\",\"linecolor\":\"#506784\",\"ticks\":\"\"},\"radialaxis\":{\"gridcolor\":\"#506784\",\"linecolor\":\"#506784\",\"ticks\":\"\"}},\"ternary\":{\"bgcolor\":\"rgb(17,17,17)\",\"aaxis\":{\"gridcolor\":\"#506784\",\"linecolor\":\"#506784\",\"ticks\":\"\"},\"baxis\":{\"gridcolor\":\"#506784\",\"linecolor\":\"#506784\",\"ticks\":\"\"},\"caxis\":{\"gridcolor\":\"#506784\",\"linecolor\":\"#506784\",\"ticks\":\"\"}},\"coloraxis\":{\"colorbar\":{\"outlinewidth\":0,\"ticks\":\"\"}},\"colorscale\":{\"sequential\":[[0.0,\"#0d0887\"],[0.1111111111111111,\"#46039f\"],[0.2222222222222222,\"#7201a8\"],[0.3333333333333333,\"#9c179e\"],[0.4444444444444444,\"#bd3786\"],[0.5555555555555556,\"#d8576b\"],[0.6666666666666666,\"#ed7953\"],[0.7777777777777778,\"#fb9f3a\"],[0.8888888888888888,\"#fdca26\"],[1.0,\"#f0f921\"]],\"sequentialminus\":[[0.0,\"#0d0887\"],[0.1111111111111111,\"#46039f\"],[0.2222222222222222,\"#7201a8\"],[0.3333333333333333,\"#9c179e\"],[0.4444444444444444,\"#bd3786\"],[0.5555555555555556,\"#d8576b\"],[0.6666666666666666,\"#ed7953\"],[0.7777777777777778,\"#fb9f3a\"],[0.8888888888888888,\"#fdca26\"],[1.0,\"#f0f921\"]],\"diverging\":[[0,\"#8e0152\"],[0.1,\"#c51b7d\"],[0.2,\"#de77ae\"],[0.3,\"#f1b6da\"],[0.4,\"#fde0ef\"],[0.5,\"#f7f7f7\"],[0.6,\"#e6f5d0\"],[0.7,\"#b8e186\"],[0.8,\"#7fbc41\"],[0.9,\"#4d9221\"],[1,\"#276419\"]]},\"xaxis\":{\"gridcolor\":\"#283442\",\"linecolor\":\"#506784\",\"ticks\":\"\",\"title\":{\"standoff\":15},\"zerolinecolor\":\"#283442\",\"automargin\":true,\"zerolinewidth\":2},\"yaxis\":{\"gridcolor\":\"#283442\",\"linecolor\":\"#506784\",\"ticks\":\"\",\"title\":{\"standoff\":15},\"zerolinecolor\":\"#283442\",\"automargin\":true,\"zerolinewidth\":2},\"scene\":{\"xaxis\":{\"backgroundcolor\":\"rgb(17,17,17)\",\"gridcolor\":\"#506784\",\"linecolor\":\"#506784\",\"showbackground\":true,\"ticks\":\"\",\"zerolinecolor\":\"#C8D4E3\",\"gridwidth\":2},\"yaxis\":{\"backgroundcolor\":\"rgb(17,17,17)\",\"gridcolor\":\"#506784\",\"linecolor\":\"#506784\",\"showbackground\":true,\"ticks\":\"\",\"zerolinecolor\":\"#C8D4E3\",\"gridwidth\":2},\"zaxis\":{\"backgroundcolor\":\"rgb(17,17,17)\",\"gridcolor\":\"#506784\",\"linecolor\":\"#506784\",\"showbackground\":true,\"ticks\":\"\",\"zerolinecolor\":\"#C8D4E3\",\"gridwidth\":2}},\"shapedefaults\":{\"line\":{\"color\":\"#f2f5fa\"}},\"annotationdefaults\":{\"arrowcolor\":\"#f2f5fa\",\"arrowhead\":0,\"arrowwidth\":1},\"geo\":{\"bgcolor\":\"rgb(17,17,17)\",\"landcolor\":\"rgb(17,17,17)\",\"subunitcolor\":\"#506784\",\"showland\":true,\"showlakes\":true,\"lakecolor\":\"rgb(17,17,17)\"},\"title\":{\"x\":0.05},\"updatemenudefaults\":{\"bgcolor\":\"#506784\",\"borderwidth\":0},\"sliderdefaults\":{\"bgcolor\":\"#C8D4E3\",\"borderwidth\":1,\"bordercolor\":\"rgb(17,17,17)\",\"tickwidth\":0},\"mapbox\":{\"style\":\"dark\"}}}},                        {\"responsive\": true}                    ).then(function(){\n                            \nvar gd = document.getElementById('4dbbcc49-177d-4e5f-9bfb-a2bd8d24cafe');\nvar x = new MutationObserver(function (mutations, observer) {{\n        var display = window.getComputedStyle(gd).display;\n        if (!display || display === 'none') {{\n            console.log([gd, 'removed!']);\n            Plotly.purge(gd);\n            observer.disconnect();\n        }}\n}});\n\n// Listen for the removal of the full notebook cells\nvar notebookContainer = gd.closest('#notebook-container');\nif (notebookContainer) {{\n    x.observe(notebookContainer, {childList: true});\n}}\n\n// Listen for the clearing of the current output cell\nvar outputEl = gd.closest('.output');\nif (outputEl) {{\n    x.observe(outputEl, {childList: true});\n}}\n\n                        })                };                });            </script>        </div>"
     },
     "metadata": {},
     "output_type": "display_data"
    }
   ],
   "source": [
    "\n",
    "\n",
    "def plot_test_for_country(country):\n",
    "    dfi = vaccinations_df.query(f\"country == '{country}'\")\n",
    "    fig = go.Figure(layout=go.Layout(barmode='stack',\n",
    "                                     title=f\"Corona tests taken and tests that where positive for country: {country}\"))\n",
    "    fig.add_trace(go.Bar(x=dfi.date, y=dfi.positive_tests, name=\"positive tests\"))\n",
    "    fig.add_trace(go.Bar(x=dfi.date, y=dfi.tests_taken, name=\"total tests taken\"))\n",
    "\n",
    "    fig.show()\n",
    "\n",
    "\n",
    "plot_test_for_country('Spain')"
   ]
  }
 ],
 "metadata": {
  "kernelspec": {
   "display_name": "Python 3 (ipykernel)",
   "language": "python",
   "name": "python3"
  },
  "language_info": {
   "codemirror_mode": {
    "name": "ipython",
    "version": 3
   },
   "file_extension": ".py",
   "mimetype": "text/x-python",
   "name": "python",
   "nbconvert_exporter": "python",
   "pygments_lexer": "ipython3",
   "version": "3.9.7"
  }
 },
 "nbformat": 4,
 "nbformat_minor": 1
}